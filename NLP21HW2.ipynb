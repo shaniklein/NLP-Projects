{
 "cells": [
  {
   "cell_type": "markdown",
   "metadata": {},
   "source": [
    "<h1>Assignment 2</h1>\n",
    "\n",
    "<h2>Due: Mon 04 Jan 2021 Midnight</h2>\n",
    "<a href='http://www.cs.bgu.ac.il/~elhadad/nlp21.html'>Natural Language Processing - Fall 2021 Michael Elhadad</a>\n",
    "<p/>\n",
    "This assignment covers the topic of document classification, sequence classification, named entity recognition and word embeddings.\n",
    "The objective is:\n",
    "<ul>\n",
    "<li>Apply feature-based supervised machine learning methods for document and token classification.</li>\n",
    "<li>Investigate algorithms for sequence classification: HMMs and CRFs.</li>\n",
    "<li>Learn the specific tasks of word classification, named entity recognition and document classification.\n",
    "<li>Use pre-trained word embeddings and measure whether they help for the task of NER.\n",
    "</ul>\n",
    "\n",
    "<p/>\n",
    "Submit your solution by email in the form of an iPython ipynb file.\n",
    "<p/>\n",
    "Do <b>not</b> attach the data in your submission.  Your notebook should refer to the data folder as \"../data\".\n",
    "\n",
    "<p>\n",
    "</p><hr>\n",
    "<h2>Content</h2>\n",
    "<ul>\n",
    "    <li><a href=\"#questions\">Q1. Questions Classification</a>\n",
    "      <ul>\n",
    "      <li><a href=\"#q1.1\">Q1.1. Describe the dataset qualitatively</a></li>\n",
    "      <li><a href=\"#q1.2\">Q1.2. Dataset Reader</a></li>\n",
    "      <li><a href=\"#q1.3\">Q1.3. Dataset Exploration</a></li>\n",
    "      <li><a href=\"#q1.4\">Q1.4. Classifier Interface, Evaluation Metrics, Confusion Matrix</a></li>\n",
    "      <li><a href=\"#q1.5\">Q1.5 Baseline Classifier</a></li>\n",
    "      <li><a href=\"#q1.6\">Q1.6 Features-based Classifier</a></li>\n",
    "      <li><a href=\"#q1.7\">Q1.7. Optional</a></li>\n",
    "      </ul>\n",
    "    </li>\n",
    "    <li><a href=\"#q2\">Q2. Document Classification</a>\n",
    "      <ul>\n",
    "        <li><a href=\"#q2.1\">Q2.1 Reuters Dataset</a>\n",
    "          <ul>\n",
    "          <li><a href=\"#q2.1.1\">Q2.1.1 Descriptive Statistics</a></li>\n",
    "          <li><a href=\"#q2.1.2\">Q2.1.2 Partial-fit classifiers</a></li>\n",
    "          <li><a href=\"#q2.1.3\">Q2.1.3 Hashing Vectorizer</a></li>\n",
    "          </ul>\n",
    "        </li>\n",
    "        <li><a href=\"#q2.2\">Q2.2. BBC News Dataset</a>\n",
    "          <ul>\n",
    "            <li><a href=\"#q2.2.1\">Q2.2.1 Descriptive Statistics</a></li>\n",
    "            <li><a href=\"#q2.2.2\">Q2.2.2 Feature Extraction</a></li>\n",
    "            <li><a href=\"#q2.2.3\">Q2.2.3 Model Training and Evaluation</a></li>\n",
    "            </ul>\n",
    "        </li>\n",
    "      </ul>\n",
    "    </li>\n",
    "    <li><a href=\"#q3\">Q3. Named Entity Recognition</a>\n",
    "      <ul>\n",
    "        <li><a href=\"#q3.1\">Q3.1 Features</a>\n",
    "          <ul>\n",
    "            <li><a href=\"#q3.1.1\">Q3.1.1 Feature Extraction</a></li>\n",
    "            <li><a href=\"#q3.1.2\">Q3.1.2 Model Training</a></li>\n",
    "            <li><a href=\"#q3.1.3\">Q3.1.3 Greedy Tagging vs. Sequence Tagging</a></li>\n",
    "          </ul>\n",
    "        </li>\n",
    "        <li><a href=\"#q3.2\">Q3.2 Using Word Embeddings</a></li>\n",
    "      </ul>\n",
    "</ul>\n"
   ]
  },
  {
   "cell_type": "code",
   "execution_count": 2,
   "metadata": {},
   "outputs": [],
   "source": [
    "# imports\n",
    "import glob\n",
    "import os\n",
    "import pandas as pd\n",
    "import numpy as np\n",
    "\n",
    "from matplotlib import pyplot as plt"
   ]
  },
  {
   "cell_type": "code",
   "execution_count": 3,
   "metadata": {},
   "outputs": [],
   "source": [
    "# helper class to print nice outputs\n",
    "class txt:\n",
    "   BOLD = '\\033[1m'\n",
    "   UNDERLINE = '\\033[4m'\n",
    "   END = '\\033[0m'\n",
    "\n",
    "def make_bold(text):\n",
    "    return txt.BOLD+ text + txt.END\n",
    "\n",
    "def make_underline(text):\n",
    "    return txt.UNDERLINE+ text + txt.END"
   ]
  },
  {
   "cell_type": "markdown",
   "metadata": {},
   "source": [
    "<hr/>\n",
    "<a name=\"questions\"></a>\n",
    "<h2>Q1. Questions Classification</h2>\n",
    "\n",
    "Consider the dataset on Question Classification available <a href=\"https://cogcomp.seas.upenn.edu/Data/QA/QC/\">here</a>.\n",
    "\n",
    "<a name=\"q1.1\"></a>\n",
    "<h3>Q1.1. Describe the dataset qualitatively</h3>\n",
    "\n",
    "Read the article introducing this dataset: \n",
    "<a href=\"http://www.aclweb.org/anthology/C02-1150\">in Li, Dan Roth, Learning Question Classifiers. COLING'02</a>.\n",
    "<p/>\n",
    "Write a half to one-page summary of the paper, focusing on the dataset description (more than on the description of the classifier introduced in the paper).\n",
    "Describe the exact task, the labels used, and provide the motivation for this task.\n",
    "Provide examples for the 6 main categories.\n"
   ]
  },
  {
   "cell_type": "markdown",
   "metadata": {},
   "source": [
    "<a name=\"q1.2\"></a>\n",
    "<h3>Q1.2. Dataset Reader</h3>\n",
    "\n",
    "Implement a reader to parse the dataset into a data structure that will be easily used for scikit-learn processing.\n",
    "\n",
    "Adapt the code we used in HW1:\n"
   ]
  },
  {
   "cell_type": "markdown",
   "metadata": {},
   "source": [
    "This article deals with machine learning approach to classify questions. <br> \n",
    "The idea is that given a WH-question the machine should be able to categorize the question to a semantic class that impose constraints on potential answer. This task is considered a multi label classification. <br> <br> \n",
    "The motivation – to answer a question, one need to understand it and recognize the field (class) of the question. Most question answering systems have no more than 20 different classes, that is because there is a lot of manual work to do to build a classifier for a complicated taxonomy of questions. <br> \n",
    "In this case, the approach was a multi-level learning approach – some features rely on finer analysis of the outcome's questions of the learned classifier, and the QC nodule applies learning with this input.<br> \n",
    "They defined two-layered taxonomy, the hierarchy has 6 coarse classes (ABBREVIATION, ENTITY, DESCRIPTION, HUMAN, LOCATION, NUMERIC VALUE) and 50 fine classes, where each coarse class contains a non-overlapping set of fine classes. <br> \n",
    "One problem was the ambiguity between different classes, some questions can fit to more than 1 class, that is why they chose multi-label classification, which also allowed in the processing step to apply all classes without loss.<br> <br> \n",
    "Each question is analyzed and represented as list of features, the dataset for learning. The types of features are words, pos, tags, chunks, named entities, head chunks and semantically related words. Over these features they composed more complexed features such as conjunctive and relational. The features are extracted from the data, only \"active\" ones appear in the representation. Some of the features are syntactic and others semantic.<br> \n",
    "Given a question and confusion set, the output is a density over the classes, by the activation of each one. Then each class is ranked in a decreasing order by the density and we get the labels with their probabilities.  <br> <br> \n",
    "There were 2 experiments, one to evaluate the contribution of different feature types to the quality of the classification, and the second to evaluate the advantage they get from the hierarchical classifier. <br> \n",
    "The data was collected from 4 different sources of question in English. <br> They were manually labeled according to the hierarchy. \n",
    "The number of correct classifications was count in 2 precision standards, \n",
    "\\begin{equation*}\n",
    "p_1 \\text{  and  }  p_{\\le5}.\n",
    "\\end{equation*}\n",
    "\n",
    "If: \n",
    "\\begin{equation*}\n",
    "\\left (I_i,j= \\{1,  \\text{  if the correct label of the ith question is output in rank  } \\\\j_0,  \\text{  otherwise  } \\right)\n",
    "\\end{equation*}\n",
    "\n",
    "\n",
    "Then: \n",
    "\\begin{equation*}\n",
    "\\left (P_1=\\sum_{i=1}^{m}{I_{i,1}/m} \\text{   AND   } (p_{\\le5}=\\sum_{i=1}^{m}\\sum_{j}^{k_i}{I_{i,1}/m} \\right )\n",
    "\\end{equation*}\n",
    "\n",
    "\n",
    "<br> \n",
    "The results showed there is a tradeoff between smaller confusion set and the inaccuracy, albeit small, of the coarse level prediction. There is no performance advantage for using a level of coarse classes, and the semantically appealing coarse classes do not contribute to better performance. Question classification problem can be solved quite accurately with a learning approach and exhibit the benefits of features based on semantic analysis.<br> \n",
    "<br> \n",
    "examples for the main categories:\n",
    "* Location: What country do the Galapagos Islands belong to?\n",
    "* Human: Who discovered electricity?\n",
    "* Entity: What is a female rabbit called?\n",
    "* Numeric value: How many bends are there in a standard paper clip?\n",
    "* Description: What is titanium? \n",
    "* Abbreviation: What is the full form of .com? \n"
   ]
  },
  {
   "cell_type": "code",
   "execution_count": 4,
   "metadata": {},
   "outputs": [],
   "source": [
    "import codecs\n",
    "import math\n",
    "import random\n",
    "import string\n",
    "import time\n",
    "import numpy as np\n",
    "from sklearn.metrics import accuracy_score\n",
    "\n",
    "'''\n",
    "Define different constants for the task of question classification \n",
    "based on the definition of the task.\n",
    "In the question classification case, there are 2 labels per question: coarse and fine.\n",
    "'''\n",
    "coarse_categories = [\"ABBREVIATION\", \"ENTITY\", \"DESCRIPTION\", \"HUMAN\", \"LOCATION\", \"NUMERIC VALUE\"]\n",
    "fine_categories = {}\n",
    "fine_categories[\"ABBREVIATION\"] = [\"abb\", \"exp\"]\n",
    "fine_categories[\"ENTITY\"] = [\"animal\", \"body\", \"color\", \"creative\", \"currency\", \"dis.med.\", \"event\", \"food\", \"instrument\", \"lang\", \"letter\", \"other\", \"plant\", \"product\", \"religion\", \"sport\", \"substance\", \"symbol\", \"technique\", \"term\", \"vehicle\", \"word\"]\n",
    "fine_categories[\"DESCRIPTION\"] = [\"definition\", \"description\", \"manner\", \"reason\"]\n",
    "fine_categories[\"HUMAN\"] = [\"group\", \"ind\", \"title\", \"description\"]\n",
    "fine_categories[\"LOCATION\"] = [\"city\", \"country\", \"mountain\", \"other\", \"state\"]\n",
    "fine_categories[\"NUMERIC\"] = [\"code\", \"count\", \"date\", \"distance\", \"money\", \"order\", \"other\", \"period\", \"percent\", \"speed\", \"temp\", \"size\", \"weight\"]\n",
    "# @Todo more here...\n",
    "\n",
    "# Build the category_lines dictionary, a list of names per language\n",
    "coarse_category_lines = {}\n",
    "all_categories = []\n",
    "\n",
    "# @Todo: Define the way the lines should be parsed\n",
    "def parseLine(line):\n",
    "     return [line[:line.index(':')], line[(line.index(':') + 1): line.index(' ')], line[(line.index(' ') + 1):]]\n",
    "    # return line\n",
    "\n",
    "# @Todo: Read a file and split into lines - create the appropriate data structure\n",
    "def readLines(filename):\n",
    "  lines = codecs.open(filename, \"r\",encoding='utf-8', errors='ignore').read().strip().split('\\n')\n",
    "  return [parseLine(line) for line in lines]"
   ]
  },
  {
   "cell_type": "code",
   "execution_count": 5,
   "metadata": {},
   "outputs": [],
   "source": [
    "def findFiles(path): return glob.glob(path)\n",
    "# run over all files in train folder\n",
    "for filename in findFiles('data/questions/train/*.txt'):\n",
    "    category = os.path.splitext(os.path.basename(filename))[0]\n",
    "    all_categories.append(category)\n",
    "    # split the ducument into lines\n",
    "    lines = readLines(filename)\n",
    "    coarse_category_lines[category] = lines"
   ]
  },
  {
   "cell_type": "code",
   "execution_count": 12,
   "metadata": {},
   "outputs": [
    {
     "data": {
      "text/plain": [
       "2000"
      ]
     },
     "execution_count": 12,
     "metadata": {},
     "output_type": "execute_result"
    }
   ],
   "source": [
    "len(coarse_category_lines['train_2000.label'])"
   ]
  },
  {
   "cell_type": "markdown",
   "metadata": {},
   "source": [
    "Let's take a look how the data is represented now:"
   ]
  },
  {
   "cell_type": "code",
   "execution_count": 13,
   "metadata": {},
   "outputs": [
    {
     "data": {
      "text/plain": [
       "[['DESC', 'manner', 'How did serfdom develop in and then leave Russia ?'],\n",
       " ['ENTY', 'cremat', 'What films featured the character Popeye Doyle ?'],\n",
       " ['DESC', 'manner', \"How can I find a list of celebrities ' real names ?\"],\n",
       " ['ENTY',\n",
       "  'animal',\n",
       "  'What fowl grabs the spotlight after the Chinese Year of the Monkey ?'],\n",
       " ['ABBR', 'exp', 'What is the full form of .com ?'],\n",
       " ['HUM', 'ind', 'What contemptible scoundrel stole the cork from my lunch ?'],\n",
       " ['HUM', 'gr', \"What team did baseball 's St. Louis Browns become ?\"],\n",
       " ['HUM', 'title', 'What is the oldest profession ?'],\n",
       " ['DESC', 'def', 'What are liver enzymes ?'],\n",
       " ['HUM', 'ind', 'Name the scar-faced bounty hunter of The Old West .']]"
      ]
     },
     "execution_count": 13,
     "metadata": {},
     "output_type": "execute_result"
    }
   ],
   "source": [
    "coarse_category_lines['train_1000.label'][:10]"
   ]
  },
  {
   "cell_type": "markdown",
   "metadata": {},
   "source": [
    "<a name=\"q1.3\"></a>\n",
    "<h3>Q1.3. Dataset Exploration</h3>\n",
    "\n",
    "The labels used to classify the questions are organized in two levels:\n",
    "<ul>\n",
    "<li>6 coarse classes (ABBREVIATION, ENTITY, DESCRIPTION, HUMAN, LOCATION and NUMERIC VALUE)\n",
    "<li>50 fine classes (see Table 1 of the article above)\n",
    "</ul>\n",
    "\n",
    "The definition of the question labels is provided <a href=\"https://cogcomp.seas.upenn.edu/Data/QA/QC/definition.html\">here</a>.\n",
    "<p/>\n",
    "\n",
    "Provide a quantitative description of the dataset:\n",
    "<ol>\n",
    "<li>Distribution of the question labels (number / percentage) - separately for coarse and fine labels.\n",
    "<li>Distribution of the number of tokens per question - overall and per label.\n",
    "<li>Vocabulary size and number of tokens overall and per label.\n",
    "<li>Top 20 more frequent words overall and per label\n",
    "<li>Number of words occurring 1,2,3,4 and 5 times\n",
    "</ol>\n",
    "\n",
    "For this type of exploration, the <a href=\"https://pandas.pydata.org/\">pandas</a> library is extremely convenient.\n",
    "In particular, explore the function dataframe.describe().  You can use other code if you prefer.\n"
   ]
  },
  {
   "cell_type": "code",
   "execution_count": 6,
   "metadata": {
    "scrolled": true
   },
   "outputs": [
    {
     "data": {
      "text/html": [
       "<div>\n",
       "<style scoped>\n",
       "    .dataframe tbody tr th:only-of-type {\n",
       "        vertical-align: middle;\n",
       "    }\n",
       "\n",
       "    .dataframe tbody tr th {\n",
       "        vertical-align: top;\n",
       "    }\n",
       "\n",
       "    .dataframe thead th {\n",
       "        text-align: right;\n",
       "    }\n",
       "</style>\n",
       "<table border=\"1\" class=\"dataframe\">\n",
       "  <thead>\n",
       "    <tr style=\"text-align: right;\">\n",
       "      <th></th>\n",
       "      <th>coarse</th>\n",
       "      <th>fine</th>\n",
       "      <th>question</th>\n",
       "    </tr>\n",
       "  </thead>\n",
       "  <tbody>\n",
       "    <tr>\n",
       "      <th>0</th>\n",
       "      <td>DESC</td>\n",
       "      <td>manner</td>\n",
       "      <td>How did serfdom develop in and then leave Russ...</td>\n",
       "    </tr>\n",
       "    <tr>\n",
       "      <th>1</th>\n",
       "      <td>ENTY</td>\n",
       "      <td>cremat</td>\n",
       "      <td>What films featured the character Popeye Doyle ?</td>\n",
       "    </tr>\n",
       "    <tr>\n",
       "      <th>2</th>\n",
       "      <td>DESC</td>\n",
       "      <td>manner</td>\n",
       "      <td>How can I find a list of celebrities ' real na...</td>\n",
       "    </tr>\n",
       "    <tr>\n",
       "      <th>3</th>\n",
       "      <td>ENTY</td>\n",
       "      <td>animal</td>\n",
       "      <td>What fowl grabs the spotlight after the Chines...</td>\n",
       "    </tr>\n",
       "    <tr>\n",
       "      <th>4</th>\n",
       "      <td>ABBR</td>\n",
       "      <td>exp</td>\n",
       "      <td>What is the full form of .com ?</td>\n",
       "    </tr>\n",
       "  </tbody>\n",
       "</table>\n",
       "</div>"
      ],
      "text/plain": [
       "  coarse    fine                                           question\n",
       "0   DESC  manner  How did serfdom develop in and then leave Russ...\n",
       "1   ENTY  cremat   What films featured the character Popeye Doyle ?\n",
       "2   DESC  manner  How can I find a list of celebrities ' real na...\n",
       "3   ENTY  animal  What fowl grabs the spotlight after the Chines...\n",
       "4   ABBR     exp                    What is the full form of .com ?"
      ]
     },
     "execution_count": 6,
     "metadata": {},
     "output_type": "execute_result"
    }
   ],
   "source": [
    "labels_questions = list(coarse_category_lines.values())\n",
    "labels_questions = [item for sublist in labels_questions for item in sublist]\n",
    "df = pd.DataFrame.from_records(labels_questions,columns=['coarse','fine','question'])\n",
    "df.head()"
   ]
  },
  {
   "cell_type": "code",
   "execution_count": 7,
   "metadata": {
    "scrolled": true
   },
   "outputs": [],
   "source": [
    "def add_num_of_tokens(df):\n",
    "    tokens=[]\n",
    "    for i in range(len(df.index)):\n",
    "        tokens.append(len(df.loc[i]['question'].split(\" \")))\n",
    "    df2=df.copy()\n",
    "    df2['num_of_tokens']=tokens\n",
    "    return df2"
   ]
  },
  {
   "cell_type": "code",
   "execution_count": 8,
   "metadata": {},
   "outputs": [],
   "source": [
    "def add_vocab_size(df,category,statistics_df):\n",
    "    vocabs={}\n",
    "    lens=[]\n",
    "\n",
    "    for x in df.groupby([category]):\n",
    "        vocabs[x[0]]=set()\n",
    "\n",
    "    for x in df.groupby([category]):\n",
    "        questions=x[1]['question'].tolist()\n",
    "        for q in questions:\n",
    "            vocabs[x[0]]=vocabs[x[0]].union(set(q.split(\" \")))\n",
    "\n",
    "    for x in df.groupby([category]):\n",
    "        lens.append(len(vocabs[x[0]]))\n",
    "\n",
    "    statistics_df['vocab size']=lens\n"
   ]
  },
  {
   "cell_type": "code",
   "execution_count": 9,
   "metadata": {
    "scrolled": false
   },
   "outputs": [],
   "source": [
    "def get_statistics(df,type_catrgory,categories):\n",
    "    all_question = len(df.index)\n",
    "    df2=add_num_of_tokens(df)\n",
    "    category_statistics=df2.groupby([type_catrgory]).agg({'question':'count','num_of_tokens':'sum'})\n",
    "    category_statistics['percentage']=category_statistics['question']/all_question\n",
    "    category_statistics=category_statistics.rename(columns={'question':'num of question'})\n",
    "    add_vocab_size(df2,type_catrgory,category_statistics)\n",
    "    return category_statistics\n",
    "\n",
    "def plot_statistics(category_statistics,resize=False):\n",
    "    if resize:\n",
    "        plt.figure(figsize=(20,5))\n",
    "    \n",
    "    fig=category_statistics['num of question'].plot.bar()\n",
    "    fig.set_title('number of question per category')\n",
    "    fig.set_ylabel('number of question')\n",
    "    plt.show()\n",
    "    \n",
    "    if resize:\n",
    "        plt.figure(figsize=(20,5))\n",
    "    fig=category_statistics['num_of_tokens'].plot.bar()\n",
    "    fig.set_title('number of tokens per category')\n",
    "    fig.set_ylabel('number of tokens')\n",
    "    plt.show()\n",
    "    \n",
    "    if resize:\n",
    "        plt.figure(figsize=(20,5))\n",
    "    fig=category_statistics['vocab size'].plot.bar()\n",
    "    fig.set_title('vocab size per category')\n",
    "    fig.set_ylabel('vocab size')"
   ]
  },
  {
   "cell_type": "code",
   "execution_count": 10,
   "metadata": {},
   "outputs": [],
   "source": [
    "from collections import Counter\n",
    "def top_tokens_per_categoty(all_questions, top,category_type):\n",
    "    tokens_per_tag={}\n",
    "    for coarse_tag,fine_tag,question in all_questions:\n",
    "        quest_tokens = question.lower().split(\" \")\n",
    "        tag=coarse_tag if category_type=='coarse' else fine_tag\n",
    "        if tag not in tokens_per_tag:\n",
    "            tokens_per_tag[tag] = Counter()\n",
    "        for token in quest_tokens:\n",
    "            if token !='?':\n",
    "                tokens_per_tag[tag][token] += 1\n",
    "    return pd.DataFrame({tag:counter.most_common(top) for tag,counter in tokens_per_tag.items() if tag!='currency'})\n"
   ]
  },
  {
   "cell_type": "markdown",
   "metadata": {},
   "source": [
    "### Distribution per category"
   ]
  },
  {
   "cell_type": "markdown",
   "metadata": {},
   "source": [
    "#### Coarse categoty"
   ]
  },
  {
   "cell_type": "code",
   "execution_count": 11,
   "metadata": {
    "scrolled": false
   },
   "outputs": [
    {
     "data": {
      "text/html": [
       "<div>\n",
       "<style scoped>\n",
       "    .dataframe tbody tr th:only-of-type {\n",
       "        vertical-align: middle;\n",
       "    }\n",
       "\n",
       "    .dataframe tbody tr th {\n",
       "        vertical-align: top;\n",
       "    }\n",
       "\n",
       "    .dataframe thead th {\n",
       "        text-align: right;\n",
       "    }\n",
       "</style>\n",
       "<table border=\"1\" class=\"dataframe\">\n",
       "  <thead>\n",
       "    <tr style=\"text-align: right;\">\n",
       "      <th></th>\n",
       "      <th>num of question</th>\n",
       "      <th>num_of_tokens</th>\n",
       "      <th>percentage</th>\n",
       "      <th>vocab size</th>\n",
       "    </tr>\n",
       "    <tr>\n",
       "      <th>coarse</th>\n",
       "      <th></th>\n",
       "      <th></th>\n",
       "      <th></th>\n",
       "      <th></th>\n",
       "    </tr>\n",
       "  </thead>\n",
       "  <tbody>\n",
       "    <tr>\n",
       "      <th>ABBR</th>\n",
       "      <td>241</td>\n",
       "      <td>1955</td>\n",
       "      <td>0.015597</td>\n",
       "      <td>174</td>\n",
       "    </tr>\n",
       "    <tr>\n",
       "      <th>DESC</th>\n",
       "      <td>3304</td>\n",
       "      <td>29043</td>\n",
       "      <td>0.213823</td>\n",
       "      <td>2701</td>\n",
       "    </tr>\n",
       "    <tr>\n",
       "      <th>ENTY</th>\n",
       "      <td>3627</td>\n",
       "      <td>38839</td>\n",
       "      <td>0.234727</td>\n",
       "      <td>3512</td>\n",
       "    </tr>\n",
       "    <tr>\n",
       "      <th>HUM</th>\n",
       "      <td>3424</td>\n",
       "      <td>38246</td>\n",
       "      <td>0.221589</td>\n",
       "      <td>3567</td>\n",
       "    </tr>\n",
       "    <tr>\n",
       "      <th>LOC</th>\n",
       "      <td>2376</td>\n",
       "      <td>23687</td>\n",
       "      <td>0.153767</td>\n",
       "      <td>2067</td>\n",
       "    </tr>\n",
       "    <tr>\n",
       "      <th>NUM</th>\n",
       "      <td>2480</td>\n",
       "      <td>25642</td>\n",
       "      <td>0.160497</td>\n",
       "      <td>2183</td>\n",
       "    </tr>\n",
       "  </tbody>\n",
       "</table>\n",
       "</div>"
      ],
      "text/plain": [
       "        num of question  num_of_tokens  percentage  vocab size\n",
       "coarse                                                        \n",
       "ABBR                241           1955    0.015597         174\n",
       "DESC               3304          29043    0.213823        2701\n",
       "ENTY               3627          38839    0.234727        3512\n",
       "HUM                3424          38246    0.221589        3567\n",
       "LOC                2376          23687    0.153767        2067\n",
       "NUM                2480          25642    0.160497        2183"
      ]
     },
     "execution_count": 11,
     "metadata": {},
     "output_type": "execute_result"
    }
   ],
   "source": [
    "coarse_categories = ['ABBR','ENTY','DESC','HUM','LOC','NUM']\n",
    "coarse_statistics=get_statistics(df,'coarse',coarse_categories)\n",
    "coarse_statistics"
   ]
  },
  {
   "cell_type": "code",
   "execution_count": 53,
   "metadata": {},
   "outputs": [
    {
     "data": {
      "image/png": "[encoded data removed]",
      "text/plain": [
       "<Figure size 432x288 with 1 Axes>"
      ]
     },
     "metadata": {
      "needs_background": "light"
     },
     "output_type": "display_data"
    },
    {
     "data": {
      "image/png": "[encoded data removed]",
      "text/plain": [
       "<Figure size 432x288 with 1 Axes>"
      ]
     },
     "metadata": {
      "needs_background": "light"
     },
     "output_type": "display_data"
    },
    {
     "data": {
      "image/png": "[encoded data removed]",
      "text/plain": [
       "<Figure size 432x288 with 1 Axes>"
      ]
     },
     "metadata": {
      "needs_background": "light"
     },
     "output_type": "display_data"
    }
   ],
   "source": [
    "plot_statistics(coarse_statistics)"
   ]
  },
  {
   "cell_type": "code",
   "execution_count": 81,
   "metadata": {},
   "outputs": [
    {
     "name": "stdout",
     "output_type": "stream",
     "text": [
      "\u001b[1mcoarse category statistics:\u001b[0m\n"
     ]
    },
    {
     "data": {
      "text/html": [
       "<div>\n",
       "<style scoped>\n",
       "    .dataframe tbody tr th:only-of-type {\n",
       "        vertical-align: middle;\n",
       "    }\n",
       "\n",
       "    .dataframe tbody tr th {\n",
       "        vertical-align: top;\n",
       "    }\n",
       "\n",
       "    .dataframe thead th {\n",
       "        text-align: right;\n",
       "    }\n",
       "</style>\n",
       "<table border=\"1\" class=\"dataframe\">\n",
       "  <thead>\n",
       "    <tr style=\"text-align: right;\">\n",
       "      <th></th>\n",
       "      <th>num of question</th>\n",
       "      <th>num_of_tokens</th>\n",
       "      <th>percentage</th>\n",
       "      <th>vocab size</th>\n",
       "    </tr>\n",
       "  </thead>\n",
       "  <tbody>\n",
       "    <tr>\n",
       "      <th>count</th>\n",
       "      <td>6.000000</td>\n",
       "      <td>6.000000</td>\n",
       "      <td>6.000000</td>\n",
       "      <td>6.000000</td>\n",
       "    </tr>\n",
       "    <tr>\n",
       "      <th>mean</th>\n",
       "      <td>2575.333333</td>\n",
       "      <td>26235.333333</td>\n",
       "      <td>0.166667</td>\n",
       "      <td>2367.333333</td>\n",
       "    </tr>\n",
       "    <tr>\n",
       "      <th>std</th>\n",
       "      <td>1253.405548</td>\n",
       "      <td>13471.244585</td>\n",
       "      <td>0.081116</td>\n",
       "      <td>1248.654102</td>\n",
       "    </tr>\n",
       "    <tr>\n",
       "      <th>min</th>\n",
       "      <td>241.000000</td>\n",
       "      <td>1955.000000</td>\n",
       "      <td>0.015597</td>\n",
       "      <td>174.000000</td>\n",
       "    </tr>\n",
       "    <tr>\n",
       "      <th>25%</th>\n",
       "      <td>2402.000000</td>\n",
       "      <td>24175.750000</td>\n",
       "      <td>0.155449</td>\n",
       "      <td>2096.000000</td>\n",
       "    </tr>\n",
       "    <tr>\n",
       "      <th>50%</th>\n",
       "      <td>2892.000000</td>\n",
       "      <td>27342.500000</td>\n",
       "      <td>0.187160</td>\n",
       "      <td>2442.000000</td>\n",
       "    </tr>\n",
       "    <tr>\n",
       "      <th>75%</th>\n",
       "      <td>3394.000000</td>\n",
       "      <td>35945.250000</td>\n",
       "      <td>0.219648</td>\n",
       "      <td>3309.250000</td>\n",
       "    </tr>\n",
       "    <tr>\n",
       "      <th>max</th>\n",
       "      <td>3627.000000</td>\n",
       "      <td>38839.000000</td>\n",
       "      <td>0.234727</td>\n",
       "      <td>3567.000000</td>\n",
       "    </tr>\n",
       "  </tbody>\n",
       "</table>\n",
       "</div>"
      ],
      "text/plain": [
       "       num of question  num_of_tokens  percentage   vocab size\n",
       "count         6.000000       6.000000    6.000000     6.000000\n",
       "mean       2575.333333   26235.333333    0.166667  2367.333333\n",
       "std        1253.405548   13471.244585    0.081116  1248.654102\n",
       "min         241.000000    1955.000000    0.015597   174.000000\n",
       "25%        2402.000000   24175.750000    0.155449  2096.000000\n",
       "50%        2892.000000   27342.500000    0.187160  2442.000000\n",
       "75%        3394.000000   35945.250000    0.219648  3309.250000\n",
       "max        3627.000000   38839.000000    0.234727  3567.000000"
      ]
     },
     "execution_count": 81,
     "metadata": {},
     "output_type": "execute_result"
    }
   ],
   "source": [
    "print(make_bold(\"coarse category statistics:\"))\n",
    "\n",
    "coarse_statistics.describe()"
   ]
  },
  {
   "cell_type": "code",
   "execution_count": 12,
   "metadata": {
    "scrolled": false
   },
   "outputs": [
    {
     "name": "stdout",
     "output_type": "stream",
     "text": [
      "\u001b[1mTop 20 most frequent per coarse label\u001b[0m\n"
     ]
    },
    {
     "data": {
      "text/html": [
       "<div>\n",
       "<style scoped>\n",
       "    .dataframe tbody tr th:only-of-type {\n",
       "        vertical-align: middle;\n",
       "    }\n",
       "\n",
       "    .dataframe tbody tr th {\n",
       "        vertical-align: top;\n",
       "    }\n",
       "\n",
       "    .dataframe thead th {\n",
       "        text-align: right;\n",
       "    }\n",
       "</style>\n",
       "<table border=\"1\" class=\"dataframe\">\n",
       "  <thead>\n",
       "    <tr style=\"text-align: right;\">\n",
       "      <th></th>\n",
       "      <th>DESC</th>\n",
       "      <th>ENTY</th>\n",
       "      <th>ABBR</th>\n",
       "      <th>HUM</th>\n",
       "      <th>NUM</th>\n",
       "      <th>LOC</th>\n",
       "    </tr>\n",
       "  </thead>\n",
       "  <tbody>\n",
       "    <tr>\n",
       "      <th>0</th>\n",
       "      <td>(what, 2191)</td>\n",
       "      <td>(what, 3337)</td>\n",
       "      <td>(what, 241)</td>\n",
       "      <td>(the, 2870)</td>\n",
       "      <td>(the, 1525)</td>\n",
       "      <td>(the, 1925)</td>\n",
       "    </tr>\n",
       "    <tr>\n",
       "      <th>1</th>\n",
       "      <td>(the, 1722)</td>\n",
       "      <td>(the, 2542)</td>\n",
       "      <td>(for, 153)</td>\n",
       "      <td>(who, 1683)</td>\n",
       "      <td>(how, 1308)</td>\n",
       "      <td>(what, 1559)</td>\n",
       "    </tr>\n",
       "    <tr>\n",
       "      <th>2</th>\n",
       "      <td>(is, 1387)</td>\n",
       "      <td>(of, 1302)</td>\n",
       "      <td>(the, 140)</td>\n",
       "      <td>(what, 1499)</td>\n",
       "      <td>(many, 877)</td>\n",
       "      <td>(is, 858)</td>\n",
       "    </tr>\n",
       "    <tr>\n",
       "      <th>3</th>\n",
       "      <td>(how, 792)</td>\n",
       "      <td>(is, 1132)</td>\n",
       "      <td>(does, 137)</td>\n",
       "      <td>(of, 1084)</td>\n",
       "      <td>(what, 804)</td>\n",
       "      <td>(where, 742)</td>\n",
       "    </tr>\n",
       "    <tr>\n",
       "      <th>4</th>\n",
       "      <td>(a, 760)</td>\n",
       "      <td>(in, 913)</td>\n",
       "      <td>(stand, 117)</td>\n",
       "      <td>(was, 861)</td>\n",
       "      <td>(of, 701)</td>\n",
       "      <td>(in, 648)</td>\n",
       "    </tr>\n",
       "    <tr>\n",
       "      <th>5</th>\n",
       "      <td>(of, 693)</td>\n",
       "      <td>(a, 879)</td>\n",
       "      <td>(is, 88)</td>\n",
       "      <td>(in, 794)</td>\n",
       "      <td>(in, 661)</td>\n",
       "      <td>(of, 573)</td>\n",
       "    </tr>\n",
       "    <tr>\n",
       "      <th>6</th>\n",
       "      <td>(do, 615)</td>\n",
       "      <td>('s, 605)</td>\n",
       "      <td>(abbreviation, 52)</td>\n",
       "      <td>(is, 680)</td>\n",
       "      <td>(is, 612)</td>\n",
       "      <td>(country, 340)</td>\n",
       "    </tr>\n",
       "    <tr>\n",
       "      <th>7</th>\n",
       "      <td>(in, 366)</td>\n",
       "      <td>(,, 476)</td>\n",
       "      <td>(of, 51)</td>\n",
       "      <td>('s, 643)</td>\n",
       "      <td>(a, 571)</td>\n",
       "      <td>(city, 320)</td>\n",
       "    </tr>\n",
       "    <tr>\n",
       "      <th>8</th>\n",
       "      <td>(to, 354)</td>\n",
       "      <td>(to, 457)</td>\n",
       "      <td>(mean, 25)</td>\n",
       "      <td>(a, 449)</td>\n",
       "      <td>(are, 391)</td>\n",
       "      <td>('s, 310)</td>\n",
       "    </tr>\n",
       "    <tr>\n",
       "      <th>9</th>\n",
       "      <td>(does, 342)</td>\n",
       "      <td>(was, 385)</td>\n",
       "      <td>(in, 24)</td>\n",
       "      <td>('', 431)</td>\n",
       "      <td>(when, 380)</td>\n",
       "      <td>(,, 248)</td>\n",
       "    </tr>\n",
       "    <tr>\n",
       "      <th>10</th>\n",
       "      <td>(``, 322)</td>\n",
       "      <td>(name, 345)</td>\n",
       "      <td>(,, 23)</td>\n",
       "      <td>(``, 425)</td>\n",
       "      <td>(did, 350)</td>\n",
       "      <td>(can, 236)</td>\n",
       "    </tr>\n",
       "    <tr>\n",
       "      <th>11</th>\n",
       "      <td>('', 322)</td>\n",
       "      <td>(are, 336)</td>\n",
       "      <td>(``, 19)</td>\n",
       "      <td>(to, 418)</td>\n",
       "      <td>(was, 323)</td>\n",
       "      <td>(a, 225)</td>\n",
       "    </tr>\n",
       "    <tr>\n",
       "      <th>12</th>\n",
       "      <td>(are, 290)</td>\n",
       "      <td>(for, 313)</td>\n",
       "      <td>(national, 17)</td>\n",
       "      <td>(,, 403)</td>\n",
       "      <td>(does, 262)</td>\n",
       "      <td>(i, 225)</td>\n",
       "    </tr>\n",
       "    <tr>\n",
       "      <th>13</th>\n",
       "      <td>(why, 290)</td>\n",
       "      <td>('', 295)</td>\n",
       "      <td>(bureau, 17)</td>\n",
       "      <td>(name, 401)</td>\n",
       "      <td>(to, 258)</td>\n",
       "      <td>(to, 204)</td>\n",
       "    </tr>\n",
       "    <tr>\n",
       "      <th>14</th>\n",
       "      <td>(you, 285)</td>\n",
       "      <td>(``, 294)</td>\n",
       "      <td>(investigation, 17)</td>\n",
       "      <td>(and, 347)</td>\n",
       "      <td>('s, 249)</td>\n",
       "      <td>(state, 196)</td>\n",
       "    </tr>\n",
       "    <tr>\n",
       "      <th>15</th>\n",
       "      <td>(and, 275)</td>\n",
       "      <td>(and, 294)</td>\n",
       "      <td>(when, 15)</td>\n",
       "      <td>(for, 269)</td>\n",
       "      <td>(there, 224)</td>\n",
       "      <td>(was, 196)</td>\n",
       "    </tr>\n",
       "    <tr>\n",
       "      <th>16</th>\n",
       "      <td>(i, 238)</td>\n",
       "      <td>(did, 271)</td>\n",
       "      <td>(', 15)</td>\n",
       "      <td>(first, 246)</td>\n",
       "      <td>(,, 208)</td>\n",
       "      <td>(on, 186)</td>\n",
       "    </tr>\n",
       "    <tr>\n",
       "      <th>17</th>\n",
       "      <td>('s, 235)</td>\n",
       "      <td>(on, 208)</td>\n",
       "      <td>(a, 14)</td>\n",
       "      <td>(on, 183)</td>\n",
       "      <td>(year, 195)</td>\n",
       "      <td>(world, 179)</td>\n",
       "    </tr>\n",
       "    <tr>\n",
       "      <th>18</th>\n",
       "      <td>(,, 214)</td>\n",
       "      <td>(fear, 193)</td>\n",
       "      <td>('', 14)</td>\n",
       "      <td>(president, 166)</td>\n",
       "      <td>(on, 191)</td>\n",
       "      <td>(are, 172)</td>\n",
       "    </tr>\n",
       "    <tr>\n",
       "      <th>19</th>\n",
       "      <td>(for, 213)</td>\n",
       "      <td>(does, 191)</td>\n",
       "      <td>(used, 13)</td>\n",
       "      <td>(which, 159)</td>\n",
       "      <td>(for, 177)</td>\n",
       "      <td>(find, 163)</td>\n",
       "    </tr>\n",
       "  </tbody>\n",
       "</table>\n",
       "</div>"
      ],
      "text/plain": [
       "            DESC          ENTY                 ABBR               HUM  \\\n",
       "0   (what, 2191)  (what, 3337)          (what, 241)       (the, 2870)   \n",
       "1    (the, 1722)   (the, 2542)           (for, 153)       (who, 1683)   \n",
       "2     (is, 1387)    (of, 1302)           (the, 140)      (what, 1499)   \n",
       "3     (how, 792)    (is, 1132)          (does, 137)        (of, 1084)   \n",
       "4       (a, 760)     (in, 913)         (stand, 117)        (was, 861)   \n",
       "5      (of, 693)      (a, 879)             (is, 88)         (in, 794)   \n",
       "6      (do, 615)     ('s, 605)   (abbreviation, 52)         (is, 680)   \n",
       "7      (in, 366)      (,, 476)             (of, 51)         ('s, 643)   \n",
       "8      (to, 354)     (to, 457)           (mean, 25)          (a, 449)   \n",
       "9    (does, 342)    (was, 385)             (in, 24)         ('', 431)   \n",
       "10     (``, 322)   (name, 345)              (,, 23)         (``, 425)   \n",
       "11     ('', 322)    (are, 336)             (``, 19)         (to, 418)   \n",
       "12    (are, 290)    (for, 313)       (national, 17)          (,, 403)   \n",
       "13    (why, 290)     ('', 295)         (bureau, 17)       (name, 401)   \n",
       "14    (you, 285)     (``, 294)  (investigation, 17)        (and, 347)   \n",
       "15    (and, 275)    (and, 294)           (when, 15)        (for, 269)   \n",
       "16      (i, 238)    (did, 271)              (', 15)      (first, 246)   \n",
       "17     ('s, 235)     (on, 208)              (a, 14)         (on, 183)   \n",
       "18      (,, 214)   (fear, 193)             ('', 14)  (president, 166)   \n",
       "19    (for, 213)   (does, 191)           (used, 13)      (which, 159)   \n",
       "\n",
       "             NUM             LOC  \n",
       "0    (the, 1525)     (the, 1925)  \n",
       "1    (how, 1308)    (what, 1559)  \n",
       "2    (many, 877)       (is, 858)  \n",
       "3    (what, 804)    (where, 742)  \n",
       "4      (of, 701)       (in, 648)  \n",
       "5      (in, 661)       (of, 573)  \n",
       "6      (is, 612)  (country, 340)  \n",
       "7       (a, 571)     (city, 320)  \n",
       "8     (are, 391)       ('s, 310)  \n",
       "9    (when, 380)        (,, 248)  \n",
       "10    (did, 350)      (can, 236)  \n",
       "11    (was, 323)        (a, 225)  \n",
       "12   (does, 262)        (i, 225)  \n",
       "13     (to, 258)       (to, 204)  \n",
       "14     ('s, 249)    (state, 196)  \n",
       "15  (there, 224)      (was, 196)  \n",
       "16      (,, 208)       (on, 186)  \n",
       "17   (year, 195)    (world, 179)  \n",
       "18     (on, 191)      (are, 172)  \n",
       "19    (for, 177)     (find, 163)  "
      ]
     },
     "execution_count": 12,
     "metadata": {},
     "output_type": "execute_result"
    }
   ],
   "source": [
    "print(make_bold(\"Top 20 most frequent per coarse label\"))\n",
    "top_tokens_per_categoty(labels_questions,20,'coarse')"
   ]
  },
  {
   "cell_type": "markdown",
   "metadata": {},
   "source": [
    "#### Fine category"
   ]
  },
  {
   "cell_type": "code",
   "execution_count": 44,
   "metadata": {
    "scrolled": true
   },
   "outputs": [
    {
     "data": {
      "text/html": [
       "<div>\n",
       "<style scoped>\n",
       "    .dataframe tbody tr th:only-of-type {\n",
       "        vertical-align: middle;\n",
       "    }\n",
       "\n",
       "    .dataframe tbody tr th {\n",
       "        vertical-align: top;\n",
       "    }\n",
       "\n",
       "    .dataframe thead th {\n",
       "        text-align: right;\n",
       "    }\n",
       "</style>\n",
       "<table border=\"1\" class=\"dataframe\">\n",
       "  <thead>\n",
       "    <tr style=\"text-align: right;\">\n",
       "      <th></th>\n",
       "      <th>num of question</th>\n",
       "      <th>num_of_tokens</th>\n",
       "      <th>percentage</th>\n",
       "      <th>vocab size</th>\n",
       "    </tr>\n",
       "    <tr>\n",
       "      <th>fine</th>\n",
       "      <th></th>\n",
       "      <th></th>\n",
       "      <th></th>\n",
       "      <th></th>\n",
       "    </tr>\n",
       "  </thead>\n",
       "  <tbody>\n",
       "    <tr>\n",
       "      <th>abb</th>\n",
       "      <td>46</td>\n",
       "      <td>476</td>\n",
       "      <td>0.002977</td>\n",
       "      <td>61</td>\n",
       "    </tr>\n",
       "    <tr>\n",
       "      <th>animal</th>\n",
       "      <td>365</td>\n",
       "      <td>3738</td>\n",
       "      <td>0.023622</td>\n",
       "      <td>410</td>\n",
       "    </tr>\n",
       "    <tr>\n",
       "      <th>body</th>\n",
       "      <td>54</td>\n",
       "      <td>549</td>\n",
       "      <td>0.003495</td>\n",
       "      <td>82</td>\n",
       "    </tr>\n",
       "    <tr>\n",
       "      <th>city</th>\n",
       "      <td>376</td>\n",
       "      <td>3989</td>\n",
       "      <td>0.024333</td>\n",
       "      <td>424</td>\n",
       "    </tr>\n",
       "    <tr>\n",
       "      <th>code</th>\n",
       "      <td>22</td>\n",
       "      <td>237</td>\n",
       "      <td>0.001424</td>\n",
       "      <td>35</td>\n",
       "    </tr>\n",
       "    <tr>\n",
       "      <th>color</th>\n",
       "      <td>119</td>\n",
       "      <td>1133</td>\n",
       "      <td>0.007701</td>\n",
       "      <td>171</td>\n",
       "    </tr>\n",
       "    <tr>\n",
       "      <th>count</th>\n",
       "      <td>985</td>\n",
       "      <td>10660</td>\n",
       "      <td>0.063746</td>\n",
       "      <td>1155</td>\n",
       "    </tr>\n",
       "    <tr>\n",
       "      <th>country</th>\n",
       "      <td>425</td>\n",
       "      <td>4329</td>\n",
       "      <td>0.027505</td>\n",
       "      <td>548</td>\n",
       "    </tr>\n",
       "    <tr>\n",
       "      <th>cremat</th>\n",
       "      <td>595</td>\n",
       "      <td>7243</td>\n",
       "      <td>0.038506</td>\n",
       "      <td>914</td>\n",
       "    </tr>\n",
       "    <tr>\n",
       "      <th>currency</th>\n",
       "      <td>6</td>\n",
       "      <td>43</td>\n",
       "      <td>0.000388</td>\n",
       "      <td>15</td>\n",
       "    </tr>\n",
       "    <tr>\n",
       "      <th>date</th>\n",
       "      <td>650</td>\n",
       "      <td>5907</td>\n",
       "      <td>0.042066</td>\n",
       "      <td>637</td>\n",
       "    </tr>\n",
       "    <tr>\n",
       "      <th>def</th>\n",
       "      <td>1221</td>\n",
       "      <td>7890</td>\n",
       "      <td>0.079019</td>\n",
       "      <td>794</td>\n",
       "    </tr>\n",
       "    <tr>\n",
       "      <th>desc</th>\n",
       "      <td>911</td>\n",
       "      <td>9112</td>\n",
       "      <td>0.058957</td>\n",
       "      <td>1022</td>\n",
       "    </tr>\n",
       "    <tr>\n",
       "      <th>dismed</th>\n",
       "      <td>291</td>\n",
       "      <td>2633</td>\n",
       "      <td>0.018833</td>\n",
       "      <td>268</td>\n",
       "    </tr>\n",
       "    <tr>\n",
       "      <th>dist</th>\n",
       "      <td>86</td>\n",
       "      <td>734</td>\n",
       "      <td>0.005566</td>\n",
       "      <td>118</td>\n",
       "    </tr>\n",
       "    <tr>\n",
       "      <th>event</th>\n",
       "      <td>173</td>\n",
       "      <td>2008</td>\n",
       "      <td>0.011196</td>\n",
       "      <td>285</td>\n",
       "    </tr>\n",
       "    <tr>\n",
       "      <th>exp</th>\n",
       "      <td>195</td>\n",
       "      <td>1479</td>\n",
       "      <td>0.012620</td>\n",
       "      <td>134</td>\n",
       "    </tr>\n",
       "    <tr>\n",
       "      <th>food</th>\n",
       "      <td>266</td>\n",
       "      <td>2733</td>\n",
       "      <td>0.017215</td>\n",
       "      <td>425</td>\n",
       "    </tr>\n",
       "    <tr>\n",
       "      <th>gr</th>\n",
       "      <td>529</td>\n",
       "      <td>5931</td>\n",
       "      <td>0.034235</td>\n",
       "      <td>767</td>\n",
       "    </tr>\n",
       "    <tr>\n",
       "      <th>ind</th>\n",
       "      <td>2691</td>\n",
       "      <td>30968</td>\n",
       "      <td>0.174152</td>\n",
       "      <td>3060</td>\n",
       "    </tr>\n",
       "    <tr>\n",
       "      <th>instru</th>\n",
       "      <td>37</td>\n",
       "      <td>369</td>\n",
       "      <td>0.002395</td>\n",
       "      <td>44</td>\n",
       "    </tr>\n",
       "    <tr>\n",
       "      <th>lang</th>\n",
       "      <td>45</td>\n",
       "      <td>389</td>\n",
       "      <td>0.002912</td>\n",
       "      <td>52</td>\n",
       "    </tr>\n",
       "    <tr>\n",
       "      <th>letter</th>\n",
       "      <td>30</td>\n",
       "      <td>288</td>\n",
       "      <td>0.001941</td>\n",
       "      <td>49</td>\n",
       "    </tr>\n",
       "    <tr>\n",
       "      <th>manner</th>\n",
       "      <td>766</td>\n",
       "      <td>7464</td>\n",
       "      <td>0.049573</td>\n",
       "      <td>851</td>\n",
       "    </tr>\n",
       "    <tr>\n",
       "      <th>money</th>\n",
       "      <td>183</td>\n",
       "      <td>2195</td>\n",
       "      <td>0.011843</td>\n",
       "      <td>246</td>\n",
       "    </tr>\n",
       "    <tr>\n",
       "      <th>mount</th>\n",
       "      <td>67</td>\n",
       "      <td>675</td>\n",
       "      <td>0.004336</td>\n",
       "      <td>75</td>\n",
       "    </tr>\n",
       "    <tr>\n",
       "      <th>ord</th>\n",
       "      <td>15</td>\n",
       "      <td>175</td>\n",
       "      <td>0.000971</td>\n",
       "      <td>27</td>\n",
       "    </tr>\n",
       "    <tr>\n",
       "      <th>other</th>\n",
       "      <td>2089</td>\n",
       "      <td>20911</td>\n",
       "      <td>0.135193</td>\n",
       "      <td>2171</td>\n",
       "    </tr>\n",
       "    <tr>\n",
       "      <th>perc</th>\n",
       "      <td>82</td>\n",
       "      <td>1014</td>\n",
       "      <td>0.005307</td>\n",
       "      <td>130</td>\n",
       "    </tr>\n",
       "    <tr>\n",
       "      <th>period</th>\n",
       "      <td>197</td>\n",
       "      <td>2159</td>\n",
       "      <td>0.012749</td>\n",
       "      <td>285</td>\n",
       "    </tr>\n",
       "    <tr>\n",
       "      <th>plant</th>\n",
       "      <td>38</td>\n",
       "      <td>351</td>\n",
       "      <td>0.002459</td>\n",
       "      <td>69</td>\n",
       "    </tr>\n",
       "    <tr>\n",
       "      <th>product</th>\n",
       "      <td>130</td>\n",
       "      <td>1420</td>\n",
       "      <td>0.008413</td>\n",
       "      <td>204</td>\n",
       "    </tr>\n",
       "    <tr>\n",
       "      <th>reason</th>\n",
       "      <td>543</td>\n",
       "      <td>5312</td>\n",
       "      <td>0.035141</td>\n",
       "      <td>701</td>\n",
       "    </tr>\n",
       "    <tr>\n",
       "      <th>religion</th>\n",
       "      <td>9</td>\n",
       "      <td>78</td>\n",
       "      <td>0.000582</td>\n",
       "      <td>26</td>\n",
       "    </tr>\n",
       "    <tr>\n",
       "      <th>speed</th>\n",
       "      <td>36</td>\n",
       "      <td>283</td>\n",
       "      <td>0.002330</td>\n",
       "      <td>31</td>\n",
       "    </tr>\n",
       "    <tr>\n",
       "      <th>sport</th>\n",
       "      <td>165</td>\n",
       "      <td>1995</td>\n",
       "      <td>0.010678</td>\n",
       "      <td>323</td>\n",
       "    </tr>\n",
       "    <tr>\n",
       "      <th>state</th>\n",
       "      <td>201</td>\n",
       "      <td>1929</td>\n",
       "      <td>0.013008</td>\n",
       "      <td>243</td>\n",
       "    </tr>\n",
       "    <tr>\n",
       "      <th>substance</th>\n",
       "      <td>124</td>\n",
       "      <td>1127</td>\n",
       "      <td>0.008025</td>\n",
       "      <td>154</td>\n",
       "    </tr>\n",
       "    <tr>\n",
       "      <th>symbol</th>\n",
       "      <td>31</td>\n",
       "      <td>324</td>\n",
       "      <td>0.002006</td>\n",
       "      <td>51</td>\n",
       "    </tr>\n",
       "    <tr>\n",
       "      <th>techmeth</th>\n",
       "      <td>111</td>\n",
       "      <td>1282</td>\n",
       "      <td>0.007184</td>\n",
       "      <td>209</td>\n",
       "    </tr>\n",
       "    <tr>\n",
       "      <th>temp</th>\n",
       "      <td>15</td>\n",
       "      <td>155</td>\n",
       "      <td>0.000971</td>\n",
       "      <td>35</td>\n",
       "    </tr>\n",
       "    <tr>\n",
       "      <th>termeq</th>\n",
       "      <td>271</td>\n",
       "      <td>2944</td>\n",
       "      <td>0.017538</td>\n",
       "      <td>343</td>\n",
       "    </tr>\n",
       "    <tr>\n",
       "      <th>title</th>\n",
       "      <td>67</td>\n",
       "      <td>612</td>\n",
       "      <td>0.004336</td>\n",
       "      <td>103</td>\n",
       "    </tr>\n",
       "    <tr>\n",
       "      <th>veh</th>\n",
       "      <td>68</td>\n",
       "      <td>781</td>\n",
       "      <td>0.004401</td>\n",
       "      <td>148</td>\n",
       "    </tr>\n",
       "    <tr>\n",
       "      <th>volsize</th>\n",
       "      <td>32</td>\n",
       "      <td>292</td>\n",
       "      <td>0.002071</td>\n",
       "      <td>48</td>\n",
       "    </tr>\n",
       "    <tr>\n",
       "      <th>weight</th>\n",
       "      <td>23</td>\n",
       "      <td>255</td>\n",
       "      <td>0.001488</td>\n",
       "      <td>44</td>\n",
       "    </tr>\n",
       "    <tr>\n",
       "      <th>word</th>\n",
       "      <td>71</td>\n",
       "      <td>841</td>\n",
       "      <td>0.004595</td>\n",
       "      <td>122</td>\n",
       "    </tr>\n",
       "  </tbody>\n",
       "</table>\n",
       "</div>"
      ],
      "text/plain": [
       "           num of question  num_of_tokens  percentage  vocab size\n",
       "fine                                                             \n",
       "abb                     46            476    0.002977          61\n",
       "animal                 365           3738    0.023622         410\n",
       "body                    54            549    0.003495          82\n",
       "city                   376           3989    0.024333         424\n",
       "code                    22            237    0.001424          35\n",
       "color                  119           1133    0.007701         171\n",
       "count                  985          10660    0.063746        1155\n",
       "country                425           4329    0.027505         548\n",
       "cremat                 595           7243    0.038506         914\n",
       "currency                 6             43    0.000388          15\n",
       "date                   650           5907    0.042066         637\n",
       "def                   1221           7890    0.079019         794\n",
       "desc                   911           9112    0.058957        1022\n",
       "dismed                 291           2633    0.018833         268\n",
       "dist                    86            734    0.005566         118\n",
       "event                  173           2008    0.011196         285\n",
       "exp                    195           1479    0.012620         134\n",
       "food                   266           2733    0.017215         425\n",
       "gr                     529           5931    0.034235         767\n",
       "ind                   2691          30968    0.174152        3060\n",
       "instru                  37            369    0.002395          44\n",
       "lang                    45            389    0.002912          52\n",
       "letter                  30            288    0.001941          49\n",
       "manner                 766           7464    0.049573         851\n",
       "money                  183           2195    0.011843         246\n",
       "mount                   67            675    0.004336          75\n",
       "ord                     15            175    0.000971          27\n",
       "other                 2089          20911    0.135193        2171\n",
       "perc                    82           1014    0.005307         130\n",
       "period                 197           2159    0.012749         285\n",
       "plant                   38            351    0.002459          69\n",
       "product                130           1420    0.008413         204\n",
       "reason                 543           5312    0.035141         701\n",
       "religion                 9             78    0.000582          26\n",
       "speed                   36            283    0.002330          31\n",
       "sport                  165           1995    0.010678         323\n",
       "state                  201           1929    0.013008         243\n",
       "substance              124           1127    0.008025         154\n",
       "symbol                  31            324    0.002006          51\n",
       "techmeth               111           1282    0.007184         209\n",
       "temp                    15            155    0.000971          35\n",
       "termeq                 271           2944    0.017538         343\n",
       "title                   67            612    0.004336         103\n",
       "veh                     68            781    0.004401         148\n",
       "volsize                 32            292    0.002071          48\n",
       "weight                  23            255    0.001488          44\n",
       "word                    71            841    0.004595         122"
      ]
     },
     "execution_count": 44,
     "metadata": {},
     "output_type": "execute_result"
    }
   ],
   "source": [
    "fine_categories = []\n",
    "for name in coarse_category_lines:\n",
    "    for elem in coarse_category_lines[name]:\n",
    "        fine_categories.append(elem[1])\n",
    "\n",
    "fine_statistics=get_statistics(df,'fine',fine_categories)\n",
    "fine_statistics\n"
   ]
  },
  {
   "cell_type": "code",
   "execution_count": 54,
   "metadata": {},
   "outputs": [
    {
     "data": {
      "image/png": "[encoded data removed]",
      "text/plain": [
       "<Figure size 1440x360 with 1 Axes>"
      ]
     },
     "metadata": {
      "needs_background": "light"
     },
     "output_type": "display_data"
    },
    {
     "data": {
      "image/png": "[encoded data removed]",
      "text/plain": [
       "<Figure size 1440x360 with 1 Axes>"
      ]
     },
     "metadata": {
      "needs_background": "light"
     },
     "output_type": "display_data"
    },
    {
     "data": {
      "image/png": "[encoded data removed]",
      "text/plain": [
       "<Figure size 1440x360 with 1 Axes>"
      ]
     },
     "metadata": {
      "needs_background": "light"
     },
     "output_type": "display_data"
    }
   ],
   "source": [
    "plot_statistics(fine_statistics,True)"
   ]
  },
  {
   "cell_type": "code",
   "execution_count": 80,
   "metadata": {
    "scrolled": false
   },
   "outputs": [
    {
     "name": "stdout",
     "output_type": "stream",
     "text": [
      "\u001b[1mfine category statistics:\u001b[0m\n"
     ]
    },
    {
     "data": {
      "text/html": [
       "<div>\n",
       "<style scoped>\n",
       "    .dataframe tbody tr th:only-of-type {\n",
       "        vertical-align: middle;\n",
       "    }\n",
       "\n",
       "    .dataframe tbody tr th {\n",
       "        vertical-align: top;\n",
       "    }\n",
       "\n",
       "    .dataframe thead th {\n",
       "        text-align: right;\n",
       "    }\n",
       "</style>\n",
       "<table border=\"1\" class=\"dataframe\">\n",
       "  <thead>\n",
       "    <tr style=\"text-align: right;\">\n",
       "      <th></th>\n",
       "      <th>num of question</th>\n",
       "      <th>num_of_tokens</th>\n",
       "      <th>percentage</th>\n",
       "      <th>vocab size</th>\n",
       "    </tr>\n",
       "  </thead>\n",
       "  <tbody>\n",
       "    <tr>\n",
       "      <th>count</th>\n",
       "      <td>8.000000</td>\n",
       "      <td>8.000000</td>\n",
       "      <td>8.000000</td>\n",
       "      <td>8.000000</td>\n",
       "    </tr>\n",
       "    <tr>\n",
       "      <th>mean</th>\n",
       "      <td>646.291540</td>\n",
       "      <td>7320.077977</td>\n",
       "      <td>11.753948</td>\n",
       "      <td>736.599316</td>\n",
       "    </tr>\n",
       "    <tr>\n",
       "      <th>std</th>\n",
       "      <td>890.044538</td>\n",
       "      <td>10299.640851</td>\n",
       "      <td>15.284778</td>\n",
       "      <td>1011.255361</td>\n",
       "    </tr>\n",
       "    <tr>\n",
       "      <th>min</th>\n",
       "      <td>6.000000</td>\n",
       "      <td>8.000000</td>\n",
       "      <td>0.000388</td>\n",
       "      <td>8.000000</td>\n",
       "    </tr>\n",
       "    <tr>\n",
       "      <th>25%</th>\n",
       "      <td>29.164062</td>\n",
       "      <td>176.562500</td>\n",
       "      <td>2.246099</td>\n",
       "      <td>35.257812</td>\n",
       "    </tr>\n",
       "    <tr>\n",
       "      <th>50%</th>\n",
       "      <td>459.067971</td>\n",
       "      <td>5030.147563</td>\n",
       "      <td>8.850664</td>\n",
       "      <td>527.411282</td>\n",
       "    </tr>\n",
       "    <tr>\n",
       "      <th>75%</th>\n",
       "      <td>683.847007</td>\n",
       "      <td>7756.806187</td>\n",
       "      <td>11.656129</td>\n",
       "      <td>778.259722</td>\n",
       "    </tr>\n",
       "    <tr>\n",
       "      <th>max</th>\n",
       "      <td>2691.000000</td>\n",
       "      <td>30968.000000</td>\n",
       "      <td>47.000000</td>\n",
       "      <td>3060.000000</td>\n",
       "    </tr>\n",
       "  </tbody>\n",
       "</table>\n",
       "</div>"
      ],
      "text/plain": [
       "       num of question  num_of_tokens  percentage   vocab size\n",
       "count         8.000000       8.000000    8.000000     8.000000\n",
       "mean        646.291540    7320.077977   11.753948   736.599316\n",
       "std         890.044538   10299.640851   15.284778  1011.255361\n",
       "min           6.000000       8.000000    0.000388     8.000000\n",
       "25%          29.164062     176.562500    2.246099    35.257812\n",
       "50%         459.067971    5030.147563    8.850664   527.411282\n",
       "75%         683.847007    7756.806187   11.656129   778.259722\n",
       "max        2691.000000   30968.000000   47.000000  3060.000000"
      ]
     },
     "execution_count": 80,
     "metadata": {},
     "output_type": "execute_result"
    }
   ],
   "source": [
    "print(make_bold(\"fine category statistics:\"))\n",
    "fine_statistics.describe()"
   ]
  },
  {
   "cell_type": "code",
   "execution_count": 147,
   "metadata": {
    "scrolled": true
   },
   "outputs": [
    {
     "name": "stdout",
     "output_type": "stream",
     "text": [
      "\u001b[1mTop 20 more frequent per fine label\u001b[0m\n"
     ]
    },
    {
     "data": {
      "text/html": [
       "<div>\n",
       "<style scoped>\n",
       "    .dataframe tbody tr th:only-of-type {\n",
       "        vertical-align: middle;\n",
       "    }\n",
       "\n",
       "    .dataframe tbody tr th {\n",
       "        vertical-align: top;\n",
       "    }\n",
       "\n",
       "    .dataframe thead th {\n",
       "        text-align: right;\n",
       "    }\n",
       "</style>\n",
       "<table border=\"1\" class=\"dataframe\">\n",
       "  <thead>\n",
       "    <tr style=\"text-align: right;\">\n",
       "      <th></th>\n",
       "      <th>manner</th>\n",
       "      <th>cremat</th>\n",
       "      <th>animal</th>\n",
       "      <th>exp</th>\n",
       "      <th>ind</th>\n",
       "      <th>gr</th>\n",
       "      <th>title</th>\n",
       "      <th>def</th>\n",
       "      <th>date</th>\n",
       "      <th>reason</th>\n",
       "      <th>...</th>\n",
       "      <th>word</th>\n",
       "      <th>lang</th>\n",
       "      <th>perc</th>\n",
       "      <th>code</th>\n",
       "      <th>dist</th>\n",
       "      <th>temp</th>\n",
       "      <th>symbol</th>\n",
       "      <th>ord</th>\n",
       "      <th>veh</th>\n",
       "      <th>weight</th>\n",
       "    </tr>\n",
       "  </thead>\n",
       "  <tbody>\n",
       "    <tr>\n",
       "      <th>0</th>\n",
       "      <td>(how, 774)</td>\n",
       "      <td>(what, 533)</td>\n",
       "      <td>(what, 323)</td>\n",
       "      <td>(what, 195)</td>\n",
       "      <td>(the, 2412)</td>\n",
       "      <td>(the, 413)</td>\n",
       "      <td>(what, 63)</td>\n",
       "      <td>(what, 1205)</td>\n",
       "      <td>(the, 425)</td>\n",
       "      <td>(why, 290)</td>\n",
       "      <td>...</td>\n",
       "      <td>(the, 83)</td>\n",
       "      <td>(the, 44)</td>\n",
       "      <td>(what, 82)</td>\n",
       "      <td>(what, 22)</td>\n",
       "      <td>(how, 70)</td>\n",
       "      <td>(the, 15)</td>\n",
       "      <td>(the, 40)</td>\n",
       "      <td>(the, 21)</td>\n",
       "      <td>(the, 82)</td>\n",
       "      <td>(a, 31)</td>\n",
       "    </tr>\n",
       "    <tr>\n",
       "      <th>1</th>\n",
       "      <td>(do, 377)</td>\n",
       "      <td>(the, 456)</td>\n",
       "      <td>(the, 313)</td>\n",
       "      <td>(does, 135)</td>\n",
       "      <td>(who, 1502)</td>\n",
       "      <td>(what, 384)</td>\n",
       "      <td>(the, 40)</td>\n",
       "      <td>(is, 815)</td>\n",
       "      <td>(when, 360)</td>\n",
       "      <td>(the, 270)</td>\n",
       "      <td>...</td>\n",
       "      <td>(what, 69)</td>\n",
       "      <td>(what, 36)</td>\n",
       "      <td>(the, 80)</td>\n",
       "      <td>(number, 21)</td>\n",
       "      <td>(is, 51)</td>\n",
       "      <td>(what, 9)</td>\n",
       "      <td>(what, 31)</td>\n",
       "      <td>(what, 10)</td>\n",
       "      <td>(what, 54)</td>\n",
       "      <td>(of, 17)</td>\n",
       "    </tr>\n",
       "    <tr>\n",
       "      <th>2</th>\n",
       "      <td>(a, 258)</td>\n",
       "      <td>(in, 159)</td>\n",
       "      <td>(of, 163)</td>\n",
       "      <td>(for, 124)</td>\n",
       "      <td>(what, 1049)</td>\n",
       "      <td>(of, 160)</td>\n",
       "      <td>(is, 26)</td>\n",
       "      <td>(the, 448)</td>\n",
       "      <td>(what, 277)</td>\n",
       "      <td>(what, 244)</td>\n",
       "      <td>...</td>\n",
       "      <td>(word, 53)</td>\n",
       "      <td>(language, 32)</td>\n",
       "      <td>(of, 73)</td>\n",
       "      <td>(the, 19)</td>\n",
       "      <td>(the, 48)</td>\n",
       "      <td>(peachy, 9)</td>\n",
       "      <td>(is, 19)</td>\n",
       "      <td>(chapter, 10)</td>\n",
       "      <td>(of, 34)</td>\n",
       "      <td>(what, 15)</td>\n",
       "    </tr>\n",
       "    <tr>\n",
       "      <th>3</th>\n",
       "      <td>(i, 227)</td>\n",
       "      <td>(a, 157)</td>\n",
       "      <td>(is, 111)</td>\n",
       "      <td>(stand, 115)</td>\n",
       "      <td>(of, 908)</td>\n",
       "      <td>(in, 150)</td>\n",
       "      <td>('s, 26)</td>\n",
       "      <td>(a, 253)</td>\n",
       "      <td>(did, 246)</td>\n",
       "      <td>(of, 114)</td>\n",
       "      <td>...</td>\n",
       "      <td>(is, 29)</td>\n",
       "      <td>(of, 20)</td>\n",
       "      <td>(percentage, 32)</td>\n",
       "      <td>(is, 14)</td>\n",
       "      <td>(far, 31)</td>\n",
       "      <td>(oat, 9)</td>\n",
       "      <td>(for, 18)</td>\n",
       "      <td>(of, 10)</td>\n",
       "      <td>(name, 29)</td>\n",
       "      <td>(in, 13)</td>\n",
       "    </tr>\n",
       "    <tr>\n",
       "      <th>4</th>\n",
       "      <td>(the, 212)</td>\n",
       "      <td>(of, 149)</td>\n",
       "      <td>('s, 98)</td>\n",
       "      <td>(the, 70)</td>\n",
       "      <td>(was, 716)</td>\n",
       "      <td>(company, 121)</td>\n",
       "      <td>(occupation, 17)</td>\n",
       "      <td>(mean, 189)</td>\n",
       "      <td>(was, 211)</td>\n",
       "      <td>(a, 113)</td>\n",
       "      <td>...</td>\n",
       "      <td>(english, 26)</td>\n",
       "      <td>(is, 20)</td>\n",
       "      <td>(is, 29)</td>\n",
       "      <td>(phone, 12)</td>\n",
       "      <td>(long, 23)</td>\n",
       "      <td>(muffins, 9)</td>\n",
       "      <td>(sign, 15)</td>\n",
       "      <td>(has, 10)</td>\n",
       "      <td>(was, 26)</td>\n",
       "      <td>(is, 12)</td>\n",
       "    </tr>\n",
       "    <tr>\n",
       "      <th>5</th>\n",
       "      <td>(you, 209)</td>\n",
       "      <td>(is, 122)</td>\n",
       "      <td>(in, 89)</td>\n",
       "      <td>(is, 51)</td>\n",
       "      <td>(in, 623)</td>\n",
       "      <td>(is, 115)</td>\n",
       "      <td>(of, 16)</td>\n",
       "      <td>(does, 183)</td>\n",
       "      <td>(year, 163)</td>\n",
       "      <td>(is, 113)</td>\n",
       "      <td>...</td>\n",
       "      <td>(of, 26)</td>\n",
       "      <td>(spoken, 16)</td>\n",
       "      <td>(in, 21)</td>\n",
       "      <td>(for, 10)</td>\n",
       "      <td>(a, 23)</td>\n",
       "      <td>(temperature, 8)</td>\n",
       "      <td>(a, 14)</td>\n",
       "      <td>(bible, 6)</td>\n",
       "      <td>(in, 22)</td>\n",
       "      <td>(weigh, 11)</td>\n",
       "    </tr>\n",
       "    <tr>\n",
       "      <th>6</th>\n",
       "      <td>(can, 146)</td>\n",
       "      <td>('s, 112)</td>\n",
       "      <td>(name, 65)</td>\n",
       "      <td>(abbreviation, 25)</td>\n",
       "      <td>('s, 521)</td>\n",
       "      <td>('s, 96)</td>\n",
       "      <td>(profession, 14)</td>\n",
       "      <td>(``, 146)</td>\n",
       "      <td>(in, 134)</td>\n",
       "      <td>(in, 105)</td>\n",
       "      <td>...</td>\n",
       "      <td>(in, 20)</td>\n",
       "      <td>(sioux, 14)</td>\n",
       "      <td>('s, 19)</td>\n",
       "      <td>(columbia, 8)</td>\n",
       "      <td>(of, 18)</td>\n",
       "      <td>(is, 7)</td>\n",
       "      <td>(symbol, 12)</td>\n",
       "      <td>(most, 6)</td>\n",
       "      <td>('s, 17)</td>\n",
       "      <td>(teaspoon, 10)</td>\n",
       "    </tr>\n",
       "    <tr>\n",
       "      <th>7</th>\n",
       "      <td>(to, 111)</td>\n",
       "      <td>(to, 106)</td>\n",
       "      <td>(animal, 65)</td>\n",
       "      <td>(mean, 25)</td>\n",
       "      <td>(is, 452)</td>\n",
       "      <td>(was, 84)</td>\n",
       "      <td>(was, 14)</td>\n",
       "      <td>('', 146)</td>\n",
       "      <td>(of, 117)</td>\n",
       "      <td>(for, 91)</td>\n",
       "      <td>...</td>\n",
       "      <td>('s, 20)</td>\n",
       "      <td>(in, 13)</td>\n",
       "      <td>(are, 16)</td>\n",
       "      <td>(tristar, 8)</td>\n",
       "      <td>(what, 16)</td>\n",
       "      <td>(baking, 7)</td>\n",
       "      <td>(zodiacal, 7)</td>\n",
       "      <td>(verses, 6)</td>\n",
       "      <td>(ship, 15)</td>\n",
       "      <td>(matter, 10)</td>\n",
       "    </tr>\n",
       "    <tr>\n",
       "      <th>8</th>\n",
       "      <td>(of, 103)</td>\n",
       "      <td>(was, 102)</td>\n",
       "      <td>(was, 60)</td>\n",
       "      <td>(in, 24)</td>\n",
       "      <td>('', 375)</td>\n",
       "      <td>(a, 76)</td>\n",
       "      <td>(in, 14)</td>\n",
       "      <td>(of, 126)</td>\n",
       "      <td>(is, 95)</td>\n",
       "      <td>(do, 90)</td>\n",
       "      <td>...</td>\n",
       "      <td>(for, 19)</td>\n",
       "      <td>(languages, 13)</td>\n",
       "      <td>(a, 14)</td>\n",
       "      <td>('s, 8)</td>\n",
       "      <td>(you, 13)</td>\n",
       "      <td>(for, 6)</td>\n",
       "      <td>(of, 7)</td>\n",
       "      <td>(where, 5)</td>\n",
       "      <td>(by, 13)</td>\n",
       "      <td>(black, 10)</td>\n",
       "    </tr>\n",
       "    <tr>\n",
       "      <th>9</th>\n",
       "      <td>(is, 98)</td>\n",
       "      <td>(film, 87)</td>\n",
       "      <td>(a, 60)</td>\n",
       "      <td>(,, 23)</td>\n",
       "      <td>(to, 374)</td>\n",
       "      <td>(name, 68)</td>\n",
       "      <td>(title, 12)</td>\n",
       "      <td>(are, 124)</td>\n",
       "      <td>(first, 93)</td>\n",
       "      <td>(to, 72)</td>\n",
       "      <td>...</td>\n",
       "      <td>(a, 18)</td>\n",
       "      <td>(a, 13)</td>\n",
       "      <td>(children, 13)</td>\n",
       "      <td>(telephone, 5)</td>\n",
       "      <td>(tall, 12)</td>\n",
       "      <td>(how, 6)</td>\n",
       "      <td>(water, 5)</td>\n",
       "      <td>(does, 5)</td>\n",
       "      <td>(sank, 10)</td>\n",
       "      <td>(hole, 10)</td>\n",
       "    </tr>\n",
       "    <tr>\n",
       "      <th>10</th>\n",
       "      <td>(does, 95)</td>\n",
       "      <td>(,, 78)</td>\n",
       "      <td>(,, 52)</td>\n",
       "      <td>(of, 17)</td>\n",
       "      <td>(``, 369)</td>\n",
       "      <td>(which, 66)</td>\n",
       "      <td>(nicholas, 11)</td>\n",
       "      <td>(,, 76)</td>\n",
       "      <td>('s, 75)</td>\n",
       "      <td>(are, 65)</td>\n",
       "      <td>...</td>\n",
       "      <td>(,, 13)</td>\n",
       "      <td>(by, 11)</td>\n",
       "      <td>(two, 13)</td>\n",
       "      <td>(university, 5)</td>\n",
       "      <td>(can, 11)</td>\n",
       "      <td>(hot, 6)</td>\n",
       "      <td>(carrier, 5)</td>\n",
       "      <td>(u.s., 5)</td>\n",
       "      <td>(liner, 8)</td>\n",
       "      <td>(the, 10)</td>\n",
       "    </tr>\n",
       "    <tr>\n",
       "      <th>11</th>\n",
       "      <td>(find, 91)</td>\n",
       "      <td>(name, 71)</td>\n",
       "      <td>(dog, 47)</td>\n",
       "      <td>(``, 17)</td>\n",
       "      <td>(a, 367)</td>\n",
       "      <td>(its, 57)</td>\n",
       "      <td>(cage, 11)</td>\n",
       "      <td>('s, 61)</td>\n",
       "      <td>(day, 67)</td>\n",
       "      <td>(causes, 54)</td>\n",
       "      <td>...</td>\n",
       "      <td>(longest, 13)</td>\n",
       "      <td>(most, 9)</td>\n",
       "      <td>(eleven, 13)</td>\n",
       "      <td>(of, 5)</td>\n",
       "      <td>(run, 10)</td>\n",
       "      <td>(of, 4)</td>\n",
       "      <td>(``, 5)</td>\n",
       "      <td>(rank, 5)</td>\n",
       "      <td>(it, 8)</td>\n",
       "      <td>(weight, 10)</td>\n",
       "    </tr>\n",
       "    <tr>\n",
       "      <th>12</th>\n",
       "      <td>(get, 71)</td>\n",
       "      <td>(movie, 70)</td>\n",
       "      <td>(kind, 39)</td>\n",
       "      <td>(when, 15)</td>\n",
       "      <td>(,, 356)</td>\n",
       "      <td>(team, 53)</td>\n",
       "      <td>(for, 10)</td>\n",
       "      <td>(in, 56)</td>\n",
       "      <td>(on, 56)</td>\n",
       "      <td>(did, 46)</td>\n",
       "      <td>...</td>\n",
       "      <td>(letters, 10)</td>\n",
       "      <td>('s, 8)</td>\n",
       "      <td>(watch, 13)</td>\n",
       "      <td>(kentucky, 5)</td>\n",
       "      <td>(to, 9)</td>\n",
       "      <td>(should, 4)</td>\n",
       "      <td>('', 5)</td>\n",
       "      <td>(among, 5)</td>\n",
       "      <td>(used, 7)</td>\n",
       "      <td>(does, 9)</td>\n",
       "    </tr>\n",
       "    <tr>\n",
       "      <th>13</th>\n",
       "      <td>(did, 69)</td>\n",
       "      <td>(book, 68)</td>\n",
       "      <td>(animals, 39)</td>\n",
       "      <td>(a, 13)</td>\n",
       "      <td>(name, 329)</td>\n",
       "      <td>(``, 51)</td>\n",
       "      <td>(did, 9)</td>\n",
       "      <td>(name, 50)</td>\n",
       "      <td>(date, 46)</td>\n",
       "      <td>(``, 44)</td>\n",
       "      <td>...</td>\n",
       "      <td>(on, 9)</td>\n",
       "      <td>(are, 8)</td>\n",
       "      <td>(simpsons, 13)</td>\n",
       "      <td>(code, 5)</td>\n",
       "      <td>('s, 9)</td>\n",
       "      <td>(be, 4)</td>\n",
       "      <td>(chemical, 5)</td>\n",
       "      <td>(world, 5)</td>\n",
       "      <td>(., 7)</td>\n",
       "      <td>(how, 8)</td>\n",
       "    </tr>\n",
       "    <tr>\n",
       "      <th>14</th>\n",
       "      <td>(in, 66)</td>\n",
       "      <td>(did, 66)</td>\n",
       "      <td>(are, 35)</td>\n",
       "      <td>('', 12)</td>\n",
       "      <td>(and, 307)</td>\n",
       "      <td>('', 51)</td>\n",
       "      <td>(job, 9)</td>\n",
       "      <td>(definition, 44)</td>\n",
       "      <td>(``, 45)</td>\n",
       "      <td>('', 44)</td>\n",
       "      <td>...</td>\n",
       "      <td>(that, 9)</td>\n",
       "      <td>(name, 8)</td>\n",
       "      <td>(for, 11)</td>\n",
       "      <td>(can, 4)</td>\n",
       "      <td>(from, 9)</td>\n",
       "      <td>(does, 3)</td>\n",
       "      <td>('s, 5)</td>\n",
       "      <td>(countries, 5)</td>\n",
       "      <td>(which, 7)</td>\n",
       "      <td>(much, 6)</td>\n",
       "    </tr>\n",
       "    <tr>\n",
       "      <th>15</th>\n",
       "      <td>(out, 52)</td>\n",
       "      <td>(novel, 63)</td>\n",
       "      <td>(``, 31)</td>\n",
       "      <td>(cnn, 11)</td>\n",
       "      <td>(first, 228)</td>\n",
       "      <td>(for, 51)</td>\n",
       "      <td>(does, 9)</td>\n",
       "      <td>(meaning, 44)</td>\n",
       "      <td>('', 45)</td>\n",
       "      <td>(and, 42)</td>\n",
       "      <td>...</td>\n",
       "      <td>(words, 9)</td>\n",
       "      <td>(brazil, 6)</td>\n",
       "      <td>(and, 11)</td>\n",
       "      <td>(i, 4)</td>\n",
       "      <td>(are, 8)</td>\n",
       "      <td>(inside, 3)</td>\n",
       "      <td>(was, 4)</td>\n",
       "      <td>(in, 5)</td>\n",
       "      <td>(fawaz, 7)</td>\n",
       "      <td>(average, 3)</td>\n",
       "    </tr>\n",
       "    <tr>\n",
       "      <th>16</th>\n",
       "      <td>(for, 49)</td>\n",
       "      <td>(and, 62)</td>\n",
       "      <td>('', 31)</td>\n",
       "      <td>(full, 10)</td>\n",
       "      <td>(for, 208)</td>\n",
       "      <td>(did, 43)</td>\n",
       "      <td>(do, 7)</td>\n",
       "      <td>(and, 43)</td>\n",
       "      <td>(and, 38)</td>\n",
       "      <td>(,, 40)</td>\n",
       "      <td>...</td>\n",
       "      <td>(from, 8)</td>\n",
       "      <td>(., 6)</td>\n",
       "      <td>(between, 10)</td>\n",
       "      <td>(call, 4)</td>\n",
       "      <td>(in, 7)</td>\n",
       "      <td>(an, 3)</td>\n",
       "      <td>(distinguishing, 4)</td>\n",
       "      <td>(area, 5)</td>\n",
       "      <td>(younis, 7)</td>\n",
       "      <td>(for, 3)</td>\n",
       "    </tr>\n",
       "    <tr>\n",
       "      <th>17</th>\n",
       "      <td>(an, 49)</td>\n",
       "      <td>(``, 50)</td>\n",
       "      <td>(world, 25)</td>\n",
       "      <td>(used, 10)</td>\n",
       "      <td>(on, 166)</td>\n",
       "      <td>(who, 43)</td>\n",
       "      <td>(larry, 6)</td>\n",
       "      <td>(an, 28)</td>\n",
       "      <td>(to, 33)</td>\n",
       "      <td>('s, 35)</td>\n",
       "      <td>...</td>\n",
       "      <td>(language, 8)</td>\n",
       "      <td>(commonly-spoken, 5)</td>\n",
       "      <td>(ages, 10)</td>\n",
       "      <td>(to, 4)</td>\n",
       "      <td>(was, 6)</td>\n",
       "      <td>(active, 3)</td>\n",
       "      <td>(mark, 4)</td>\n",
       "      <td>(gone, 4)</td>\n",
       "      <td>(and, 7)</td>\n",
       "      <td>(man, 3)</td>\n",
       "    </tr>\n",
       "    <tr>\n",
       "      <th>18</th>\n",
       "      <td>(my, 46)</td>\n",
       "      <td>('', 50)</td>\n",
       "      <td>(as, 22)</td>\n",
       "      <td>(', 10)</td>\n",
       "      <td>(president, 153)</td>\n",
       "      <td>(,, 42)</td>\n",
       "      <td>(king, 6)</td>\n",
       "      <td>(was, 25)</td>\n",
       "      <td>(begin, 32)</td>\n",
       "      <td>(people, 32)</td>\n",
       "      <td>...</td>\n",
       "      <td>(or, 8)</td>\n",
       "      <td>(belgium, 5)</td>\n",
       "      <td>(thatcher, 9)</td>\n",
       "      <td>(have, 4)</td>\n",
       "      <td>(see, 6)</td>\n",
       "      <td>(volcano, 3)</td>\n",
       "      <td>(on, 4)</td>\n",
       "      <td>(with, 4)</td>\n",
       "      <td>(hijacked, 6)</td>\n",
       "      <td>(poodle, 3)</td>\n",
       "    </tr>\n",
       "    <tr>\n",
       "      <th>19</th>\n",
       "      <td>(work, 42)</td>\n",
       "      <td>(by, 49)</td>\n",
       "      <td>(which, 22)</td>\n",
       "      <td>(ioc, 10)</td>\n",
       "      <td>(as, 140)</td>\n",
       "      <td>(and, 40)</td>\n",
       "      <td>(are, 6)</td>\n",
       "      <td>(on, 22)</td>\n",
       "      <td>(born, 30)</td>\n",
       "      <td>(makes, 32)</td>\n",
       "      <td>...</td>\n",
       "      <td>(letter, 7)</td>\n",
       "      <td>(two, 5)</td>\n",
       "      <td>(after, 9)</td>\n",
       "      <td>(a, 4)</td>\n",
       "      <td>(coney, 5)</td>\n",
       "      <td>(get, 3)</td>\n",
       "      <td>(little, 4)</td>\n",
       "      <td>(wind, 4)</td>\n",
       "      <td>(are, 6)</td>\n",
       "      <td>(recommended, 2)</td>\n",
       "    </tr>\n",
       "  </tbody>\n",
       "</table>\n",
       "<p>20 rows × 46 columns</p>\n",
       "</div>"
      ],
      "text/plain": [
       "        manner       cremat         animal                 exp  \\\n",
       "0   (how, 774)  (what, 533)    (what, 323)         (what, 195)   \n",
       "1    (do, 377)   (the, 456)     (the, 313)         (does, 135)   \n",
       "2     (a, 258)    (in, 159)      (of, 163)          (for, 124)   \n",
       "3     (i, 227)     (a, 157)      (is, 111)        (stand, 115)   \n",
       "4   (the, 212)    (of, 149)       ('s, 98)           (the, 70)   \n",
       "5   (you, 209)    (is, 122)       (in, 89)            (is, 51)   \n",
       "6   (can, 146)    ('s, 112)     (name, 65)  (abbreviation, 25)   \n",
       "7    (to, 111)    (to, 106)   (animal, 65)          (mean, 25)   \n",
       "8    (of, 103)   (was, 102)      (was, 60)            (in, 24)   \n",
       "9     (is, 98)   (film, 87)        (a, 60)             (,, 23)   \n",
       "10  (does, 95)      (,, 78)        (,, 52)            (of, 17)   \n",
       "11  (find, 91)   (name, 71)      (dog, 47)            (``, 17)   \n",
       "12   (get, 71)  (movie, 70)     (kind, 39)          (when, 15)   \n",
       "13   (did, 69)   (book, 68)  (animals, 39)             (a, 13)   \n",
       "14    (in, 66)    (did, 66)      (are, 35)            ('', 12)   \n",
       "15   (out, 52)  (novel, 63)       (``, 31)           (cnn, 11)   \n",
       "16   (for, 49)    (and, 62)       ('', 31)          (full, 10)   \n",
       "17    (an, 49)     (``, 50)    (world, 25)          (used, 10)   \n",
       "18    (my, 46)     ('', 50)       (as, 22)             (', 10)   \n",
       "19  (work, 42)     (by, 49)    (which, 22)           (ioc, 10)   \n",
       "\n",
       "                 ind              gr             title               def  \\\n",
       "0        (the, 2412)      (the, 413)        (what, 63)      (what, 1205)   \n",
       "1        (who, 1502)     (what, 384)         (the, 40)         (is, 815)   \n",
       "2       (what, 1049)       (of, 160)          (is, 26)        (the, 448)   \n",
       "3          (of, 908)       (in, 150)          ('s, 26)          (a, 253)   \n",
       "4         (was, 716)  (company, 121)  (occupation, 17)       (mean, 189)   \n",
       "5          (in, 623)       (is, 115)          (of, 16)       (does, 183)   \n",
       "6          ('s, 521)        ('s, 96)  (profession, 14)         (``, 146)   \n",
       "7          (is, 452)       (was, 84)         (was, 14)         ('', 146)   \n",
       "8          ('', 375)         (a, 76)          (in, 14)         (of, 126)   \n",
       "9          (to, 374)      (name, 68)       (title, 12)        (are, 124)   \n",
       "10         (``, 369)     (which, 66)    (nicholas, 11)           (,, 76)   \n",
       "11          (a, 367)       (its, 57)        (cage, 11)          ('s, 61)   \n",
       "12          (,, 356)      (team, 53)         (for, 10)          (in, 56)   \n",
       "13       (name, 329)        (``, 51)          (did, 9)        (name, 50)   \n",
       "14        (and, 307)        ('', 51)          (job, 9)  (definition, 44)   \n",
       "15      (first, 228)       (for, 51)         (does, 9)     (meaning, 44)   \n",
       "16        (for, 208)       (did, 43)           (do, 7)         (and, 43)   \n",
       "17         (on, 166)       (who, 43)        (larry, 6)          (an, 28)   \n",
       "18  (president, 153)         (,, 42)         (king, 6)         (was, 25)   \n",
       "19         (as, 140)       (and, 40)          (are, 6)          (on, 22)   \n",
       "\n",
       "           date        reason  ...           word                  lang  \\\n",
       "0    (the, 425)    (why, 290)  ...      (the, 83)             (the, 44)   \n",
       "1   (when, 360)    (the, 270)  ...     (what, 69)            (what, 36)   \n",
       "2   (what, 277)   (what, 244)  ...     (word, 53)        (language, 32)   \n",
       "3    (did, 246)     (of, 114)  ...       (is, 29)              (of, 20)   \n",
       "4    (was, 211)      (a, 113)  ...  (english, 26)              (is, 20)   \n",
       "5   (year, 163)     (is, 113)  ...       (of, 26)          (spoken, 16)   \n",
       "6     (in, 134)     (in, 105)  ...       (in, 20)           (sioux, 14)   \n",
       "7     (of, 117)     (for, 91)  ...       ('s, 20)              (in, 13)   \n",
       "8      (is, 95)      (do, 90)  ...      (for, 19)       (languages, 13)   \n",
       "9   (first, 93)      (to, 72)  ...        (a, 18)               (a, 13)   \n",
       "10     ('s, 75)     (are, 65)  ...        (,, 13)              (by, 11)   \n",
       "11    (day, 67)  (causes, 54)  ...  (longest, 13)             (most, 9)   \n",
       "12     (on, 56)     (did, 46)  ...  (letters, 10)               ('s, 8)   \n",
       "13   (date, 46)      (``, 44)  ...        (on, 9)              (are, 8)   \n",
       "14     (``, 45)      ('', 44)  ...      (that, 9)             (name, 8)   \n",
       "15     ('', 45)     (and, 42)  ...     (words, 9)           (brazil, 6)   \n",
       "16    (and, 38)       (,, 40)  ...      (from, 8)                (., 6)   \n",
       "17     (to, 33)      ('s, 35)  ...  (language, 8)  (commonly-spoken, 5)   \n",
       "18  (begin, 32)  (people, 32)  ...        (or, 8)          (belgium, 5)   \n",
       "19   (born, 30)   (makes, 32)  ...    (letter, 7)              (two, 5)   \n",
       "\n",
       "                perc             code        dist              temp  \\\n",
       "0         (what, 82)       (what, 22)   (how, 70)         (the, 15)   \n",
       "1          (the, 80)     (number, 21)    (is, 51)         (what, 9)   \n",
       "2           (of, 73)        (the, 19)   (the, 48)       (peachy, 9)   \n",
       "3   (percentage, 32)         (is, 14)   (far, 31)          (oat, 9)   \n",
       "4           (is, 29)      (phone, 12)  (long, 23)      (muffins, 9)   \n",
       "5           (in, 21)        (for, 10)     (a, 23)  (temperature, 8)   \n",
       "6           ('s, 19)    (columbia, 8)    (of, 18)           (is, 7)   \n",
       "7          (are, 16)     (tristar, 8)  (what, 16)       (baking, 7)   \n",
       "8            (a, 14)          ('s, 8)   (you, 13)          (for, 6)   \n",
       "9     (children, 13)   (telephone, 5)  (tall, 12)          (how, 6)   \n",
       "10         (two, 13)  (university, 5)   (can, 11)          (hot, 6)   \n",
       "11      (eleven, 13)          (of, 5)   (run, 10)           (of, 4)   \n",
       "12       (watch, 13)    (kentucky, 5)     (to, 9)       (should, 4)   \n",
       "13    (simpsons, 13)        (code, 5)     ('s, 9)           (be, 4)   \n",
       "14         (for, 11)         (can, 4)   (from, 9)         (does, 3)   \n",
       "15         (and, 11)           (i, 4)    (are, 8)       (inside, 3)   \n",
       "16     (between, 10)        (call, 4)     (in, 7)           (an, 3)   \n",
       "17        (ages, 10)          (to, 4)    (was, 6)       (active, 3)   \n",
       "18     (thatcher, 9)        (have, 4)    (see, 6)      (volcano, 3)   \n",
       "19        (after, 9)           (a, 4)  (coney, 5)          (get, 3)   \n",
       "\n",
       "                 symbol             ord            veh            weight  \n",
       "0             (the, 40)       (the, 21)      (the, 82)           (a, 31)  \n",
       "1            (what, 31)      (what, 10)     (what, 54)          (of, 17)  \n",
       "2              (is, 19)   (chapter, 10)       (of, 34)        (what, 15)  \n",
       "3             (for, 18)        (of, 10)     (name, 29)          (in, 13)  \n",
       "4            (sign, 15)       (has, 10)      (was, 26)          (is, 12)  \n",
       "5               (a, 14)      (bible, 6)       (in, 22)       (weigh, 11)  \n",
       "6          (symbol, 12)       (most, 6)       ('s, 17)    (teaspoon, 10)  \n",
       "7         (zodiacal, 7)     (verses, 6)     (ship, 15)      (matter, 10)  \n",
       "8               (of, 7)      (where, 5)       (by, 13)       (black, 10)  \n",
       "9            (water, 5)       (does, 5)     (sank, 10)        (hole, 10)  \n",
       "10         (carrier, 5)       (u.s., 5)     (liner, 8)         (the, 10)  \n",
       "11              (``, 5)       (rank, 5)        (it, 8)      (weight, 10)  \n",
       "12              ('', 5)      (among, 5)      (used, 7)         (does, 9)  \n",
       "13        (chemical, 5)      (world, 5)         (., 7)          (how, 8)  \n",
       "14              ('s, 5)  (countries, 5)     (which, 7)         (much, 6)  \n",
       "15             (was, 4)         (in, 5)     (fawaz, 7)      (average, 3)  \n",
       "16  (distinguishing, 4)       (area, 5)    (younis, 7)          (for, 3)  \n",
       "17            (mark, 4)       (gone, 4)       (and, 7)          (man, 3)  \n",
       "18              (on, 4)       (with, 4)  (hijacked, 6)       (poodle, 3)  \n",
       "19          (little, 4)       (wind, 4)       (are, 6)  (recommended, 2)  \n",
       "\n",
       "[20 rows x 46 columns]"
      ]
     },
     "execution_count": 147,
     "metadata": {},
     "output_type": "execute_result"
    }
   ],
   "source": [
    "print(make_bold(\"Top 20 more frequent per fine label\"))\n",
    "top_tokens_per_categoty(labels_questions,20,'fine')"
   ]
  },
  {
   "cell_type": "markdown",
   "metadata": {},
   "source": [
    "### Overall statistics"
   ]
  },
  {
   "cell_type": "code",
   "execution_count": 13,
   "metadata": {},
   "outputs": [
    {
     "name": "stdout",
     "output_type": "stream",
     "text": [
      "\u001b[1mnum of tokens overall:\u001b[0m 157412\n",
      "\u001b[1mvocab size overall:\u001b[0m 9448\n"
     ]
    }
   ],
   "source": [
    "def compute_vocab_size(df):\n",
    "    questions_str_list=[q for q in df['question'].str.split()]\n",
    "    questions_str_list = [item for sublist in questions_str_list for item in sublist]\n",
    "    questions_str_set = set(questions_str_list)\n",
    "    return len(questions_str_set)\n",
    "\n",
    "df2=add_num_of_tokens(df)\n",
    "print(make_bold(\"num of tokens overall:\"),df2['num_of_tokens'].sum())\n",
    "print(make_bold(\"vocab size overall:\"),compute_vocab_size(df))\n"
   ]
  },
  {
   "cell_type": "code",
   "execution_count": 15,
   "metadata": {
    "scrolled": true
   },
   "outputs": [],
   "source": [
    "def get_top_overall(all_question,top):\n",
    "    word_statistics = Counter(token for coarse_tag,fine_tag,question in all_question \n",
    "                     for token in question.lower().split(\" \"))\n",
    "    return pd.DataFrame(word_statistics.most_common(top),columns=['word','count'])\n",
    "get_top_overall(labels_questions,20)"
   ]
  },
  {
   "cell_type": "code",
   "execution_count": 16,
   "metadata": {},
   "outputs": [
    {
     "name": "stdout",
     "output_type": "stream",
     "text": [
      "\u001b[1mNumber of words occurring 1,2,3,4 and 5 times:\u001b[0m\n",
      "1 time: 1352\n",
      "2 time: 1114\n",
      "3 time: 1096\n",
      "4 time: 1123\n",
      "5 time: 1187\n"
     ]
    }
   ],
   "source": [
    "def get_word_statistics(all_questions):\n",
    "    return Counter(token for coarse_tag,fine_tag,question in all_questions \n",
    "                     for token in question.lower().split(\" \"))\n",
    "def get_word_with_appearance(num,word_statistics):    \n",
    "    words=[]\n",
    "    for x in word_statistics:\n",
    "        if word_statistics[x]==num:\n",
    "            words.append(x)\n",
    "    return len(words)\n",
    "\n",
    "word_statistics=get_word_statistics(labels_questions)\n",
    "\n",
    "print(make_bold('Number of words occurring 1,2,3,4 and 5 times:'))\n",
    "print('1 time:',get_word_with_appearance(1,word_statistics))\n",
    "print('2 time:',get_word_with_appearance(2,word_statistics))\n",
    "print('3 time:',get_word_with_appearance(3,word_statistics))\n",
    "print('4 time:',get_word_with_appearance(4,word_statistics))\n",
    "print('5 time:',get_word_with_appearance(5,word_statistics))"
   ]
  },
  {
   "cell_type": "markdown",
   "metadata": {},
   "source": [
    "<a name=\"q1.4\"></a>\n",
    "<h3>Q1.4. Classifier Interface, Evaluation Metrics, Confusion Matrix</h3>\n",
    "\n",
    "Define the Python interface (functions or class according to your preference) of a question classifier so that the \n",
    "function accuracy_score and classification_report from the sklearn.metrics module can be used.\n",
    "\n",
    "Define a function evaluate_classifier that takes a trained classifier and reports classification results for \n",
    "coarse and fine categories.\n",
    "\n",
    "Define a function confusion_matrix(model) which prints a confusion matrix for the coarse level categories in the same\n",
    "way as in HW1 Question 3.\n"
   ]
  },
  {
   "cell_type": "markdown",
   "metadata": {},
   "source": [
    "As most classifires, we chose our calsiisfier to have fit and predcit method ."
   ]
  },
  {
   "cell_type": "code",
   "execution_count": 17,
   "metadata": {},
   "outputs": [],
   "source": [
    "class  question_classifier():\n",
    "    \"\"\" this interface defines function to classify questions \"\"\"\n",
    "    def classes(self) -> list:\n",
    "        pass\n",
    "    \n",
    "    def fit(self, X, y):\n",
    "        \" train the model with the data and correct labels \"\n",
    "        pass\n",
    "        \n",
    "    def predict(self, X):\n",
    "        \"\"\" guess the label for data, after fit \"\"\"\n",
    "        pass"
   ]
  },
  {
   "cell_type": "code",
   "execution_count": 18,
   "metadata": {},
   "outputs": [],
   "source": [
    "from sklearn import metrics\n",
    "from itertools import product\n",
    "from sklearn.metrics import accuracy_score\n",
    "import seaborn as sns\n",
    "from pandas import DataFrame\n",
    "\n",
    "def evaluate_classifier(classifier, x_test, y_test):\n",
    "    \"\"\" takes a trained classifier and reports classification results for coarse and fine categories \"\"\"\n",
    "    y_pred = classifier.predict(x_test)\n",
    "    stats = metrics.classification_report(y_test, y_pred)\n",
    "#         stats = metrics.classification_report(y_test, y_pred, digits=3, labels=classifier.classes)\n",
    "    print(make_bold('accuracy:'),accuracy_score(y_pred, y_test))\n",
    "    \n",
    "    print(stats)\n",
    "#     Only for coarse\n",
    "    if classifier.classes!=None:\n",
    "        print(make_bold('\\n\\naccuracy per tag'))\n",
    "        for tag in classifier.classes:\n",
    "            correct = _tag_accuracy(tag, y_pred, y_test)\n",
    "            print(f'{tag}: {correct}%')\n",
    "    \n",
    "def _tag_accuracy(tag, y_pred, y_test):\n",
    "    correct = 0\n",
    "    tag_counter = 0\n",
    "    for num in range(len(y_pred)):\n",
    "        if y_test[num] == tag:\n",
    "            tag_counter += 1\n",
    "            if y_test[num] == y_pred[num]:\n",
    "                correct += 1\n",
    "    return 0 if tag_counter==0 else (correct/tag_counter)*100\n",
    "            \n",
    "    \n",
    "def confusion_matrix(model, x_test, y_test):\n",
    "    \"\"\" prints a confusion matrix for the coarse level categories \"\"\"\n",
    "    y_pred = model.predict(x_test)\n",
    "    confusion_matrix = metrics.confusion_matrix(y_test, y_pred, labels=model.classes)\n",
    "    confusion_matrix = confusion_matrix.astype('float') / confusion_matrix.sum(axis=1)[:, np.newaxis]\n",
    "    cevaluate_classifieronfusion_df = DataFrame(confusion_matrix, index=model.classes, columns=model.classes)\n",
    "    fig1 = plt.figure('Confusion Matrix', [8,8])\n",
    "    ax1 = plt.axes()\n",
    "    ax1.set_title('normalized confusion matrix')\n",
    "    fig1 = sns.heatmap(cevaluate_classifieronfusion_df,annot=True,annot_kws={\"size\": 8})"
   ]
  },
  {
   "cell_type": "markdown",
   "metadata": {},
   "source": [
    "<a name=\"q1.5\"></a>\n",
    "<h3>Q1.5 Baseline Classifier</h3>\n",
    "\n",
    "Implement a baseline classifier for the 6 coarse labels using the heuristics described in the paper in Section 2.1\n",
    "(of the form – If a query starts with Who or Whom: type Human).\n",
    "<p/>\n",
    "\n",
    "Report on the accuracy, precision, recall, and F1 measure for all the coarse labels, and provide\n",
    "the confusion matrix for the 6 coarse labels.\n",
    "<p/>\n",
    "\n",
    "Analyze the errors by listing types of errors (false positives and false negatives for each of the 6 labels).\n"
   ]
  },
  {
   "cell_type": "markdown",
   "metadata": {},
   "source": [
    "We examined the data to see which words are common for each cayegory.<br>\n",
    "We've noticed that words like who-whom-whose are always in HUMAN course category. This obsservation is pretty obvious, but we did this kind of mapping also for the other coarse categories. Part of the words weren't so clear so we had to make some decisions, to which category they belong.<br>\n",
    "We also saw in the data that there are words that can help us even if they are not WH-questions. So, we decided to also use them for the predictions.<br>\n"
   ]
  },
  {
   "cell_type": "markdown",
   "metadata": {},
   "source": [
    "We chose ENTITY us the default category, so whenever we didn't know where the qestion belong, we decided it will be ENTITY.<br>\n",
    "For ABBREVIATION we searched for words that contain only capital letters, if we found any word like that in the question, we tagged it us ABBREVIATION.\n",
    "For LOCATION we decided to add words that indicate that the topic is location, and we did the same with NUMBER.<br>"
   ]
  },
  {
   "cell_type": "markdown",
   "metadata": {},
   "source": [
    "In addition, we used the top 20 words per label for example to put 'stand' , and 'abbreveation' under ABBR, 'country','world' and 'city' ander LOC and 'name' under entity and ect. \n"
   ]
  },
  {
   "cell_type": "markdown",
   "metadata": {},
   "source": [
    "Another observation we had and decided to consider it in the model was the differance between unigram and bigrams. A unigram appears alone can indicate one category, but when the same word appears with another right after it, it can be more clear that is actually another category. For example, 'how' can be description, but 'how many' is clearly a number. We added that fact to our baseline model.<br><br>"
   ]
  },
  {
   "cell_type": "code",
   "execution_count": 19,
   "metadata": {},
   "outputs": [],
   "source": [
    "class BaslineClassifier(question_classifier):\n",
    "    classes = ['ABBR', 'ENTY', 'DESC', 'HUM', 'LOC', 'NUM']\n",
    "    \n",
    "    map_class_unigram = {\n",
    "                 'HUM': ['who', 'whom'],\n",
    "                 'LOC': ['where', 'country', 'city', 'world'],\n",
    "                 'NUM': ['when','date','many','year','weight','hight','length','long','speed'],\n",
    "                 'DESC': ['how'],\n",
    "                 'ABBR': ['stand','abbreveation'],\n",
    "                 'ENTY': ['name']\n",
    "                }\n",
    "    \n",
    "    map_class_bigram = {\n",
    "                 'HUM': [],\n",
    "                 'LOC': [],\n",
    "                 'NUM': ['how many', 'how much', 'how long', 'how far', 'what year'],\n",
    "                 'DESC': ['what is', 'what are', 'what does', 'how do'],\n",
    "                 'ABBR': [],\n",
    "                 'ENTY': []\n",
    "                }\n",
    "\n",
    "    def __init__(self):\n",
    "        self.default_tag = 'ENTY' #this is a common tag, but does not have specific words associations\n",
    "        \n",
    "    def _check_tag(self, quest, words):\n",
    "        return any(word in quest for word in words)\n",
    "    \n",
    "    def _join_bigram(self, tokens):\n",
    "        return [\" \".join([tokens[i], tokens[i+1]]) for i in range(len(tokens)-1)]\n",
    "        \n",
    "    def _set_tag(self, question):\n",
    "        words_tokens = question.lower().split(\" \")\n",
    "        words_set = set(words_tokens)\n",
    "        for tag in self.classes:\n",
    "            if self._check_tag(words_set, self.map_class_unigram[tag]) or \\\n",
    "                self._check_tag(self._join_bigram(words_tokens), self.map_class_bigram[tag]):\n",
    "                return tag\n",
    "        upper = [word.isupper() for word in question.split(\" \")]\n",
    "        if any(upper):\n",
    "                return 'ABBR'\n",
    "        \n",
    "        return self.default_tag\n",
    "    \n",
    "    def fit(self):\n",
    "        pass\n",
    "    \n",
    "    def predict(self, X):\n",
    "        tagged_quests = []\n",
    "        for quest in X:\n",
    "            tagged_quests.append(self._set_tag(quest))\n",
    "        return tagged_quests"
   ]
  },
  {
   "cell_type": "code",
   "execution_count": 20,
   "metadata": {},
   "outputs": [],
   "source": [
    "def parseLine(line):\n",
    "    coarse = line.split(':')[0]\n",
    "    fine = line[(line.index(':') + 1): line.index(' ')]\n",
    "    question = line.split(' ')[1:]\n",
    "    return [coarse, fine,' '.join(question)]\n",
    "\n",
    "def readLines(filename):\n",
    "    lines = codecs.open(filename, \"r\",encoding='utf-8', errors='ignore').read().strip().split('\\n')\n",
    "    return [parseLine(line) for line in lines]"
   ]
  },
  {
   "cell_type": "code",
   "execution_count": 21,
   "metadata": {},
   "outputs": [],
   "source": [
    "def create_dataset(lines):\n",
    "    X = []\n",
    "    yc = []\n",
    "    yf = []\n",
    "    for lst in lines:\n",
    "        yc.append(lst[0])\n",
    "        yf.append(lst[1])\n",
    "        X.append(lst[2])\n",
    "    return X, yc, yf"
   ]
  },
  {
   "cell_type": "code",
   "execution_count": 22,
   "metadata": {},
   "outputs": [],
   "source": [
    "def findFiles(path): return glob.glob(path)\n",
    "\n",
    "def return_x_y(file_path):\n",
    "    X_data = []\n",
    "    y_coarse_labels = []\n",
    "    y_fine_labels = []\n",
    "    \n",
    "    # run over all files in train folder\n",
    "    for filename in findFiles(file_path):\n",
    "        # split the ducument into lines\n",
    "        lines = readLines(filename)\n",
    "        X, yc, yf = create_dataset(lines)\n",
    "        X_data += X\n",
    "        y_coarse_labels += yc\n",
    "        y_fine_labels += yf\n",
    "    return X_data, y_coarse_labels, y_fine_labels"
   ]
  },
  {
   "cell_type": "code",
   "execution_count": 23,
   "metadata": {},
   "outputs": [],
   "source": [
    "base = BaslineClassifier()"
   ]
  },
  {
   "cell_type": "code",
   "execution_count": 24,
   "metadata": {},
   "outputs": [],
   "source": [
    "X_data, y_coarse_labels, y_fine_labels = return_x_y('data/questions/train/*.txt')"
   ]
  },
  {
   "cell_type": "code",
   "execution_count": 25,
   "metadata": {},
   "outputs": [],
   "source": [
    "X_data_test, y_coarse_test, y_fine_test = return_x_y('data/questions/test/TREC_10.label.txt')"
   ]
  },
  {
   "cell_type": "code",
   "execution_count": 26,
   "metadata": {},
   "outputs": [],
   "source": [
    "y_pred = base.predict(X_data_test)"
   ]
  },
  {
   "cell_type": "markdown",
   "metadata": {},
   "source": [
    "Evalutaion of our baseline classifer:"
   ]
  },
  {
   "cell_type": "code",
   "execution_count": 27,
   "metadata": {},
   "outputs": [
    {
     "name": "stdout",
     "output_type": "stream",
     "text": [
      "\u001b[1mBase-line classifier evalutaion:\u001b[0m\n",
      "\u001b[1maccuracy:\u001b[0m 0.62\n",
      "              precision    recall  f1-score   support\n",
      "\n",
      "        ABBR       0.42      0.56      0.48         9\n",
      "        DESC       0.49      0.96      0.65       138\n",
      "        ENTY       0.52      0.50      0.51        94\n",
      "         HUM       1.00      0.72      0.84        65\n",
      "         LOC       0.95      0.46      0.62        81\n",
      "         NUM       0.95      0.37      0.54       113\n",
      "\n",
      "    accuracy                           0.62       500\n",
      "   macro avg       0.72      0.59      0.60       500\n",
      "weighted avg       0.74      0.62      0.61       500\n",
      "\n",
      "\u001b[1m\n",
      "\n",
      "accuracy per tag\u001b[0m\n",
      "ABBR: 55.55555555555556%\n",
      "ENTY: 50.0%\n",
      "DESC: 95.65217391304348%\n",
      "HUM: 72.3076923076923%\n",
      "LOC: 45.67901234567901%\n",
      "NUM: 37.16814159292036%\n"
     ]
    }
   ],
   "source": [
    "print(make_bold(\"Base-line classifier evalutaion:\"))\n",
    "evaluate_classifier(base, X_data_test, y_coarse_test)"
   ]
  },
  {
   "cell_type": "code",
   "execution_count": 28,
   "metadata": {
    "scrolled": true
   },
   "outputs": [
    {
     "data": {
      "image/png": "[encoded data removed]",
      "text/plain": [
       "<Figure size 576x576 with 2 Axes>"
      ]
     },
     "metadata": {
      "needs_background": "light"
     },
     "output_type": "display_data"
    }
   ],
   "source": [
    "confusion_matrix(base, X_data_test, y_coarse_test)"
   ]
  },
  {
   "cell_type": "markdown",
   "metadata": {},
   "source": [
    "We can tell that NUM was considered Desc for more that half of the time ! even more than it was classify as a NUM"
   ]
  },
  {
   "cell_type": "code",
   "execution_count": 29,
   "metadata": {},
   "outputs": [],
   "source": [
    "def find_errors(x_test,y_pred,y_test):\n",
    "    classes = ['ABBR', 'ENTY', 'DESC', 'HUM', 'LOC', 'NUM']\n",
    "    for tag in classes:\n",
    "        print(make_bold(f'Errors in label {tag}:'))\n",
    "        did_not_predict_tag(x_test,y_pred,y_test,tag)\n",
    "        predict_tag_wrognly(x_test,y_pred,y_test,tag)\n",
    "        print('\\n')\n",
    "    \n",
    "def did_not_predict_tag(x_test,y_pred,y_test,tag):\n",
    "    for num in range(len(y_pred)):\n",
    "        if y_test[num] == tag and y_pred[num]!=tag:\n",
    "            print(make_underline(\"quesion:\"),f'{x_test[num]} : is labeled {y_test[num]} but was consideresd as {y_pred[num]}')\n",
    "            return\n",
    "def predict_tag_wrognly(x_test,y_pred,y_test,tag):\n",
    "    for num in range(len(y_pred)):\n",
    "        if y_pred[num] == tag and y_test[num]!=tag:\n",
    "            print(make_underline(\"quesion:\"),f'{x_test[num]} : is labeled {y_test[num]} but was consideresd as {y_pred[num]}')\n",
    "            return"
   ]
  },
  {
   "cell_type": "code",
   "execution_count": 308,
   "metadata": {},
   "outputs": [
    {
     "name": "stdout",
     "output_type": "stream",
     "text": [
      "\u001b[1mErrors in label ABBR:\u001b[0m\n",
      "\u001b[4mquesion:\u001b[0m What is the abbreviation for Texas ? : is labeled ABBR but was consideresd as DESC\n",
      "\u001b[4mquesion:\u001b[0m What river in the US is known as the Big Muddy ? : is labeled LOC but was consideresd as ABBR\n",
      "\n",
      "\n",
      "\u001b[1mErrors in label ENTY:\u001b[0m\n",
      "\u001b[4mquesion:\u001b[0m What is Australia 's national flower ? : is labeled ENTY but was consideresd as DESC\n",
      "\u001b[4mquesion:\u001b[0m What county is Modesto , California in ? : is labeled LOC but was consideresd as ENTY\n",
      "\n",
      "\n",
      "\u001b[1mErrors in label DESC:\u001b[0m\n",
      "\u001b[4mquesion:\u001b[0m Why does the moon turn orange ? : is labeled DESC but was consideresd as ENTY\n",
      "\u001b[4mquesion:\u001b[0m How far is it from Denver to Aspen ? : is labeled NUM but was consideresd as DESC\n",
      "\n",
      "\n",
      "\u001b[1mErrors in label HUM:\u001b[0m\n",
      "\u001b[4mquesion:\u001b[0m George Bush purchased a small interest in which baseball team ? : is labeled HUM but was consideresd as ENTY\n",
      "\n",
      "\n",
      "\u001b[1mErrors in label LOC:\u001b[0m\n",
      "\u001b[4mquesion:\u001b[0m What county is Modesto , California in ? : is labeled LOC but was consideresd as ENTY\n",
      "\u001b[4mquesion:\u001b[0m What was the last year that the Chicago Cubs won the World Series ? : is labeled NUM but was consideresd as LOC\n",
      "\n",
      "\n",
      "\u001b[1mErrors in label NUM:\u001b[0m\n",
      "\u001b[4mquesion:\u001b[0m How far is it from Denver to Aspen ? : is labeled NUM but was consideresd as DESC\n",
      "\u001b[4mquesion:\u001b[0m What state has the least amount of rain per year ? : is labeled LOC but was consideresd as NUM\n",
      "\n",
      "\n"
     ]
    }
   ],
   "source": [
    "find_errors(X_data_test,y_pred,y_coarse_test)"
   ]
  },
  {
   "cell_type": "markdown",
   "metadata": {},
   "source": [
    "<a name=\"q1.6\"></a>\n",
    "<h3>Q1.6 Features-based Classifier</h3>\n",
    "\n",
    "Implement a feature-based classifier for the 6 coarse labels using the types of features described in the paper Section 3.2: words, POS tags, NER tags.  \n",
    "<p/>\n",
    "\n",
    "Use the <a href=\"https://spacy.io/usage/spacy-101\">spacy</a> library to perform pre-processing of the questions - including POS tagging and Named Entity Recognition and Noun Chunks detection.  Spacy comes with excellent pre-trained models for English and other languages.\n",
    "Installing Spacy requires the following steps (see <a href=\"https://spacy.io/usage/spacy-101#annotations-ner\">spacy documentation</a>):\n"
   ]
  },
  {
   "cell_type": "code",
   "execution_count": 35,
   "metadata": {
    "jupyter": {
     "outputs_hidden": true
    }
   },
   "outputs": [
    {
     "name": "stdout",
     "output_type": "stream",
     "text": [
      "Requirement already satisfied: spacy in c:\\users\\shani\\miniconda3\\envs\\nlp21\\lib\\site-packages (2.3.5)\n",
      "Requirement already satisfied: tqdm<5.0.0,>=4.38.0 in c:\\users\\shani\\miniconda3\\envs\\nlp21\\lib\\site-packages (from spacy) (4.49.0)\n",
      "Requirement already satisfied: catalogue<1.1.0,>=0.0.7 in c:\\users\\shani\\miniconda3\\envs\\nlp21\\lib\\site-packages (from spacy) (1.0.0)\n",
      "Requirement already satisfied: setuptools in c:\\users\\shani\\miniconda3\\envs\\nlp21\\lib\\site-packages (from spacy) (50.3.1.post20201107)\n",
      "Requirement already satisfied: blis<0.8.0,>=0.4.0 in c:\\users\\shani\\miniconda3\\envs\\nlp21\\lib\\site-packages (from spacy) (0.7.4)\n",
      "Requirement already satisfied: cymem<2.1.0,>=2.0.2 in c:\\users\\shani\\miniconda3\\envs\\nlp21\\lib\\site-packages (from spacy) (2.0.5)\n",
      "Requirement already satisfied: requests<3.0.0,>=2.13.0 in c:\\users\\shani\\miniconda3\\envs\\nlp21\\lib\\site-packages (from spacy) (2.24.0)\n",
      "Requirement already satisfied: numpy>=1.15.0 in c:\\users\\shani\\miniconda3\\envs\\nlp21\\lib\\site-packages (from spacy) (1.19.2)\n",
      "Requirement already satisfied: murmurhash<1.1.0,>=0.28.0 in c:\\users\\shani\\miniconda3\\envs\\nlp21\\lib\\site-packages (from spacy) (1.0.5)\n",
      "Requirement already satisfied: plac<1.2.0,>=0.9.6 in c:\\users\\shani\\miniconda3\\envs\\nlp21\\lib\\site-packages (from spacy) (1.1.3)\n",
      "Requirement already satisfied: preshed<3.1.0,>=3.0.2 in c:\\users\\shani\\miniconda3\\envs\\nlp21\\lib\\site-packages (from spacy) (3.0.5)\n",
      "Requirement already satisfied: srsly<1.1.0,>=1.0.2 in c:\\users\\shani\\miniconda3\\envs\\nlp21\\lib\\site-packages (from spacy) (1.0.5)\n",
      "Requirement already satisfied: thinc<7.5.0,>=7.4.1 in c:\\users\\shani\\miniconda3\\envs\\nlp21\\lib\\site-packages (from spacy) (7.4.5)\n",
      "Requirement already satisfied: wasabi<1.1.0,>=0.4.0 in c:\\users\\shani\\miniconda3\\envs\\nlp21\\lib\\site-packages (from spacy) (0.8.0)\n",
      "Requirement already satisfied: certifi>=2017.4.17 in c:\\users\\shani\\miniconda3\\envs\\nlp21\\lib\\site-packages (from requests<3.0.0,>=2.13.0->spacy) (2020.12.5)\n",
      "Requirement already satisfied: chardet<4,>=3.0.2 in c:\\users\\shani\\miniconda3\\envs\\nlp21\\lib\\site-packages (from requests<3.0.0,>=2.13.0->spacy) (3.0.4)\n",
      "Requirement already satisfied: urllib3!=1.25.0,!=1.25.1,<1.26,>=1.21.1 in c:\\users\\shani\\miniconda3\\envs\\nlp21\\lib\\site-packages (from requests<3.0.0,>=2.13.0->spacy) (1.25.11)\n",
      "Requirement already satisfied: idna<3,>=2.5 in c:\\users\\shani\\miniconda3\\envs\\nlp21\\lib\\site-packages (from requests<3.0.0,>=2.13.0->spacy) (2.10)\n",
      "Requirement already satisfied: en_core_web_sm==2.3.1 from https://github.com/explosion/spacy-models/releases/download/en_core_web_sm-2.3.1/en_core_web_sm-2.3.1.tar.gz#egg=en_core_web_sm==2.3.1 in c:\\users\\shani\\miniconda3\\envs\\nlp21\\lib\\site-packages (2.3.1)\n",
      "Requirement already satisfied: spacy<2.4.0,>=2.3.0 in c:\\users\\shani\\miniconda3\\envs\\nlp21\\lib\\site-packages (from en_core_web_sm==2.3.1) (2.3.5)\n",
      "Requirement already satisfied: tqdm<5.0.0,>=4.38.0 in c:\\users\\shani\\miniconda3\\envs\\nlp21\\lib\\site-packages (from spacy<2.4.0,>=2.3.0->en_core_web_sm==2.3.1) (4.49.0)\n",
      "Requirement already satisfied: murmurhash<1.1.0,>=0.28.0 in c:\\users\\shani\\miniconda3\\envs\\nlp21\\lib\\site-packages (from spacy<2.4.0,>=2.3.0->en_core_web_sm==2.3.1) (1.0.5)\n",
      "Requirement already satisfied: wasabi<1.1.0,>=0.4.0 in c:\\users\\shani\\miniconda3\\envs\\nlp21\\lib\\site-packages (from spacy<2.4.0,>=2.3.0->en_core_web_sm==2.3.1) (0.8.0)\n",
      "Requirement already satisfied: requests<3.0.0,>=2.13.0 in c:\\users\\shani\\miniconda3\\envs\\nlp21\\lib\\site-packages (from spacy<2.4.0,>=2.3.0->en_core_web_sm==2.3.1) (2.24.0)\n",
      "Requirement already satisfied: catalogue<1.1.0,>=0.0.7 in c:\\users\\shani\\miniconda3\\envs\\nlp21\\lib\\site-packages (from spacy<2.4.0,>=2.3.0->en_core_web_sm==2.3.1) (1.0.0)\n",
      "Requirement already satisfied: srsly<1.1.0,>=1.0.2 in c:\\users\\shani\\miniconda3\\envs\\nlp21\\lib\\site-packages (from spacy<2.4.0,>=2.3.0->en_core_web_sm==2.3.1) (1.0.5)\n",
      "Requirement already satisfied: numpy>=1.15.0 in c:\\users\\shani\\miniconda3\\envs\\nlp21\\lib\\site-packages (from spacy<2.4.0,>=2.3.0->en_core_web_sm==2.3.1) (1.19.2)\n",
      "Requirement already satisfied: blis<0.8.0,>=0.4.0 in c:\\users\\shani\\miniconda3\\envs\\nlp21\\lib\\site-packages (from spacy<2.4.0,>=2.3.0->en_core_web_sm==2.3.1) (0.7.4)\n",
      "Requirement already satisfied: preshed<3.1.0,>=3.0.2 in c:\\users\\shani\\miniconda3\\envs\\nlp21\\lib\\site-packages (from spacy<2.4.0,>=2.3.0->en_core_web_sm==2.3.1) (3.0.5)\n",
      "Requirement already satisfied: plac<1.2.0,>=0.9.6 in c:\\users\\shani\\miniconda3\\envs\\nlp21\\lib\\site-packages (from spacy<2.4.0,>=2.3.0->en_core_web_sm==2.3.1) (1.1.3)\n",
      "Requirement already satisfied: setuptools in c:\\users\\shani\\miniconda3\\envs\\nlp21\\lib\\site-packages (from spacy<2.4.0,>=2.3.0->en_core_web_sm==2.3.1) (50.3.1.post20201107)\n",
      "Requirement already satisfied: thinc<7.5.0,>=7.4.1 in c:\\users\\shani\\miniconda3\\envs\\nlp21\\lib\\site-packages (from spacy<2.4.0,>=2.3.0->en_core_web_sm==2.3.1) (7.4.5)\n",
      "Requirement already satisfied: cymem<2.1.0,>=2.0.2 in c:\\users\\shani\\miniconda3\\envs\\nlp21\\lib\\site-packages (from spacy<2.4.0,>=2.3.0->en_core_web_sm==2.3.1) (2.0.5)\n",
      "Requirement already satisfied: idna<3,>=2.5 in c:\\users\\shani\\miniconda3\\envs\\nlp21\\lib\\site-packages (from requests<3.0.0,>=2.13.0->spacy<2.4.0,>=2.3.0->en_core_web_sm==2.3.1) (2.10)\n",
      "Requirement already satisfied: chardet<4,>=3.0.2 in c:\\users\\shani\\miniconda3\\envs\\nlp21\\lib\\site-packages (from requests<3.0.0,>=2.13.0->spacy<2.4.0,>=2.3.0->en_core_web_sm==2.3.1) (3.0.4)\n",
      "Requirement already satisfied: certifi>=2017.4.17 in c:\\users\\shani\\miniconda3\\envs\\nlp21\\lib\\site-packages (from requests<3.0.0,>=2.13.0->spacy<2.4.0,>=2.3.0->en_core_web_sm==2.3.1) (2020.12.5)\n",
      "Requirement already satisfied: urllib3!=1.25.0,!=1.25.1,<1.26,>=1.21.1 in c:\\users\\shani\\miniconda3\\envs\\nlp21\\lib\\site-packages (from requests<3.0.0,>=2.13.0->spacy<2.4.0,>=2.3.0->en_core_web_sm==2.3.1) (1.25.11)\n",
      "[+] Download and installation successful\n",
      "You can now load the model via spacy.load('en_core_web_sm')\n"
     ]
    }
   ],
   "source": [
    "# This installs the Spacy library (13MB)\n",
    "!pip install spacy\n",
    "# This downloads pre-trained models for POS tagging / NER / Noun chunks in English (34MB)\n",
    "!python -m spacy download en_core_web_sm"
   ]
  },
  {
   "cell_type": "code",
   "execution_count": 30,
   "metadata": {},
   "outputs": [
    {
     "name": "stdout",
     "output_type": "stream",
     "text": [
      "(Apple, U.K., $1 billion)\n",
      "ORG\n"
     ]
    }
   ],
   "source": [
    "import spacy\n",
    "nlp = spacy.load('en_core_web_sm')\n",
    "doc = nlp('Apple is looking at buying U.K. startup for $1 billion')\n",
    "print(doc.ents)\n",
    "print(doc.ents[0].label_)"
   ]
  },
  {
   "cell_type": "markdown",
   "metadata": {},
   "source": [
    "Invoking the 'nlp()' function of spacy performs a set of analyses on the text, including: sentence separation, tokenization, lemmatization, parts of speech tagging, \n",
    "Noun-phrase chunking, named entity recognition and syntactic parsing.  Information about these analyses is retrieved using the spacy document properties.\n",
    "\n",
    "As indicated in the paper, we want to extract the following information as features for the task of question classification:\n",
    "<ul>\n",
    "  <li>Tokens</li>\n",
    "  <li>Lemmas</li>\n",
    "  <li>Parts of speech tags</li>\n",
    "  <li>Noun phrase chunks</li>\n",
    "  <li>Named entities</li>\n",
    "</ul>\n",
    "\n",
    "Here are starting points to learn how to extract this information from the nlp analysis:"
   ]
  },
  {
   "cell_type": "code",
   "execution_count": 31,
   "metadata": {},
   "outputs": [
    {
     "name": "stdout",
     "output_type": "stream",
     "text": [
      "Token: Apple - Lemma: Apple - POS: PROPN\n",
      "Token: is - Lemma: be - POS: AUX\n",
      "Token: looking - Lemma: look - POS: VERB\n",
      "Token: at - Lemma: at - POS: ADP\n",
      "Token: buying - Lemma: buy - POS: VERB\n",
      "Token: U.K. - Lemma: U.K. - POS: PROPN\n",
      "Token: startup - Lemma: startup - POS: NOUN\n",
      "Token: for - Lemma: for - POS: ADP\n",
      "Token: $ - Lemma: $ - POS: SYM\n",
      "Token: 1 - Lemma: 1 - POS: NUM\n",
      "Token: billion - Lemma: billion - POS: NUM\n"
     ]
    }
   ],
   "source": [
    "import spacy\n",
    "nlp = spacy.load('en_core_web_sm')\n",
    "doc = nlp('Apple is looking at buying U.K. startup for $1 billion')\n",
    "  \n",
    "# Token level features retrieved by Spacy: token, lemma, POS\n",
    "for x in doc:   # Each x is a Token\n",
    "    print(f\"Token: {x} - Lemma: {x.lemma_} - POS: {x.pos_}\")"
   ]
  },
  {
   "cell_type": "code",
   "execution_count": 32,
   "metadata": {},
   "outputs": [
    {
     "name": "stdout",
     "output_type": "stream",
     "text": [
      "(Apple, U.K., $1 billion)\n",
      "Apple - 0 - 1 - ORG\n",
      "U.K. - 5 - 6 - GPE\n",
      "$1 billion - 8 - 11 - MONEY\n"
     ]
    }
   ],
   "source": [
    "# Span level features retrieved by Spacy: named entities, start (0-based index), end (index just after the span), category\n",
    "print(doc.ents)\n",
    "for e in doc.ents: \n",
    "    print(f\"{e} - {e.start} - {e.end} - {e.label_}\")"
   ]
  },
  {
   "cell_type": "code",
   "execution_count": 33,
   "metadata": {},
   "outputs": [
    {
     "name": "stdout",
     "output_type": "stream",
     "text": [
      "[Apple, U.K. startup]\n",
      "0 - 1 - Apple\n",
      "5 - 7 - startup\n"
     ]
    }
   ],
   "source": [
    "# Span level features retrieved by Spacy: noun chunks\n",
    "print(list(doc.noun_chunks))\n",
    "for c in doc.noun_chunks: \n",
    "    print(f\"{c.start} - {c.end} - {c.root}\")"
   ]
  },
  {
   "cell_type": "markdown",
   "metadata": {},
   "source": [
    "The paper does not explicitly indicate how to encode the features it lists and is not precise about the features named `related words` (words which are usually associated with a specific type of questions).  For example:\n",
    "<ol>\n",
    "<li>Word features can be encoded in different ways: noise words filtered or not, with or without lemmatization, with or without case normalization (all lower-case).  \n",
    "<li>POS features can be encoded in different ways: as a bag of POS-tags, or associated with the word in a bag-of-tagged words such as 'Apple/PROPN' \n",
    "<li>Chunks can be encoded as a bag of chunk-roots \n",
    "<li>Examples of \"related words\" per category are provided for a few categories: <a href=\"https://cogcomp.seas.upenn.edu/Data/QA/QC/lists/prof\">profession</a>,\n",
    "    <a href=\"https://cogcomp.seas.upenn.edu/Data/QA/QC/lists/mount\">mountains</a> and <a href=\"https://cogcomp.seas.upenn.edu/Data/QA/QC/lists/food\">food</a>.\n",
    "  You should learn the related words list from the training dataset by detecting words which have a high chi-square\n",
    "value with each category.  Read in <a href=\"http://scikit-learn.org/stable/modules/generated/sklearn.feature_selection.chi2.html\">sklearn.feature_selection.chi2</a> for a discussion of how such words can be efficiently computed using scikit-learn.\n",
    "</li>\n",
    "</ol>\n"
   ]
  },
  {
   "cell_type": "markdown",
   "metadata": {},
   "source": [
    "<a name=\"q1.6.1\"></a>\n",
    "<h4>Q1.6.1 Feature Extraction</h4>\n",
    "\n",
    "Discuss a priori what are good ways to encode these features (lemma, POS, NER, chunk, related words) - provide examples that explain your intuition.\n",
    "<p/>\n",
    "Implement a feature extraction function that turns a question into a feature vector appropriate for the scikit-learn classifiers.\n",
    "Adopt the example shown in the scikit-learn documentation: \n",
    "<a href=\"https://scikit-learn.org/stable/modules/feature_extraction.html#loading-features-from-dicts\">loading features from dicts</a>."
   ]
  },
  {
   "cell_type": "markdown",
   "metadata": {},
   "source": [
    "#### Ways to encode words:\n",
    "\n",
    "Word features can be encoded in different ways: noise words filtered or not, with or without lemmatization, with or without case normalization (all lower-case), we would like to find a way to encode the words and recieve the best data we can in order to train a model on it. We can ignore capital letters since the extra information they give us is not very helpfull for this kind of task. Also, there are repeated words like 'the', 'is', and so on, we don't want to give to much importance to these kind of words because they appear in the documents a lot more than the rest. So, we will take the lemma of each word, and than use tf*idf on it."
   ]
  },
  {
   "cell_type": "markdown",
   "metadata": {},
   "source": [
    "#### Ways to encode POS:\n",
    "POS features can be encoded in different ways: as a bag of POS-tags, or associated with the word in a bag-of-tagged words such as 'Apple/PROPN'. We would like to reduce the connection between features, so we will encode the data to bag-of-POS."
   ]
  },
  {
   "cell_type": "markdown",
   "metadata": {},
   "source": [
    "#### Ways to encode Chunks:\n",
    "Chunks can be encoded as a bag of chunk-roots. We will use bag-of-chunks-root, meaning we will take the root of each chunk and work with it as feature.."
   ]
  },
  {
   "cell_type": "markdown",
   "metadata": {},
   "source": [
    "#### Ways to encode NER:\n",
    "We will use bag-of-NER."
   ]
  },
  {
   "cell_type": "markdown",
   "metadata": {},
   "source": [
    "#### Ways to encode related words:\n",
    "Related words can be \"learned\" from the training dataset by detecting words which have a high chi-square value with each class. We will extract bag of words as described in Word features, than perform a chi2 test to the words with height chi2 score. This will show us words that are very related to specific classes.\n",
    "<br><br>\n"
   ]
  },
  {
   "cell_type": "code",
   "execution_count": 34,
   "metadata": {},
   "outputs": [],
   "source": [
    "def get_lemmas(question):\n",
    "    return \" \".join([word.lemma_ for word in question])\n",
    "\n",
    "def get_nchunks(question):\n",
    "    return \" \".join([chunk.root.text for chunk in question.noun_chunks])\n",
    "\n",
    "def get_ner(question):\n",
    "    return \" \".join([ent.label_ for ent in question.ents])\n",
    "\n",
    "def get_pos(question):\n",
    "    return \" \".join([word.pos_ for word in question])\n"
   ]
  },
  {
   "cell_type": "code",
   "execution_count": 35,
   "metadata": {},
   "outputs": [],
   "source": [
    "def make_features_dict(data):\n",
    "    featues_dict = {\n",
    "        'lemma': [], \n",
    "        'noun-chunks': [], \n",
    "        'name-entities': [],\n",
    "        'pos': []}\n",
    "    # create spacy nlp object from list\n",
    "    questions = create_features_data(data)\n",
    "\n",
    "    for index, question in enumerate(questions):\n",
    "        featues_dict['lemma'].append(get_lemmas(question)) \n",
    "        featues_dict['noun-chunks'].append(get_nchunks(question))\n",
    "        featues_dict['name-entities'].append(get_ner(question))\n",
    "        featues_dict['pos'].append(get_pos(question))\n",
    "\n",
    "    return featues_dict "
   ]
  },
  {
   "cell_type": "code",
   "execution_count": 36,
   "metadata": {},
   "outputs": [],
   "source": [
    "from scipy.sparse import  hstack\n",
    "from sklearn.feature_extraction.text import CountVectorizer\n",
    "def extract_features(train_data,test_data):\n",
    "#     extract train features\n",
    "    dictf=make_features_dict(train_data)\n",
    "    count_vec_ner = CountVectorizer(ngram_range=(1, 2)).fit(dictf['name-entities'])\n",
    "    ner_ft = count_vec_ner.transform(dictf['name-entities'])\n",
    "    count_vec_lemma = CountVectorizer(ngram_range=(1, 2)).fit(dictf['lemma'])\n",
    "    lemma_ft = count_vec_lemma.transform(dictf['lemma'])\n",
    "    count_vec_chunk = CountVectorizer(ngram_range=(1, 2)).fit(dictf['noun-chunks'])\n",
    "    chunk_ft = count_vec_chunk.transform(dictf['noun-chunks'])\n",
    "    count_vec_pos = CountVectorizer(ngram_range=(1, 2)).fit(dictf['pos'])\n",
    "    pos_ft = count_vec_pos.transform(dictf['pos'])\n",
    "    train_features = hstack([ner_ft, lemma_ft, chunk_ft,pos_ft])\n",
    "    \n",
    "#     extract test features\n",
    "    dictf_test=make_features_dict(test_data)\n",
    "    ner_test_ft = count_vec_ner.transform(dictf_test['name-entities'])\n",
    "    lemma_test_ft = count_vec_lemma.transform(dictf_test['lemma'])\n",
    "    chunk_test_ft = count_vec_chunk.transform(dictf_test['noun-chunks'])\n",
    "    post_test_ft = count_vec_pos.transform(dictf_test['pos'])\n",
    "    test_features =hstack([ner_test_ft, lemma_test_ft, chunk_test_ft,post_test_ft])\n",
    "    \n",
    "    return train_features.tocsr(),test_features.tocsr()\n",
    "\n"
   ]
  },
  {
   "cell_type": "markdown",
   "metadata": {},
   "source": [
    "<a name=\"q1.6.2\"></a>\n",
    "<h4>Q1.6.2 Train Models</h4>\n",
    "\n",
    "Train scikit-learn based classifiers for:\n",
    "<ol>\n",
    "<li>Coarse labels\n",
    "<li>All labels as a flat classifier\n",
    "<li>A hierarchical classifier which predicts the fine-grained labels given the coarse label as proposed in the paper.  Implement this as a two-step procedure - run the coarse-label classifier, then a second level classifier which takes the prediction of the first classifier as input (one finer classifier per coarse category).\n",
    "</ol>\n",
    "\n",
    "For each of the three classifiers, report:\n",
    "<ol>\n",
    "<li>Accuracy, Precision, Recall, F-measure per label and confusion matrix.\n",
    "<li>Provide examples of prediction errors (positive and negative).\n",
    "<li>Discuss the most ambiguous label pairs (identified in the confusion matrix) and discuss whether the features you have used provide sufficient information to disambiguate the cases.\n",
    "</ol>\n",
    "\n",
    "You should experiment with different classifiers from those illustrated in the\n",
    "<a href=\"https://scikit-learn.org/stable/auto_examples/text/plot_document_classification_20newsgroups.html\">\n",
    "Classification of text documents using sparse features</a> example.\n",
    "<p/>"
   ]
  },
  {
   "cell_type": "code",
   "execution_count": 42,
   "metadata": {},
   "outputs": [],
   "source": [
    "def create_features_data(X):\n",
    "    lst = []\n",
    "    for x in X:\n",
    "        lst.append(nlp(x))\n",
    "    return tuple(lst)"
   ]
  },
  {
   "cell_type": "code",
   "execution_count": 60,
   "metadata": {},
   "outputs": [],
   "source": [
    "class coarseLabelClassifier(question_classifier):\n",
    "    def __init__(self, clf,classes):\n",
    "        self.classes=classes\n",
    "        self.clf = clf\n",
    "\n",
    "    def fit(self, X, y):\n",
    "        self.clf.fit(X, y)\n",
    "            \n",
    "    def predict(self, X):\n",
    "        return self.clf.predict(X)"
   ]
  },
  {
   "cell_type": "code",
   "execution_count": 58,
   "metadata": {},
   "outputs": [],
   "source": [
    "class fineLabelClassifier(question_classifier):   \n",
    "    def __init__(self, clf):\n",
    "        self.clf = clf\n",
    "        \n",
    "    def fit(self, X, y):\n",
    "        self.clf.fit(X, y)\n",
    "            \n",
    "    def predict(self, X):\n",
    "        self.clf.predict(X)\n",
    "        "
   ]
  },
  {
   "cell_type": "code",
   "execution_count": 98,
   "metadata": {},
   "outputs": [],
   "source": [
    "def calssify(train_features,y_train,test_features,y_test,quest_clf,name='classier'):\n",
    "    quest_clf.fit(train_features, y_train)\n",
    "    prediction=quest_clf.predict(test_features)\n",
    "    stats = metrics.precision_score(y_test, prediction,zero_division=1,average='micro')\n",
    "    print(make_bold(f'{name}:\\n'),f'acc:{stats*100}%')\n",
    "    return stats "
   ]
  },
  {
   "cell_type": "code",
   "execution_count": 101,
   "metadata": {},
   "outputs": [],
   "source": [
    "from sklearn.linear_model import RidgeClassifier\n",
    "from sklearn.linear_model import Perceptron\n",
    "from sklearn.linear_model import PassiveAggressiveClassifier\n",
    "from sklearn.neighbors import KNeighborsClassifier\n",
    "from sklearn.ensemble import RandomForestClassifier\n",
    "from sklearn.metrics import precision_score\n",
    "import operator\n",
    "\n",
    "classifiers = [(RidgeClassifier(tol=1e-2, solver=\"sparse_cg\"), \"Ridge Classifier\"),\n",
    "    (Perceptron(max_iter=50), \"Perceptron\"),\n",
    "    (PassiveAggressiveClassifier(max_iter=50),\n",
    "     \"Passive-Aggressive\"),\n",
    "    (KNeighborsClassifier(n_neighbors=10), \"kNN\"),\n",
    "    (RandomForestClassifier(), \"Random forest\")]\n",
    "\n",
    "def find_best_classifier(X_train,y_train,X_test,y_test,clf_type):\n",
    "    results={}\n",
    "    train_features,test_features=extract_features(X_train,X_test)\n",
    "    for clf,name in classifiers:\n",
    "        if clf_type=='fine':\n",
    "            fine_categories=pd.unique(df['fine'])\n",
    "            print(make_bold(\"Choosing best fine classifier\"))\n",
    "            quest_clf=coarseLabelClassifier(clf,fine_categories)  \n",
    "            results[name]=calssify(train_features,y_train,test_features,y_test,quest_clf,name)\n",
    "        else: #coarse\n",
    "            print(make_bold(\"Choosing best Coarse classifier\"))\n",
    "            coarse_categories = [\"ABBREVIATION\", \"ENTITY\", \"DESCRIPTION\", \"HUMAN\", \"LOCATION\", \"NUMERIC VALUE\"]\n",
    "            quest_clf=coarseLabelClassifier(clf,coarse_categories)\n",
    "            results[name]=calssify(train_features,y_train,test_features,y_test,quest_clf,name)\n",
    "    print(results)\n",
    "    return max(results.items(), key=operator.itemgetter(1))[0]\n",
    "        "
   ]
  },
  {
   "cell_type": "code",
   "execution_count": 75,
   "metadata": {
    "scrolled": false
   },
   "outputs": [
    {
     "name": "stdout",
     "output_type": "stream",
     "text": [
      "\u001b[1mChoosing best Coarse classifier\u001b[0m\n",
      "\u001b[1mRidge Classifier:\n",
      "\u001b[0m acc:90.2%\n",
      "\u001b[1mChoosing best Coarse classifier\u001b[0m\n",
      "\u001b[1mPerceptron:\n",
      "\u001b[0m acc:89.8%\n",
      "\u001b[1mChoosing best Coarse classifier\u001b[0m\n",
      "\u001b[1mPassive-Aggressive:\n",
      "\u001b[0m acc:90.4%\n",
      "\u001b[1mChoosing best Coarse classifier\u001b[0m\n",
      "\u001b[1mkNN:\n",
      "\u001b[0m acc:74.6%\n",
      "\u001b[1mChoosing best Coarse classifier\u001b[0m\n",
      "\u001b[1mRandom forest:\n",
      "\u001b[0m acc:86.8%\n",
      "{'Ridge Classifier': 0.902, 'Perceptron': 0.898, 'Passive-Aggressive': 0.904, 'kNN': 0.746, 'Random forest': 0.868}\n"
     ]
    }
   ],
   "source": [
    "best_coarse_clf=find_best_classifier(X_data, y_coarse_labels,X_data_test, y_coarse_test,'coarse')"
   ]
  },
  {
   "cell_type": "code",
   "execution_count": 107,
   "metadata": {},
   "outputs": [
    {
     "data": {
      "text/plain": [
       "'Passive-Aggressive'"
      ]
     },
     "execution_count": 107,
     "metadata": {},
     "output_type": "execute_result"
    }
   ],
   "source": [
    "best_coarse_clf"
   ]
  },
  {
   "cell_type": "code",
   "execution_count": 102,
   "metadata": {
    "scrolled": true
   },
   "outputs": [
    {
     "name": "stdout",
     "output_type": "stream",
     "text": [
      "\u001b[1mChoosing best fine classifier\u001b[0m\n",
      "\u001b[1mRidge Classifier:\n",
      "\u001b[0m acc:83.6%\n",
      "\u001b[1mChoosing best fine classifier\u001b[0m\n",
      "\u001b[1mPerceptron:\n",
      "\u001b[0m acc:81.39999999999999%\n",
      "\u001b[1mChoosing best fine classifier\u001b[0m\n",
      "\u001b[1mPassive-Aggressive:\n",
      "\u001b[0m acc:86.2%\n",
      "\u001b[1mChoosing best fine classifier\u001b[0m\n",
      "\u001b[1mkNN:\n",
      "\u001b[0m acc:63.6%\n",
      "\u001b[1mChoosing best fine classifier\u001b[0m\n",
      "\u001b[1mRandom forest:\n",
      "\u001b[0m acc:77.0%\n",
      "{'Ridge Classifier': 0.836, 'Perceptron': 0.814, 'Passive-Aggressive': 0.862, 'kNN': 0.636, 'Random forest': 0.77}\n"
     ]
    }
   ],
   "source": [
    "best_fine_clf=find_best_classifier(X_data, y_fine_labels,X_data_test, y_fine_test,'fine')"
   ]
  },
  {
   "cell_type": "code",
   "execution_count": 108,
   "metadata": {},
   "outputs": [
    {
     "data": {
      "text/plain": [
       "'Passive-Aggressive'"
      ]
     },
     "execution_count": 108,
     "metadata": {},
     "output_type": "execute_result"
    }
   ],
   "source": [
    "best_fine_clf"
   ]
  },
  {
   "cell_type": "code",
   "execution_count": 127,
   "metadata": {},
   "outputs": [],
   "source": [
    "def get_calssifier(name):\n",
    "    for clf,clf_name in classifiers:\n",
    "        if name == clf_name:\n",
    "            return clf\n",
    " \n",
    "    print( \"clf doesn't exist\")\n",
    "    return None"
   ]
  },
  {
   "cell_type": "code",
   "execution_count": 219,
   "metadata": {},
   "outputs": [],
   "source": [
    "def hierarchical_classification(X_data, y_coarse_labels,y_fine_labels,X_data_test,y_coarse_test,y_fine_test\n",
    "                                ,best_clf_coarse_name,best_clf_fine_name):\n",
    "    fine_categories=pd.unique(df['fine'])\n",
    "    coarse_categories = [\"ABBREVIATION\", \"ENTITY\", \"DESCRIPTION\", \"HUMAN\", \"LOCATION\", \"NUMERIC VALUE\"]\n",
    "    best_clf_coarse= coarseLabelClassifier(get_calssifier(best_clf_coarse_name),coarse_categories)\n",
    "    best_clf_fine= coarseLabelClassifier(get_calssifier(best_clf_fine_name),fine_categories)\n",
    "    train_f,test_f=extract_features(X_data,X_data_test)    \n",
    "    y_pred_coarse= calssify(train_f,y_coarse_labels,test_f,y_coarse_test,best_clf_coarse,'coarse classier')\n",
    "    new_train_data =np.hstack([X_data,y_coarse_labels])\n",
    "    new_test_data =np.hstack([X_data_test,y_pred_coarse])\n",
    "    y_pred_fine= calssify(new_train_data,y_fine_labels,new_test_data,y_fine_test,best_clf_fine,'fine classier')"
   ]
  },
  {
   "cell_type": "code",
   "execution_count": 217,
   "metadata": {},
   "outputs": [
    {
     "name": "stdout",
     "output_type": "stream",
     "text": [
      "\u001b[1mcoarse classier:\n",
      "\u001b[0m acc:90.8%\n",
      "\u001b[1mfine classier:\n",
      "\u001b[0m acc:85.8%\n"
     ]
    }
   ],
   "source": [
    "hierarchical_classification(X_data, y_coarse_labels,y_fine_labels,X_data_test,y_coarse_test,y_fine_test\n",
    "                                ,best_coarse_clf,best_fine_clf)"
   ]
  },
  {
   "cell_type": "markdown",
   "metadata": {},
   "source": [
    "<a name=\"q1.7\"></a>\n",
    "<h3>Q1.7 Optional</h3>\n",
    "\n",
    "1.7.1 Analyze which of the features are most helpful for this task among lemma, POS, NER, Chunks and Related Words.\n",
    "(This analysis is called <a href=\"https://en.wikipedia.org/wiki/Ablation_(artificial_intelligence)#:~:text=In%20artificial%20intelligence%20(AI)%2C,component%20to%20the%20overall%20system.\">ablation analysis</a>).\n",
    "<p/>\n",
    "\n",
    "1.7.2 The dataset is quite small (5,500 questions in the training dataset for 50 labels).\n",
    "How would you determine whether your model overfits on this data? "
   ]
  },
  {
   "cell_type": "markdown",
   "metadata": {},
   "source": [
    "<hr/>\n",
    "<a name=\"q2\"></a>\n",
    "<h2>Q2. Document Classification</h2>\n",
    "\n",
    "<a name=\"q2.1\"></a>\n",
    "<h3>Q2.1. Reuters Dataset</h3>\n",
    "\n",
    "Execute the notebook tutorial of Scikit-Learn on text classification: \n",
    "<a href=\"http://scikit-learn.org/dev/auto_examples/applications/plot_out_of_core_classification.html#example-applications-plot-out-of-core-classification-py\">out of core classification</a>.\n",
    "<p/>"
   ]
  },
  {
   "cell_type": "code",
   "execution_count": 222,
   "metadata": {
    "scrolled": true
   },
   "outputs": [
    {
     "name": "stderr",
     "output_type": "stream",
     "text": [
      "[nltk_data] Downloading package reuters to\n",
      "[nltk_data]     C:\\Users\\Shani\\AppData\\Roaming\\nltk_data...\n"
     ]
    }
   ],
   "source": [
    "import nltk\n",
    "nltk.download('reuters')\n",
    "from nltk.corpus import reuters\n"
   ]
  },
  {
   "cell_type": "markdown",
   "metadata": {},
   "source": [
    "<a name=\"q2.1.1\"></a>\n",
    "<h4>Q2.1.1 Descriptive Statistics</h4> \n",
    "\n",
    "Explore how many documents are in the dataset, how many categories, how many documents per categories, provide mean and standard deviation, min and max. (use the pandas library to explore the dataset, use the dataframe.describe() method.)\n",
    "\n",
    "Explore how many characters and words are present in the documents of the dataset."
   ]
  },
  {
   "cell_type": "code",
   "execution_count": 227,
   "metadata": {},
   "outputs": [
    {
     "name": "stdout",
     "output_type": "stream",
     "text": [
      "\u001b[1mnumber of documents in the reuters dataset is :\u001b[0m 10788\n",
      "\u001b[1mReuters has has 90 cateries\u001b[0m\n",
      "\u001b[1mnumbers of word in the documents:\u001b[0m 41600\n",
      "\u001b[1mnumber of characters in the documents:\u001b[0m 282805\n"
     ]
    }
   ],
   "source": [
    "docs = reuters.fileids()\n",
    "all_categories = reuters.categories()\n",
    "fd = nltk.FreqDist(reuters.words())\n",
    "print(make_bold(\"number of documents in the reuters dataset is :\"),len(docs))\n",
    "print(make_bold(f\"Reuters has has {len(all_categories)} cateries\"))\n",
    "print(make_bold('numbers of word in the documents:'),len(fd))\n",
    "chars = sum([len(x) for x in fd])\n",
    "print(make_bold('number of characters in the documents:'),f'{chars}')\n"
   ]
  },
  {
   "cell_type": "code",
   "execution_count": 208,
   "metadata": {
    "scrolled": false
   },
   "outputs": [
    {
     "name": "stdout",
     "output_type": "stream",
     "text": [
      "Reuters has 90 categories, which are:\n",
      "\n",
      "['acq', 'alum', 'barley', 'bop', 'carcass', 'castor-oil', 'cocoa', 'coconut', 'coconut-oil', 'coffee', 'copper', 'copra-cake', 'corn', 'cotton', 'cotton-oil', 'cpi', 'cpu', 'crude', 'dfl', 'dlr', 'dmk', 'earn', 'fuel', 'gas', 'gnp', 'gold', 'grain', 'groundnut', 'groundnut-oil', 'heat', 'hog', 'housing', 'income', 'instal-debt', 'interest', 'ipi', 'iron-steel', 'jet', 'jobs', 'l-cattle', 'lead', 'lei', 'lin-oil', 'livestock', 'lumber', 'meal-feed', 'money-fx', 'money-supply', 'naphtha', 'nat-gas', 'nickel', 'nkr', 'nzdlr', 'oat', 'oilseed', 'orange', 'palladium', 'palm-oil', 'palmkernel', 'pet-chem', 'platinum', 'potato', 'propane', 'rand', 'rape-oil', 'rapeseed', 'reserves', 'retail', 'rice', 'rubber', 'rye', 'ship', 'silver', 'sorghum', 'soy-meal', 'soy-oil', 'soybean', 'strategic-metal', 'sugar', 'sun-meal', 'sun-oil', 'sunseed', 'tea', 'tin', 'trade', 'veg-oil', 'wheat', 'wpi', 'yen', 'zinc']\n"
     ]
    }
   ],
   "source": [
    "print('Rueters Category')\n",
    "pd.DataFrame(all_categories)"
   ]
  },
  {
   "cell_type": "code",
   "execution_count": 228,
   "metadata": {},
   "outputs": [
    {
     "data": {
      "text/html": [
       "<div>\n",
       "<style scoped>\n",
       "    .dataframe tbody tr th:only-of-type {\n",
       "        vertical-align: middle;\n",
       "    }\n",
       "\n",
       "    .dataframe tbody tr th {\n",
       "        vertical-align: top;\n",
       "    }\n",
       "\n",
       "    .dataframe thead th {\n",
       "        text-align: right;\n",
       "    }\n",
       "</style>\n",
       "<table border=\"1\" class=\"dataframe\">\n",
       "  <thead>\n",
       "    <tr style=\"text-align: right;\">\n",
       "      <th></th>\n",
       "      <th>categories</th>\n",
       "      <th>file_count</th>\n",
       "    </tr>\n",
       "  </thead>\n",
       "  <tbody>\n",
       "    <tr>\n",
       "      <th>0</th>\n",
       "      <td>acq</td>\n",
       "      <td>2661</td>\n",
       "    </tr>\n",
       "    <tr>\n",
       "      <th>1</th>\n",
       "      <td>alum</td>\n",
       "      <td>62</td>\n",
       "    </tr>\n",
       "    <tr>\n",
       "      <th>2</th>\n",
       "      <td>barley</td>\n",
       "      <td>58</td>\n",
       "    </tr>\n",
       "    <tr>\n",
       "      <th>3</th>\n",
       "      <td>bop</td>\n",
       "      <td>120</td>\n",
       "    </tr>\n",
       "    <tr>\n",
       "      <th>4</th>\n",
       "      <td>carcass</td>\n",
       "      <td>69</td>\n",
       "    </tr>\n",
       "    <tr>\n",
       "      <th>...</th>\n",
       "      <td>...</td>\n",
       "      <td>...</td>\n",
       "    </tr>\n",
       "    <tr>\n",
       "      <th>85</th>\n",
       "      <td>veg-oil</td>\n",
       "      <td>128</td>\n",
       "    </tr>\n",
       "    <tr>\n",
       "      <th>86</th>\n",
       "      <td>wheat</td>\n",
       "      <td>304</td>\n",
       "    </tr>\n",
       "    <tr>\n",
       "      <th>87</th>\n",
       "      <td>wpi</td>\n",
       "      <td>32</td>\n",
       "    </tr>\n",
       "    <tr>\n",
       "      <th>88</th>\n",
       "      <td>yen</td>\n",
       "      <td>70</td>\n",
       "    </tr>\n",
       "    <tr>\n",
       "      <th>89</th>\n",
       "      <td>zinc</td>\n",
       "      <td>36</td>\n",
       "    </tr>\n",
       "  </tbody>\n",
       "</table>\n",
       "<p>90 rows × 2 columns</p>\n",
       "</div>"
      ],
      "text/plain": [
       "   categories  file_count\n",
       "0         acq        2661\n",
       "1        alum          62\n",
       "2      barley          58\n",
       "3         bop         120\n",
       "4     carcass          69\n",
       "..        ...         ...\n",
       "85    veg-oil         128\n",
       "86      wheat         304\n",
       "87        wpi          32\n",
       "88        yen          70\n",
       "89       zinc          36\n",
       "\n",
       "[90 rows x 2 columns]"
      ]
     },
     "execution_count": 228,
     "metadata": {},
     "output_type": "execute_result"
    }
   ],
   "source": [
    "# create counter to summarize\n",
    "categories = []\n",
    "file_count = []\n",
    "\n",
    "# count each tag's number of documents\n",
    "for i in reuters.categories():\n",
    "    file_count.append(len(reuters.paras(categories=[i])))\n",
    "    categories.append(i)\n",
    "    \n",
    "# create a dataframe out of the counts\n",
    "df = pd.DataFrame(\n",
    "    {'categories': categories, \"file_count\": file_count})\n",
    "df"
   ]
  },
  {
   "cell_type": "code",
   "execution_count": 229,
   "metadata": {},
   "outputs": [
    {
     "data": {
      "text/plain": [
       "Text(0.5, 0.98, 'File count per category')"
      ]
     },
     "execution_count": 229,
     "metadata": {},
     "output_type": "execute_result"
    },
    {
     "data": {
      "image/png": "[encoded data removed]",
      "text/plain": [
       "<Figure size 2736x648 with 1 Axes>"
      ]
     },
     "metadata": {
      "needs_background": "light"
     },
     "output_type": "display_data"
    }
   ],
   "source": [
    "df['file_count'].plot.bar(subplots=True, figsize=(38, 9))\n",
    "plt.suptitle(\"File count per category\", fontsize=24)"
   ]
  },
  {
   "cell_type": "code",
   "execution_count": 211,
   "metadata": {},
   "outputs": [
    {
     "data": {
      "text/html": [
       "<div>\n",
       "<style scoped>\n",
       "    .dataframe tbody tr th:only-of-type {\n",
       "        vertical-align: middle;\n",
       "    }\n",
       "\n",
       "    .dataframe tbody tr th {\n",
       "        vertical-align: top;\n",
       "    }\n",
       "\n",
       "    .dataframe thead th {\n",
       "        text-align: right;\n",
       "    }\n",
       "</style>\n",
       "<table border=\"1\" class=\"dataframe\">\n",
       "  <thead>\n",
       "    <tr style=\"text-align: right;\">\n",
       "      <th></th>\n",
       "      <th>file_count</th>\n",
       "    </tr>\n",
       "  </thead>\n",
       "  <tbody>\n",
       "    <tr>\n",
       "      <th>count</th>\n",
       "      <td>90.000000</td>\n",
       "    </tr>\n",
       "    <tr>\n",
       "      <th>mean</th>\n",
       "      <td>162.888889</td>\n",
       "    </tr>\n",
       "    <tr>\n",
       "      <th>std</th>\n",
       "      <td>532.185201</td>\n",
       "    </tr>\n",
       "    <tr>\n",
       "      <th>min</th>\n",
       "      <td>2.000000</td>\n",
       "    </tr>\n",
       "    <tr>\n",
       "      <th>25%</th>\n",
       "      <td>8.000000</td>\n",
       "    </tr>\n",
       "    <tr>\n",
       "      <th>50%</th>\n",
       "      <td>30.000000</td>\n",
       "    </tr>\n",
       "    <tr>\n",
       "      <th>75%</th>\n",
       "      <td>97.250000</td>\n",
       "    </tr>\n",
       "    <tr>\n",
       "      <th>max</th>\n",
       "      <td>4211.000000</td>\n",
       "    </tr>\n",
       "  </tbody>\n",
       "</table>\n",
       "</div>"
      ],
      "text/plain": [
       "        file_count\n",
       "count    90.000000\n",
       "mean    162.888889\n",
       "std     532.185201\n",
       "min       2.000000\n",
       "25%       8.000000\n",
       "50%      30.000000\n",
       "75%      97.250000\n",
       "max    4211.000000"
      ]
     },
     "execution_count": 211,
     "metadata": {},
     "output_type": "execute_result"
    }
   ],
   "source": [
    "# get statistics on all documents in all categories together\n",
    "df.describe()"
   ]
  },
  {
   "cell_type": "markdown",
   "metadata": {},
   "source": [
    "<a name=\"q2.1.2\"></a>\n",
    "<h4>Q2.1.2 Partial-fit classifiers</h4> \n",
    "\n",
    "Explain informally what are the classifiers that support the \"partial-fit\" method discussed in the code."
   ]
  },
  {
   "cell_type": "markdown",
   "metadata": {},
   "source": [
    "********************************************"
   ]
  },
  {
   "cell_type": "markdown",
   "metadata": {},
   "source": [
    "Partial_fit allows the model to learn incrementally from a mini-batch of instances. \n",
    "The classifiers that support the partial-fit method, can perform online machine learning. meaning - they can learn the function  𝑓  without seeing the entire dataset, but only seeing parts of it sequentially. This kind classifiers are useful when dealing with large datasets that cannot fit into the main memory.\n",
    "\n",
    "The classifiers that support the partial_fit method are:\n",
    "- SGDClassifier - implements regularized linear models with stochastic gradient descent learning, the gradient of the loss is estimated each sample at a time and the model is updated along the way with a decreasing strength schedule. \n",
    "- PassiveAggressiveClassifier - Passive Aggressive Classifier, family of algorithms for large-scale learning, include a regularization parameter.\n",
    "- Perceptron - suitable for large scale learning. equivalent to SGDClassifier(loss=”perceptron”, eta0=1, learning_rate=”constant”, penalty=None).\n",
    "- BernoulliNB - Naive Bayes classifier for multivariate Bernoulli models,  suitable for discrete data. Works with occurrence counts, designed for binary/boolean features.\n",
    "- MultinomialNB - Naive Bayes classifier for multinomial modelsת suitable for classification with discrete features. Requires integer feature counts."
   ]
  },
  {
   "cell_type": "markdown",
   "metadata": {},
   "source": [
    "<a name=\"q2.1.3\"></a>\n",
    "<h4>Q2.1.3 Hashing Vectorizer</h4> \n",
    "\n",
    "Explain what is the hashing vectorizer used in this tutorial.  Why is it important to use this vectorizer to achieve \"streaming classification\"?"
   ]
  },
  {
   "cell_type": "markdown",
   "metadata": {},
   "source": [
    "*****************************"
   ]
  },
  {
   "cell_type": "markdown",
   "metadata": {},
   "source": [
    "Hashing Vectorizer convert a collection of text documents to a matrix of token occurrences, possibly normalized as token frequencies (if norm=’l1’) or projected on the euclidean unit sphere (if norm=’l2’). Designed to be as memory efficient as possible. Instead of storing the tokens as strings, the vectorizer applies the hashing trick to encode them as numerical indexes.\n",
    "\n",
    "In order to guarantee that features space remains the same over time, we can leverag a HashingVectorizer that will project each example into the same feature space. This is useful because new words may appear in each batch.\n",
    "\n",
    "Hashing vectorizer uses an hash function to find the index in the vector each word would map to. This is useful, since in partial-fit, we don't see the entire dataset before the learning, so we can't map each word to an integer (We don't fit the vectorizer). Also, we don't need to keep the entire vocabulary as a dictionary in memory, which could be useful for a large vocabulary.\n",
    "\n",
    "Stream classification is a variant of incremental learning of classifiers that has to satisfy requirements specific for massive streams of data: restrictive processing time, limited memory, and one scan of incoming examples.\n",
    "\n",
    "It is important to use hashing vectorizer to achieve \"streaming classification\" because it guarantee that the input space of the estimator has always the same dimensionality. Amount of memory is bounded to the mini batch size.\n",
    "with hashing vectorizer the streams of data are hashed with a function to term frequency counts in each document, so we could work with it and get the results we want, and to save memory space (which is limited). \n"
   ]
  },
  {
   "cell_type": "markdown",
   "metadata": {},
   "source": [
    "<a name=\"q2.2\"></a>\n",
    "<h3>Q2.2. BBC News Dataset</h3>\n",
    "\n",
    "The <a href=\"https://www.kaggle.com/c/learn-ai-bbc/data\">Kaggle BBC News</a> dataset is a document dataset to test document classification.\n",
    "It contains 1,500 training documents (news stories from the BBC News) and 700 test documents. Documents are classified into 5 categories: sports, tech, business, \n",
    "entertainment, politics.  Text is encoded in the following format: all lower case, quotes are removed and separated, non period punctuations are removed.\n",
    "For example:\n",
    "<pre>\n",
    "lifestyle  governs mobile choice  faster  better or funkier hardware alone is not going to help phone firms sell more handsets\n",
    "research suggests.  instead  phone firms keen to get more out of their customers should not just be pushing the technology \n",
    "for its own sake. consumers are far more interested in how handsets fit in with their lifestyle than they are in screen size  \n",
    "onboard memory or the chip inside  shows an in-depth study by handset maker ericsson.  \n",
    "historically in the industry there has been too much focus on using technology   \n",
    "said dr michael bjorn  senior advisor on mobile media at ericsson s consumer and enterprise lab.\n",
    "</pre>\n",
    "\n",
    "Download the data <a href=\"bbcnews.zip\">bbcnews.zip</a> and place it in ../data."
   ]
  },
  {
   "cell_type": "markdown",
   "metadata": {},
   "source": [
    "<a name=\"q2.2.1\"></a>\n",
    "<h4>Q2.2.1 Dataset Exploration</h4>\n",
    "\n",
    "Explore how many documents are in the dataset, how many categories, how many documents per categories, provide mean and standard deviation, min and max. "
   ]
  },
  {
   "cell_type": "code",
   "execution_count": 215,
   "metadata": {
    "scrolled": true
   },
   "outputs": [
    {
     "name": "stdout",
     "output_type": "stream",
     "text": [
      "there are 1490 documents in the TRAIN dataset\n",
      "\n",
      "number of categories: 5\n"
     ]
    },
    {
     "data": {
      "text/plain": [
       "Category\n",
       "business         336\n",
       "entertainment    273\n",
       "politics         274\n",
       "sport            346\n",
       "tech             261\n",
       "Name: category_id, dtype: int64"
      ]
     },
     "execution_count": 215,
     "metadata": {},
     "output_type": "execute_result"
    }
   ],
   "source": [
    "# get the data \n",
    "df = pd.read_csv('data/bbcnews/BBC News Train.csv')\n",
    "# count rows\n",
    "print(f'there are {len(df)} documents in the TRAIN dataset')\n",
    "\n",
    "# get categories data\n",
    "cat = df['Category'].value_counts()\n",
    "\n",
    "# count categories\n",
    "print(f'\\nnumber of categories: {len(cat)}')\n",
    "\n",
    "# print categories documents num\n",
    "df['category_id'] = df['Category'].factorize()[0]\n",
    "category_id_df = df[['Category', 'category_id']].drop_duplicates().sort_values('category_id')\n",
    "category_id_df\n",
    "category_to_id = dict(category_id_df.values)\n",
    "id_to_category = dict(category_id_df[['category_id', 'Category']].values)\n",
    "id_to_category\n",
    "df.sample(5, random_state=0)\n",
    "df.groupby('Category').category_id.count()"
   ]
  },
  {
   "cell_type": "code",
   "execution_count": null,
   "metadata": {},
   "outputs": [],
   "source": [
    "cat.plot()\n",
    "plt.suptitle(\"BBC news documents distribution\", fontsize=16)"
   ]
  },
  {
   "cell_type": "code",
   "execution_count": 216,
   "metadata": {},
   "outputs": [
    {
     "data": {
      "text/plain": [
       "count      5.000000\n",
       "mean     298.000000\n",
       "std       39.742924\n",
       "min      261.000000\n",
       "25%      273.000000\n",
       "50%      274.000000\n",
       "75%      336.000000\n",
       "max      346.000000\n",
       "Name: Category, dtype: float64"
      ]
     },
     "execution_count": 216,
     "metadata": {},
     "output_type": "execute_result"
    }
   ],
   "source": [
    "# get statistics\n",
    "cat.describe()"
   ]
  },
  {
   "cell_type": "markdown",
   "metadata": {},
   "source": [
    "<a name=\"q2.2.2\"></a>\n",
    "<h4>Q2.2.2 Features Extraction</h4>\n",
    "\n",
    "Select appropriate features for document classification and implement a scikit-learn vectorizer for this dataset."
   ]
  },
  {
   "cell_type": "code",
   "execution_count": 4,
   "metadata": {},
   "outputs": [],
   "source": [
    "from sklearn.feature_extraction.text import TfidfVectorizer"
   ]
  },
  {
   "cell_type": "code",
   "execution_count": 30,
   "metadata": {},
   "outputs": [
    {
     "data": {
      "text/plain": [
       "(1490, 9927)"
      ]
     },
     "execution_count": 30,
     "metadata": {},
     "output_type": "execute_result"
    }
   ],
   "source": [
    "# calculate a tf-idf vector for each of our documents\n",
    "tfidf = TfidfVectorizer(sublinear_tf=True, min_df=5, norm='l2', encoding='latin-1', ngram_range=(1, 2), stop_words='english')\n",
    "features = tfidf.fit_transform(df.Text).toarray()\n",
    "\n",
    "labels = df.category_id\n",
    "# show features tfidf shape\n",
    "features.shape"
   ]
  },
  {
   "cell_type": "code",
   "execution_count": 12,
   "metadata": {},
   "outputs": [
    {
     "name": "stdout",
     "output_type": "stream",
     "text": [
      "# 'business':\n",
      "  . Most correlated unigrams:\n",
      "       . growth\n",
      "       . bank\n",
      "       . shares\n",
      "  . Most correlated bigrams:\n",
      "       . stock market\n",
      "       . economic growth\n",
      "       . analysts said\n",
      "# 'entertainment':\n",
      "  . Most correlated unigrams:\n",
      "       . singer\n",
      "       . actor\n",
      "       . film\n",
      "  . Most correlated bigrams:\n",
      "       . won best\n",
      "       . los angeles\n",
      "       . box office\n",
      "# 'politics':\n",
      "  . Most correlated unigrams:\n",
      "       . blair\n",
      "       . election\n",
      "       . labour\n",
      "  . Most correlated bigrams:\n",
      "       . prime minister\n",
      "       . tony blair\n",
      "       . mr blair\n",
      "# 'sport':\n",
      "  . Most correlated unigrams:\n",
      "       . match\n",
      "       . coach\n",
      "       . cup\n",
      "  . Most correlated bigrams:\n",
      "       . grand slam\n",
      "       . champions league\n",
      "       . australian open\n",
      "# 'tech':\n",
      "  . Most correlated unigrams:\n",
      "       . technology\n",
      "       . software\n",
      "       . users\n",
      "  . Most correlated bigrams:\n",
      "       . anti virus\n",
      "       . mobile phones\n",
      "       . mobile phone\n"
     ]
    }
   ],
   "source": [
    "from sklearn.feature_selection import chi2\n",
    "\n",
    "N = 3\n",
    "\n",
    "# find the terms are the most correlated with each of the categories\n",
    "for newstype, category_id in sorted(category_to_id.items()):\n",
    "    # extract features by Chi-square distribution\n",
    "    features_chi2 = chi2(features, labels == category_id)\n",
    "    indices = np.argsort(features_chi2[0])\n",
    "    feature_names = np.array(tfidf.get_feature_names())[indices]\n",
    "    # get unigram and bifram from documents\n",
    "    unigrams = [v for v in feature_names if len(v.split(' ')) == 1]\n",
    "    bigrams = [v for v in feature_names if len(v.split(' ')) == 2]\n",
    "    print(\"# '{}':\".format(newstype))\n",
    "    print(\"  . Most correlated unigrams:\\n       . {}\".format('\\n       . '.join(unigrams[-N:])))\n",
    "    print(\"  . Most correlated bigrams:\\n       . {}\".format('\\n       . '.join(bigrams[-N:])))"
   ]
  },
  {
   "cell_type": "code",
   "execution_count": 13,
   "metadata": {},
   "outputs": [
    {
     "data": {
      "text/plain": [
       "(array([0.13345481, 0.01563765, 0.00108776, ..., 0.00812363, 0.15434356,\n",
       "        0.120306  ]),\n",
       " array([0.71487652, 0.9004835 , 0.97368962, ..., 0.92818297, 0.69441858,\n",
       "        0.72870284]))"
      ]
     },
     "execution_count": 13,
     "metadata": {},
     "output_type": "execute_result"
    }
   ],
   "source": [
    "features_chi2"
   ]
  },
  {
   "cell_type": "markdown",
   "metadata": {},
   "source": [
    "<a name=\"q2.2.3\"></a>\n",
    "<h4>Q2.2.3 Model Training and Evaluation</h4>\n",
    "\n",
    "Implement a classifier for this dataset.  \n",
    "<p/>\n",
    "Report performance, confusion matrix and analyze errors.\n",
    "<p/>\n",
    "\n",
    "In order to run the test data, you will need to register to Kaggle and use their submission system.\n",
    "To avoid the complexity of using the Kaggle submission system, split the train data into 80% training / 20% test.  \n",
    "<p/>\n",
    "\n",
    "You can see examples solving this task with good usage of scikit-learn APIs in <a href=\"https://www.kaggle.com/c/learn-ai-bbc/leaderboard\">the Kaggle leaderboard</a>.\n",
    "In particular, <a href=\"https://www.kaggle.com/aryankaul31/aryan-bbc-news-classification\">aryan-bbc-news-classification</a> demonstrates data exploration for \n",
    "classification using pandas, tf-idf features, TSNE visualization for feature vectors, and chi-square correlation between features and labels. "
   ]
  },
  {
   "cell_type": "code",
   "execution_count": 5,
   "metadata": {},
   "outputs": [],
   "source": [
    "from sklearn.model_selection import train_test_split\n",
    "from sklearn.linear_model import LogisticRegression\n",
    "from sklearn.metrics import confusion_matrix\n",
    "import seaborn as sns\n",
    "from sklearn.metrics import accuracy_score, cohen_kappa_score, confusion_matrix\n",
    "from IPython.display import display\n"
   ]
  },
  {
   "cell_type": "code",
   "execution_count": 40,
   "metadata": {},
   "outputs": [
    {
     "data": {
      "text/plain": [
       "LogisticRegression(random_state=0)"
      ]
     },
     "execution_count": 40,
     "metadata": {},
     "output_type": "execute_result"
    }
   ],
   "source": [
    "#Split Data \n",
    "X_train, X_test, y_train, y_test, indices_train, indices_test = train_test_split(features, labels, df.index, \n",
    "                                                                                 test_size=0.2, random_state=0)\n",
    "# create a classification model\n",
    "model = LogisticRegression(random_state=0)\n",
    "# train the model\n",
    "model.fit(X_train, y_train)"
   ]
  },
  {
   "cell_type": "code",
   "execution_count": 44,
   "metadata": {},
   "outputs": [],
   "source": [
    "# Make Predictions\n",
    "y_pred_proba = model.predict_proba(X_test)\n",
    "y_pred = model.predict(X_test)"
   ]
  },
  {
   "cell_type": "code",
   "execution_count": 69,
   "metadata": {},
   "outputs": [
    {
     "data": {
      "text/plain": [
       "Text(0.5, 15.0, 'Predicted')"
      ]
     },
     "execution_count": 69,
     "metadata": {},
     "output_type": "execute_result"
    },
    {
     "data": {
      "image/png": "[encoded data removed]",
      "text/plain": [
       "<Figure size 432x288 with 2 Axes>"
      ]
     },
     "metadata": {
      "needs_background": "light"
     },
     "output_type": "display_data"
    }
   ],
   "source": [
    "conf_mat = confusion_matrix(y_test, y_pred)\n",
    "sns.heatmap(conf_mat, annot=True, fmt='d',\n",
    "            xticklabels=category_id_df.Category.values, yticklabels=category_id_df.Category.values)\n",
    "plt.ylabel('Actual')\n",
    "plt.xlabel('Predicted')"
   ]
  },
  {
   "cell_type": "code",
   "execution_count": 63,
   "metadata": {},
   "outputs": [
    {
     "name": "stdout",
     "output_type": "stream",
     "text": [
      "Accuracy:  0.9798657718120806\n"
     ]
    }
   ],
   "source": [
    "acc = accuracy_score(y_test,y_pred)\n",
    "print(\"Accuracy: \",acc)"
   ]
  },
  {
   "cell_type": "code",
   "execution_count": 75,
   "metadata": {},
   "outputs": [],
   "source": [
    "# examples text to get prediction on \n",
    "text = \"worldcom ex-boss launches defence lawyers defending former worldcom chief bernie ebbers against a battery of fraud charges have called a company whistleblower as their first witness.  cynthia cooper  worldcom s ex-head of internal accounting  alerted directors to irregular accounting practices at the us telecoms giant in 2002. her warnings led to the collapse of the firm following the discovery of an $11bn (£5.7bn) accounting fraud. mr ebbers has pleaded not guilty to charges of fraud and conspiracy.\""
   ]
  },
  {
   "cell_type": "code",
   "execution_count": 80,
   "metadata": {},
   "outputs": [
    {
     "name": "stdout",
     "output_type": "stream",
     "text": [
      "business\n"
     ]
    }
   ],
   "source": [
    "# transform a count matrix to a normalized tf or tf-idf representation\n",
    "test_features = tfidf.transform([text])\n",
    "# get prediction on the data\n",
    "prediction = model.predict(test_features)\n",
    "id_to_category = {0: 'business', 1: 'tech', 2: 'politics', 3: 'sport', 4: 'entertainment'}\n",
    "for i in range(len(prediction)):\n",
    "    print(id_to_category[prediction[i]])"
   ]
  },
  {
   "cell_type": "markdown",
   "metadata": {},
   "source": [
    "This looks good, we predicted business and it is the correct category. So the model learned as we wanted it to"
   ]
  },
  {
   "cell_type": "code",
   "execution_count": 82,
   "metadata": {},
   "outputs": [
    {
     "name": "stdout",
     "output_type": "stream",
     "text": [
      "'tech' predicted as 'entertainment' : 2 examples.\n"
     ]
    },
    {
     "data": {
      "text/plain": [
       "1091    ultimate game  award for doom 3 sci-fi shooter...\n",
       "1115    ultimate game  award for doom 3 sci-fi shooter...\n",
       "Name: Text, dtype: object"
      ]
     },
     "metadata": {},
     "output_type": "display_data"
    },
    {
     "name": "stdout",
     "output_type": "stream",
     "text": [
      "\n"
     ]
    }
   ],
   "source": [
    "# we want to analyze the errors of the mode\n",
    "for predicted in category_id_df.category_id:\n",
    "    for actual in category_id_df.category_id:\n",
    "    # printwhere there was a misprediction at least twice\n",
    "        if predicted != actual and conf_mat[actual, predicted] >= 2:\n",
    "            print(\"'{}' predicted as '{}' : {} examples.\".format(id_to_category[actual], id_to_category[predicted], conf_mat[actual, predicted]))\n",
    "            display(df.loc[indices_test[(y_test == actual) & (y_pred == predicted)]]['Text'])\n",
    "            print('')"
   ]
  },
  {
   "cell_type": "markdown",
   "metadata": {},
   "source": [
    "<hr/>\n",
    "<a name=\"q3\"></a>\n",
    "<h2>Q3. Named Entity Recognition</h2>\n",
    "\n",
    "<h3>Named Entity Recognition</h3>\n",
    "\n",
    "The task of Named Entity Recognition (NER) involves the recognition of names of persons, locations, organizations, dates in free text.\n",
    "As we have seen above, Spacy includes a very good NER model as part of its library.  In this question, we will study how to implement \n",
    "such a model.\n",
    "\n",
    "The following sentence is tagged with sub-sequences indicating PER (for persons), LOC (for location) and ORG (for organization):\n",
    "<pre>\n",
    "Wolff, currently a journalist in Argentina, played with Del Bosque in the final years of the seventies in Real Madrid.\n",
    "\n",
    "[PER Wolff ] , currently a journalist in [LOC Argentina ] , played with [PER Del Bosque ] in the final years of the seventies in \n",
    "[ORG Real Madrid ] .\n",
    "</pre>\n",
    "\n",
    "NER involves 2 sub-tasks: identifying the boundaries of such expressions (the open and close brackets) and labelling the expressions\n",
    "(with tags such as PER, LOC or ORG).  This sequence labelling task is reduced into a classification task, using the BIO encoding of the data:\n",
    "<pre>\n",
    "        Wolff B-PER\n",
    "            , O\n",
    "    currently O\n",
    "            a O\n",
    "   journalist O\n",
    "           in O\n",
    "    Argentina B-LOC\n",
    "            , O\n",
    "       played O\n",
    "         with O\n",
    "          Del B-PER\n",
    "       Bosque I-PER\n",
    "           in O\n",
    "          the O\n",
    "        final O\n",
    "        years O\n",
    "           of O\n",
    "          the O\n",
    "    seventies O\n",
    "           in O\n",
    "         Real B-ORG\n",
    "       Madrid I-ORG\n",
    "            . O\n",
    "</pre>\n",
    "\n",
    "\n",
    "<h3>Dataset</h3>\n",
    "\n",
    "The dataset we will use for this question is derived from the CoNLL 2002 shared task - which is about NER in Spanish and Dutch.\n",
    "The dataset is included in the NLTK distribution.  Explanations on the dataset are provided in the \n",
    "<a href='https://www.clips.uantwerpen.be/conll2002/ner/'>CoNLL 2002</a> page.\n",
    "<p/>\n",
    "\n",
    "To access the data in Python, do:"
   ]
  },
  {
   "cell_type": "code",
   "execution_count": 2,
   "metadata": {},
   "outputs": [
    {
     "name": "stderr",
     "output_type": "stream",
     "text": [
      "[nltk_data] Downloading package conll2002 to\n",
      "[nltk_data]     C:\\Users\\yaelj\\AppData\\Roaming\\nltk_data...\n",
      "[nltk_data]   Package conll2002 is already up-to-date!\n"
     ]
    },
    {
     "data": {
      "text/plain": [
       "True"
      ]
     },
     "execution_count": 2,
     "metadata": {},
     "output_type": "execute_result"
    }
   ],
   "source": [
    "import nltk\n",
    "nltk.download('conll2002')"
   ]
  },
  {
   "cell_type": "code",
   "execution_count": 3,
   "metadata": {},
   "outputs": [],
   "source": [
    "from nltk.corpus import conll2002\n",
    "\n",
    "etr = conll2002.chunked_sents('esp.train') # In Spanish\n",
    "eta = conll2002.chunked_sents('esp.testa') # In Spanish\n",
    "etb = conll2002.chunked_sents('esp.testb') # In Spanish\n",
    "\n",
    "dtr = conll2002.chunked_sents('ned.train') # In Dutch\n",
    "dta = conll2002.chunked_sents('ned.testa') # In Dutch\n",
    "dtb = conll2002.chunked_sents('ned.testb') # In Dutch"
   ]
  },
  {
   "cell_type": "markdown",
   "metadata": {},
   "source": [
    "The data consists of three files per language (Spanish and Dutch): one training file and two test files testa and testb. \n",
    "The first test file is to be used in the development phase for finding good parameters for the learning system. \n",
    "The second test file will be used for the final evaluation."
   ]
  },
  {
   "cell_type": "markdown",
   "metadata": {},
   "source": [
    "<a name=\"q3.1\"></a>\n",
    "<h3>Q3.1 Features</h3>\n",
    "\n",
    "Your task consists of:\n",
    "<ol>\n",
    "<li>Choosing good features for encoding the problem.\n",
    "<li>Encode your training dataset.\n",
    "<li>Run a classifier over the training dataset.\n",
    "<li>Train and test the model.\n",
    "<li>Perform error analysis and fine tune model parameters on the testa part of the datasets.\n",
    "<li>Perform evaluation over the testb part of the dataset, reporting on accuracy, per label precision, per label recall and per label F-measure, and confusion matrix.\n",
    "</ol>\n",
    "<p/>\n",
    "\n",
    "Here is a list of features that have been found appropriate for NER in previous work:\n",
    "<ol>\n",
    "<li>The word form (the string as it appears in the sentence)\n",
    "<li>The POS of the word (which is provided in the dataset)\n",
    "<li>ORT - a feature that captures the orthographic (letter) structure of the word.  It can have any of the following values: \n",
    "    number, contains-digit, contains-hyphen, capitalized, all-capitals, URL, punctuation, regular. \n",
    "<li>prefix1: first letter of the word\n",
    "<li>prefix2: first two letters of the word\n",
    "<li>prefix3: first three letters of the word\n",
    "<li>suffix1: last letter of the word\n",
    "<li>suffix2: last two letters of the word\n",
    "<li>suffix3: last three letters of the word\n",
    "</ol>\n",
    "\n",
    "<p/>\n",
    "\n",
    "For example, given the following toy training data, the encoding of the features would be:\n",
    "<pre>\n",
    "        Wolff NP  B-PER\n",
    "            , ,   O\n",
    "    currently RB  O\n",
    "            a AT  O\n",
    "   journalist NN  O\n",
    "           in IN  O\n",
    "    Argentina NP  B-LOC\n",
    "            , ,   O\n",
    "       played VBD O\n",
    "         with IN  O\n",
    "          Del NP  B-PER\n",
    "       Bosque NP  I-PER\n",
    "           in IN  O\n",
    "          the AT  O\n",
    "        final JJ  O\n",
    "        years NNS O\n",
    "           of IN  O\n",
    "          the AT  O\n",
    "    seventies NNS O\n",
    "           in IN  O\n",
    "         Real NP  B-ORG\n",
    "       Madrid NP  I-ORG\n",
    "            . .   O\n",
    "\n",
    "<u>Classes</u>\n",
    "1 B-PER\n",
    "2 I-PER\n",
    "3 B-LOC\n",
    "4 I-LOC\n",
    "5 B-ORG\n",
    "6 I-ORG\n",
    "7 O\n",
    "\n",
    "<u>Feature WORD-FORM:</u>\n",
    "1 Wolff\n",
    "2 ,\n",
    "3 currently\n",
    "4 a\n",
    "5 journalist\n",
    "6 in\n",
    "7 Argentina\n",
    "8 played\n",
    "9 with\n",
    "10 Del\n",
    "11 Bosque\n",
    "12 the\n",
    "13 final\n",
    "14 years\n",
    "15 of\n",
    "16 seventies\n",
    "17 Real\n",
    "18 Madrid\n",
    "19 .\n",
    "\n",
    "<u>Feature POS</u>\n",
    "20 NP\n",
    "21 ,\n",
    "22 RB\n",
    "23 AT\n",
    "24 NN\n",
    "25 VBD\n",
    "26 JJ\n",
    "27 NNS\n",
    "28 .\n",
    "\n",
    "<u>Feature ORT</u>\n",
    "29 number\n",
    "30 contains-digit\n",
    "31 contains-hyphen\n",
    "32 capitalized\n",
    "33 all-capitals\n",
    "34 URL\n",
    "35 punctuation\n",
    "36 regular\n",
    "\n",
    "<u>Feature Prefix1</u>\n",
    "37 W\n",
    "38 ,\n",
    "39 c\n",
    "40 a\n",
    "41 j\n",
    "42 i\n",
    "43 A\n",
    "44 p\n",
    "45 w\n",
    "46 D\n",
    "47 B\n",
    "48 t\n",
    "49 f\n",
    "50 y\n",
    "51 o\n",
    "52 s\n",
    "53 .\n",
    "</pre>\n",
    "\n",
    "Given this encoding, we can compute the vector representing the first word \"Wolff NP B-PER\" as:\n",
    "<pre>\n",
    "# Class: B-PER=1\n",
    "# Word-form: Wolff=1\n",
    "# POS: NP=20\n",
    "# ORT: Capitalized=32\n",
    "# prefix1: W=37\n",
    "1 1:1 20:1 32:1 37:1\n",
    "</pre>\n",
    "\n",
    "When you encode the test dataset, some of the word-forms will be unknown (not seen in the training dataset).\n",
    "You should, therefore, plan for a special value for each feature of type \"unknown\" when this is expected.\n",
    "<p/>\n",
    "\n",
    "Instead of writing the code as explained above, use the Scikit-learn vectorizer and pipeline library.\n",
    "General information on feature extraction for text data in Scikit-Learn is \n",
    "in <a href=\"https://scikit-learn.org/stable/modules/feature_extraction.html#text-feature-extraction\">the Scikit-Learn documentation</a>.\n",
    "Refer to the <a href=\"https://scikit-learn.org/stable/modules/generated/sklearn.feature_extraction.DictVectorizer.html\">DictVectorizer</a> for this specific task.\n",
    "<a href=\"https://scikit-learn.org/stable/auto_examples/text/plot_hashing_vs_dict_vectorizer.html\">Hashing vs. DictVectorizer</a>\n",
    "also provides useful background."
   ]
  },
  {
   "cell_type": "markdown",
   "metadata": {},
   "source": [
    "<a name=\"q3.1.1\"></a>\n",
    "<h4>Q3.1.1 Feature Extraction</h4>\n",
    "\n",
    "Start from the following example notebook\n",
    "<a href=\"http://nbviewer.ipython.org/github/tpeng/python-crfsuite/blob/master/examples/CoNLL%202002.ipynb\">CoNLL 2002 Classification with CRF</a>.\n",
    "You do not need to install Python-CRFSuite - just take this notebook as a starting point to explore the dataset and ways to encode features.\n",
    "(This notebook also gives you an indication of the level of result you can expect to obtain.)"
   ]
  },
  {
   "cell_type": "markdown",
   "metadata": {},
   "source": [
    "First, we will prepare the data for later use, train, testa, testb for both languages:"
   ]
  },
  {
   "cell_type": "code",
   "execution_count": 220,
   "metadata": {},
   "outputs": [
    {
     "name": "stdout",
     "output_type": "stream",
     "text": [
      "Wall time: 3.44 s\n"
     ]
    }
   ],
   "source": [
    "%%time\n",
    "train_esp_sents = list(nltk.corpus.conll2002.iob_sents('esp.train'))\n",
    "test_esp_sents = list(nltk.corpus.conll2002.iob_sents('esp.testb'))\n",
    "testa_esp_sents = list(nltk.corpus.conll2002.iob_sents('esp.testa'))"
   ]
  },
  {
   "cell_type": "code",
   "execution_count": 221,
   "metadata": {},
   "outputs": [
    {
     "name": "stdout",
     "output_type": "stream",
     "text": [
      "Wall time: 2.74 s\n"
     ]
    }
   ],
   "source": [
    "%%time\n",
    "train_ned_sents = list(nltk.corpus.conll2002.iob_sents('ned.train'))\n",
    "test_ned_sents = list(nltk.corpus.conll2002.iob_sents('ned.testb'))\n",
    "testa_ned_sents = list(nltk.corpus.conll2002.iob_sents('ned.testa'))"
   ]
  },
  {
   "cell_type": "markdown",
   "metadata": {},
   "source": [
    "Let's take a look at the data representation, so we'll know what we are going to work with:"
   ]
  },
  {
   "cell_type": "code",
   "execution_count": 6,
   "metadata": {},
   "outputs": [
    {
     "data": {
      "text/plain": [
       "[('Melbourne', 'NP', 'B-LOC'),\n",
       " ('(', 'Fpa', 'O'),\n",
       " ('Australia', 'NP', 'B-LOC'),\n",
       " (')', 'Fpt', 'O'),\n",
       " (',', 'Fc', 'O'),\n",
       " ('25', 'Z', 'O'),\n",
       " ('may', 'NC', 'O'),\n",
       " ('(', 'Fpa', 'O'),\n",
       " ('EFE', 'NC', 'B-ORG'),\n",
       " (')', 'Fpt', 'O'),\n",
       " ('.', 'Fp', 'O')]"
      ]
     },
     "execution_count": 6,
     "metadata": {},
     "output_type": "execute_result"
    }
   ],
   "source": [
    "train_esp_sents[0]"
   ]
  },
  {
   "cell_type": "code",
   "execution_count": 222,
   "metadata": {},
   "outputs": [],
   "source": [
    "def special_chars(word):\n",
    "    # check if a given word contain digits or '-' or '_'\n",
    "    for char in word:\n",
    "        if char.isdigit():\n",
    "            return True\n",
    "        elif char == '-' or char == '_':\n",
    "            return True\n",
    "        else:\n",
    "            pass\n",
    "    return False"
   ]
  },
  {
   "cell_type": "code",
   "execution_count": 223,
   "metadata": {},
   "outputs": [],
   "source": [
    "def extract_features(sent, index):\n",
    "    # extract from a given sentence the features, as we thought are useful\n",
    "    word = sent[index][0]\n",
    "    postag = sent[index][1]\n",
    "    spec = special_chars(word)\n",
    "    return {'word': word, 'postag': postag, 'isNumber': word.isnumeric(), 'specialChars': spec, 'allCapital': word.isupper(),\n",
    "           'capitalized': word[0].isupper(), 'prefix': word[:2], 'suffix2': word[-2:], 'suffix3': word[-3:]}\n",
    "    "
   ]
  },
  {
   "cell_type": "code",
   "execution_count": 224,
   "metadata": {},
   "outputs": [],
   "source": [
    "# return features extracted per word\n",
    "def show_data(sent):\n",
    "    return [extract_features(sent, i) for i in range(len(sent))]"
   ]
  },
  {
   "cell_type": "code",
   "execution_count": 225,
   "metadata": {},
   "outputs": [
    {
     "data": {
      "text/plain": [
       "{'word': 'Melbourne',\n",
       " 'postag': 'NP',\n",
       " 'isNumber': False,\n",
       " 'specialChars': False,\n",
       " 'allCapital': False,\n",
       " 'capitalized': True,\n",
       " 'prefix': 'Me',\n",
       " 'suffix2': 'ne',\n",
       " 'suffix3': 'rne'}"
      ]
     },
     "execution_count": 225,
     "metadata": {},
     "output_type": "execute_result"
    }
   ],
   "source": [
    "show_data(train_esp_sents[0])[0]"
   ]
  },
  {
   "cell_type": "markdown",
   "metadata": {},
   "source": [
    "So, for each word, we get this map containing intresting features on it."
   ]
  },
  {
   "cell_type": "code",
   "execution_count": 227,
   "metadata": {},
   "outputs": [],
   "source": [
    "def get_class(sent, i):\n",
    "    # get  sentence class tagging\n",
    "    return sent[i][2]\n",
    "\n",
    "def dicts_list(data):\n",
    "    # extract features for the entire dataset\n",
    "    return sum([[extract_features(sent, i) for i in range(len(sent))] for sent in data],[])\n",
    "\n",
    "def get_all_classes(data):\n",
    "    # get class for all the dataset\n",
    "    return sum([[get_class(sent, i) for i in range(len(sent))] for sent in data],[])"
   ]
  },
  {
   "cell_type": "code",
   "execution_count": 12,
   "metadata": {},
   "outputs": [
    {
     "data": {
      "text/plain": [
       "264715"
      ]
     },
     "execution_count": 12,
     "metadata": {},
     "output_type": "execute_result"
    }
   ],
   "source": [
    "len(dicts_list(train_esp_sents))"
   ]
  },
  {
   "cell_type": "code",
   "execution_count": 13,
   "metadata": {},
   "outputs": [
    {
     "data": {
      "text/plain": [
       "'B-LOC'"
      ]
     },
     "execution_count": 13,
     "metadata": {},
     "output_type": "execute_result"
    }
   ],
   "source": [
    "get_all_classes(train_esp_sents)[0]"
   ]
  },
  {
   "cell_type": "markdown",
   "metadata": {},
   "source": [
    "Again, we will prepare the dataset, but now for the features we included"
   ]
  },
  {
   "cell_type": "code",
   "execution_count": 235,
   "metadata": {},
   "outputs": [],
   "source": [
    "X_esp_train = dicts_list(train_esp_sents)\n",
    "y_esp_train = get_all_classes(train_esp_sents)\n",
    "\n",
    "X_esp_test = dicts_list(test_esp_sents)\n",
    "y_esp_test = get_all_classes(test_esp_sents)\n",
    "\n",
    "X_esp_testa = dicts_list(testa_esp_sents)\n",
    "y_esp_testa = get_all_classes(testa_esp_sents)"
   ]
  },
  {
   "cell_type": "code",
   "execution_count": 236,
   "metadata": {},
   "outputs": [],
   "source": [
    "X_ned_train = dicts_list(train_ned_sents)\n",
    "y_ned_train = get_all_classes(train_ned_sents)\n",
    "\n",
    "X_ned_test = dicts_list(test_ned_sents)\n",
    "y_ned_test = get_all_classes(test_ned_sents)\n",
    "\n",
    "X_ned_testa = dicts_list(testa_ned_sents)\n",
    "y_ned_testa = get_all_classes(testa_ned_sents)"
   ]
  },
  {
   "cell_type": "markdown",
   "metadata": {},
   "source": [
    "<a name=\"q3.1.2\"></a>\n",
    "<h4>Q3.1.2 Model Training</h4>\n",
    "\n",
    "Train the model using a logistic regression classifier and experiment with better features - \n",
    "looking at the tags of the previous word, the previous word and the following word (add padding words in the vectorizer)."
   ]
  },
  {
   "cell_type": "markdown",
   "metadata": {},
   "source": [
    "We first begin to train the model with the features we extracted from the data, we will see if those features were a good choice by the accuracy of the model after we train it."
   ]
  },
  {
   "cell_type": "code",
   "execution_count": 243,
   "metadata": {},
   "outputs": [],
   "source": [
    "from sklearn.linear_model import LogisticRegression\n",
    "from sklearn.pipeline import Pipeline\n",
    "from sklearn.feature_extraction import DictVectorizer\n",
    "\n",
    "def create_pipeline():\n",
    "    pipeline = Pipeline([\n",
    "        ('vectorizer', DictVectorizer(sparse=True)),\n",
    "        ('classifier', LogisticRegression(solver='sag', max_iter=1000))\n",
    "    ])\n",
    "    # this is the pipeline we will train\n",
    "    return pipeline\n",
    "\n",
    "# create the pipeline to use\n",
    "pipeline = create_pipeline()"
   ]
  },
  {
   "cell_type": "code",
   "execution_count": 244,
   "metadata": {},
   "outputs": [
    {
     "data": {
      "text/plain": [
       "Pipeline(steps=[('vectorizer', DictVectorizer()),\n",
       "                ('classifier',\n",
       "                 LogisticRegression(max_iter=1000, solver='sag'))])"
      ]
     },
     "execution_count": 244,
     "metadata": {},
     "output_type": "execute_result"
    }
   ],
   "source": [
    "pipeline.fit(X_esp_train, y_esp_train)"
   ]
  },
  {
   "cell_type": "code",
   "execution_count": 245,
   "metadata": {},
   "outputs": [
    {
     "data": {
      "text/plain": [
       "array(['B-LOC', 'I-LOC', 'O', ..., 'O', 'O', 'O'], dtype='<U6')"
      ]
     },
     "execution_count": 245,
     "metadata": {},
     "output_type": "execute_result"
    }
   ],
   "source": [
    "predictions_esp = pipeline.predict(X_esp_test)\n",
    "predictions_esp"
   ]
  },
  {
   "cell_type": "code",
   "execution_count": 246,
   "metadata": {},
   "outputs": [],
   "source": [
    "from sklearn import metrics\n",
    "from itertools import product\n",
    "from sklearn.metrics import accuracy_score\n",
    "\n",
    "classes = [loc+'-'+ne_type for loc,ne_type in product(['B','I'],['LOC','PER','ORG','MISC'])]+['O']\n",
    "\n",
    "def print_prediction(predictions, y_esp_test):\n",
    "    stats = metrics.classification_report(y_esp_test, predictions, digits=3, labels=classes)\n",
    "    print('accuracy:{0}\\n'.format(accuracy_score(predictions, y_esp_test)))\n",
    "    print(stats)"
   ]
  },
  {
   "cell_type": "code",
   "execution_count": 247,
   "metadata": {},
   "outputs": [
    {
     "name": "stdout",
     "output_type": "stream",
     "text": [
      "accuracy:0.9597927541575302\n",
      "\n",
      "              precision    recall  f1-score   support\n",
      "\n",
      "       B-LOC      0.738     0.732     0.735      1084\n",
      "       B-PER      0.830     0.865     0.847       735\n",
      "       B-ORG      0.784     0.823     0.803      1400\n",
      "      B-MISC      0.563     0.437     0.492       339\n",
      "       I-LOC      0.699     0.400     0.509       325\n",
      "       I-PER      0.784     0.901     0.838       634\n",
      "       I-ORG      0.726     0.551     0.626      1104\n",
      "      I-MISC      0.603     0.294     0.396       557\n",
      "           O      0.985     0.998     0.992     45355\n",
      "\n",
      "    accuracy                          0.960     51533\n",
      "   macro avg      0.746     0.667     0.693     51533\n",
      "weighted avg      0.956     0.960     0.956     51533\n",
      "\n"
     ]
    }
   ],
   "source": [
    "print_prediction(predictions_esp, y_esp_test)"
   ]
  },
  {
   "cell_type": "code",
   "execution_count": 248,
   "metadata": {},
   "outputs": [],
   "source": [
    "from pandas import DataFrame\n",
    "\n",
    "def print_matrix(predictions, y_esp_test):\n",
    "    confusion_matrix = metrics.confusion_matrix(y_esp_test, predictions, labels=classes)\n",
    "    confusion_matrix = confusion_matrix.astype('float') / confusion_matrix.sum(axis=1)[:, np.newaxis]\n",
    "    confusion_df = DataFrame(confusion_matrix, index=classes, columns=classes)\n",
    "    fig1 = plt.figure('Confusion Matrix', [8,8])\n",
    "    ax1 = plt.axes()\n",
    "    ax1.set_title('normalized confusion matrix')\n",
    "    fig1 = sns.heatmap(confusion_df,annot=True,annot_kws={\"size\": 9})"
   ]
  },
  {
   "cell_type": "code",
   "execution_count": 249,
   "metadata": {},
   "outputs": [
    {
     "data": {
      "image/png": "[encoded data removed]",
      "text/plain": [
       "<Figure size 576x576 with 2 Axes>"
      ]
     },
     "metadata": {
      "needs_background": "light"
     },
     "output_type": "display_data"
    }
   ],
   "source": [
    "print_matrix(predictions_esp, y_esp_test)"
   ]
  },
  {
   "cell_type": "markdown",
   "metadata": {},
   "source": [
    "Now we will look at the same feature exatraction but for the dutch dataset. It will be intresting to see the results, compare to the results we just received on the spanish dataset.\n"
   ]
  },
  {
   "cell_type": "code",
   "execution_count": 250,
   "metadata": {},
   "outputs": [],
   "source": [
    "pipeline.fit(X_ned_train, y_ned_train)\n",
    "predictions_ned = pipeline.predict(X_ned_test)"
   ]
  },
  {
   "cell_type": "code",
   "execution_count": 251,
   "metadata": {},
   "outputs": [
    {
     "name": "stdout",
     "output_type": "stream",
     "text": [
      "accuracy:0.9743883847549909\n",
      "\n",
      "              precision    recall  f1-score   support\n",
      "\n",
      "       B-LOC      0.824     0.748     0.784       774\n",
      "       B-PER      0.728     0.842     0.781      1098\n",
      "       B-ORG      0.743     0.643     0.689       882\n",
      "      B-MISC      0.790     0.703     0.744      1187\n",
      "       I-LOC      0.657     0.469     0.548        49\n",
      "       I-PER      0.723     0.884     0.795       807\n",
      "       I-ORG      0.803     0.510     0.624       551\n",
      "      I-MISC      0.691     0.344     0.459       410\n",
      "           O      0.993     0.999     0.996     63117\n",
      "\n",
      "    accuracy                          0.974     68875\n",
      "   macro avg      0.772     0.682     0.713     68875\n",
      "weighted avg      0.973     0.974     0.973     68875\n",
      "\n"
     ]
    }
   ],
   "source": [
    "print_prediction(predictions_ned, y_ned_test)"
   ]
  },
  {
   "cell_type": "code",
   "execution_count": 252,
   "metadata": {},
   "outputs": [
    {
     "data": {
      "image/png": "[encoded data removed]",
      "text/plain": [
       "<Figure size 576x576 with 2 Axes>"
      ]
     },
     "metadata": {
      "needs_background": "light"
     },
     "output_type": "display_data"
    }
   ],
   "source": [
    "print_matrix(predictions_ned, y_ned_test)"
   ]
  },
  {
   "cell_type": "markdown",
   "metadata": {},
   "source": [
    "We can tell that the results of the dutch dataset are better, although we used the same feature extraction. It implies that the features we chose are more informatic for dutch than for spanish, it is probably explained by the way those languages are 'built'. "
   ]
  },
  {
   "cell_type": "markdown",
   "metadata": {},
   "source": [
    "\n",
    "\n",
    "Now, we will try to improve the features extractor. We will add more features that will give us more information on the data."
   ]
  },
  {
   "cell_type": "code",
   "execution_count": 253,
   "metadata": {},
   "outputs": [],
   "source": [
    "def extract_more_features(sent, index):\n",
    "    word = sent[index][0]\n",
    "    postag = sent[index][1]\n",
    "    spec = special_chars(word)\n",
    "    features =  {'word': word, 'postag': postag, 'isNumber': word.isnumeric(), 'specialChars': spec, 'allCapital': word.isupper(),\n",
    "           'capitalized': word[0].isupper(), 'prefix': word[:2], 'suffix2': word[-2:], 'suffix3': word[-3:]}\n",
    "    \n",
    "    # information about the previous word\n",
    "    if index > 0:\n",
    "        prev_word = sent[index-1][0]\n",
    "        prev_postag = sent[index-1][1]\n",
    "        features.update({'prevWord': prev_word, 'prevPostag': prev_postag})\n",
    "    else:\n",
    "        features.update({'prevWord': 'BOS', 'prevPostag': 'BOS'}) \n",
    "    \n",
    "    # information about the next word\n",
    "    if index < len(sent) -1:\n",
    "        next_word = sent[index+1][0]\n",
    "        next_postag = sent[index+1][1]\n",
    "        features.update({'nextWord': next_word, 'nextPostag': next_postag})\n",
    "    else:\n",
    "        features.update({'nextWord': 'EOS', 'nextPostag': 'EOS'}) \n",
    "        \n",
    "    return features"
   ]
  },
  {
   "cell_type": "code",
   "execution_count": 254,
   "metadata": {},
   "outputs": [
    {
     "data": {
      "text/plain": [
       "{'word': 'Melbourne',\n",
       " 'postag': 'NP',\n",
       " 'isNumber': False,\n",
       " 'specialChars': False,\n",
       " 'allCapital': False,\n",
       " 'capitalized': True,\n",
       " 'prefix': 'Me',\n",
       " 'suffix2': 'ne',\n",
       " 'suffix3': 'rne',\n",
       " 'prevWord': 'BOS',\n",
       " 'prevPostag': 'BOS',\n",
       " 'nextWord': '(',\n",
       " 'nextPostag': 'Fpa'}"
      ]
     },
     "execution_count": 254,
     "metadata": {},
     "output_type": "execute_result"
    }
   ],
   "source": [
    "def show_data(sent):\n",
    "    return [extract_more_features(sent, i) for i in range(len(sent))]\n",
    "\n",
    "show_data(train_esp_sents[0])[0]"
   ]
  },
  {
   "cell_type": "code",
   "execution_count": 255,
   "metadata": {},
   "outputs": [],
   "source": [
    "def dicts_list(data):\n",
    "    return sum([[extract_more_features(sent, i) for i in range(len(sent))] for sent in data],[])"
   ]
  },
  {
   "cell_type": "markdown",
   "metadata": {},
   "source": [
    "And once again, we will extract features for our data so we could train a model with it."
   ]
  },
  {
   "cell_type": "code",
   "execution_count": 256,
   "metadata": {},
   "outputs": [],
   "source": [
    "X_esp_train = dicts_list(train_esp_sents)\n",
    "y_esp_train = get_all_classes(train_esp_sents)\n",
    "\n",
    "X_esp_test = dicts_list(test_esp_sents)\n",
    "y_esp_test = get_all_classes(test_esp_sents)\n",
    "\n",
    "X_esp_testa = dicts_list(testa_esp_sents)\n",
    "y_esp_testa = get_all_classes(testa_esp_sents)"
   ]
  },
  {
   "cell_type": "code",
   "execution_count": 257,
   "metadata": {},
   "outputs": [],
   "source": [
    "X_ned_train = dicts_list(train_ned_sents)\n",
    "y_ned_train = get_all_classes(train_ned_sents)\n",
    "\n",
    "X_ned_test = dicts_list(test_ned_sents)\n",
    "y_ned_test = get_all_classes(test_ned_sents)\n",
    "\n",
    "X_ned_testa = dicts_list(testa_ned_sents)\n",
    "y_ned_testa = get_all_classes(testa_ned_sents)"
   ]
  },
  {
   "cell_type": "code",
   "execution_count": 258,
   "metadata": {},
   "outputs": [],
   "source": [
    "pipeline.fit(X_esp_train, y_esp_train)\n",
    "predictions_esp = pipeline.predict(X_esp_test)"
   ]
  },
  {
   "cell_type": "code",
   "execution_count": 259,
   "metadata": {},
   "outputs": [
    {
     "name": "stdout",
     "output_type": "stream",
     "text": [
      "accuracy:0.9597927541575302\n",
      "\n",
      "              precision    recall  f1-score   support\n",
      "\n",
      "       B-LOC      0.738     0.732     0.735      1084\n",
      "       B-PER      0.830     0.865     0.847       735\n",
      "       B-ORG      0.784     0.823     0.803      1400\n",
      "      B-MISC      0.563     0.437     0.492       339\n",
      "       I-LOC      0.699     0.400     0.509       325\n",
      "       I-PER      0.784     0.901     0.838       634\n",
      "       I-ORG      0.726     0.551     0.626      1104\n",
      "      I-MISC      0.603     0.294     0.396       557\n",
      "           O      0.985     0.998     0.992     45355\n",
      "\n",
      "    accuracy                          0.960     51533\n",
      "   macro avg      0.746     0.667     0.693     51533\n",
      "weighted avg      0.956     0.960     0.956     51533\n",
      "\n"
     ]
    }
   ],
   "source": [
    "print_prediction(predictions_esp, y_esp_test)"
   ]
  },
  {
   "cell_type": "code",
   "execution_count": 260,
   "metadata": {},
   "outputs": [
    {
     "data": {
      "image/png": "[encoded data removed]",
      "text/plain": [
       "<Figure size 576x576 with 2 Axes>"
      ]
     },
     "metadata": {
      "needs_background": "light"
     },
     "output_type": "display_data"
    }
   ],
   "source": [
    "print_matrix(predictions_esp, y_esp_test)"
   ]
  },
  {
   "cell_type": "markdown",
   "metadata": {},
   "source": [
    "In the spanish dataset the results are better now!\n",
    "\n",
    "Let's look at the dutch dataset:"
   ]
  },
  {
   "cell_type": "code",
   "execution_count": 261,
   "metadata": {},
   "outputs": [],
   "source": [
    "pipeline.fit(X_ned_train, y_ned_train)\n",
    "predictions_ned = pipeline.predict(X_ned_test)"
   ]
  },
  {
   "cell_type": "code",
   "execution_count": 262,
   "metadata": {},
   "outputs": [
    {
     "name": "stdout",
     "output_type": "stream",
     "text": [
      "accuracy:0.9743883847549909\n",
      "\n",
      "              precision    recall  f1-score   support\n",
      "\n",
      "       B-LOC      0.824     0.748     0.784       774\n",
      "       B-PER      0.728     0.842     0.781      1098\n",
      "       B-ORG      0.743     0.643     0.689       882\n",
      "      B-MISC      0.790     0.703     0.744      1187\n",
      "       I-LOC      0.657     0.469     0.548        49\n",
      "       I-PER      0.723     0.884     0.795       807\n",
      "       I-ORG      0.803     0.510     0.624       551\n",
      "      I-MISC      0.691     0.344     0.459       410\n",
      "           O      0.993     0.999     0.996     63117\n",
      "\n",
      "    accuracy                          0.974     68875\n",
      "   macro avg      0.772     0.682     0.713     68875\n",
      "weighted avg      0.973     0.974     0.973     68875\n",
      "\n"
     ]
    }
   ],
   "source": [
    "print_prediction(predictions_ned, y_ned_test)"
   ]
  },
  {
   "cell_type": "code",
   "execution_count": 263,
   "metadata": {},
   "outputs": [
    {
     "data": {
      "image/png": "[encoded data removed]",
      "text/plain": [
       "<Figure size 576x576 with 2 Axes>"
      ]
     },
     "metadata": {
      "needs_background": "light"
     },
     "output_type": "display_data"
    }
   ],
   "source": [
    "print_matrix(predictions_ned, y_ned_test)"
   ]
  },
  {
   "cell_type": "markdown",
   "metadata": {},
   "source": [
    "The results are better also in dutch.\n",
    "\n",
    "We can deduce from that - adding features with information on the previous and next words of each word, helps the model 'learn the datset' in a better way and improve the results."
   ]
  },
  {
   "cell_type": "markdown",
   "metadata": {},
   "source": [
    "<a name=\"q3.1.3\"></a>\n",
    "<h4>Q3.1.3 Greedy Tagging vs. Sequence Tagging</h4>\n",
    "\n",
    "We implemented above a version of NER which is based on <i>greedy tagging</i>: that is, without optimizing the sequence of tags \n",
    "as we would obtain by training an HMM or CRF model.  \n",
    "In particular, we did not check that the BIO tags produced by the tagger is a legal sequence.\n",
    "Write code to identify sequences of BIO tags which are illegal and report on the frequency of this problem for each type\n",
    "of illegal tags transition (O-IX, IX-IY, BX-IY).  Comment on your observations."
   ]
  },
  {
   "cell_type": "code",
   "execution_count": 265,
   "metadata": {},
   "outputs": [],
   "source": [
    "I_class = [label for label in classes if label[0]=='I']\n",
    "B_class = [label for label in classes if label[0]=='B']\n",
    "O_class = ['O']"
   ]
  },
  {
   "cell_type": "code",
   "execution_count": 266,
   "metadata": {},
   "outputs": [],
   "source": [
    "def is_legal(prev, curr):\n",
    "    # check if 2 adjencent tags are legal\n",
    "    if prev in O_class and curr in I_class:\n",
    "        return False\n",
    "    if prev in I_class and curr in I_class and I_class.index(prev) != I_class.index(curr):\n",
    "        return False\n",
    "    if prev in B_class and curr in I_class and B_class.index(prev) != I_class.index(curr):\n",
    "        return False\n",
    "    else:\n",
    "        return True"
   ]
  },
  {
   "cell_type": "code",
   "execution_count": 267,
   "metadata": {},
   "outputs": [],
   "source": [
    "def illegal(data, pipeline):\n",
    "    illegals = []\n",
    "    for sent in data:\n",
    "        # get the features\n",
    "        features = extract_more_features(sent, 0)\n",
    "        prev = pipeline.predict(features)[0]\n",
    "        # run over all data extracted from the features extrctor and check if legal\n",
    "        for index in range(1,len(sent)):\n",
    "            features2 = extract_more_features(sent, index)\n",
    "            curr = pipeline.predict(features2)[0]\n",
    "            if not is_legal(prev, curr):\n",
    "                # the 2 words are illegal with this tagging one after the other\n",
    "                illegals.append({'lastTag':prev,'currentTag':curr,'lastType':prev[0],'currentType':curr[0],\n",
    "                          'lastNER':'O' if prev=='O' else prev[2:], 'currentNER':'O' if curr=='O' else curr[2:],\n",
    "                          'lastWord':features['word'],'currentWord':features2['word']})\n",
    "            prev = curr\n",
    "            features = features2\n",
    "    # return all illegal occurrences\n",
    "    return illegals"
   ]
  },
  {
   "cell_type": "code",
   "execution_count": 268,
   "metadata": {},
   "outputs": [],
   "source": [
    "illegal_list = illegal(train_esp_sents, pipeline)"
   ]
  },
  {
   "cell_type": "code",
   "execution_count": 51,
   "metadata": {},
   "outputs": [
    {
     "name": "stdout",
     "output_type": "stream",
     "text": [
      "we found 712 illegal tags transition\n"
     ]
    }
   ],
   "source": [
    "print(f'we found {len(illegal_list)} illegal tags transition')"
   ]
  },
  {
   "cell_type": "markdown",
   "metadata": {},
   "source": [
    "This is the distribution of illegal occurrences between the three different types"
   ]
  },
  {
   "cell_type": "code",
   "execution_count": 58,
   "metadata": {},
   "outputs": [
    {
     "data": {
      "image/png": "[encoded data removed]",
      "text/plain": [
       "<Figure size 720x720 with 1 Axes>"
      ]
     },
     "metadata": {
      "needs_background": "light"
     },
     "output_type": "display_data"
    }
   ],
   "source": [
    "df = DataFrame(illegal_list)\n",
    "fig1 = plt.figure('Transition types', [10,10])\n",
    "df['transition type'] = df['lastType'] + '->' + df['currentType']\n",
    "fig1 = sns.countplot(x='transition type', data=df)"
   ]
  },
  {
   "cell_type": "markdown",
   "metadata": {},
   "source": [
    "Now we want to look at the different distributions inside each of the illegal types:"
   ]
  },
  {
   "cell_type": "code",
   "execution_count": 64,
   "metadata": {},
   "outputs": [
    {
     "data": {
      "text/plain": [
       "[]"
      ]
     },
     "execution_count": 64,
     "metadata": {},
     "output_type": "execute_result"
    },
    {
     "data": {
      "image/png": "[encoded data removed]",
      "text/plain": [
       "<Figure size 576x576 with 1 Axes>"
      ]
     },
     "metadata": {
      "needs_background": "light"
     },
     "output_type": "display_data"
    }
   ],
   "source": [
    "df['transition ner'] = df['lastNER'] + '->' + df['currentNER']\n",
    "bi_df = df[df['transition type']=='B->I']\n",
    "fig1 = plt.figure('Transition types', [8, 8])\n",
    "fig1 = sns.countplot(x='transition ner', order = bi_df['transition ner'].value_counts().index, data=bi_df)\n",
    "fig1.set_xticklabels(fig1.get_xticklabels(), rotation=90, ha=\"right\")\n",
    "fig1.plot()"
   ]
  },
  {
   "cell_type": "markdown",
   "metadata": {},
   "source": [
    "We can see that from LOC to ORG repeats much more than the oters"
   ]
  },
  {
   "cell_type": "code",
   "execution_count": 66,
   "metadata": {},
   "outputs": [
    {
     "data": {
      "text/plain": [
       "[]"
      ]
     },
     "execution_count": 66,
     "metadata": {},
     "output_type": "execute_result"
    },
    {
     "data": {
      "image/png": "[encoded data removed]",
      "text/plain": [
       "<Figure size 576x576 with 1 Axes>"
      ]
     },
     "metadata": {
      "needs_background": "light"
     },
     "output_type": "display_data"
    }
   ],
   "source": [
    "ii_df = df[df['transition type']=='I->I']\n",
    "fig1 = plt.figure('Transition types', [8, 8])\n",
    "fig1 = sns.countplot(x='transition ner', order = ii_df['transition ner'].value_counts().index, data=ii_df)\n",
    "fig1.set_xticklabels(fig1.get_xticklabels(), rotation=90, ha=\"right\")\n",
    "fig1.plot()"
   ]
  },
  {
   "cell_type": "code",
   "execution_count": 68,
   "metadata": {},
   "outputs": [
    {
     "data": {
      "text/plain": [
       "[]"
      ]
     },
     "execution_count": 68,
     "metadata": {},
     "output_type": "execute_result"
    },
    {
     "data": {
      "image/png": "[encoded data removed]",
      "text/plain": [
       "<Figure size 576x576 with 1 Axes>"
      ]
     },
     "metadata": {
      "needs_background": "light"
     },
     "output_type": "display_data"
    }
   ],
   "source": [
    "oi_df = df[df['transition type']=='O->I']\n",
    "fig1 = plt.figure('Transition types', [8, 8])\n",
    "fig1 = sns.countplot(x='currentNER', order = oi_df['currentNER'].value_counts().index, data=oi_df)\n",
    "fig1.set_xticklabels(fig1.get_xticklabels(), rotation=90, ha=\"right\")\n",
    "fig1.plot()"
   ]
  },
  {
   "cell_type": "markdown",
   "metadata": {},
   "source": [
    "This is how it looks overall, between all the different illegal options.\n",
    "\n",
    "O->I MISC, O -> I PER\n",
    "\n",
    "this types repeats a lot more time than all the others."
   ]
  },
  {
   "cell_type": "code",
   "execution_count": 69,
   "metadata": {},
   "outputs": [
    {
     "data": {
      "text/plain": [
       "[]"
      ]
     },
     "execution_count": 69,
     "metadata": {},
     "output_type": "execute_result"
    },
    {
     "data": {
      "image/png": "[encoded data removed]",
      "text/plain": [
       "<Figure size 576x576 with 1 Axes>"
      ]
     },
     "metadata": {
      "needs_background": "light"
     },
     "output_type": "display_data"
    }
   ],
   "source": [
    "df['transition'] = df['lastTag'] + '->' + df['currentTag']\n",
    "fig1 = plt.figure('Transition types', [8, 8])\n",
    "fig1 = sns.countplot(x='transition', order = df['transition'].value_counts().index, data=df)\n",
    "fig1.set_xticklabels(fig1.get_xticklabels(), rotation=90, ha=\"right\")\n",
    "fig1.plot()"
   ]
  },
  {
   "cell_type": "markdown",
   "metadata": {},
   "source": [
    "<a name=\"q3.2\"></a>\n",
    "<h3>Q3.2 Using Word Embeddings</h3>\n",
    "\n",
    "One way to improve a greedy tagger for NER is to use Word Embeddings as features.\n",
    "A convenient package to manipulate Word2Vec word embeddings is provided in the <a href=\"https://radimrehurek.com/gensim/\">gensim</a> package by Radim Rehurek.\n",
    "To install it, use:"
   ]
  },
  {
   "cell_type": "code",
   "execution_count": 359,
   "metadata": {},
   "outputs": [
    {
     "name": "stdout",
     "output_type": "stream",
     "text": [
      "Requirement already satisfied: gensim in c:\\users\\yaelj\\miniconda3\\envs\\nlp21\\lib\\site-packages (3.8.3)\n",
      "Requirement already satisfied: smart-open>=1.8.1 in c:\\users\\yaelj\\miniconda3\\envs\\nlp21\\lib\\site-packages (from gensim) (4.0.1)\n",
      "Requirement already satisfied: Cython==0.29.14 in c:\\users\\yaelj\\miniconda3\\envs\\nlp21\\lib\\site-packages (from gensim) (0.29.14)\n",
      "Requirement already satisfied: six>=1.5.0 in c:\\users\\yaelj\\miniconda3\\envs\\nlp21\\lib\\site-packages (from gensim) (1.15.0)\n",
      "Requirement already satisfied: scipy>=0.18.1 in c:\\users\\yaelj\\miniconda3\\envs\\nlp21\\lib\\site-packages (from gensim) (1.5.2)\n",
      "Requirement already satisfied: numpy>=1.11.3 in c:\\users\\yaelj\\miniconda3\\envs\\nlp21\\lib\\site-packages (from gensim) (1.19.2)\n"
     ]
    }
   ],
   "source": [
    "!pip install gensim"
   ]
  },
  {
   "cell_type": "markdown",
   "metadata": {},
   "source": [
    "You must also download a pre-trained Word2Vec or fastText word embedding model.\n",
    "The models must naturally be in Spanish or Dutch. (Only test word embeddings for one language.)\n",
    "You can find pre-trained word embedding models in different formats:\n",
    "<ol>\n",
    "<li><a href=\"https://github.com/facebookresearch/fastText/blob/master/docs/pretrained-vectors.md\">fastText pretrained models</a> (includes models for 294 languages)\n",
    "<li><a href=\"https://github.com/uchile-nlp/spanish-word-embeddings\">Spanish Word2vec models</a> \n",
    "</ol>\n",
    "\n",
    "Specific information on manipulating word vectors with Gensim is provided in Gensim with the <a href=\"https://radimrehurek.com/gensim/models/keyedvectors.html\">KeyedVector</a>.\n",
    "Practical examples are available for Spanish in this <a href=\"https://github.com/uchile-nlp/spanish-word-embeddings/blob/master/examples/Ejemplo_WordVectors.ipynb\">notebook</a>.\n",
    "(Pay attention that word embeddings large are pretty big files - about 3GB when uncompressed.)\n",
    "\n",
    "Your task:\n",
    "<ol>\n",
    "<li>Add word embeddings as dense vectors to the features of your NER classifier for each word feature (current word, previous word, next word) - either in Spanish or in Dutch.\n",
    "<li>Retrain the model and report on performance.  Comment.\n",
    "</ol>"
   ]
  },
  {
   "cell_type": "code",
   "execution_count": 360,
   "metadata": {},
   "outputs": [],
   "source": [
    "import warnings\n",
    "warnings.filterwarnings(action='ignore', category=UserWarning, module='gensim')\n",
    "from gensim.models import Word2Vec\n",
    "from gensim.test.utils import datapath\n",
    "from gensim.models import KeyedVectors\n",
    "from sklearn.base import BaseEstimator\n",
    "from sklearn.base import TransformerMixin\n",
    "from sklearn.pipeline import FeatureUnion"
   ]
  },
  {
   "cell_type": "code",
   "execution_count": 361,
   "metadata": {
    "scrolled": true
   },
   "outputs": [],
   "source": [
    "# create vector from the words in the dataset\n",
    "wordvectors_file_vec = 'data/wiki.es.vec'\n",
    "wordvectors = KeyedVectors.load_word2vec_format(wordvectors_file_vec, binary=False)"
   ]
  },
  {
   "cell_type": "code",
   "execution_count": 362,
   "metadata": {},
   "outputs": [
    {
     "name": "stdout",
     "output_type": "stream",
     "text": [
      "the precentage of words in test dataset but not in the embedding: 0.02990316884326548\n"
     ]
    }
   ],
   "source": [
    "len_test = len(X_esp_test)\n",
    "not_embedded = len([w for w in X_esp_test if w['word'].lower() not in wordvectors])\n",
    "print(f'the precentage of words in test dataset but not in the embedding: {not_embedded/len_test}')"
   ]
  },
  {
   "cell_type": "markdown",
   "metadata": {},
   "source": [
    "Let's take a look at the object we just created:"
   ]
  },
  {
   "cell_type": "code",
   "execution_count": 363,
   "metadata": {},
   "outputs": [
    {
     "data": {
      "text/plain": [
       "{'de': <gensim.models.keyedvectors.Vocab at 0x2eb0fb264c0>,\n",
       " '</s>': <gensim.models.keyedvectors.Vocab at 0x2eb0fb26670>,\n",
       " ',': <gensim.models.keyedvectors.Vocab at 0x2eb0fb14f10>,\n",
       " '.': <gensim.models.keyedvectors.Vocab at 0x2eb0fb145b0>,\n",
       " 'la': <gensim.models.keyedvectors.Vocab at 0x2eb0fb14c40>,\n",
       " 'en': <gensim.models.keyedvectors.Vocab at 0x2eb0fb14b50>,\n",
       " 'el': <gensim.models.keyedvectors.Vocab at 0x2eb0fb14b20>,\n",
       " 'y': <gensim.models.keyedvectors.Vocab at 0x2eb0fb14490>,\n",
       " '-': <gensim.models.keyedvectors.Vocab at 0x2eb0fb14130>,\n",
       " ')': <gensim.models.keyedvectors.Vocab at 0x2eb0fb146a0>,\n",
       " 'a': <gensim.models.keyedvectors.Vocab at 0x2eb0fb14670>,\n",
       " '(': <gensim.models.keyedvectors.Vocab at 0x2eb0fb14580>,\n",
       " 'que': <gensim.models.keyedvectors.Vocab at 0x2eb0fb146d0>,\n",
       " \"'\": <gensim.models.keyedvectors.Vocab at 0x2eb0fb14430>,\n",
       " 'del': <gensim.models.keyedvectors.Vocab at 0x2eb110b7b80>,\n",
       " 'los': <gensim.models.keyedvectors.Vocab at 0x2eb110b7730>,\n",
       " 'se': <gensim.models.keyedvectors.Vocab at 0x2eb110b7760>,\n",
       " 'por': <gensim.models.keyedvectors.Vocab at 0x2eb110b77f0>,\n",
       " 'un': <gensim.models.keyedvectors.Vocab at 0x2eb110b76d0>,\n",
       " 'con': <gensim.models.keyedvectors.Vocab at 0x2eb110b78e0>,\n",
       " 'las': <gensim.models.keyedvectors.Vocab at 0x2eb110b7640>,\n",
       " 'una': <gensim.models.keyedvectors.Vocab at 0x2eb110b78b0>,\n",
       " 'su': <gensim.models.keyedvectors.Vocab at 0x2eb11b53d00>,\n",
       " 'es': <gensim.models.keyedvectors.Vocab at 0x2eb103cedc0>,\n",
       " 'categoría': <gensim.models.keyedvectors.Vocab at 0x2eb103ce610>,\n",
       " 'para': <gensim.models.keyedvectors.Vocab at 0x2eb103cecd0>,\n",
       " 'como': <gensim.models.keyedvectors.Vocab at 0x2eb103ce700>,\n",
       " 'al': <gensim.models.keyedvectors.Vocab at 0x2eb103ce9d0>,\n",
       " 'rd': <gensim.models.keyedvectors.Vocab at 0x2eb103cea60>,\n",
       " 'fue': <gensim.models.keyedvectors.Vocab at 0x2eb103cec10>,\n",
       " 'no': <gensim.models.keyedvectors.Vocab at 0x2eb103ce250>,\n",
       " 'más': <gensim.models.keyedvectors.Vocab at 0x2eb103ce970>,\n",
       " 'o': <gensim.models.keyedvectors.Vocab at 0x2eb103cea30>,\n",
       " 'score': <gensim.models.keyedvectors.Vocab at 0x2eb103ce7f0>,\n",
       " 'lo': <gensim.models.keyedvectors.Vocab at 0x2eb103ce370>,\n",
       " 'sus': <gensim.models.keyedvectors.Vocab at 0x2eb103ce1f0>,\n",
       " 'también': <gensim.models.keyedvectors.Vocab at 0x2eb103ceb50>,\n",
       " 'entre': <gensim.models.keyedvectors.Vocab at 0x2eb103ce490>,\n",
       " '#': <gensim.models.keyedvectors.Vocab at 0x2eb103cebe0>,\n",
       " 'the': <gensim.models.keyedvectors.Vocab at 0x2eb103ceaf0>,\n",
       " '#redirección': <gensim.models.keyedvectors.Vocab at 0x2eb103cee80>,\n",
       " 'este': <gensim.models.keyedvectors.Vocab at 0x2eb103ced00>,\n",
       " 'pero': <gensim.models.keyedvectors.Vocab at 0x2eb103cec40>,\n",
       " '%': <gensim.models.keyedvectors.Vocab at 0x2eb103ceac0>,\n",
       " 'años': <gensim.models.keyedvectors.Vocab at 0x2eb103ce3a0>,\n",
       " 'dos': <gensim.models.keyedvectors.Vocab at 0x2eb103ce460>,\n",
       " 'son': <gensim.models.keyedvectors.Vocab at 0x2eb103ce100>,\n",
       " 'sobre': <gensim.models.keyedvectors.Vocab at 0x2eb103ce550>,\n",
       " 'año': <gensim.models.keyedvectors.Vocab at 0x2eb103ce520>,\n",
       " 'le': <gensim.models.keyedvectors.Vocab at 0x2eb103ce5b0>,\n",
       " 'desde': <gensim.models.keyedvectors.Vocab at 0x2eb103ce160>,\n",
       " 'esta': <gensim.models.keyedvectors.Vocab at 0x2eb103ceb20>,\n",
       " 'of': <gensim.models.keyedvectors.Vocab at 0x2eb103ce1c0>,\n",
       " 'enlaces': <gensim.models.keyedvectors.Vocab at 0x2eb103ce2e0>,\n",
       " 'ha': <gensim.models.keyedvectors.Vocab at 0x2eb103cefd0>,\n",
       " 'hasta': <gensim.models.keyedvectors.Vocab at 0x2eb103ce4c0>,\n",
       " 'externos': <gensim.models.keyedvectors.Vocab at 0x2eb0fb22790>,\n",
       " 'ciudad': <gensim.models.keyedvectors.Vocab at 0x2eb0fb22850>,\n",
       " 'ser': <gensim.models.keyedvectors.Vocab at 0x2eb0fb22c10>,\n",
       " 'parte': <gensim.models.keyedvectors.Vocab at 0x2eb0fb22e50>,\n",
       " 'durante': <gensim.models.keyedvectors.Vocab at 0x2eb0fb22d30>,\n",
       " 'e': <gensim.models.keyedvectors.Vocab at 0x2eb0fb22e20>,\n",
       " 'sin': <gensim.models.keyedvectors.Vocab at 0x2eb0fb222b0>,\n",
       " 'donde': <gensim.models.keyedvectors.Vocab at 0x2eb0fb22be0>,\n",
       " 'san': <gensim.models.keyedvectors.Vocab at 0x2eb0fb22a00>,\n",
       " 'era': <gensim.models.keyedvectors.Vocab at 0x2eb0fb22820>,\n",
       " 'nacional': <gensim.models.keyedvectors.Vocab at 0x2eb0fb22b20>,\n",
       " 'primera': <gensim.models.keyedvectors.Vocab at 0x2eb0fb22550>,\n",
       " 'está': <gensim.models.keyedvectors.Vocab at 0x2eb0fb22490>,\n",
       " 'team': <gensim.models.keyedvectors.Vocab at 0x2eb0fb22880>,\n",
       " '\"': <gensim.models.keyedvectors.Vocab at 0x2eb0fb22280>,\n",
       " 'cuando': <gensim.models.keyedvectors.Vocab at 0x2eb0fb22310>,\n",
       " 'seed': <gensim.models.keyedvectors.Vocab at 0x2eb0fb222e0>,\n",
       " 'nombre': <gensim.models.keyedvectors.Vocab at 0x2eb0fb22fa0>,\n",
       " 'estados': <gensim.models.keyedvectors.Vocab at 0x2eb0fb229a0>,\n",
       " 'utc': <gensim.models.keyedvectors.Vocab at 0x2eb0fb22b50>,\n",
       " 'siglo': <gensim.models.keyedvectors.Vocab at 0x2eb0fb228b0>,\n",
       " 'después': <gensim.models.keyedvectors.Vocab at 0x2eb0fb22c40>,\n",
       " 'españa': <gensim.models.keyedvectors.Vocab at 0x2eb0fb225e0>,\n",
       " 'ya': <gensim.models.keyedvectors.Vocab at 0x2eb0fb226d0>,\n",
       " 'tiene': <gensim.models.keyedvectors.Vocab at 0x2eb0fb22a90>,\n",
       " 'otros': <gensim.models.keyedvectors.Vocab at 0x2eb0fb22730>,\n",
       " 'gran': <gensim.models.keyedvectors.Vocab at 0x2eb0fb22580>,\n",
       " 'unidos': <gensim.models.keyedvectors.Vocab at 0x2eb0fb22460>,\n",
       " '/': <gensim.models.keyedvectors.Vocab at 0x2eb0fb22df0>,\n",
       " 's': <gensim.models.keyedvectors.Vocab at 0x2eb0fb22d60>,\n",
       " 'si': <gensim.models.keyedvectors.Vocab at 0x2eb0fb22eb0>,\n",
       " '–': <gensim.models.keyedvectors.Vocab at 0x2eb0fb22910>,\n",
       " 'puede': <gensim.models.keyedvectors.Vocab at 0x2eb0fb22d00>,\n",
       " 'estado': <gensim.models.keyedvectors.Vocab at 0x2eb0fb22760>,\n",
       " 'uno': <gensim.models.keyedvectors.Vocab at 0x2eb103bfd90>,\n",
       " 'c': <gensim.models.keyedvectors.Vocab at 0x2eb103bf940>,\n",
       " 'lugar': <gensim.models.keyedvectors.Vocab at 0x2eb103bfa30>,\n",
       " 'primer': <gensim.models.keyedvectors.Vocab at 0x2eb103bf8b0>,\n",
       " 'así': <gensim.models.keyedvectors.Vocab at 0x2eb103bf460>,\n",
       " 'm': <gensim.models.keyedvectors.Vocab at 0x2eb103bf040>,\n",
       " 'población': <gensim.models.keyedvectors.Vocab at 0x2eb103bf220>,\n",
       " 'muy': <gensim.models.keyedvectors.Vocab at 0x2eb103bfa00>,\n",
       " 'había': <gensim.models.keyedvectors.Vocab at 0x2eb103bf160>,\n",
       " 'mismo': <gensim.models.keyedvectors.Vocab at 0x2eb103bf1c0>,\n",
       " 'nueva': <gensim.models.keyedvectors.Vocab at 0x2eb103bfc70>,\n",
       " 'fueron': <gensim.models.keyedvectors.Vocab at 0x2eb103bf190>,\n",
       " 'historia': <gensim.models.keyedvectors.Vocab at 0x2eb103bfbe0>,\n",
       " 'club': <gensim.models.keyedvectors.Vocab at 0x2eb103bf370>,\n",
       " 'eran': <gensim.models.keyedvectors.Vocab at 0x2eb103bf310>,\n",
       " 'cual': <gensim.models.keyedvectors.Vocab at 0x2eb103bfac0>,\n",
       " 'vez': <gensim.models.keyedvectors.Vocab at 0x2eb103bfb20>,\n",
       " 'universidad': <gensim.models.keyedvectors.Vocab at 0x2eb103bf730>,\n",
       " 'forma': <gensim.models.keyedvectors.Vocab at 0x2eb103bfee0>,\n",
       " 'tres': <gensim.models.keyedvectors.Vocab at 0x2eb103bfbb0>,\n",
       " 'd': <gensim.models.keyedvectors.Vocab at 0x2eb103bfd60>,\n",
       " 'grupo': <gensim.models.keyedvectors.Vocab at 0x2eb103bffd0>,\n",
       " 'general': <gensim.models.keyedvectors.Vocab at 0x2eb103bfe50>,\n",
       " 'guerra': <gensim.models.keyedvectors.Vocab at 0x2eb103bf910>,\n",
       " 'aunque': <gensim.models.keyedvectors.Vocab at 0x2eb103bfca0>,\n",
       " 'tras': <gensim.models.keyedvectors.Vocab at 0x2eb103bfcd0>,\n",
       " 'familia': <gensim.models.keyedvectors.Vocab at 0x2eb103bf580>,\n",
       " 'además': <gensim.models.keyedvectors.Vocab at 0x2eb103bf850>,\n",
       " 'todo': <gensim.models.keyedvectors.Vocab at 0x2eb103bf640>,\n",
       " 'i': <gensim.models.keyedvectors.Vocab at 0x2eb103bf550>,\n",
       " 'sur': <gensim.models.keyedvectors.Vocab at 0x2eb103bf700>,\n",
       " '?': <gensim.models.keyedvectors.Vocab at 0x2eb103bfd00>,\n",
       " 'mayor': <gensim.models.keyedvectors.Vocab at 0x2eb69bd5820>,\n",
       " 'según': <gensim.models.keyedvectors.Vocab at 0x2eb103b3550>,\n",
       " 'tiempo': <gensim.models.keyedvectors.Vocab at 0x2eb103b3a90>,\n",
       " 'provincia': <gensim.models.keyedvectors.Vocab at 0x2eb103b3af0>,\n",
       " 'partido': <gensim.models.keyedvectors.Vocab at 0x2eb103b3fd0>,\n",
       " 'contra': <gensim.models.keyedvectors.Vocab at 0x2eb103b39d0>,\n",
       " 'encuentra': <gensim.models.keyedvectors.Vocab at 0x2eb103b3700>,\n",
       " 'municipio': <gensim.models.keyedvectors.Vocab at 0x2eb103b3190>,\n",
       " 'otras': <gensim.models.keyedvectors.Vocab at 0x2eb103b3160>,\n",
       " 'and': <gensim.models.keyedvectors.Vocab at 0x2eb103b34c0>,\n",
       " 'todos': <gensim.models.keyedvectors.Vocab at 0x2eb103b32b0>,\n",
       " 'juan': <gensim.models.keyedvectors.Vocab at 0x2eb103b3370>,\n",
       " 'sido': <gensim.models.keyedvectors.Vocab at 0x2eb103b3820>,\n",
       " 'josé': <gensim.models.keyedvectors.Vocab at 0x2eb103b3be0>,\n",
       " 'bajo': <gensim.models.keyedvectors.Vocab at 0x2eb103b30a0>,\n",
       " 'serie': <gensim.models.keyedvectors.Vocab at 0x2eb103b3970>,\n",
       " 'cada': <gensim.models.keyedvectors.Vocab at 0x2eb103b36a0>,\n",
       " 'fútbol': <gensim.models.keyedvectors.Vocab at 0x2eb103b3580>,\n",
       " 'equipo': <gensim.models.keyedvectors.Vocab at 0x2eb103b3d90>,\n",
       " 'norte': <gensim.models.keyedvectors.Vocab at 0x2eb103b3e50>,\n",
       " 'río': <gensim.models.keyedvectors.Vocab at 0x2eb103b3ca0>,\n",
       " 'méxico': <gensim.models.keyedvectors.Vocab at 0x2eb103b3c10>,\n",
       " 'f': <gensim.models.keyedvectors.Vocab at 0x2eb103b3b20>,\n",
       " 'han': <gensim.models.keyedvectors.Vocab at 0x2eb103b3b50>,\n",
       " 'argentina': <gensim.models.keyedvectors.Vocab at 0x2eb103b3ac0>,\n",
       " 'inglés': <gensim.models.keyedvectors.Vocab at 0x2eb103b3940>,\n",
       " 'nuevo': <gensim.models.keyedvectors.Vocab at 0x2eb103b38e0>,\n",
       " 'véase': <gensim.models.keyedvectors.Vocab at 0x2eb103b37f0>,\n",
       " 'junto': <gensim.models.keyedvectors.Vocab at 0x2eb103b31f0>,\n",
       " 'septiembre': <gensim.models.keyedvectors.Vocab at 0x2eb103b3250>,\n",
       " 'octubre': <gensim.models.keyedvectors.Vocab at 0x2eb103b3430>,\n",
       " 'segunda': <gensim.models.keyedvectors.Vocab at 0x2eb103b3310>,\n",
       " 'ese': <gensim.models.keyedvectors.Vocab at 0x2eb103b3340>,\n",
       " 'discusión': <gensim.models.keyedvectors.Vocab at 0x2eb103b35b0>,\n",
       " 'gobierno': <gensim.models.keyedvectors.Vocab at 0x2eb103b3790>,\n",
       " 'condado': <gensim.models.keyedvectors.Vocab at 0x2eb103b3520>,\n",
       " 'final': <gensim.models.keyedvectors.Vocab at 0x2eb103b35e0>,\n",
       " 'vida': <gensim.models.keyedvectors.Vocab at 0x2eb103b3bb0>,\n",
       " 'personas': <gensim.models.keyedvectors.Vocab at 0x2eb103b3ee0>,\n",
       " 'español': <gensim.models.keyedvectors.Vocab at 0x2eb103b3f70>,\n",
       " 'centro': <gensim.models.keyedvectors.Vocab at 0x2eb103b3d60>,\n",
       " 'julio': <gensim.models.keyedvectors.Vocab at 0x2eb103b3df0>,\n",
       " 'hay': <gensim.models.keyedvectors.Vocab at 0x2eb1016ca90>,\n",
       " 'lincoln': <gensim.models.keyedvectors.Vocab at 0x2eb1016cfd0>,\n",
       " 'país': <gensim.models.keyedvectors.Vocab at 0x2eb1016c880>,\n",
       " 'p': <gensim.models.keyedvectors.Vocab at 0x2eb1016cb80>,\n",
       " 'mientras': <gensim.models.keyedvectors.Vocab at 0x2eb1016cd30>,\n",
       " 'él': <gensim.models.keyedvectors.Vocab at 0x2eb1016cee0>,\n",
       " 'web': <gensim.models.keyedvectors.Vocab at 0x2eb1016ce20>,\n",
       " 'internacional': <gensim.models.keyedvectors.Vocab at 0x2eb1016cf10>,\n",
       " 'santa': <gensim.models.keyedvectors.Vocab at 0x2eb1016c700>,\n",
       " 'antes': <gensim.models.keyedvectors.Vocab at 0x2eb1016c730>,\n",
       " 'oficial': <gensim.models.keyedvectors.Vocab at 0x2eb1016c7c0>,\n",
       " 'quien': <gensim.models.keyedvectors.Vocab at 0x2eb1016c850>,\n",
       " 'mundo': <gensim.models.keyedvectors.Vocab at 0x2eb1016c520>,\n",
       " 'embargo': <gensim.models.keyedvectors.Vocab at 0x2eb1016c2b0>,\n",
       " 'tanto': <gensim.models.keyedvectors.Vocab at 0x2eb1016c280>,\n",
       " 'mayo': <gensim.models.keyedvectors.Vocab at 0x2eb1016c0a0>,\n",
       " 'in': <gensim.models.keyedvectors.Vocab at 0x2eb1016ca30>,\n",
       " 'algunos': <gensim.models.keyedvectors.Vocab at 0x2eb1016cca0>,\n",
       " 'temporada': <gensim.models.keyedvectors.Vocab at 0x2eb1016cbe0>,\n",
       " 'b': <gensim.models.keyedvectors.Vocab at 0x2eb1016c430>,\n",
       " 'hacia': <gensim.models.keyedvectors.Vocab at 0x2eb1016c310>,\n",
       " 'mejor': <gensim.models.keyedvectors.Vocab at 0x2eb1016c070>,\n",
       " 'luego': <gensim.models.keyedvectors.Vocab at 0x2eb1016ce50>,\n",
       " 'n': <gensim.models.keyedvectors.Vocab at 0x2eb1016cbb0>,\n",
       " 'marzo': <gensim.models.keyedvectors.Vocab at 0x2eb1016caf0>,\n",
       " 'día': <gensim.models.keyedvectors.Vocab at 0x2eb1016cfa0>,\n",
       " 'j': <gensim.models.keyedvectors.Vocab at 0x2eb1016c460>,\n",
       " 'siendo': <gensim.models.keyedvectors.Vocab at 0x2eb1016c2e0>,\n",
       " 'madrid': <gensim.models.keyedvectors.Vocab at 0x2eb1016c550>,\n",
       " 'enero': <gensim.models.keyedvectors.Vocab at 0x2eb1016c820>,\n",
       " 'número': <gensim.models.keyedvectors.Vocab at 0x2eb1016c580>,\n",
       " 'agosto': <gensim.models.keyedvectors.Vocab at 0x2eb1016c4c0>,\n",
       " 'diciembre': <gensim.models.keyedvectors.Vocab at 0x2eb1016c400>,\n",
       " 'artículo': <gensim.models.keyedvectors.Vocab at 0x2eb1016c190>,\n",
       " 'noviembre': <gensim.models.keyedvectors.Vocab at 0x2eb103a9f10>,\n",
       " 'otro': <gensim.models.keyedvectors.Vocab at 0x2eb103a9070>,\n",
       " 'estaba': <gensim.models.keyedvectors.Vocab at 0x2eb103a9160>,\n",
       " 'l': <gensim.models.keyedvectors.Vocab at 0x2eb103a9340>,\n",
       " 'estos': <gensim.models.keyedvectors.Vocab at 0x2eb103a9250>,\n",
       " 'abril': <gensim.models.keyedvectors.Vocab at 0x2eb103a99d0>,\n",
       " 'total': <gensim.models.keyedvectors.Vocab at 0x2eb103a9bb0>,\n",
       " 'región': <gensim.models.keyedvectors.Vocab at 0x2eb103a9d90>,\n",
       " 'sistema': <gensim.models.keyedvectors.Vocab at 0x2eb103a9430>,\n",
       " 'habitantes': <gensim.models.keyedvectors.Vocab at 0x2eb103a9e80>,\n",
       " 'me': <gensim.models.keyedvectors.Vocab at 0x2eb103a9b80>,\n",
       " 'maría': <gensim.models.keyedvectors.Vocab at 0x2eb103a9c40>,\n",
       " 'real': <gensim.models.keyedvectors.Vocab at 0x2eb103a95e0>,\n",
       " 'página': <gensim.models.keyedvectors.Vocab at 0x2eb103a9970>,\n",
       " 'esto': <gensim.models.keyedvectors.Vocab at 0x2eb103a9310>,\n",
       " 'mundial': <gensim.models.keyedvectors.Vocab at 0x2eb103a9040>,\n",
       " 'música': <gensim.models.keyedvectors.Vocab at 0x2eb103a9a30>,\n",
       " 'presidente': <gensim.models.keyedvectors.Vocab at 0x2eb103a92e0>,\n",
       " '!': <gensim.models.keyedvectors.Vocab at 0x2eb103a9af0>,\n",
       " 'casa': <gensim.models.keyedvectors.Vocab at 0x2eb103a9df0>,\n",
       " 'sólo': <gensim.models.keyedvectors.Vocab at 0x2eb103a9c70>,\n",
       " 'álbum': <gensim.models.keyedvectors.Vocab at 0x2eb103a96a0>,\n",
       " 'debido': <gensim.models.keyedvectors.Vocab at 0x2eb103a9670>,\n",
       " 'cuenta': <gensim.models.keyedvectors.Vocab at 0x2eb103a98b0>,\n",
       " 'junio': <gensim.models.keyedvectors.Vocab at 0x2eb103a9550>,\n",
       " 'febrero': <gensim.models.keyedvectors.Vocab at 0x2eb103a9370>,\n",
       " 'ella': <gensim.models.keyedvectors.Vocab at 0x2eb103a9dc0>,\n",
       " 'pueden': <gensim.models.keyedvectors.Vocab at 0x2eb103a9d60>,\n",
       " 'varios': <gensim.models.keyedvectors.Vocab at 0x2eb103a9a90>,\n",
       " 'francia': <gensim.models.keyedvectors.Vocab at 0x2eb103a9b20>,\n",
       " 'solo': <gensim.models.keyedvectors.Vocab at 0x2eb103a9790>,\n",
       " 'chile': <gensim.models.keyedvectors.Vocab at 0x2eb103a91c0>,\n",
       " 'tipo': <gensim.models.keyedvectors.Vocab at 0x2eb103a9400>,\n",
       " 'obra': <gensim.models.keyedvectors.Vocab at 0x2eb103a94f0>,\n",
       " 'iglesia': <gensim.models.keyedvectors.Vocab at 0x2eb103a93a0>,\n",
       " 'película': <gensim.models.keyedvectors.Vocab at 0x2eb103a9280>,\n",
       " 'entonces': <gensim.models.keyedvectors.Vocab at 0x2eb103a93d0>,\n",
       " 'banda': <gensim.models.keyedvectors.Vocab at 0x2eb103a9a60>,\n",
       " 'cuatro': <gensim.models.keyedvectors.Vocab at 0x2eb0e0a2bb0>,\n",
       " 'zona': <gensim.models.keyedvectors.Vocab at 0x2eb0e0a24c0>,\n",
       " 'televisión': <gensim.models.keyedvectors.Vocab at 0x2eb0e0a29d0>,\n",
       " 'q': <gensim.models.keyedvectors.Vocab at 0x2eb10507c10>,\n",
       " 'principal': <gensim.models.keyedvectors.Vocab at 0x2eb10507f40>,\n",
       " 'tuvo': <gensim.models.keyedvectors.Vocab at 0x2eb10507eb0>,\n",
       " 'carlos': <gensim.models.keyedvectors.Vocab at 0x2eb10507d00>,\n",
       " 'otra': <gensim.models.keyedvectors.Vocab at 0x2eb10507910>,\n",
       " 'ee': <gensim.models.keyedvectors.Vocab at 0x2eb10507280>,\n",
       " 'rey': <gensim.models.keyedvectors.Vocab at 0x2eb105073a0>,\n",
       " 'premio': <gensim.models.keyedvectors.Vocab at 0x2eb105071c0>,\n",
       " 'hace': <gensim.models.keyedvectors.Vocab at 0x2eb105071f0>,\n",
       " 'km²': <gensim.models.keyedvectors.Vocab at 0x2eb10507220>,\n",
       " 'edición': <gensim.models.keyedvectors.Vocab at 0x2eb10507370>,\n",
       " 'tenía': <gensim.models.keyedvectors.Vocab at 0x2eb10507520>,\n",
       " 'uu': <gensim.models.keyedvectors.Vocab at 0x2eb10507580>,\n",
       " 'premios': <gensim.models.keyedvectors.Vocab at 0x2eb10507430>,\n",
       " 'sitio': <gensim.models.keyedvectors.Vocab at 0x2eb10507490>,\n",
       " 'futbolistas': <gensim.models.keyedvectors.Vocab at 0x2eb105075e0>,\n",
       " 'bien': <gensim.models.keyedvectors.Vocab at 0x2eb105077c0>,\n",
       " 'segundo': <gensim.models.keyedvectors.Vocab at 0x2eb10507820>,\n",
       " 'mar': <gensim.models.keyedvectors.Vocab at 0x2eb105076d0>,\n",
       " 'poco': <gensim.models.keyedvectors.Vocab at 0x2eb10507730>,\n",
       " 'orden': <gensim.models.keyedvectors.Vocab at 0x2eb10507af0>,\n",
       " 'ii': <gensim.models.keyedvectors.Vocab at 0x2eb10507a00>,\n",
       " 'estadounidense': <gensim.models.keyedvectors.Vocab at 0x2eb105079a0>,\n",
       " 'agua': <gensim.models.keyedvectors.Vocab at 0x2eb10507c70>,\n",
       " 'tierra': <gensim.models.keyedvectors.Vocab at 0x2eb105078e0>,\n",
       " 'título': <gensim.models.keyedvectors.Vocab at 0x2eb10507be0>,\n",
       " 'ellos': <gensim.models.keyedvectors.Vocab at 0x2eb10507ca0>,\n",
       " 'earth': <gensim.models.keyedvectors.Vocab at 0x2eb10507b80>,\n",
       " 'están': <gensim.models.keyedvectors.Vocab at 0x2eb10507f70>,\n",
       " 'división': <gensim.models.keyedvectors.Vocab at 0x2eb10507160>,\n",
       " 'canción': <gensim.models.keyedvectors.Vocab at 0x2eb10507fa0>,\n",
       " 'fecha': <gensim.models.keyedvectors.Vocab at 0x2eb105070d0>,\n",
       " 'república': <gensim.models.keyedvectors.Vocab at 0x2eb104fb3a0>,\n",
       " 'trabajo': <gensim.models.keyedvectors.Vocab at 0x2eb104fb730>,\n",
       " 'especie': <gensim.models.keyedvectors.Vocab at 0x2eb104fb130>,\n",
       " 'luis': <gensim.models.keyedvectors.Vocab at 0x2eb104fb940>,\n",
       " 'unos': <gensim.models.keyedvectors.Vocab at 0x2eb104fb4c0>,\n",
       " 'caso': <gensim.models.keyedvectors.Vocab at 0x2eb104fb220>,\n",
       " 'º': <gensim.models.keyedvectors.Vocab at 0x2eb104fb0d0>,\n",
       " 'x': <gensim.models.keyedvectors.Vocab at 0x2eb104fb340>,\n",
       " 'dentro': <gensim.models.keyedvectors.Vocab at 0x2eb104fbb50>,\n",
       " 'obras': <gensim.models.keyedvectors.Vocab at 0x2eb104fb100>,\n",
       " 'r': <gensim.models.keyedvectors.Vocab at 0x2eb104fb160>,\n",
       " 'color': <gensim.models.keyedvectors.Vocab at 0x2eb104fb070>,\n",
       " 'distrito': <gensim.models.keyedvectors.Vocab at 0x2eb104fbac0>,\n",
       " 'superficie': <gensim.models.keyedvectors.Vocab at 0x2eb104fb970>,\n",
       " 'copa': <gensim.models.keyedvectors.Vocab at 0x2eb104fb880>,\n",
       " 'muchos': <gensim.models.keyedvectors.Vocab at 0x2eb104fb790>,\n",
       " 'asteroid': <gensim.models.keyedvectors.Vocab at 0x2eb104fbeb0>,\n",
       " '&': <gensim.models.keyedvectors.Vocab at 0x2eb104fb6a0>,\n",
       " 'near': <gensim.models.keyedvectors.Vocab at 0x2eb104fbc10>,\n",
       " 'línea': <gensim.models.keyedvectors.Vocab at 0x2eb104fbca0>,\n",
       " 'francisco': <gensim.models.keyedvectors.Vocab at 0x2eb104fbc70>,\n",
       " 'les': <gensim.models.keyedvectors.Vocab at 0x2eb104fbe80>,\n",
       " 'siguiente': <gensim.models.keyedvectors.Vocab at 0x2eb104fbd00>,\n",
       " 'área': <gensim.models.keyedvectors.Vocab at 0x2eb104fbd90>,\n",
       " 'grandes': <gensim.models.keyedvectors.Vocab at 0x2eb104fbee0>,\n",
       " 'censo': <gensim.models.keyedvectors.Vocab at 0x2eb104fb3d0>,\n",
       " 'liga': <gensim.models.keyedvectors.Vocab at 0x2eb104fb580>,\n",
       " 't': <gensim.models.keyedvectors.Vocab at 0x2eb104fb430>,\n",
       " 'estas': <gensim.models.keyedvectors.Vocab at 0x2eb104fb400>,\n",
       " 'align': <gensim.models.keyedvectors.Vocab at 0x2eb104fb670>,\n",
       " 'muerte': <gensim.models.keyedvectors.Vocab at 0x2eb104fb700>,\n",
       " '•': <gensim.models.keyedvectors.Vocab at 0x2eb104fb610>,\n",
       " 'medio': <gensim.models.keyedvectors.Vocab at 0x2eb104fb490>,\n",
       " 'través': <gensim.models.keyedvectors.Vocab at 0x2eb104ed5b0>,\n",
       " 'política': <gensim.models.keyedvectors.Vocab at 0x2eb104ed310>,\n",
       " 'menos': <gensim.models.keyedvectors.Vocab at 0x2eb104edb50>,\n",
       " 'largo': <gensim.models.keyedvectors.Vocab at 0x2eb104ed910>,\n",
       " 'buenos': <gensim.models.keyedvectors.Vocab at 0x2eb104ed190>,\n",
       " 'hijo': <gensim.models.keyedvectors.Vocab at 0x2eb104edbb0>,\n",
       " 'hecho': <gensim.models.keyedvectors.Vocab at 0x2eb104edee0>,\n",
       " 'algunas': <gensim.models.keyedvectors.Vocab at 0x2eb104ede20>,\n",
       " 'carrera': <gensim.models.keyedvectors.Vocab at 0x2eb104edd60>,\n",
       " 'poder': <gensim.models.keyedvectors.Vocab at 0x2eb104edd90>,\n",
       " 'pueblo': <gensim.models.keyedvectors.Vocab at 0x2eb104edac0>,\n",
       " 'departamento': <gensim.models.keyedvectors.Vocab at 0x2eb104edd30>,\n",
       " 'localidades': <gensim.models.keyedvectors.Vocab at 0x2eb104ed250>,\n",
       " 'hizo': <gensim.models.keyedvectors.Vocab at 0x2eb104edf10>,\n",
       " 'veces': <gensim.models.keyedvectors.Vocab at 0x2eb104ede80>,\n",
       " 'reino': <gensim.models.keyedvectors.Vocab at 0x2eb104edf70>,\n",
       " 'central': <gensim.models.keyedvectors.Vocab at 0x2eb104edfd0>,\n",
       " 'todas': <gensim.models.keyedvectors.Vocab at 0x2eb104ed520>,\n",
       " 'york': <gensim.models.keyedvectors.Vocab at 0x2eb104ed280>,\n",
       " 'ejemplo': <gensim.models.keyedvectors.Vocab at 0x2eb104ed9d0>,\n",
       " 'género': <gensim.models.keyedvectors.Vocab at 0x2eb104edb80>,\n",
       " 'padre': <gensim.models.keyedvectors.Vocab at 0x2eb104eda30>,\n",
       " 'isbn': <gensim.models.keyedvectors.Vocab at 0x2eb104eda00>,\n",
       " 'campo': <gensim.models.keyedvectors.Vocab at 0x2eb104edc70>,\n",
       " 'isla': <gensim.models.keyedvectors.Vocab at 0x2eb104edd00>,\n",
       " 'hacer': <gensim.models.keyedvectors.Vocab at 0x2eb104edc10>,\n",
       " 'misma': <gensim.models.keyedvectors.Vocab at 0x2eb104edb20>,\n",
       " 'ante': <gensim.models.keyedvectors.Vocab at 0x2eb104ed430>,\n",
       " 'conocido': <gensim.models.keyedvectors.Vocab at 0x2eb104ed5e0>,\n",
       " 'http': <gensim.models.keyedvectors.Vocab at 0x2eb104ed490>,\n",
       " 'h': <gensim.models.keyedvectors.Vocab at 0x2eb104ed460>,\n",
       " 'países': <gensim.models.keyedvectors.Vocab at 0x2eb104ed6d0>,\n",
       " 'frente': <gensim.models.keyedvectors.Vocab at 0x2eb104ed760>,\n",
       " 'antonio': <gensim.models.keyedvectors.Vocab at 0x2eb104ed670>,\n",
       " 'época': <gensim.models.keyedvectors.Vocab at 0x2eb104ed4f0>,\n",
       " 'director': <gensim.models.keyedvectors.Vocab at 0x2eb104ed0a0>,\n",
       " 'días': <gensim.models.keyedvectors.Vocab at 0x2eb104f1610>,\n",
       " 'española': <gensim.models.keyedvectors.Vocab at 0x2eb104f13d0>,\n",
       " 'km': <gensim.models.keyedvectors.Vocab at 0x2eb104f1eb0>,\n",
       " 'partir': <gensim.models.keyedvectors.Vocab at 0x2eb104f1c10>,\n",
       " 'versión': <gensim.models.keyedvectors.Vocab at 0x2eb104f12b0>,\n",
       " 'research': <gensim.models.keyedvectors.Vocab at 0x2eb104f1a30>,\n",
       " 'varias': <gensim.models.keyedvectors.Vocab at 0x2eb104f18b0>,\n",
       " 'actual': <gensim.models.keyedvectors.Vocab at 0x2eb104f1e20>,\n",
       " 'g': <gensim.models.keyedvectors.Vocab at 0x2eb104f1400>,\n",
       " 'momento': <gensim.models.keyedvectors.Vocab at 0x2eb104f18e0>,\n",
       " 'lista': <gensim.models.keyedvectors.Vocab at 0x2eb104f1be0>,\n",
       " 'jpg': <gensim.models.keyedvectors.Vocab at 0x2eb104f1bb0>,\n",
       " 'densidad': <gensim.models.keyedvectors.Vocab at 0x2eb104f1dc0>,\n",
       " 'campeonato': <gensim.models.keyedvectors.Vocab at 0x2eb104f1c40>,\n",
       " 'tarde': <gensim.models.keyedvectors.Vocab at 0x2eb104f1cd0>,\n",
       " 'tienen': <gensim.models.keyedvectors.Vocab at 0x2eb104f1f40>,\n",
       " 'ejército': <gensim.models.keyedvectors.Vocab at 0x2eb104f1fa0>,\n",
       " 'porque': <gensim.models.keyedvectors.Vocab at 0x2eb104f1340>,\n",
       " 'estación': <gensim.models.keyedvectors.Vocab at 0x2eb104f1310>,\n",
       " 'observatorio': <gensim.models.keyedvectors.Vocab at 0x2eb104f1520>,\n",
       " 'aires': <gensim.models.keyedvectors.Vocab at 0x2eb104f13a0>,\n",
       " 'actualmente': <gensim.models.keyedvectors.Vocab at 0x2eb104f1430>,\n",
       " 'desarrollo': <gensim.models.keyedvectors.Vocab at 0x2eb104f1790>,\n",
       " 'escuela': <gensim.models.keyedvectors.Vocab at 0x2eb104f16a0>,\n",
       " '—': <gensim.models.keyedvectors.Vocab at 0x2eb104f1700>,\n",
       " 'programa': <gensim.models.keyedvectors.Vocab at 0x2eb104f1040>,\n",
       " 'información': <gensim.models.keyedvectors.Vocab at 0x2eb104d2160>,\n",
       " 'v': <gensim.models.keyedvectors.Vocab at 0x2eb104d2610>,\n",
       " 'importante': <gensim.models.keyedvectors.Vocab at 0x2eb104d23d0>,\n",
       " 'último': <gensim.models.keyedvectors.Vocab at 0x2eb104d2a30>,\n",
       " 'canciones': <gensim.models.keyedvectors.Vocab at 0x2eb104d2820>,\n",
       " 'uso': <gensim.models.keyedvectors.Vocab at 0x2eb104d2e80>,\n",
       " 'juegos': <gensim.models.keyedvectors.Vocab at 0x2eb104d2b80>,\n",
       " 'localidad': <gensim.models.keyedvectors.Vocab at 0x2eb104d2fd0>,\n",
       " 'base': <gensim.models.keyedvectors.Vocab at 0x2eb104d2d00>,\n",
       " 'punto': <gensim.models.keyedvectors.Vocab at 0x2eb104d2eb0>,\n",
       " 'posición': <gensim.models.keyedvectors.Vocab at 0x2eb104d2d60>,\n",
       " 'esa': <gensim.models.keyedvectors.Vocab at 0x2eb104d2d30>,\n",
       " 'alemania': <gensim.models.keyedvectors.Vocab at 0x2eb104d2fa0>,\n",
       " 'ubicación': <gensim.models.keyedvectors.Vocab at 0x2eb104d2f40>,\n",
       " 'partidos': <gensim.models.keyedvectors.Vocab at 0x2eb104d2e50>,\n",
       " 'grupos': <gensim.models.keyedvectors.Vocab at 0x2eb104d28b0>,\n",
       " 'to': <gensim.models.keyedvectors.Vocab at 0x2eb104d2a60>,\n",
       " 'da': <gensim.models.keyedvectors.Vocab at 0x2eb104d2910>,\n",
       " 'john': <gensim.models.keyedvectors.Vocab at 0x2eb104d28e0>,\n",
       " 'miembros': <gensim.models.keyedvectors.Vocab at 0x2eb104d2b50>,\n",
       " 'px': <gensim.models.keyedvectors.Vocab at 0x2eb104d2be0>,\n",
       " 'pedro': <gensim.models.keyedvectors.Vocab at 0x2eb104d2af0>,\n",
       " 'capital': <gensim.models.keyedvectors.Vocab at 0x2eb104d2a00>,\n",
       " 'primeros': <gensim.models.keyedvectors.Vocab at 0x2eb104d2490>,\n",
       " 'teatro': <gensim.models.keyedvectors.Vocab at 0x2eb104d2640>,\n",
       " 'cualquier': <gensim.models.keyedvectors.Vocab at 0x2eb104d24f0>,\n",
       " 'datos': <gensim.models.keyedvectors.Vocab at 0x2eb104d24c0>,\n",
       " 'manera': <gensim.models.keyedvectors.Vocab at 0x2eb104d2730>,\n",
       " 'laboratorio': <gensim.models.keyedvectors.Vocab at 0x2eb104d27c0>,\n",
       " 'socorro': <gensim.models.keyedvectors.Vocab at 0x2eb104d26d0>,\n",
       " 'libro': <gensim.models.keyedvectors.Vocab at 0x2eb104d25e0>,\n",
       " 'estudios': <gensim.models.keyedvectors.Vocab at 0x2eb104d2190>,\n",
       " 'diferentes': <gensim.models.keyedvectors.Vocab at 0x2eb104d2280>,\n",
       " 'barcelona': <gensim.models.keyedvectors.Vocab at 0x2eb104d2310>,\n",
       " 'nivel': <gensim.models.keyedvectors.Vocab at 0x2eb104d2220>,\n",
       " 'llamado': <gensim.models.keyedvectors.Vocab at 0x2eb104d2130>,\n",
       " 'mayoría': <gensim.models.keyedvectors.Vocab at 0x2eb104e8790>,\n",
       " 'mi': <gensim.models.keyedvectors.Vocab at 0x2eb104e8340>,\n",
       " 'unión': <gensim.models.keyedvectors.Vocab at 0x2eb104e8730>,\n",
       " 'edad': <gensim.models.keyedvectors.Vocab at 0x2eb104e8520>,\n",
       " 'toda': <gensim.models.keyedvectors.Vocab at 0x2eb104e8bb0>,\n",
       " 'artículos': <gensim.models.keyedvectors.Vocab at 0x2eb104e8970>,\n",
       " 'juego': <gensim.models.keyedvectors.Vocab at 0x2eb104e8e80>,\n",
       " 'arte': <gensim.models.keyedvectors.Vocab at 0x2eb104e8d90>,\n",
       " 'linear': <gensim.models.keyedvectors.Vocab at 0x2eb104e8550>,\n",
       " 'especies': <gensim.models.keyedvectors.Vocab at 0x2eb104e8f10>,\n",
       " 'europa': <gensim.models.keyedvectors.Vocab at 0x2eb104e8fa0>,\n",
       " 'estilo': <gensim.models.keyedvectors.Vocab at 0x2eb104e8fd0>,\n",
       " 'cine': <gensim.models.keyedvectors.Vocab at 0x2eb104e8a30>,\n",
       " 'proyecto': <gensim.models.keyedvectors.Vocab at 0x2eb104e8be0>,\n",
       " 'center': <gensim.models.keyedvectors.Vocab at 0x2eb104e8a90>,\n",
       " 'sea': <gensim.models.keyedvectors.Vocab at 0x2eb104e8a60>,\n",
       " 'selección': <gensim.models.keyedvectors.Vocab at 0x2eb104e8cd0>,\n",
       " 'costa': <gensim.models.keyedvectors.Vocab at 0x2eb104e8d60>,\n",
       " 'equipos': <gensim.models.keyedvectors.Vocab at 0x2eb104e8c70>,\n",
       " 'puesto': <gensim.models.keyedvectors.Vocab at 0x2eb104e8b80>,\n",
       " 'origen': <gensim.models.keyedvectors.Vocab at 0x2eb104e85b0>,\n",
       " 'código': <gensim.models.keyedvectors.Vocab at 0x2eb104e8760>,\n",
       " 'museo': <gensim.models.keyedvectors.Vocab at 0x2eb104e8610>,\n",
       " 'ni': <gensim.models.keyedvectors.Vocab at 0x2eb104e85e0>,\n",
       " 'puntos': <gensim.models.keyedvectors.Vocab at 0x2eb104e8850>,\n",
       " 'perú': <gensim.models.keyedvectors.Vocab at 0x2eb104e88e0>,\n",
       " 'militar': <gensim.models.keyedvectors.Vocab at 0x2eb104e87f0>,\n",
       " 'américa': <gensim.models.keyedvectors.Vocab at 0x2eb104e8700>,\n",
       " 'haber': <gensim.models.keyedvectors.Vocab at 0x2eb104e80a0>,\n",
       " 'ubicado': <gensim.models.keyedvectors.Vocab at 0x2eb104e81c0>,\n",
       " 'producción': <gensim.models.keyedvectors.Vocab at 0x2eb104e8220>,\n",
       " 'italia': <gensim.models.keyedvectors.Vocab at 0x2eb104e84c0>,\n",
       " 'manuel': <gensim.models.keyedvectors.Vocab at 0x2eb104e83d0>,\n",
       " 'tener': <gensim.models.keyedvectors.Vocab at 0x2eb104e8430>,\n",
       " 'wikipedia': <gensim.models.keyedvectors.Vocab at 0x2eb104e8130>,\n",
       " 'plantas': <gensim.models.keyedvectors.Vocab at 0x2eb104e8040>,\n",
       " 'comenzó': <gensim.models.keyedvectors.Vocab at 0x2eb104e80d0>,\n",
       " 'debe': <gensim.models.keyedvectors.Vocab at 0x2eb104391f0>,\n",
       " 'siempre': <gensim.models.keyedvectors.Vocab at 0x2eb104396a0>,\n",
       " 'metros': <gensim.models.keyedvectors.Vocab at 0x2eb10439460>,\n",
       " 'oro': <gensim.models.keyedvectors.Vocab at 0x2eb10439ac0>,\n",
       " 'posteriormente': <gensim.models.keyedvectors.Vocab at 0x2eb104398b0>,\n",
       " 'casi': <gensim.models.keyedvectors.Vocab at 0x2eb10439f70>,\n",
       " 'construcción': <gensim.models.keyedvectors.Vocab at 0x2eb10439c10>,\n",
       " 'xx': <gensim.models.keyedvectors.Vocab at 0x2eb10439eb0>,\n",
       " 'local': <gensim.models.keyedvectors.Vocab at 0x2eb10439490>,\n",
       " 'francés': <gensim.models.keyedvectors.Vocab at 0x2eb10439fd0>,\n",
       " 'cultura': <gensim.models.keyedvectors.Vocab at 0x2eb10439f10>,\n",
       " 'santiago': <gensim.models.keyedvectors.Vocab at 0x2eb10439df0>,\n",
       " 'cerca': <gensim.models.keyedvectors.Vocab at 0x2eb10439fa0>,\n",
       " 'estudio': <gensim.models.keyedvectors.Vocab at 0x2eb10439e50>,\n",
       " 'principales': <gensim.models.keyedvectors.Vocab at 0x2eb10439e20>,\n",
       " 'usuario': <gensim.models.keyedvectors.Vocab at 0x2eb10439f40>,\n",
       " '//www': <gensim.models.keyedvectors.Vocab at 0x2eb10439610>,\n",
       " 'com': <gensim.models.keyedvectors.Vocab at 0x2eb104395e0>,\n",
       " 'finalmente': <gensim.models.keyedvectors.Vocab at 0x2eb104399d0>,\n",
       " 'cinco': <gensim.models.keyedvectors.Vocab at 0x2eb10439880>,\n",
       " 'anterior': <gensim.models.keyedvectors.Vocab at 0x2eb104398e0>,\n",
       " 'cargo': <gensim.models.keyedvectors.Vocab at 0x2eb10439c40>,\n",
       " 'batalla': <gensim.models.keyedvectors.Vocab at 0x2eb10439b50>,\n",
       " 'derecho': <gensim.models.keyedvectors.Vocab at 0x2eb10439bb0>,\n",
       " 'peak': <gensim.models.keyedvectors.Vocab at 0x2eb10439400>,\n",
       " 'imagen': <gensim.models.keyedvectors.Vocab at 0x2eb104393d0>,\n",
       " 'gracias': <gensim.models.keyedvectors.Vocab at 0x2eb104395b0>,\n",
       " 'cuales': <gensim.models.keyedvectors.Vocab at 0x2eb10439430>,\n",
       " 'kitt': <gensim.models.keyedvectors.Vocab at 0x2eb104394c0>,\n",
       " 'puerto': <gensim.models.keyedvectors.Vocab at 0x2eb10439820>,\n",
       " 'torneo': <gensim.models.keyedvectors.Vocab at 0x2eb10439730>,\n",
       " 'mucho': <gensim.models.keyedvectors.Vocab at 0x2eb10439790>,\n",
       " 'social': <gensim.models.keyedvectors.Vocab at 0x2eb10439220>,\n",
       " 'millones': <gensim.models.keyedvectors.Vocab at 0x2eb10439040>,\n",
       " 'comunidad': <gensim.models.keyedvectors.Vocab at 0x2eb10439100>,\n",
       " 'fin': <gensim.models.keyedvectors.Vocab at 0x2eb10439370>,\n",
       " 'acuerdo': <gensim.models.keyedvectors.Vocab at 0x2eb10439280>,\n",
       " 'lado': <gensim.models.keyedvectors.Vocab at 0x2eb104392e0>,\n",
       " 'colombia': <gensim.models.keyedvectors.Vocab at 0x2eb1044b280>,\n",
       " 'sí': <gensim.models.keyedvectors.Vocab at 0x2eb1044b040>,\n",
       " 'servicio': <gensim.models.keyedvectors.Vocab at 0x2eb1044b7f0>,\n",
       " 'rock': <gensim.models.keyedvectors.Vocab at 0x2eb1044b5b0>,\n",
       " 'or%': <gensim.models.keyedvectors.Vocab at 0x2eb1044bcd0>,\n",
       " 'político': <gensim.models.keyedvectors.Vocab at 0x2eb1044ba90>,\n",
       " 'películas': <gensim.models.keyedvectors.Vocab at 0x2eb1044bf10>,\n",
       " 'ver': <gensim.models.keyedvectors.Vocab at 0x2eb1044bc10>,\n",
       " 'fuera': <gensim.models.keyedvectors.Vocab at 0x2eb1044bc40>,\n",
       " 'pesar': <gensim.models.keyedvectors.Vocab at 0x2eb1044b3d0>,\n",
       " 'mediante': <gensim.models.keyedvectors.Vocab at 0x2eb1044b490>,\n",
       " 'popular': <gensim.models.keyedvectors.Vocab at 0x2eb1044be20>,\n",
       " 'muchas': <gensim.models.keyedvectors.Vocab at 0x2eb1044bfa0>,\n",
       " 'hoy': <gensim.models.keyedvectors.Vocab at 0x2eb1044bb50>,\n",
       " 'tal': <gensim.models.keyedvectors.Vocab at 0x2eb1044bd00>,\n",
       " 'alto': <gensim.models.keyedvectors.Vocab at 0x2eb1044bbb0>,\n",
       " 'cuerpo': <gensim.models.keyedvectors.Vocab at 0x2eb1044bb80>,\n",
       " 'sino': <gensim.models.keyedvectors.Vocab at 0x2eb1044bdf0>,\n",
       " 'siguientes': <gensim.models.keyedvectors.Vocab at 0x2eb1044be80>,\n",
       " 'disco': <gensim.models.keyedvectors.Vocab at 0x2eb1044bd90>,\n",
       " 'finales': <gensim.models.keyedvectors.Vocab at 0x2eb1044bca0>,\n",
       " 'sociedad': <gensim.models.keyedvectors.Vocab at 0x2eb1044b670>,\n",
       " 'tema': <gensim.models.keyedvectors.Vocab at 0x2eb1044b820>,\n",
       " 'dirección': <gensim.models.keyedvectors.Vocab at 0x2eb1044b6d0>,\n",
       " 'hombres': <gensim.models.keyedvectors.Vocab at 0x2eb1044b6a0>,\n",
       " 'última': <gensim.models.keyedvectors.Vocab at 0x2eb1044b910>,\n",
       " '}': <gensim.models.keyedvectors.Vocab at 0x2eb1044b9a0>,\n",
       " 'original': <gensim.models.keyedvectors.Vocab at 0x2eb1044b8b0>,\n",
       " 'new': <gensim.models.keyedvectors.Vocab at 0x2eb1044b7c0>,\n",
       " 'estadio': <gensim.models.keyedvectors.Vocab at 0x2eb1044b070>,\n",
       " 'ambos': <gensim.models.keyedvectors.Vocab at 0x2eb1044b0d0>,\n",
       " 'miguel': <gensim.models.keyedvectors.Vocab at 0x2eb1044b160>,\n",
       " 'ley': <gensim.models.keyedvectors.Vocab at 0x2eb1044b400>,\n",
       " 'oeste': <gensim.models.keyedvectors.Vocab at 0x2eb1044b310>,\n",
       " 'mujeres': <gensim.models.keyedvectors.Vocab at 0x2eb1044b370>,\n",
       " 'obs': <gensim.models.keyedvectors.Vocab at 0x2eb0fbfa160>,\n",
       " 'ª': <gensim.models.keyedvectors.Vocab at 0x2eb0fbfa310>,\n",
       " 'incluso': <gensim.models.keyedvectors.Vocab at 0x2eb0fbfa5e0>,\n",
       " 'cambio': <gensim.models.keyedvectors.Vocab at 0x2eb0fbfaaf0>,\n",
       " 'style': <gensim.models.keyedvectors.Vocab at 0x2eb0fbfabe0>,\n",
       " 'jugador': <gensim.models.keyedvectors.Vocab at 0x2eb0fbfaee0>,\n",
       " 'instituto': <gensim.models.keyedvectors.Vocab at 0x2eb0fbfa970>,\n",
       " 'público': <gensim.models.keyedvectors.Vocab at 0x2eb0fbfaf70>,\n",
       " 'miembro': <gensim.models.keyedvectors.Vocab at 0x2eb0fbfafd0>,\n",
       " 'pues': <gensim.models.keyedvectors.Vocab at 0x2eb0fbfac10>,\n",
       " 'superior': <gensim.models.keyedvectors.Vocab at 0x2eb0fbfadc0>,\n",
       " 'media': <gensim.models.keyedvectors.Vocab at 0x2eb0fbfac70>,\n",
       " 'california': <gensim.models.keyedvectors.Vocab at 0x2eb0fbfac40>,\n",
       " 'parque': <gensim.models.keyedvectors.Vocab at 0x2eb0fbfaeb0>,\n",
       " 'tan': <gensim.models.keyedvectors.Vocab at 0x2eb0fbfaf40>,\n",
       " 'u': <gensim.models.keyedvectors.Vocab at 0x2eb0fbfae50>,\n",
       " 'llegó': <gensim.models.keyedvectors.Vocab at 0x2eb0fbfad60>,\n",
       " 'archivo': <gensim.models.keyedvectors.Vocab at 0x2eb0fbfa610>,\n",
       " 'radio': <gensim.models.keyedvectors.Vocab at 0x2eb0fbfa7c0>,\n",
       " 'ahora': <gensim.models.keyedvectors.Vocab at 0x2eb0fbfa670>,\n",
       " 'parís': <gensim.models.keyedvectors.Vocab at 0x2eb0fbfa640>,\n",
       " 'sería': <gensim.models.keyedvectors.Vocab at 0x2eb0fbfa8b0>,\n",
       " 'world': <gensim.models.keyedvectors.Vocab at 0x2eb0fbfa940>,\n",
       " 'cruz': <gensim.models.keyedvectors.Vocab at 0x2eb0fbfa850>,\n",
       " 'cest': <gensim.models.keyedvectors.Vocab at 0x2eb0fbfa760>,\n",
       " 'cabo': <gensim.models.keyedvectors.Vocab at 0x2eb0fbfa100>,\n",
       " 'brasil': <gensim.models.keyedvectors.Vocab at 0x2eb0fbfa220>,\n",
       " '$': <gensim.models.keyedvectors.Vocab at 0x2eb0fbfa280>,\n",
       " 'unido': <gensim.models.keyedvectors.Vocab at 0x2eb0fbfa520>,\n",
       " 'red': <gensim.models.keyedvectors.Vocab at 0x2eb0fbfa430>,\n",
       " 'aquí': <gensim.models.keyedvectors.Vocab at 0x2eb0fbfa490>,\n",
       " 'canal': <gensim.models.keyedvectors.Vocab at 0x2eb0fbfa130>,\n",
       " 'movimiento': <gensim.models.keyedvectors.Vocab at 0x2eb0fbfa1c0>,\n",
       " 'revista': <gensim.models.keyedvectors.Vocab at 0x2eb0fbfa0d0>,\n",
       " 'éxito': <gensim.models.keyedvectors.Vocab at 0x2eb0fbfa040>,\n",
       " 'relación': <gensim.models.keyedvectors.Vocab at 0x2eb1043d250>,\n",
       " 'elecciones': <gensim.models.keyedvectors.Vocab at 0x2eb1043d610>,\n",
       " 'plaza': <gensim.models.keyedvectors.Vocab at 0x2eb1043d1f0>,\n",
       " 'grande': <gensim.models.keyedvectors.Vocab at 0x2eb1043da90>,\n",
       " 'distribución': <gensim.models.keyedvectors.Vocab at 0x2eb1043d820>,\n",
       " 'compañía': <gensim.models.keyedvectors.Vocab at 0x2eb1043dfd0>,\n",
       " 'islas': <gensim.models.keyedvectors.Vocab at 0x2eb1043dd30>,\n",
       " 'proceso': <gensim.models.keyedvectors.Vocab at 0x2eb1043dfa0>,\n",
       " 'alrededor': <gensim.models.keyedvectors.Vocab at 0x2eb1043da30>,\n",
       " 'habían': <gensim.models.keyedvectors.Vocab at 0x2eb1043ddf0>,\n",
       " 'musical': <gensim.models.keyedvectors.Vocab at 0x2eb1043df70>,\n",
       " 'primero': <gensim.models.keyedvectors.Vocab at 0x2eb1043df10>,\n",
       " 'territorio': <gensim.models.keyedvectors.Vocab at 0x2eb1043de80>,\n",
       " 'encuentran': <gensim.models.keyedvectors.Vocab at 0x2eb1043deb0>,\n",
       " 'dice': <gensim.models.keyedvectors.Vocab at 0x2eb1043ddc0>,\n",
       " '}}': <gensim.models.keyedvectors.Vocab at 0x2eb1043d7f0>,\n",
       " 'hombre': <gensim.models.keyedvectors.Vocab at 0x2eb1043d5b0>,\n",
       " 'león': <gensim.models.keyedvectors.Vocab at 0x2eb1043d9a0>,\n",
       " 'algo': <gensim.models.keyedvectors.Vocab at 0x2eb1043d760>,\n",
       " 'voz': <gensim.models.keyedvectors.Vocab at 0x2eb1043d8b0>,\n",
       " 'década': <gensim.models.keyedvectors.Vocab at 0x2eb1043dc10>,\n",
       " 'madre': <gensim.models.keyedvectors.Vocab at 0x2eb1043db20>,\n",
       " 'iii': <gensim.models.keyedvectors.Vocab at 0x2eb1043db80>,\n",
       " 'organización': <gensim.models.keyedvectors.Vocab at 0x2eb1043d2b0>,\n",
       " 'monte': <gensim.models.keyedvectors.Vocab at 0x2eb1043d100>,\n",
       " 'aún': <gensim.models.keyedvectors.Vocab at 0x2eb1043d520>,\n",
       " 'decir': <gensim.models.keyedvectors.Vocab at 0x2eb1043d1c0>,\n",
       " 'goles': <gensim.models.keyedvectors.Vocab at 0x2eb1043d460>,\n",
       " 'ex': <gensim.models.keyedvectors.Vocab at 0x2eb1043d790>,\n",
       " 'victoria': <gensim.models.keyedvectors.Vocab at 0x2eb1043d6a0>,\n",
       " 'sede': <gensim.models.keyedvectors.Vocab at 0x2eb1043d700>,\n",
       " 'importantes': <gensim.models.keyedvectors.Vocab at 0x2eb1043d280>,\n",
       " 'k': <gensim.models.keyedvectors.Vocab at 0x2eb1043d160>,\n",
       " 'resultado': <gensim.models.keyedvectors.Vocab at 0x2eb1043d070>,\n",
       " 'ello': <gensim.models.keyedvectors.Vocab at 0x2eb1043d370>,\n",
       " 'china': <gensim.models.keyedvectors.Vocab at 0x2eb1043d400>,\n",
       " 'xix': <gensim.models.keyedvectors.Vocab at 0x2eb1043d310>,\n",
       " 'calle': <gensim.models.keyedvectors.Vocab at 0x2eb1043d220>,\n",
       " 'papel': <gensim.models.keyedvectors.Vocab at 0x2eb10431760>,\n",
       " 'van': <gensim.models.keyedvectors.Vocab at 0x2eb10431cd0>,\n",
       " 'medios': <gensim.models.keyedvectors.Vocab at 0x2eb10431ac0>,\n",
       " 'francesa': <gensim.models.keyedvectors.Vocab at 0x2eb10431fd0>,\n",
       " 'dio': <gensim.models.keyedvectors.Vocab at 0x2eb10431070>,\n",
       " 'aparece': <gensim.models.keyedvectors.Vocab at 0x2eb104312b0>,\n",
       " 'empresa': <gensim.models.keyedvectors.Vocab at 0x2eb10431e20>,\n",
       " 'fernando': <gensim.models.keyedvectors.Vocab at 0x2eb10431f40>,\n",
       " 'fishes': <gensim.models.keyedvectors.Vocab at 0x2eb10431820>,\n",
       " 'don': <gensim.models.keyedvectors.Vocab at 0x2eb10431400>,\n",
       " 'propio': <gensim.models.keyedvectors.Vocab at 0x2eb10431be0>,\n",
       " 'mapa': <gensim.models.keyedvectors.Vocab at 0x2eb10431880>,\n",
       " 'civil': <gensim.models.keyedvectors.Vocab at 0x2eb10431a30>,\n",
       " 'venezuela': <gensim.models.keyedvectors.Vocab at 0x2eb10431e50>,\n",
       " 'educación': <gensim.models.keyedvectors.Vocab at 0x2eb10431d60>,\n",
       " 'término': <gensim.models.keyedvectors.Vocab at 0x2eb10431dc0>,\n",
       " 'convirtió': <gensim.models.keyedvectors.Vocab at 0x2eb10431220>,\n",
       " 'llamada': <gensim.models.keyedvectors.Vocab at 0x2eb10431310>,\n",
       " 'ciudades': <gensim.models.keyedvectors.Vocab at 0x2eb104317f0>,\n",
       " 'alta': <gensim.models.keyedvectors.Vocab at 0x2eb104314f0>,\n",
       " 'igual': <gensim.models.keyedvectors.Vocab at 0x2eb10431550>,\n",
       " 'usa': <gensim.models.keyedvectors.Vocab at 0x2eb10431a60>,\n",
       " 'allí': <gensim.models.keyedvectors.Vocab at 0x2eb10431970>,\n",
       " 'londres': <gensim.models.keyedvectors.Vocab at 0x2eb104319d0>,\n",
       " 'tercera': <gensim.models.keyedvectors.Vocab at 0x2eb10431370>,\n",
       " 'edificio': <gensim.models.keyedvectors.Vocab at 0x2eb10431340>,\n",
       " 'fallecimiento': <gensim.models.keyedvectors.Vocab at 0x2eb104314c0>,\n",
       " 'fuerzas': <gensim.models.keyedvectors.Vocab at 0x2eb104313a0>,\n",
       " 'posible': <gensim.models.keyedvectors.Vocab at 0x2eb10431430>,\n",
       " 'antiguo': <gensim.models.keyedvectors.Vocab at 0x2eb10431700>,\n",
       " 'natural': <gensim.models.keyedvectors.Vocab at 0x2eb10431610>,\n",
       " 'álbumes': <gensim.models.keyedvectors.Vocab at 0x2eb10431670>,\n",
       " 'paso': <gensim.models.keyedvectors.Vocab at 0x2eb10431130>,\n",
       " 'mujer': <gensim.models.keyedvectors.Vocab at 0x2eb10431250>,\n",
       " 'fuerza': <gensim.models.keyedvectors.Vocab at 0x2eb10431160>,\n",
       " 'altura': <gensim.models.keyedvectors.Vocab at 0x2eb104311c0>,\n",
       " 'hijos': <gensim.models.keyedvectors.Vocab at 0x2eb1040f4c0>,\n",
       " 'etc': <gensim.models.keyedvectors.Vocab at 0x2eb1040f550>,\n",
       " 'garcía': <gensim.models.keyedvectors.Vocab at 0x2eb1040f6a0>,\n",
       " 'for': <gensim.models.keyedvectors.Vocab at 0x2eb1040f6d0>,\n",
       " 'yo': <gensim.models.keyedvectors.Vocab at 0x2eb1040feb0>,\n",
       " 'servicios': <gensim.models.keyedvectors.Vocab at 0x2eb1040fc70>,\n",
       " 'villa': <gensim.models.keyedvectors.Vocab at 0x2eb1040f460>,\n",
       " 'conocida': <gensim.models.keyedvectors.Vocab at 0x2eb1040f370>,\n",
       " 'estuvo': <gensim.models.keyedvectors.Vocab at 0x2eb1040f0d0>,\n",
       " 'campeón': <gensim.models.keyedvectors.Vocab at 0x2eb1040fe20>,\n",
       " 'autor': <gensim.models.keyedvectors.Vocab at 0x2eb1040fbb0>,\n",
       " '+': <gensim.models.keyedvectors.Vocab at 0x2eb1040f1f0>,\n",
       " 'modo': <gensim.models.keyedvectors.Vocab at 0x2eb1040f220>,\n",
       " 'personajes': <gensim.models.keyedvectors.Vocab at 0x2eb1040f2b0>,\n",
       " 'conjunto': <gensim.models.keyedvectors.Vocab at 0x2eb1040f1c0>,\n",
       " 'eso': <gensim.models.keyedvectors.Vocab at 0x2eb1040f040>,\n",
       " 'alemán': <gensim.models.keyedvectors.Vocab at 0x2eb1040f190>,\n",
       " 'meses': <gensim.models.keyedvectors.Vocab at 0x2eb1040f070>,\n",
       " 'único': <gensim.models.keyedvectors.Vocab at 0x2eb1040f0a0>,\n",
       " 'actor': <gensim.models.keyedvectors.Vocab at 0x2eb1040f9a0>,\n",
       " 'parece': <gensim.models.keyedvectors.Vocab at 0x2eb1040fb80>,\n",
       " 'antigua': <gensim.models.keyedvectors.Vocab at 0x2eb1040f940>,\n",
       " 'especial': <gensim.models.keyedvectors.Vocab at 0x2eb1040f820>,\n",
       " 'interior': <gensim.models.keyedvectors.Vocab at 0x2eb1040fb50>,\n",
       " 'plata': <gensim.models.keyedvectors.Vocab at 0x2eb1040f910>,\n",
       " 'lemmon': <gensim.models.keyedvectors.Vocab at 0x2eb1040f520>,\n",
       " 'japón': <gensim.models.keyedvectors.Vocab at 0x2eb1040f640>,\n",
       " 'municipal': <gensim.models.keyedvectors.Vocab at 0x2eb1040fd30>,\n",
       " 'control': <gensim.models.keyedvectors.Vocab at 0x2eb1040fee0>,\n",
       " 'consejo': <gensim.models.keyedvectors.Vocab at 0x2eb1040fd90>,\n",
       " 'menor': <gensim.models.keyedvectors.Vocab at 0x2eb1040fd60>,\n",
       " 'seis': <gensim.models.keyedvectors.Vocab at 0x2eb1040ffd0>,\n",
       " 'libre': <gensim.models.keyedvectors.Vocab at 0x2eb1040ff70>,\n",
       " 'llegar': <gensim.models.keyedvectors.Vocab at 0x2eb1040fe50>,\n",
       " 'valle': <gensim.models.keyedvectors.Vocab at 0x2eb1040f850>,\n",
       " 'festival': <gensim.models.keyedvectors.Vocab at 0x2eb1040f8e0>,\n",
       " 'personaje': <gensim.models.keyedvectors.Vocab at 0x2eb1040f790>,\n",
       " 'trata': <gensim.models.keyedvectors.Vocab at 0x2eb1040f760>,\n",
       " 'principalmente': <gensim.models.keyedvectors.Vocab at 0x2eb1040fa90>,\n",
       " 'david': <gensim.models.keyedvectors.Vocab at 0x2eb1040fb20>,\n",
       " 'castillo': <gensim.models.keyedvectors.Vocab at 0x2eb1040fa30>,\n",
       " 'publicado': <gensim.models.keyedvectors.Vocab at 0x2eb1040f9d0>,\n",
       " 'on': <gensim.models.keyedvectors.Vocab at 0x2eb0ffe4b50>,\n",
       " 'cantante': <gensim.models.keyedvectors.Vocab at 0x2eb0ffe48b0>,\n",
       " 'referencia': <gensim.models.keyedvectors.Vocab at 0x2eb0ffe4550>,\n",
       " 'nació': <gensim.models.keyedvectors.Vocab at 0x2eb0ffe4190>,\n",
       " 'inglaterra': <gensim.models.keyedvectors.Vocab at 0x2eb0ffe43a0>,\n",
       " 'resto': <gensim.models.keyedvectors.Vocab at 0x2eb0ffe4760>,\n",
       " 'común': <gensim.models.keyedvectors.Vocab at 0x2eb0ffe4ee0>,\n",
       " 'editorial': <gensim.models.keyedvectors.Vocab at 0x2eb0ffe4d00>,\n",
       " 'deporte': <gensim.models.keyedvectors.Vocab at 0x2eb0ffe4a30>,\n",
       " 'recibió': <gensim.models.keyedvectors.Vocab at 0x2eb0ffe4850>,\n",
       " 'saint': <gensim.models.keyedvectors.Vocab at 0x2eb0ffe42b0>,\n",
       " 'espacio': <gensim.models.keyedvectors.Vocab at 0x2eb0ffe4df0>,\n",
       " 'asociación': <gensim.models.keyedvectors.Vocab at 0x2eb0ffe4fd0>,\n",
       " 'hija': <gensim.models.keyedvectors.Vocab at 0x2eb0ffe43d0>,\n",
       " 'et': <gensim.models.keyedvectors.Vocab at 0x2eb0ffe41f0>,\n",
       " 'acción': <gensim.models.keyedvectors.Vocab at 0x2eb0ffe4430>,\n",
       " 'actores': <gensim.models.keyedvectors.Vocab at 0x2eb0ffe42e0>,\n",
       " 'hermano': <gensim.models.keyedvectors.Vocab at 0x2eb0ffe4a90>,\n",
       " 'fundación': <gensim.models.keyedvectors.Vocab at 0x2eb0ffe4820>,\n",
       " 'blanco': <gensim.models.keyedvectors.Vocab at 0x2eb0ffe40a0>,\n",
       " 'profesional': <gensim.models.keyedvectors.Vocab at 0x2eb0ffe4880>,\n",
       " 'episodio': <gensim.models.keyedvectors.Vocab at 0x2eb0ffe4640>,\n",
       " 'cultural': <gensim.models.keyedvectors.Vocab at 0x2eb0ffe4040>,\n",
       " 'principios': <gensim.models.keyedvectors.Vocab at 0x2eb0ffe4160>,\n",
       " 'imperio': <gensim.models.keyedvectors.Vocab at 0x2eb0ffe4dc0>,\n",
       " 'ganó': <gensim.models.keyedvectors.Vocab at 0x2eb0ffe4d90>,\n",
       " 'dicho': <gensim.models.keyedvectors.Vocab at 0x2eb0ffe4070>,\n",
       " 'nunca': <gensim.models.keyedvectors.Vocab at 0x2eb0ffe4730>,\n",
       " 'investigación': <gensim.models.keyedvectors.Vocab at 0x2eb0ffe4fa0>,\n",
       " 'prefijo': <gensim.models.keyedvectors.Vocab at 0x2eb0ffe4a00>,\n",
       " 'estar': <gensim.models.keyedvectors.Vocab at 0x2eb0ffe4ac0>,\n",
       " 'municipios': <gensim.models.keyedvectors.Vocab at 0x2eb0ffe4b80>,\n",
       " 'from': <gensim.models.keyedvectors.Vocab at 0x2eb0ffe45b0>,\n",
       " 'problemas': <gensim.models.keyedvectors.Vocab at 0x2eb0ffe4ca0>,\n",
       " 'modelo': <gensim.models.keyedvectors.Vocab at 0x2eb0ffe4700>,\n",
       " 'svg': <gensim.models.keyedvectors.Vocab at 0x2eb0ffe46a0>,\n",
       " 'favor': <gensim.models.keyedvectors.Vocab at 0x2eb0ffe48e0>,\n",
       " 'actividad': <gensim.models.keyedvectors.Vocab at 0x2eb0ffe4400>,\n",
       " 'joven': <gensim.models.keyedvectors.Vocab at 0x2eb0ffe4d30>,\n",
       " 'formación': <gensim.models.keyedvectors.Vocab at 0x2eb0ffe4970>,\n",
       " 'lugares': <gensim.models.keyedvectors.Vocab at 0x2eb0ffe4c70>,\n",
       " 'éste': <gensim.models.keyedvectors.Vocab at 0x2eb0ffe6490>,\n",
       " 'incluyendo': <gensim.models.keyedvectors.Vocab at 0x2eb0ffe6e50>,\n",
       " 'realizó': <gensim.models.keyedvectors.Vocab at 0x2eb0ffe69a0>,\n",
       " 'planta': <gensim.models.keyedvectors.Vocab at 0x2eb0ffe63d0>,\n",
       " 'período': <gensim.models.keyedvectors.Vocab at 0x2eb0ffe6790>,\n",
       " '°': <gensim.models.keyedvectors.Vocab at 0x2eb0ffe6c40>,\n",
       " 'montañas': <gensim.models.keyedvectors.Vocab at 0x2eb0ffe6970>,\n",
       " 'ronda': <gensim.models.keyedvectors.Vocab at 0x2eb0ffe64c0>,\n",
       " 'clase': <gensim.models.keyedvectors.Vocab at 0x2eb0ffe66a0>,\n",
       " 'especialmente': <gensim.models.keyedvectors.Vocab at 0x2eb0ffe6a60>,\n",
       " 'oficina': <gensim.models.keyedvectors.Vocab at 0x2eb0ffe6100>,\n",
       " 'alcalde': <gensim.models.keyedvectors.Vocab at 0x2eb0ffe6940>,\n",
       " 'pasó': <gensim.models.keyedvectors.Vocab at 0x2eb0ffe6220>,\n",
       " 'estaban': <gensim.models.keyedvectors.Vocab at 0x2eb0ffe6370>,\n",
       " 'longitud': <gensim.models.keyedvectors.Vocab at 0x2eb0ffe6580>,\n",
       " 'temas': <gensim.models.keyedvectors.Vocab at 0x2eb0ffe66d0>,\n",
       " 'políticos': <gensim.models.keyedvectors.Vocab at 0x2eb0ffe6520>,\n",
       " 'deportivo': <gensim.models.keyedvectors.Vocab at 0x2eb0ffe65e0>,\n",
       " ',q': <gensim.models.keyedvectors.Vocab at 0x2eb0ffe6760>,\n",
       " 'arquitectura': <gensim.models.keyedvectors.Vocab at 0x2eb0ffe6cd0>,\n",
       " 'creación': <gensim.models.keyedvectors.Vocab at 0x2eb0ffe6c70>,\n",
       " 'barrio': <gensim.models.keyedvectors.Vocab at 0x2eb0ffe6b80>,\n",
       " 'argentino': <gensim.models.keyedvectors.Vocab at 0x2eb0ffe69d0>,\n",
       " 'libros': <gensim.models.keyedvectors.Vocab at 0x2eb0ffe6b20>,\n",
       " 'novela': <gensim.models.keyedvectors.Vocab at 0x2eb0ffe6c10>,\n",
       " 'olímpicos': <gensim.models.keyedvectors.Vocab at 0x2eb0ffe6af0>,\n",
       " 'he': <gensim.models.keyedvectors.Vocab at 0x2eb0ffe6e80>,\n",
       " 'jorge': <gensim.models.keyedvectors.Vocab at 0x2eb0ffe6fd0>,\n",
       " 'razas': <gensim.models.keyedvectors.Vocab at 0x2eb0ffe6d90>,\n",
       " 'academia': <gensim.models.keyedvectors.Vocab at 0x2eb0ffe6f70>,\n",
       " 'jefe': <gensim.models.keyedvectors.Vocab at 0x2eb0ffe6a00>,\n",
       " 'defensa': <gensim.models.keyedvectors.Vocab at 0x2eb0ffe6be0>,\n",
       " 'va': <gensim.models.keyedvectors.Vocab at 0x2eb0ffe6430>,\n",
       " 'telefónico': <gensim.models.keyedvectors.Vocab at 0x2eb0ffe6730>,\n",
       " 'características': <gensim.models.keyedvectors.Vocab at 0x2eb0ffe6910>,\n",
       " 'unas': <gensim.models.keyedvectors.Vocab at 0x2eb0ffe6550>,\n",
       " '»': <gensim.models.keyedvectors.Vocab at 0x2eb0ffe60a0>,\n",
       " 'honor': <gensim.models.keyedvectors.Vocab at 0x2eb0ffe60d0>,\n",
       " 'survey': <gensim.models.keyedvectors.Vocab at 0x2eb0ffe6190>,\n",
       " 'incluye': <gensim.models.keyedvectors.Vocab at 0x2eb0ffe6160>,\n",
       " 'existen': <gensim.models.keyedvectors.Vocab at 0x2eb0ffe6850>,\n",
       " 'amor': <gensim.models.keyedvectors.Vocab at 0x2eb0ffe6130>,\n",
       " 'cm': <gensim.models.keyedvectors.Vocab at 0x2eb0ffeb220>,\n",
       " 'fuente': <gensim.models.keyedvectors.Vocab at 0x2eb0ffebc70>,\n",
       " 'obtuvo': <gensim.models.keyedvectors.Vocab at 0x2eb0ffebe50>,\n",
       " 'ed': <gensim.models.keyedvectors.Vocab at 0x2eb0ffeb130>,\n",
       " 'nuevos': <gensim.models.keyedvectors.Vocab at 0x2eb0ffebb80>,\n",
       " 'martín': <gensim.models.keyedvectors.Vocab at 0x2eb0ffeb7c0>,\n",
       " 'situación': <gensim.models.keyedvectors.Vocab at 0x2eb0ffebca0>,\n",
       " 'w': <gensim.models.keyedvectors.Vocab at 0x2eb0ffeb5b0>,\n",
       " 'nombrado': <gensim.models.keyedvectors.Vocab at 0x2eb0ffeb910>,\n",
       " 'existe': <gensim.models.keyedvectors.Vocab at 0x2eb0ffeb6a0>,\n",
       " 'ellas': <gensim.models.keyedvectors.Vocab at 0x2eb0ffeb2e0>,\n",
       " 'derechos': <gensim.models.keyedvectors.Vocab at 0x2eb0ffebe20>,\n",
       " 'ministro': <gensim.models.keyedvectors.Vocab at 0x2eb0ffebb20>,\n",
       " 'interés': <gensim.models.keyedvectors.Vocab at 0x2eb0ffeb490>,\n",
       " 'series': <gensim.models.keyedvectors.Vocab at 0x2eb0ffeb970>,\n",
       " 'texto': <gensim.models.keyedvectors.Vocab at 0x2eb0ffeb580>,\n",
       " 'escritores': <gensim.models.keyedvectors.Vocab at 0x2eb0ffeb070>,\n",
       " 'actriz': <gensim.models.keyedvectors.Vocab at 0x2eb0ffeb0d0>,\n",
       " 'persona': <gensim.models.keyedvectors.Vocab at 0x2eb0ffeb1f0>,\n",
       " 'capacidad': <gensim.models.keyedvectors.Vocab at 0x2eb0ffebeb0>,\n",
       " 'artes': <gensim.models.keyedvectors.Vocab at 0x2eb0ffeb100>,\n",
       " 'participó': <gensim.models.keyedvectors.Vocab at 0x2eb0ffebdc0>,\n",
       " 'cantidad': <gensim.models.keyedvectors.Vocab at 0x2eb0ffeba60>,\n",
       " 'situada': <gensim.models.keyedvectors.Vocab at 0x2eb0ffeb520>,\n",
       " 'tv': <gensim.models.keyedvectors.Vocab at 0x2eb0ffebd30>,\n",
       " 'fuentes': <gensim.models.keyedvectors.Vocab at 0x2eb0ffebf70>,\n",
       " 'vista': <gensim.models.keyedvectors.Vocab at 0x2eb0ffebee0>,\n",
       " 'luz': <gensim.models.keyedvectors.Vocab at 0x2eb0ffeb9d0>,\n",
       " 'te': <gensim.models.keyedvectors.Vocab at 0x2eb0ffebbe0>,\n",
       " 'baja': <gensim.models.keyedvectors.Vocab at 0x2eb0ffebd00>,\n",
       " 'border': <gensim.models.keyedvectors.Vocab at 0x2eb0ffeb790>,\n",
       " 'paz': <gensim.models.keyedvectors.Vocab at 0x2eb0ffeb8e0>,\n",
       " 'tercer': <gensim.models.keyedvectors.Vocab at 0x2eb0ffeba00>,\n",
       " 'vuelta': <gensim.models.keyedvectors.Vocab at 0x2eb0ffeba30>,\n",
       " 'noche': <gensim.models.keyedvectors.Vocab at 0x2eb0ffeb730>,\n",
       " 'muestra': <gensim.models.keyedvectors.Vocab at 0x2eb0ffeb880>,\n",
       " 'rusia': <gensim.models.keyedvectors.Vocab at 0x2eb0ffeb0a0>,\n",
       " 'personal': <gensim.models.keyedvectors.Vocab at 0x2eb0ffeb250>,\n",
       " 'robert': <gensim.models.keyedvectors.Vocab at 0x2eb0ffeb460>,\n",
       " 'aeropuerto': <gensim.models.keyedvectors.Vocab at 0x2eb0ffca100>,\n",
       " 'apoyo': <gensim.models.keyedvectors.Vocab at 0x2eb0ffca2e0>,\n",
       " 'semana': <gensim.models.keyedvectors.Vocab at 0x2eb0ffca790>,\n",
       " 'palacio': <gensim.models.keyedvectors.Vocab at 0x2eb0ffca880>,\n",
       " 'propia': <gensim.models.keyedvectors.Vocab at 0x2eb0ffca5b0>,\n",
       " 'pacífico': <gensim.models.keyedvectors.Vocab at 0x2eb0ffca3d0>,\n",
       " 'escritor': <gensim.models.keyedvectors.Vocab at 0x2eb0ffca6a0>,\n",
       " 'castilla': <gensim.models.keyedvectors.Vocab at 0x2eb0ffca8e0>,\n",
       " 'profesor': <gensim.models.keyedvectors.Vocab at 0x2eb0ffca850>,\n",
       " 'comuna': <gensim.models.keyedvectors.Vocab at 0x2eb0ffcaa30>,\n",
       " 'roma': <gensim.models.keyedvectors.Vocab at 0x2eb0ffcabe0>,\n",
       " 'diseño': <gensim.models.keyedvectors.Vocab at 0x2eb0ffcaa90>,\n",
       " 'casos': <gensim.models.keyedvectors.Vocab at 0x2eb0ffca460>,\n",
       " 'negro': <gensim.models.keyedvectors.Vocab at 0x2eb0ffca3a0>,\n",
       " 'camino': <gensim.models.keyedvectors.Vocab at 0x2eb0ffca370>,\n",
       " 'ayuda': <gensim.models.keyedvectors.Vocab at 0x2eb0ffca130>,\n",
       " 'nombres': <gensim.models.keyedvectors.Vocab at 0x2eb0ffca160>,\n",
       " 'podría': <gensim.models.keyedvectors.Vocab at 0x2eb0ffca550>,\n",
       " 'causa': <gensim.models.keyedvectors.Vocab at 0x2eb0ffca9a0>,\n",
       " 'horario': <gensim.models.keyedvectors.Vocab at 0x2eb0ffcae50>,\n",
       " 'ciencias': <gensim.models.keyedvectors.Vocab at 0x2eb0ffca4f0>,\n",
       " 'últimos': <gensim.models.keyedvectors.Vocab at 0x2eb0ffca5e0>,\n",
       " 'tamaño': <gensim.models.keyedvectors.Vocab at 0x2eb0ffca2b0>,\n",
       " 'principio': <gensim.models.keyedvectors.Vocab at 0x2eb0ffca7f0>,\n",
       " 'mm': <gensim.models.keyedvectors.Vocab at 0x2eb0ffcadc0>,\n",
       " 'periodo': <gensim.models.keyedvectors.Vocab at 0x2eb0ffca640>,\n",
       " 'nacimiento': <gensim.models.keyedvectors.Vocab at 0x2eb0ffca610>,\n",
       " 'nada': <gensim.models.keyedvectors.Vocab at 0x2eb0ffcafd0>,\n",
       " 'etapa': <gensim.models.keyedvectors.Vocab at 0x2eb0ffcaee0>,\n",
       " 'actualidad': <gensim.models.keyedvectors.Vocab at 0x2eb0ffca310>,\n",
       " 'pequeño': <gensim.models.keyedvectors.Vocab at 0x2eb0ffcadf0>,\n",
       " 'iv': <gensim.models.keyedvectors.Vocab at 0x2eb0ffcaf70>,\n",
       " 'santo': <gensim.models.keyedvectors.Vocab at 0x2eb0ffcac70>,\n",
       " 'zonas': <gensim.models.keyedvectors.Vocab at 0x2eb0ffcab80>,\n",
       " 'lópez': <gensim.models.keyedvectors.Vocab at 0x2eb0ffcad00>,\n",
       " 'referencias': <gensim.models.keyedvectors.Vocab at 0x2eb0ffca910>,\n",
       " 'única': <gensim.models.keyedvectors.Vocab at 0x2eb0ffcaa00>,\n",
       " 'ediciones': <gensim.models.keyedvectors.Vocab at 0x2eb0ffca820>,\n",
       " 'dios': <gensim.models.keyedvectors.Vocab at 0x2eb0ffca190>,\n",
       " 'debut': <gensim.models.keyedvectors.Vocab at 0x2eb0ffca040>,\n",
       " 'presente': <gensim.models.keyedvectors.Vocab at 0x2eb0ffca490>,\n",
       " 'congreso': <gensim.models.keyedvectors.Vocab at 0x2eb0fda9280>,\n",
       " 'guitarra': <gensim.models.keyedvectors.Vocab at 0x2eb0fda9610>,\n",
       " 'australia': <gensim.models.keyedvectors.Vocab at 0x2eb0fda99d0>,\n",
       " 'qué': <gensim.models.keyedvectors.Vocab at 0x2eb0fda9f70>,\n",
       " 'pablo': <gensim.models.keyedvectors.Vocab at 0x2eb0fda9ca0>,\n",
       " 'elementos': <gensim.models.keyedvectors.Vocab at 0x2eb0fda9d90>,\n",
       " 'relaciones': <gensim.models.keyedvectors.Vocab at 0x2eb0fda9e80>,\n",
       " 'compuesto': <gensim.models.keyedvectors.Vocab at 0x2eb0fda9520>,\n",
       " 'horas': <gensim.models.keyedvectors.Vocab at 0x2eb0fda9700>,\n",
       " 'ubicada': <gensim.models.keyedvectors.Vocab at 0x2eb0fda9220>,\n",
       " 'partes': <gensim.models.keyedvectors.Vocab at 0x2eb0fda9eb0>,\n",
       " 'text': <gensim.models.keyedvectors.Vocab at 0x2eb0fda9940>,\n",
       " 'lengua': <gensim.models.keyedvectors.Vocab at 0x2eb0fda9cd0>,\n",
       " 'diversos': <gensim.models.keyedvectors.Vocab at 0x2eb0fda9640>,\n",
       " 'militares': <gensim.models.keyedvectors.Vocab at 0x2eb0fda9790>,\n",
       " 'torre': <gensim.models.keyedvectors.Vocab at 0x2eb0fda94c0>,\n",
       " 'dado': <gensim.models.keyedvectors.Vocab at 0x2eb0fda9370>,\n",
       " 'actividades': <gensim.models.keyedvectors.Vocab at 0x2eb0fda9400>,\n",
       " 'nacionales': <gensim.models.keyedvectors.Vocab at 0x2eb0fda99a0>,\n",
       " 'cantón': <gensim.models.keyedvectors.Vocab at 0x2eb0fda9820>,\n",
       " 'nuevas': <gensim.models.keyedvectors.Vocab at 0x2eb0fda9880>,\n",
       " 'sencillo': <gensim.models.keyedvectors.Vocab at 0x2eb0fda97c0>,\n",
       " 'federal': <gensim.models.keyedvectors.Vocab at 0x2eb0fda96a0>,\n",
       " 'participación': <gensim.models.keyedvectors.Vocab at 0x2eb0fda95b0>,\n",
       " 'fuerte': <gensim.models.keyedvectors.Vocab at 0x2eb0fda9e20>,\n",
       " 'italiano': <gensim.models.keyedvectors.Vocab at 0x2eb0fda9f40>,\n",
       " 'primeras': <gensim.models.keyedvectors.Vocab at 0x2eb0fda9f10>,\n",
       " 'posee': <gensim.models.keyedvectors.Vocab at 0x2eb0fda9310>,\n",
       " 'respecto': <gensim.models.keyedvectors.Vocab at 0x2eb0fda9460>,\n",
       " 'jugadores': <gensim.models.keyedvectors.Vocab at 0x2eb0fda92e0>,\n",
       " 'lleva': <gensim.models.keyedvectors.Vocab at 0x2eb0fda91c0>,\n",
       " 'seguridad': <gensim.models.keyedvectors.Vocab at 0x2eb0fda9970>,\n",
       " 'administración': <gensim.models.keyedvectors.Vocab at 0x2eb0fda9c40>,\n",
       " 'empresas': <gensim.models.keyedvectors.Vocab at 0x2eb0fda9a90>,\n",
       " 'mercado': <gensim.models.keyedvectors.Vocab at 0x2eb0fda9b80>,\n",
       " 'gonzález': <gensim.models.keyedvectors.Vocab at 0x2eb0fda9af0>,\n",
       " 'lucha': <gensim.models.keyedvectors.Vocab at 0x2eb0fda9c10>,\n",
       " 'estructura': <gensim.models.keyedvectors.Vocab at 0x2eb0fda9a60>,\n",
       " 'jesús': <gensim.models.keyedvectors.Vocab at 0x2eb0fda93d0>,\n",
       " 'ocupación': <gensim.models.keyedvectors.Vocab at 0x2eb0fdbe2b0>,\n",
       " 'cet': <gensim.models.keyedvectors.Vocab at 0x2eb0fdbe670>,\n",
       " 'nacido': <gensim.models.keyedvectors.Vocab at 0x2eb0fdbefd0>,\n",
       " 'enrique': <gensim.models.keyedvectors.Vocab at 0x2eb0fdbe760>,\n",
       " 'literatura': <gensim.models.keyedvectors.Vocab at 0x2eb0fdbe850>,\n",
       " 'católica': <gensim.models.keyedvectors.Vocab at 0x2eb0fdbe3a0>,\n",
       " 'armas': <gensim.models.keyedvectors.Vocab at 0x2eb0fdbec10>,\n",
       " 'energía': <gensim.models.keyedvectors.Vocab at 0x2eb0fdbe280>,\n",
       " 'idioma': <gensim.models.keyedvectors.Vocab at 0x2eb0fdbe580>,\n",
       " 'valencia': <gensim.models.keyedvectors.Vocab at 0x2eb0fdbeee0>,\n",
       " 'cabeza': <gensim.models.keyedvectors.Vocab at 0x2eb0fdbe2e0>,\n",
       " 'gobernador': <gensim.models.keyedvectors.Vocab at 0x2eb0fdbef70>,\n",
       " 'cuyo': <gensim.models.keyedvectors.Vocab at 0x2eb0fdbee50>,\n",
       " 'geográfica': <gensim.models.keyedvectors.Vocab at 0x2eb0fdbef40>,\n",
       " 'city': <gensim.models.keyedvectors.Vocab at 0x2eb0fdbe9a0>,\n",
       " 'córdoba': <gensim.models.keyedvectors.Vocab at 0x2eb0fdbe130>,\n",
       " 'mes': <gensim.models.keyedvectors.Vocab at 0x2eb0fdbe910>,\n",
       " 'situado': <gensim.models.keyedvectors.Vocab at 0x2eb0fdbe400>,\n",
       " 'diferencia': <gensim.models.keyedvectors.Vocab at 0x2eb0fdbe8e0>,\n",
       " 'objetivo': <gensim.models.keyedvectors.Vocab at 0x2eb0fdbed60>,\n",
       " 'ruta': <gensim.models.keyedvectors.Vocab at 0x2eb0fdbea90>,\n",
       " 'perteneciente': <gensim.models.keyedvectors.Vocab at 0x2eb0fdbe430>,\n",
       " 'economía': <gensim.models.keyedvectors.Vocab at 0x2eb0fdbe550>,\n",
       " 'superior_': <gensim.models.keyedvectors.Vocab at 0x2eb0fdbe5e0>,\n",
       " 'histórico': <gensim.models.keyedvectors.Vocab at 0x2eb0fdbe6a0>,\n",
       " 'india': <gensim.models.keyedvectors.Vocab at 0x2eb0fdbe5b0>,\n",
       " 'flores': <gensim.models.keyedvectors.Vocab at 0x2eb0fdbe4f0>,\n",
       " 'do': <gensim.models.keyedvectors.Vocab at 0x2eb0fdbe790>,\n",
       " 'visita': <gensim.models.keyedvectors.Vocab at 0x2eb0fdbe070>,\n",
       " 'conde': <gensim.models.keyedvectors.Vocab at 0x2eb0fdbe8b0>,\n",
       " 'tu': <gensim.models.keyedvectors.Vocab at 0x2eb0fdbeca0>,\n",
       " 'fase': <gensim.models.keyedvectors.Vocab at 0x2eb0fdbec70>,\n",
       " 'william': <gensim.models.keyedvectors.Vocab at 0x2eb0fdbe7f0>,\n",
       " 'resultados': <gensim.models.keyedvectors.Vocab at 0x2eb0fdbecd0>,\n",
       " 'nos': <gensim.models.keyedvectors.Vocab at 0x2eb0fdbe730>,\n",
       " 'niños': <gensim.models.keyedvectors.Vocab at 0x2eb0fdbe7c0>,\n",
       " 'tales': <gensim.models.keyedvectors.Vocab at 0x2eb0fdbeaf0>,\n",
       " 'https': <gensim.models.keyedvectors.Vocab at 0x2eb0fdbedc0>,\n",
       " 'pequeña': <gensim.models.keyedvectors.Vocab at 0x2eb0fdbe190>,\n",
       " 'presenta': <gensim.models.keyedvectors.Vocab at 0x2eb0fdbe460>,\n",
       " 'campaña': <gensim.models.keyedvectors.Vocab at 0x2eb0fd9a1f0>,\n",
       " 'dar': <gensim.models.keyedvectors.Vocab at 0x2eb0fd9a580>,\n",
       " 'pública': <gensim.models.keyedvectors.Vocab at 0x2eb0fd9a2e0>,\n",
       " 'fernández': <gensim.models.keyedvectors.Vocab at 0x2eb0fd9ae20>,\n",
       " 'colegio': <gensim.models.keyedvectors.Vocab at 0x2eb0fd9a370>,\n",
       " 'occidental': <gensim.models.keyedvectors.Vocab at 0x2eb0fd9a730>,\n",
       " 'aproximadamente': <gensim.models.keyedvectors.Vocab at 0x2eb0fd9a280>,\n",
       " 'ocasiones': <gensim.models.keyedvectors.Vocab at 0x2eb0fd9afa0>,\n",
       " 'tropas': <gensim.models.keyedvectors.Vocab at 0x2eb0fd9a820>,\n",
       " 'sección': <gensim.models.keyedvectors.Vocab at 0x2eb0fd9aa00>,\n",
       " 'presencia': <gensim.models.keyedvectors.Vocab at 0x2eb0fd9acd0>,\n",
       " 'permite': <gensim.models.keyedvectors.Vocab at 0x2eb0fd9a640>,\n",
       " 'sentido': <gensim.models.keyedvectors.Vocab at 0x2eb0fd9aeb0>,\n",
       " 'uruguay': <gensim.models.keyedvectors.Vocab at 0x2eb0fd9a4c0>,\n",
       " 'ficha': <gensim.models.keyedvectors.Vocab at 0x2eb0fd9a160>,\n",
       " 'tenían': <gensim.models.keyedvectors.Vocab at 0x2eb0fd9aca0>,\n",
       " 'top': <gensim.models.keyedvectors.Vocab at 0x2eb0fd9afd0>,\n",
       " 'siete': <gensim.models.keyedvectors.Vocab at 0x2eb0fd9ad60>,\n",
       " 'ets': <gensim.models.keyedvectors.Vocab at 0x2eb0fd9ab50>,\n",
       " 'dicha': <gensim.models.keyedvectors.Vocab at 0x2eb0fd9abb0>,\n",
       " 'pp': <gensim.models.keyedvectors.Vocab at 0x2eb0fd9a940>,\n",
       " 'animales': <gensim.models.keyedvectors.Vocab at 0x2eb0fd9ae80>,\n",
       " 'esposa': <gensim.models.keyedvectors.Vocab at 0x2eb0fd9ab80>,\n",
       " 'ríos': <gensim.models.keyedvectors.Vocab at 0x2eb0fd9aac0>,\n",
       " 'logró': <gensim.models.keyedvectors.Vocab at 0x2eb0fd9ac70>,\n",
       " 'catalina': <gensim.models.keyedvectors.Vocab at 0x2eb0fd9af10>,\n",
       " 'you': <gensim.models.keyedvectors.Vocab at 0x2eb69bb5d90>,\n",
       " 'may': <gensim.models.keyedvectors.Vocab at 0x2eb0fdaca90>,\n",
       " 'murió': <gensim.models.keyedvectors.Vocab at 0x2eb0fdacf40>,\n",
       " 'realizar': <gensim.models.keyedvectors.Vocab at 0x2eb0fdacd60>,\n",
       " 'bar': <gensim.models.keyedvectors.Vocab at 0x2eb0fdacbe0>,\n",
       " 'medalla': <gensim.models.keyedvectors.Vocab at 0x2eb0fdac7c0>,\n",
       " 'función': <gensim.models.keyedvectors.Vocab at 0x2eb0fdac6d0>,\n",
       " 'usuarios': <gensim.models.keyedvectors.Vocab at 0x2eb0fdac8b0>,\n",
       " 'programas': <gensim.models.keyedvectors.Vocab at 0x2eb0fdac220>,\n",
       " 'des': <gensim.models.keyedvectors.Vocab at 0x2eb0fdac4f0>,\n",
       " 'calidad': <gensim.models.keyedvectors.Vocab at 0x2eb0fdacdf0>,\n",
       " 'artistas': <gensim.models.keyedvectors.Vocab at 0x2eb0fdac3a0>,\n",
       " 'similar': <gensim.models.keyedvectors.Vocab at 0x2eb0fdac3d0>,\n",
       " 'nuestra': <gensim.models.keyedvectors.Vocab at 0x2eb0fdac610>,\n",
       " 'independencia': <gensim.models.keyedvectors.Vocab at 0x2eb0fdac070>,\n",
       " 'buena': <gensim.models.keyedvectors.Vocab at 0x2eb0fdacd00>,\n",
       " 'sistemas': <gensim.models.keyedvectors.Vocab at 0x2eb0fdac640>,\n",
       " 'significa': <gensim.models.keyedvectors.Vocab at 0x2eb0fdac160>,\n",
       " 'paul': <gensim.models.keyedvectors.Vocab at 0x2eb0fdac1f0>,\n",
       " 'virgen': <gensim.models.keyedvectors.Vocab at 0x2eb0fdac340>,\n",
       " 'fc': <gensim.models.keyedvectors.Vocab at 0x2eb0fdac2e0>,\n",
       " 'transporte': <gensim.models.keyedvectors.Vocab at 0x2eb0fdacb50>,\n",
       " 'pueblos': <gensim.models.keyedvectors.Vocab at 0x2eb0fdac430>,\n",
       " 'rodríguez': <gensim.models.keyedvectors.Vocab at 0x2eb0fdac190>,\n",
       " 'coordenadas': <gensim.models.keyedvectors.Vocab at 0x2eb0fdac280>,\n",
       " 'quienes': <gensim.models.keyedvectors.Vocab at 0x2eb0fdacca0>,\n",
       " 'vol': <gensim.models.keyedvectors.Vocab at 0x2eb0fdacf10>,\n",
       " 'valor': <gensim.models.keyedvectors.Vocab at 0x2eb0fdac760>,\n",
       " 'internacionales': <gensim.models.keyedvectors.Vocab at 0x2eb0fdac910>,\n",
       " 'unidad': <gensim.models.keyedvectors.Vocab at 0x2eb0fdacbb0>,\n",
       " 'diversas': <gensim.models.keyedvectors.Vocab at 0x2eb0fdacc10>,\n",
       " 'crear': <gensim.models.keyedvectors.Vocab at 0x2eb0fdac700>,\n",
       " 'creo': <gensim.models.keyedvectors.Vocab at 0x2eb0fdac850>,\n",
       " 'imágenes': <gensim.models.keyedvectors.Vocab at 0x2eb0fdac8e0>,\n",
       " 'inicio': <gensim.models.keyedvectors.Vocab at 0x2eb0fdaca30>,\n",
       " 'salud': <gensim.models.keyedvectors.Vocab at 0x2eb0fdac580>,\n",
       " 'contiene': <gensim.models.keyedvectors.Vocab at 0x2eb0fdac1c0>,\n",
       " 'sierra': <gensim.models.keyedvectors.Vocab at 0x2eb0fdac730>,\n",
       " 'será': <gensim.models.keyedvectors.Vocab at 0x2eb0fdacaf0>,\n",
       " 'idea': <gensim.models.keyedvectors.Vocab at 0x2eb0fdac490>,\n",
       " 'llevó': <gensim.models.keyedvectors.Vocab at 0x2eb0fe6c100>,\n",
       " 'minutos': <gensim.models.keyedvectors.Vocab at 0x2eb0fe6c7c0>,\n",
       " 'diego': <gensim.models.keyedvectors.Vocab at 0x2eb0fe6c6d0>,\n",
       " 'verano': <gensim.models.keyedvectors.Vocab at 0x2eb0fe6c070>,\n",
       " 'sol': <gensim.models.keyedvectors.Vocab at 0x2eb0fe6c460>,\n",
       " 'teoría': <gensim.models.keyedvectors.Vocab at 0x2eb0fe6c730>,\n",
       " 'revolución': <gensim.models.keyedvectors.Vocab at 0x2eb0fe6c8e0>,\n",
       " 'entrada': <gensim.models.keyedvectors.Vocab at 0x2eb0fe6c1f0>,\n",
       " 'mejores': <gensim.models.keyedvectors.Vocab at 0x2eb0fe6c4c0>,\n",
       " 'mando': <gensim.models.keyedvectors.Vocab at 0x2eb0fe6c580>,\n",
       " 'decidió': <gensim.models.keyedvectors.Vocab at 0x2eb0fe6c820>,\n",
       " 'james': <gensim.models.keyedvectors.Vocab at 0x2eb0fe6c340>,\n",
       " 'ciencia': <gensim.models.keyedvectors.Vocab at 0x2eb0fe6c880>,\n",
       " 'dirigida': <gensim.models.keyedvectors.Vocab at 0x2eb0fe6c310>,\n",
       " 'records': <gensim.models.keyedvectors.Vocab at 0x2eb0fe6cbe0>,\n",
       " 'di': <gensim.models.keyedvectors.Vocab at 0x2eb0fe6c5e0>,\n",
       " 'aire': <gensim.models.keyedvectors.Vocab at 0x2eb0fe6c3d0>,\n",
       " 'sector': <gensim.models.keyedvectors.Vocab at 0x2eb0fe6c400>,\n",
       " 'importancia': <gensim.models.keyedvectors.Vocab at 0x2eb0fe6cd60>,\n",
       " 'ataque': <gensim.models.keyedvectors.Vocab at 0x2eb0fe6ccd0>,\n",
       " 'flora': <gensim.models.keyedvectors.Vocab at 0x2eb0fe6cbb0>,\n",
       " 'comunicación': <gensim.models.keyedvectors.Vocab at 0x2eb0fe6cb80>,\n",
       " 'jean': <gensim.models.keyedvectors.Vocab at 0x2eb0fe6c520>,\n",
       " 'puente': <gensim.models.keyedvectors.Vocab at 0x2eb0fe6c940>,\n",
       " 'width': <gensim.models.keyedvectors.Vocab at 0x2eb0fe6c370>,\n",
       " 'matrimonio': <gensim.models.keyedvectors.Vocab at 0x2eb0fe6c640>,\n",
       " 'material': <gensim.models.keyedvectors.Vocab at 0x2eb0fe6cfd0>,\n",
       " 'volvió': <gensim.models.keyedvectors.Vocab at 0x2eb0fe6ceb0>,\n",
       " 'humanos': <gensim.models.keyedvectors.Vocab at 0x2eb0fe6cf40>,\n",
       " ...}"
      ]
     },
     "execution_count": 363,
     "metadata": {},
     "output_type": "execute_result"
    }
   ],
   "source": [
    "wordvectors.vocab"
   ]
  },
  {
   "cell_type": "markdown",
   "metadata": {},
   "source": [
    "and how each word is represented in the vector?"
   ]
  },
  {
   "cell_type": "code",
   "execution_count": 364,
   "metadata": {},
   "outputs": [
    {
     "data": {
      "text/plain": [
       "array([-3.8702e-02,  8.6242e-03,  7.7157e-04,  1.1074e-02,  1.4201e-01,\n",
       "        1.2204e-01, -4.9101e-03,  1.7932e-01, -2.4330e-02, -3.0732e-01,\n",
       "       -7.0185e-02,  4.1497e-02,  2.7147e-02, -3.9159e-02, -8.0597e-02,\n",
       "        7.0478e-02,  8.3426e-02, -3.0201e-02, -2.1576e-01,  3.8433e-03,\n",
       "       -6.1426e-02, -2.8136e-02,  2.0878e-02, -2.4300e-01,  1.7287e-01,\n",
       "       -1.2883e-01, -7.6604e-03, -1.0034e-01, -2.2452e-01, -7.6677e-02,\n",
       "       -1.2778e-01,  1.2221e-01, -1.0095e-01, -9.3849e-02,  1.0530e-01,\n",
       "       -1.2211e-02, -2.3614e-01, -3.1510e-02, -1.5168e-01,  1.8146e-01,\n",
       "       -8.8749e-02, -6.2043e-02, -1.1807e-02, -1.6943e-01,  3.7954e-02,\n",
       "       -5.0114e-02, -7.7692e-03,  2.7901e-02, -5.8757e-02,  1.3625e-01,\n",
       "       -2.5276e-01, -2.0305e-02, -1.6100e-01,  1.1873e-02, -6.1759e-02,\n",
       "       -1.1908e-01, -3.7837e-02, -2.4540e-03,  8.8556e-02, -1.0373e-01,\n",
       "       -4.3333e-02,  1.9475e-02,  1.0165e-01, -9.5659e-02,  2.1836e-01,\n",
       "       -2.7419e-01, -1.2671e-01,  1.9737e-02, -1.4476e-01, -6.4958e-02,\n",
       "        1.9528e-02, -1.0012e-01, -2.8757e-02,  1.6575e-01, -6.3639e-02,\n",
       "        1.2385e-01,  4.6977e-02, -9.1123e-02,  3.3933e-01,  2.0304e-01,\n",
       "       -3.8555e-02, -8.6799e-02,  1.3606e-01, -8.5937e-02,  3.2539e-02,\n",
       "       -5.0835e-02, -2.7413e-02,  4.2341e-02,  9.8698e-02, -4.4587e-02,\n",
       "        1.6227e-01,  2.3220e-01,  4.3877e-01,  4.1525e-03,  1.8282e-01,\n",
       "       -1.3865e-01, -2.9757e-01,  7.1229e-04,  7.5029e-02, -1.0075e-02,\n",
       "       -3.2888e-02,  1.2796e-01,  1.7071e-02, -8.6523e-02,  3.8340e-02,\n",
       "        1.6108e-02,  1.4473e-01, -1.0349e-01, -3.1366e-02,  1.7604e-01,\n",
       "       -5.8138e-03, -8.6311e-03, -7.7493e-02,  1.0610e-02, -1.5291e-01,\n",
       "        1.0333e-01,  1.3958e-02,  1.7951e-01, -9.0112e-02, -1.0271e-01,\n",
       "        5.3688e-02,  8.2842e-03,  2.5145e-02, -3.9548e-02, -2.4779e-01,\n",
       "       -1.1794e-01,  2.6315e-02,  8.7477e-03,  5.2779e-02, -1.7124e-01,\n",
       "       -1.0942e-01,  4.7744e-02,  5.0161e-02,  1.7626e-01, -1.2449e-01,\n",
       "        2.1336e-02,  7.8065e-02, -6.2668e-02, -6.1661e-02,  6.0613e-02,\n",
       "       -2.1603e-01, -7.4075e-02,  5.5009e-02,  7.4684e-02,  1.5876e-01,\n",
       "       -1.5813e-01, -6.1331e-03,  5.7663e-02,  2.7089e-01, -2.6951e-02,\n",
       "       -3.1654e-02,  1.5204e-01, -2.4291e-02, -1.0437e-01, -1.2719e-01,\n",
       "       -1.5331e-01, -1.6721e-01, -5.7534e-02,  5.3961e-02,  8.2827e-02,\n",
       "       -6.1251e-02,  8.6969e-02,  1.3845e-01,  1.0223e-01,  1.0328e-01,\n",
       "       -6.4714e-03, -1.6011e-02, -6.8897e-02,  8.0651e-03,  7.3137e-02,\n",
       "        2.0564e-01,  8.2089e-02, -5.3984e-02, -5.0574e-02, -1.1107e-01,\n",
       "       -5.2469e-01,  1.3741e-01, -8.2242e-02, -3.2677e-02,  3.1637e-02,\n",
       "       -1.2900e-01, -2.2784e-02,  6.7367e-02, -3.0601e-02,  6.0745e-02,\n",
       "       -9.8268e-03,  1.4137e-01, -1.2874e-01, -1.0776e-01,  1.9371e-01,\n",
       "        8.6558e-02,  1.0116e-01,  6.5453e-02,  2.5947e-02, -1.8269e-01,\n",
       "       -5.3352e-02, -5.0394e-02, -1.1327e-01, -2.4244e-02,  1.1260e-01,\n",
       "        8.3827e-02,  1.6472e-01,  8.9325e-02,  1.9994e-02,  1.3500e-04,\n",
       "       -1.1309e-01, -1.8163e-02,  6.9098e-02, -7.1413e-02,  9.1049e-02,\n",
       "       -5.6868e-02,  3.3390e-02, -8.8129e-02,  1.1689e-01, -1.5700e-01,\n",
       "       -1.7819e-01, -1.6262e-02, -1.1472e-01,  7.5303e-02, -7.1386e-03,\n",
       "       -9.7264e-02, -5.0694e-02,  1.4100e-01, -2.2238e-01, -6.8403e-02,\n",
       "        1.4747e-01,  2.0519e-03, -5.8379e-02, -1.4474e-01, -1.2931e-02,\n",
       "        1.9403e-01, -1.2452e-01, -4.7750e-04,  4.5677e-02,  5.4207e-02,\n",
       "        1.1225e-01,  1.2055e-01,  1.2687e-01, -2.1635e-01,  2.3410e-02,\n",
       "        4.5408e-02, -1.0185e-01,  7.4740e-02, -8.0815e-02,  1.4055e-01,\n",
       "        1.0147e-01,  8.0584e-03,  1.0113e-01, -2.7420e-02, -8.0697e-02,\n",
       "       -1.6732e-01, -1.7648e-02, -4.2538e-02,  1.1205e-01, -1.5340e-01,\n",
       "        3.3973e-02, -1.8983e-02,  2.7517e-02, -6.3575e-02,  4.1867e-02,\n",
       "        1.3049e-01,  4.1156e-02,  9.4057e-02, -4.7761e-02,  5.1057e-02,\n",
       "        1.2032e-01, -1.9313e-01,  2.2349e-01,  7.6439e-03, -2.8712e-01,\n",
       "        1.5154e-02, -8.8411e-02,  9.4262e-02,  2.4222e-01, -5.0968e-02,\n",
       "        1.0292e-01,  1.2244e-01,  7.3916e-02,  5.2675e-02, -2.3285e-03,\n",
       "        1.9997e-02,  3.1177e-02, -2.3051e-01, -1.5433e-01,  5.9313e-02,\n",
       "       -1.3798e-01,  1.2372e-01,  2.7089e-01, -7.7477e-02, -4.8017e-02,\n",
       "       -1.4257e-01, -7.9467e-02,  5.2574e-02,  3.8816e-02, -3.5020e-01,\n",
       "       -8.2367e-02, -6.2939e-02, -6.7798e-02, -3.7089e-02,  5.5804e-02],\n",
       "      dtype=float32)"
      ]
     },
     "execution_count": 364,
     "metadata": {},
     "output_type": "execute_result"
    }
   ],
   "source": [
    "wordvectors['que']"
   ]
  },
  {
   "cell_type": "markdown",
   "metadata": {},
   "source": [
    "We want to ad to the feature vector the word embeddings. In order to do that we will create a new transformer function that will extend the feature vector we created before.\n",
    "\n",
    "This class represented the model with the change of the feature vector."
   ]
  },
  {
   "cell_type": "code",
   "execution_count": 386,
   "metadata": {},
   "outputs": [],
   "source": [
    "class EmbedTransformer(BaseEstimator, TransformerMixin):\n",
    "    def __init__(self, word2vec, kword):\n",
    "        self.word2vec = word2vec\n",
    "        self.len_vector = len(word2vec['uno'])\n",
    "        self.word = kword\n",
    "    \n",
    "    def transform(self, X, **transform_params):\n",
    "        return np.array([np.zeros(self.len_vector, dtype='float32') if x[self.word] not in self.word2vec \n",
    "                         else self.word2vec[x[self.word].lower()] for x in X], dtype='float32')\n",
    "\n",
    "    def fit(self, X, y=None, **fit_params):\n",
    "        return self\n",
    "        "
   ]
  },
  {
   "cell_type": "code",
   "execution_count": 387,
   "metadata": {},
   "outputs": [],
   "source": [
    "def create_pipeline_embedded():\n",
    "    # this pipeline contains information about current word, and also previous and next ones.\n",
    "    pipeline = Pipeline([\n",
    "        ('features', FeatureUnion([\n",
    "            ('vectorizer', DictVectorizer(sparse=True)),\n",
    "            ('embedding_word', EmbedTransformer(wordvectors, kword='word')),\n",
    "            ('embedding_next', EmbedTransformer(wordvectors, kword='nextWord')),\n",
    "            ('embedding_prev', EmbedTransformer(wordvectors, kword='prevWord'))\n",
    "        ])),\n",
    "        ('classifier', LogisticRegression(solver='sag', max_iter=100))\n",
    "    ])\n",
    "    return pipeline"
   ]
  },
  {
   "cell_type": "code",
   "execution_count": 388,
   "metadata": {},
   "outputs": [],
   "source": [
    "pipeline = create_pipeline_embedded()\n"
   ]
  },
  {
   "cell_type": "code",
   "execution_count": 389,
   "metadata": {},
   "outputs": [
    {
     "name": "stderr",
     "output_type": "stream",
     "text": [
      "C:\\Users\\yaelj\\miniconda3\\envs\\nlp21\\lib\\site-packages\\sklearn\\linear_model\\_sag.py:329: ConvergenceWarning: The max_iter was reached which means the coef_ did not converge\n",
      "  warnings.warn(\"The max_iter was reached which means \"\n",
      "C:\\Users\\yaelj\\miniconda3\\envs\\nlp21\\lib\\site-packages\\sklearn\\base.py:209: FutureWarning: From version 0.24, get_params will raise an AttributeError if a parameter cannot be retrieved as an instance attribute. Previously it would return None.\n",
      "  warnings.warn('From version 0.24, get_params will raise an '\n"
     ]
    },
    {
     "data": {
      "text/plain": [
       "Pipeline(steps=[('features',\n",
       "                 FeatureUnion(transformer_list=[('vectorizer',\n",
       "                                                 DictVectorizer()),\n",
       "                                                ('embedding_word',\n",
       "                                                 EmbedTransformer(kword=None,\n",
       "                                                                  word2vec=<gensim.models.keyedvectors.Word2VecKeyedVectors object at 0x000002EB10405400>)),\n",
       "                                                ('embedding_next',\n",
       "                                                 EmbedTransformer(kword=None,\n",
       "                                                                  word2vec=<gensim.models.keyedvectors.Word2VecKeyedVectors object at 0x000002EB10405400>)),\n",
       "                                                ('embedding_prev',\n",
       "                                                 EmbedTransformer(kword=None,\n",
       "                                                                  word2vec=<gensim.models.keyedvectors.Word2VecKeyedVectors object at 0x000002EB10405400>))])),\n",
       "                ('classifier', LogisticRegression(solver='sag'))])"
      ]
     },
     "execution_count": 389,
     "metadata": {},
     "output_type": "execute_result"
    }
   ],
   "source": [
    "pipeline.fit(X_esp_train,y_esp_train)\n"
   ]
  },
  {
   "cell_type": "code",
   "execution_count": 390,
   "metadata": {},
   "outputs": [],
   "source": [
    "predictions_esp = pipeline.predict(X_esp_test)"
   ]
  },
  {
   "cell_type": "code",
   "execution_count": 391,
   "metadata": {},
   "outputs": [
    {
     "name": "stdout",
     "output_type": "stream",
     "text": [
      "accuracy:0.9590553625831991\n",
      "\n",
      "              precision    recall  f1-score   support\n",
      "\n",
      "       B-LOC      0.706     0.692     0.699      1084\n",
      "       B-PER      0.789     0.839     0.813       735\n",
      "       B-ORG      0.771     0.827     0.798      1400\n",
      "      B-MISC      0.534     0.469     0.499       339\n",
      "       I-LOC      0.651     0.425     0.514       325\n",
      "       I-PER      0.846     0.913     0.879       634\n",
      "       I-ORG      0.718     0.582     0.643      1104\n",
      "      I-MISC      0.573     0.294     0.389       557\n",
      "           O      0.987     0.997     0.992     45355\n",
      "\n",
      "    accuracy                          0.959     51533\n",
      "   macro avg      0.731     0.671     0.692     51533\n",
      "weighted avg      0.955     0.959     0.956     51533\n",
      "\n"
     ]
    }
   ],
   "source": [
    "print_prediction(predictions_esp, y_esp_test)"
   ]
  },
  {
   "cell_type": "code",
   "execution_count": 392,
   "metadata": {},
   "outputs": [
    {
     "data": {
      "image/png": "[encoded data removed]",
      "text/plain": [
       "<Figure size 576x576 with 2 Axes>"
      ]
     },
     "metadata": {
      "needs_background": "light"
     },
     "output_type": "display_data"
    }
   ],
   "source": [
    "print_matrix(predictions_esp, y_esp_test)"
   ]
  },
  {
   "cell_type": "markdown",
   "metadata": {},
   "source": [
    "We can see that this results are better than the results we recieved from our first featues extractor, but the second feature extractor we wrote is still better than this one. We deduce from this that data on the 'surrounding environment' of a word helps a lot to learn better and improve the accuracy."
   ]
  },
  {
   "cell_type": "markdown",
   "metadata": {},
   "source": [
    "Word embeddings capture the semantic meaning of the word, so we cocnlude that the words around each word we examine helps to understand and capture better the semantic meaning of the word."
   ]
  },
  {
   "cell_type": "code",
   "execution_count": null,
   "metadata": {},
   "outputs": [],
   "source": []
  }
 ],
 "metadata": {
  "kernelspec": {
   "display_name": "Python 3",
   "language": "python",
   "name": "python3"
  },
  "language_info": {
   "codemirror_mode": {
    "name": "ipython",
    "version": 3
   },
   "file_extension": ".py",
   "mimetype": "text/x-python",
   "name": "python",
   "nbconvert_exporter": "python",
   "pygments_lexer": "ipython3",
   "version": "3.8.5"
  }
 },
 "nbformat": 4,
 "nbformat_minor": 4
}
