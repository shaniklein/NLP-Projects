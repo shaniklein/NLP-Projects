{
 "cells": [
  {
   "cell_type": "markdown",
   "metadata": {},
   "source": [
    "# NLP21@BGU.CS - HW1"
   ]
  },
  {
   "cell_type": "markdown",
   "metadata": {},
   "source": [
    "## Michael Elhadad michael.elhadad@example.com\n",
    "### NLP 2021 - HW1 (http://www.cs.bgu.ac.il/~elhadad/nlp21/hw1.html)"
   ]
  },
  {
   "cell_type": "markdown",
   "metadata": {},
   "source": [
    "**Yael jannai** - 316418656 \n",
    "\n",
    "\n",
    "**Shani Klein** - 205781909"
   ]
  },
  {
   "cell_type": "markdown",
   "metadata": {},
   "source": [
    "Nov 2020"
   ]
  },
  {
   "cell_type": "code",
   "execution_count": 1,
   "metadata": {},
   "outputs": [
    {
     "name": "stdout",
     "output_type": "stream",
     "text": [
      "Populating the interactive namespace from numpy and matplotlib\n"
     ]
    },
    {
     "name": "stderr",
     "output_type": "stream",
     "text": [
      "[nltk_data] Downloading package punkt to\n",
      "[nltk_data]     C:\\Users\\Shani\\AppData\\Roaming\\nltk_data...\n",
      "[nltk_data]   Package punkt is already up-to-date!\n"
     ]
    },
    {
     "data": {
      "text/plain": [
       "True"
      ]
     },
     "execution_count": 1,
     "metadata": {},
     "output_type": "execute_result"
    }
   ],
   "source": [
    "# Boring preliminaries\n",
    "%pylab inline\n",
    "import re\n",
    "import math\n",
    "import string\n",
    "from collections import Counter\n",
    "from __future__ import division\n",
    "import nltk\n",
    "import pandas as pd\n",
    "import builtins\n",
    "from nltk.util import ngrams \n",
    "import numpy as np\n",
    "import matplotlib.pyplot as plt\n",
    "import math\n",
    "import string\n",
    "import os\n",
    "nltk.download('punkt')\n"
   ]
  },
  {
   "cell_type": "code",
   "execution_count": 2,
   "metadata": {},
   "outputs": [],
   "source": [
    "# helper class to print nice outputs\n",
    "class txt:\n",
    "   BOLD = '\\033[1m'\n",
    "   UNDERLINE = '\\033[4m'\n",
    "   END = '\\033[0m'\n",
    "\n",
    "def make_bold(text):\n",
    "    return txt.BOLD+ text + txt.END\n",
    "\n",
    "def make_underline(text):\n",
    "    return txt.UNDERLINE+ text + txt.END"
   ]
  },
  {
   "cell_type": "markdown",
   "metadata": {},
   "source": [
    "<h2>Content</h2>\n",
    "\n",
    "* <a href=\"#P1\">Part 1: Language Models</a>\n",
    "  * <a href=\"#data\">1.1 Data Exploration</a>\n",
    "    * <a href=\"#explore\">1.1.1 Gathering basic statistics</a>\n",
    "    * <a href=\"#power\">1.1.2 Zipf and Power Law</a>\n",
    "  * <a href=\"#ngram\">1.2 n-gram model</a>\n",
    "    * <a href=\"#n_parameters\">1.2.1 How much memory do you expect a model to occupy?</a>\n",
    "    * <a href=\"#train_lm\">1.2.2 N-gram Word LM</a>\n",
    "  * <a href=\"#eval\">1.3 Language Model Evaluation</a>\n",
    "    * <a href=\"#per\">1.3.1 Perplexity</a>\n",
    "    * <a href=\"#smoothing\">1.3.2 Smoothing</a>\n",
    "    * <a href=\"#overfit\">1.3.3 Perplexity according to the order of the n-gram model\n",
    "    * <a href=\"#test-lm\">1.3.4 Test the best n-gram LM</a>\n",
    "    * <a href=\"#gen\">1.3.5 Generating Text using Language Models</a>\n",
    "  * <a href=\"#nn-lm\">1.4 Character language model</a>\n",
    "    * <a href=\"#effectiveness\">1.4.1 Read and Summarize</a>\n",
    "    * <a href=\"#recipes\">1.4.2 Recipes with a Character LM</a>\n",
    "* <a href=\"#P2\">Part 2: Polynomial curve fitting</a>\n",
    "  * <a href=\"#syntheticdata\">2.1 Synthetic data generation</a>\n",
    "  * <a href=\"#curvefitting\">2.2 Polynomial Curve Fitting</a>\n",
    "  * <a href=\"#regularization\">2.3 Polynomial Curve Fitting with Regularization</a>\n",
    "  * <a href=\"#prob-regr\">2.4 Probabilistic Regression Model</a>\n",
    "* <a href=\"#P3\">Part 3: Text Classification with Character RNN</a>\n",
    "  * <a href=\"#readtut\">3.1 Summarize the PyTorch Tutorial</a>\n",
    "  * <a href=\"#newdata\">3.2 Explore the Cities Dataset</a>\n",
    "  * <a href=\"#citiesmodel\">3.3 Train and Evaluate the RNN Model for Cities</a>\n",
    "  * <a href=\"#bettercitiesmodel\">3.4 (Optional) Improve the Model</a>"
   ]
  },
  {
   "cell_type": "markdown",
   "metadata": {},
   "source": [
    "<hr>\n",
    "<a name=\"P1\"></a>\n",
    "<h2>Part 1: Language Models</h2>\n",
    "\n",
    "<a name=\"data\"></a>\n",
    "<h3>1.1 Data Exploration</h3>\n",
    "\n",
    "<a name=\"explore\"></a>\n",
    "<h4>1.1.1 Gathering Basic Statistics</h4>\n",
    "\n",
    "In this section, we collect and plot the following information on a text dataset:\n",
    "<ul>\n",
    "<li>The total number of tokens</li>\n",
    "<li>The total number of characters</li>\n",
    "<li>The total number of distinct words (vocabulary)</li>\n",
    "<li>The total number of tokens corresponding to the top-N most frequent words in the vocabulary</li>\n",
    "<li>The token/type ratio in the dataset</li>\n",
    "<li>The number of types that appear in the dev data but not the training data</li>\n",
    "<li>The average number and standard deviation of characters per token</li>\n",
    "<li>The total number of distinct n-grams (of words) that appear in the dataset for n=2,3,4.</li>\n",
    "<li>The total number of distint n-grams of characters that appear for n=2,3,4,5,6,7.</li>\n",
    "</ul>"
   ]
  },
  {
   "cell_type": "markdown",
   "metadata": {},
   "source": [
    "We operate on the PTB dataset, which contains 929k training words, 73k validation words, and 82k test words. \n",
    "It is formatted in such a way that only the top 10k most frequent words are in its vocabulary.\n",
    "\n",
    "We gather the files from <a href=\"http://www.fit.vutbr.cz/~imikolov/rnnlm/simple-examples.tgz\">the dataset</a>\n",
    "where sentences are segmented one per line and words separated by spaces.  We assume the files are located in \"../data/\"."
   ]
  },
  {
   "cell_type": "markdown",
   "metadata": {},
   "source": [
    "###### The data set\n",
    "First, we created a dictionary of all datasets we got"
   ]
  },
  {
   "cell_type": "code",
   "execution_count": 90,
   "metadata": {},
   "outputs": [],
   "source": [
    "data = {\n",
    "    \"char_train\": '../data/ptb.char.train.txt',\n",
    "    \"char_valid\": '../data/ptb.char.valid.txt',\n",
    "    \"char_test\": '../data/ptb.char.test.txt',\n",
    "    \"ptb_train\": '../data/ptb.train.txt',\n",
    "    \"ptb_valid\":'../data/ptb.valid.txt',\n",
    "    \"ptb_test\": '../data/ptb.test.txt',\n",
    "    \"shakespeare\":'../data/shakespeare_input.txt'\n",
    "}"
   ]
  },
  {
   "cell_type": "markdown",
   "metadata": {},
   "source": [
    "You may need to tokenize strings read from the dataset files into lists of tokens.  \n",
    "Think which method is best appropriate for this dataset given the way it is formatting.\n",
    "Recall the method based on regular expressions used in Norvig's piece.\n",
    "Compare it with the the tokenizer provided in the nltk library."
   ]
  },
  {
   "cell_type": "markdown",
   "metadata": {},
   "source": [
    "##### Gathering Basic Statistics"
   ]
  },
  {
   "cell_type": "markdown",
   "metadata": {},
   "source": [
    "First we wrote some function to get statistics from texts"
   ]
  },
  {
   "cell_type": "code",
   "execution_count": 4,
   "metadata": {},
   "outputs": [],
   "source": [
    "# remove tokens we don't want such as puncuation marks\"\n",
    "def fix_token(token):\n",
    "    if token.isalpha() or token.find('-')!=-1 :\n",
    "        return token\n",
    "    return None\n",
    "\n",
    "# if we need to clean punctuation\n",
    "def get_tokens_no_punc(text):\n",
    "    tokens = nltk.word_tokenize(text)\n",
    "    # remove  all tokens that are not alphabetic i.e '<' , '$' , ect .\n",
    "    tokens = [token for token in tokens if fix_token(token)!=None]\n",
    "    return tokens\n",
    "\n",
    "# the default nltk way to tokenize text\n",
    "def get_tokens(text):\n",
    "    return nltk.word_tokenize(text)\n",
    " \n",
    "# for debbuging - we define function that prints the first num_of_tokens tokens\n",
    "def print_tokens(text,num_of_tokens,clean=0):\n",
    "    tokens=get_tokens(text)\n",
    "    print(tokens[0:num_of_tokens])\n",
    "\n",
    "# To compute distinct word we used the set method which store multiple instance of words as one variable\n",
    "def get_vocabulary(text,clean=0):\n",
    "    tokens=get_tokens(text) if clean==0 else get_tokens_no_punc(text)\n",
    "    return set(tokens)\n",
    "\n",
    "# return top-N most frequent words in the vocabulary\n",
    "# We used nltk built-in methods\n",
    "def N_most_frequent(text,N,clean=0):\n",
    "    tokens=get_tokens(text) if clean==0 else get_tokens_no_punc(text)\n",
    "    fdist = nltk.FreqDist(tokens)\n",
    "    return fdist.most_common(N)\n",
    "\n",
    "# returs the all distinct n-grams of words\n",
    "def get_ngrams_words(text,num,clean=0):\n",
    "    tokens=get_tokens(text) if clean==0 else get_tokens_no_punc(text)\n",
    "#   text.split() we seperate the ngrams into words instead of chars\n",
    "    return Counter(ngrams(tokens, num))\n",
    "\n",
    "# returs all number of distinct n-grams of chars\n",
    "def get_ngrams_chars(text,num):\n",
    "    return Counter(ngrams(text.replace(' ',''), num))"
   ]
  },
  {
   "cell_type": "markdown",
   "metadata": {},
   "source": [
    "Let's check our function on a simple text"
   ]
  },
  {
   "cell_type": "code",
   "execution_count": 5,
   "metadata": {},
   "outputs": [
    {
     "name": "stdout",
     "output_type": "stream",
     "text": [
      "\u001b[1mdefault tokenizer: \u001b[0m['hi', '!', 'I', \"'m\", 'happy', 'you', \"'re\", 'here', '!', 'this', 'is', 'a', 'simple', 'text', '.', 'it', 'is', 'maybe', 'simple', 'text', 'but', 'it', 'is', 'important', '!', 'bye-bye']\n",
      "\n",
      "\u001b[1mclean tokens: \u001b[0m['hi', 'I', 'happy', 'you', 'here', 'this', 'is', 'a', 'simple', 'text', 'it', 'is', 'maybe', 'simple', 'text', 'but', 'it', 'is', 'important', 'bye-bye']\n",
      "\n",
      "\u001b[1mdefault vocab: \u001b[0m{'maybe', 'but', 'happy', 'a', '!', \"'m\", 'bye-bye', 'this', 'text', 'is', 'hi', 'you', '.', 'it', 'important', 'here', 'I', \"'re\", 'simple'}\n",
      "\n",
      "\u001b[1mclean vocab: \u001b[0m{'a', 'hi', 'you', 'it', 'important', 'here', 'I', 'this', 'bye-bye', 'text', 'maybe', 'is', 'but', 'happy', 'simple'}\n",
      "\n",
      "\u001b[1mdefault 3 most frequent\u001b[0m[('!', 3), ('is', 3), ('simple', 2)]\n",
      "\n",
      "\u001b[1mclean 3 most frequent\u001b[0m[('is', 3), ('simple', 2), ('text', 2)]\n",
      "\n",
      "\u001b[1mdefualt 3-gram words: \u001b[0mCounter({('hi', '!', 'I'): 1, ('!', 'I', \"'m\"): 1, ('I', \"'m\", 'happy'): 1, (\"'m\", 'happy', 'you'): 1, ('happy', 'you', \"'re\"): 1, ('you', \"'re\", 'here'): 1, (\"'re\", 'here', '!'): 1, ('here', '!', 'this'): 1, ('!', 'this', 'is'): 1, ('this', 'is', 'a'): 1, ('is', 'a', 'simple'): 1, ('a', 'simple', 'text'): 1, ('simple', 'text', '.'): 1, ('text', '.', 'it'): 1, ('.', 'it', 'is'): 1, ('it', 'is', 'maybe'): 1, ('is', 'maybe', 'simple'): 1, ('maybe', 'simple', 'text'): 1, ('simple', 'text', 'but'): 1, ('text', 'but', 'it'): 1, ('but', 'it', 'is'): 1, ('it', 'is', 'important'): 1, ('is', 'important', '!'): 1, ('important', '!', 'bye-bye'): 1})\n",
      "\n",
      "\u001b[1mclean 3-gram words: \u001b[0mCounter({('hi', 'I', 'happy'): 1, ('I', 'happy', 'you'): 1, ('happy', 'you', 'here'): 1, ('you', 'here', 'this'): 1, ('here', 'this', 'is'): 1, ('this', 'is', 'a'): 1, ('is', 'a', 'simple'): 1, ('a', 'simple', 'text'): 1, ('simple', 'text', 'it'): 1, ('text', 'it', 'is'): 1, ('it', 'is', 'maybe'): 1, ('is', 'maybe', 'simple'): 1, ('maybe', 'simple', 'text'): 1, ('simple', 'text', 'but'): 1, ('text', 'but', 'it'): 1, ('but', 'it', 'is'): 1, ('it', 'is', 'important'): 1, ('is', 'important', 'bye-bye'): 1})\n"
     ]
    }
   ],
   "source": [
    "text = \"hi! I'm happy you're here! this is a simple text. it is maybe simple text but it is important! bye-bye\"\n",
    "print(make_bold(\"default tokenizer: \")+ str(get_tokens(text)),\\\n",
    "    make_bold(\"clean tokens: \")+ str(get_tokens_no_punc(text)),\\\n",
    "    make_bold(\"default vocab: \")+str(get_vocabulary(text)),\\\n",
    "    make_bold(\"clean vocab: \")+str(get_vocabulary(text,1)),\\\n",
    "    make_bold(\"default 3 most frequent\")+str(N_most_frequent(text,3)),\\\n",
    "    make_bold(\"clean 3 most frequent\")+str(N_most_frequent(text,3,1)),\\\n",
    "    make_bold(\"defualt 3-gram words: \")+str(get_ngrams_words(text,3)),\\\n",
    "    make_bold(\"clean 3-gram words: \")+str(get_ngrams_words(text,3,1)),\\\n",
    "\n",
    "    sep='\\n\\n')"
   ]
  },
  {
   "cell_type": "markdown",
   "metadata": {},
   "source": [
    "We can tell that if we clean the text we get differrent and better results!\n",
    "For exmaple, instead of I'm to become 2 tokens of I and 'm we just keep the I as token"
   ]
  },
  {
   "cell_type": "markdown",
   "metadata": {},
   "source": [
    "Next, we define helper methods to compute the total number of distinct words (the vocabulary) and the total number of tokens corresponding to the top-N most frequent words in the vocabulary"
   ]
  },
  {
   "cell_type": "markdown",
   "metadata": {},
   "source": [
    "let's check our function  on different values of N"
   ]
  },
  {
   "cell_type": "code",
   "execution_count": 6,
   "metadata": {},
   "outputs": [],
   "source": [
    "# helper function to get all texe of file fname\n",
    "def get_text(fname):\n",
    "    file=open(fname,'rt')\n",
    "    text=file.read()\n",
    "    file.close()\n",
    "    return text"
   ]
  },
  {
   "cell_type": "code",
   "execution_count": 7,
   "metadata": {},
   "outputs": [],
   "source": [
    "def get_stats(text_train,text_dev=None):\n",
    "    tokens_train=get_tokens(text_train)\n",
    "    # total num of token, num of chars and num of distinct words\n",
    "    num_of_tokens=len(tokens_train)\n",
    "    num_of_chars= len(text_train)\n",
    "    vocab_size= len(get_vocabulary(text_train))\n",
    "    # 5 most frequent words (we chose 5 for the example)\n",
    "    ten_most_frequent=builtins.sum(freq[1] for freq in N_most_frequent(text,5))\n",
    "    # The token/type ratio in the dataset\n",
    "    token_per_type_ratio= num_of_tokens/vocab_size\n",
    "    # The number of types that appear in the dev data but not the training data\n",
    "    types_in_dev_not_train=len(np.setdiff1d(get_vocabulary(text_dev),get_vocabulary(text_train))[0])\\\n",
    "    if text_dev!=0 else \"no dev in this stats\"\n",
    "    # # The average number and standard deviation of characters per token\n",
    "    chars_per_token = [len(w) for w in tokens_train]\n",
    "    mean_char_per_tok= np.mean(chars_per_token)\n",
    "    std_char_per_tok=np.std(chars_per_token)\n",
    "    # The total number of distinct n-grams (of words) that appear in the dataset for n=2,3,4.\n",
    "\n",
    "    # prints all the data whe gathered until now\n",
    "    print(make_bold('The total number of tokens: ') + str(num_of_tokens) \\\n",
    "          ,make_bold ('Total number of characters: ')+ str(num_of_chars) \\\n",
    "          ,make_bold('Total number of distinct words: ')+ str(vocab_size) \\\n",
    "          ,make_bold('Total number of tokens corresponding to the top-5 most frequent words: ') +str(ten_most_frequent)\\\n",
    "          ,make_bold('token/type ratio: '),str(token_per_type_ratio)\\\n",
    "          ,make_bold('Number of types that appear in the dev data but not the training data: ') + str(types_in_dev_not_train)\\\n",
    "          ,make_bold('total number of tokens corresponding to the top-10 most frequent words: ')+str(ten_most_frequent)\\\n",
    "          ,make_bold('token/type ratio in the dataset: ')+str(token_per_type_ratio)\\\n",
    "          ,make_bold('average number of characters per token: ')+str(mean_char_per_tok)\\\n",
    "          ,make_bold('standard deviation of characters per token: ')+str(std_char_per_tok)\\\n",
    "          ,sep='\\n')\n",
    "\n",
    "    print(make_bold('\\n number of distinct n-grams of words:'))\n",
    "    # The total number of distinct n-grams (of words) that appear in the dataset for n=2,3,4.\n",
    "    for n in [2,3,4]:\n",
    "            print(make_underline('\\tn='+ str(n)+':'),len(get_ngrams_words(text,n)))\n",
    "\n",
    "    print(make_bold('\\n number of distinct n-grams of characters:'))\n",
    "    for n in [2,3,4,5,6,7]:\n",
    "            print(make_underline('\\tn='+ str(n)+':'),len(get_ngrams_chars(text,n)))\n"
   ]
  },
  {
   "cell_type": "markdown",
   "metadata": {},
   "source": [
    "let's check our statistic on ptb"
   ]
  },
  {
   "cell_type": "code",
   "execution_count": 8,
   "metadata": {
    "scrolled": false
   },
   "outputs": [
    {
     "name": "stdout",
     "output_type": "stream",
     "text": [
      "\u001b[1mThe total number of tokens: \u001b[0m978754\n",
      "\u001b[1mTotal number of characters: \u001b[0m5101618\n",
      "\u001b[1mTotal number of distinct words: \u001b[0m9996\n",
      "\u001b[1mTotal number of tokens corresponding to the top-5 most frequent words: \u001b[0m12\n",
      "\u001b[1mtoken/type ratio: \u001b[0m\n",
      "97.91456582633053\n",
      "\u001b[1mNumber of types that appear in the dev data but not the training data: \u001b[0m6020\n",
      "\u001b[1mtotal number of tokens corresponding to the top-10 most frequent words: \u001b[0m12\n",
      "\u001b[1mtoken/type ratio in the dataset: \u001b[0m97.91456582633053\n",
      "\u001b[1maverage number of characters per token: \u001b[0m4.2196108521651\n",
      "\u001b[1mstandard deviation of characters per token: \u001b[0m2.705689094054091\n",
      "\u001b[1m\n",
      " number of distinct n-grams of words:\u001b[0m\n",
      "\u001b[4m\tn=2:\u001b[0m 23\n",
      "\u001b[4m\tn=3:\u001b[0m 24\n",
      "\u001b[4m\tn=4:\u001b[0m 23\n",
      "\u001b[1m\n",
      " number of distinct n-grams of characters:\u001b[0m\n",
      "\u001b[4m\tn=2:\u001b[0m 59\n",
      "\u001b[4m\tn=3:\u001b[0m 67\n",
      "\u001b[4m\tn=4:\u001b[0m 71\n",
      "\u001b[4m\tn=5:\u001b[0m 73\n",
      "\u001b[4m\tn=6:\u001b[0m 73\n",
      "\u001b[4m\tn=7:\u001b[0m 73\n"
     ]
    }
   ],
   "source": [
    "text_train=get_text(data['ptb_train'])\n",
    "text_dev=get_text(data['ptb_valid'])\n",
    "get_stats(text_train,text_dev)"
   ]
  },
  {
   "cell_type": "markdown",
   "metadata": {},
   "source": [
    "Now let's test shakepseare:"
   ]
  },
  {
   "cell_type": "code",
   "execution_count": 9,
   "metadata": {},
   "outputs": [
    {
     "name": "stdout",
     "output_type": "stream",
     "text": [
      "\u001b[1mThe total number of tokens: \u001b[0m1409962\n",
      "\u001b[1mTotal number of characters: \u001b[0m5074954\n",
      "\u001b[1mTotal number of distinct words: \u001b[0m35263\n",
      "\u001b[1mTotal number of tokens corresponding to the top-5 most frequent words: \u001b[0m12\n",
      "\u001b[1mtoken/type ratio: \u001b[0m\n",
      "39.98417604854947\n",
      "\u001b[1mNumber of types that appear in the dev data but not the training data: \u001b[0m6020\n",
      "\u001b[1mtotal number of tokens corresponding to the top-10 most frequent words: \u001b[0m12\n",
      "\u001b[1mtoken/type ratio in the dataset: \u001b[0m39.98417604854947\n",
      "\u001b[1maverage number of characters per token: \u001b[0m3.0162160398649043\n",
      "\u001b[1mstandard deviation of characters per token: \u001b[0m2.2717230852191777\n",
      "\u001b[1m\n",
      " number of distinct n-grams of words:\u001b[0m\n",
      "\u001b[4m\tn=2:\u001b[0m 23\n",
      "\u001b[4m\tn=3:\u001b[0m 24\n",
      "\u001b[4m\tn=4:\u001b[0m 23\n",
      "\u001b[1m\n",
      " number of distinct n-grams of characters:\u001b[0m\n",
      "\u001b[4m\tn=2:\u001b[0m 59\n",
      "\u001b[4m\tn=3:\u001b[0m 67\n",
      "\u001b[4m\tn=4:\u001b[0m 71\n",
      "\u001b[4m\tn=5:\u001b[0m 73\n",
      "\u001b[4m\tn=6:\u001b[0m 73\n",
      "\u001b[4m\tn=7:\u001b[0m 73\n"
     ]
    }
   ],
   "source": [
    "text_sh=str(get_text(data['shakespeare']).split('\\n'))\n",
    "get_stats(text_sh,text_dev)\n"
   ]
  },
  {
   "cell_type": "markdown",
   "metadata": {},
   "source": [
    "Note how abbreviations in English are tokenized in PTB (\"I'm\" becomes [\"I\", \"'m\"]) and numbers are all replaced by the \"N\" special token."
   ]
  },
  {
   "cell_type": "markdown",
   "metadata": {},
   "source": [
    "<a name=\"power\"></a>\n",
    "<h4>1.1.2 Zipf and Power Law</h4>\n",
    "\n",
    "Word count distributions are said to follow <a href=\"https://en.wikipedia.org/wiki/Power_law\">power law distributions</a>. \n",
    "In practice, this means that a plot of the log-frequency against the log-rank is nearly linear. \n",
    "We will verify that this holds for the Penn Treebank dataset by constructing the appropriate corpus_counts counter:\n"
   ]
  },
  {
   "cell_type": "code",
   "execution_count": 10,
   "metadata": {},
   "outputs": [],
   "source": [
    "text=get_text(data['ptb_train'])\n",
    "tokens = get_tokens(text)\n",
    "corpus_counts = Counter(tokens)"
   ]
  },
  {
   "cell_type": "code",
   "execution_count": 11,
   "metadata": {},
   "outputs": [
    {
     "name": "stdout",
     "output_type": "stream",
     "text": [
      "3.3.2\n"
     ]
    },
    {
     "data": {
      "text/plain": [
       "Text(0, 0.5, 'frequency')"
      ]
     },
     "execution_count": 11,
     "metadata": {},
     "output_type": "execute_result"
    },
    {
     "data": {
      "image/png": "[encoded data removed]",
      "text/plain": [
       "<Figure size 432x288 with 1 Axes>"
      ]
     },
     "metadata": {
      "needs_background": "light"
     },
     "output_type": "display_data"
    }
   ],
   "source": [
    "import matplotlib.pyplot as plt\n",
    "import matplotlib\n",
    "print(matplotlib.__version__)\n",
    "\n",
    "plt.loglog([val for word,val in corpus_counts.most_common(4000)])\n",
    "plt.title('rank Vs freq')\n",
    "plt.xlabel('rank')\n",
    "plt.ylabel('frequency')\n"
   ]
  },
  {
   "cell_type": "markdown",
   "metadata": {},
   "source": [
    "As predicted - we got nearly linear graph .\n",
    "The results make sense because the rank and frequency are proportional to each other ."
   ]
  },
  {
   "cell_type": "markdown",
   "metadata": {},
   "source": [
    "<a name=\"ngram\"></a>\n",
    "<h3><a name=\"ngram\">1.2 n-gram Word Language Model</a></h3>\n",
    "\n",
    "<a name=\"n_parameters\"></a>\n",
    "<h4>1.2.1 How much memory do you expect a model to occupy?</h4>\n"
   ]
  },
  {
   "cell_type": "markdown",
   "metadata": {},
   "source": [
    "###### Solution:\n",
    "First of all if we notice  the statistics result above we  can tell that as  n growth so the number of n-grams (either characters or words). hence we expect our model to grow according to n .\n",
    "\n",
    "but let's get mor precise answer:\n",
    "For our model we need to keep a dictionary of dictionaries  when the keys for the main dictionary is the unique n-grams and the vlue for each key is a dictionary itsels that maps to the distribution of each word appearing after the n-gram. \n",
    "If we mark our corups size as N we will get O(N) dictionarirs for evey n-gram and O(N) n-grams so in total we get O(N^2)  memory for our model . \n",
    "\n",
    "In The worst-case - there is no duplicated ngrams (or almost all the n-gram are unique), hence the number of n-grams will be equals to the size of the corups it self , N .\n",
    "In the expected case, the number of distinct n-grams is bounded by $|V|^{n}$ where $|V|$ is the size of the vocabulary.\n",
    "\n"
   ]
  },
  {
   "cell_type": "markdown",
   "metadata": {},
   "source": [
    "<a name=\"train_lm\"></a>\n",
    "<h4>1.2.2 N-gram LM</h4>\n",
    "\n",
    "We present a Python function to construct a word n-gram model given a dataset according to the signature:\n",
    "<pre>\n",
    "train_word_lm(dataset, n=2)\n",
    "</pre>"
   ]
  },
  {
   "cell_type": "code",
   "execution_count": 12,
   "metadata": {},
   "outputs": [],
   "source": [
    "## Adjust this code to work on words \n",
    "def train_word_lm(fname, order=2):\n",
    "    with open(fname) as f:\n",
    "        data = f.read()   \n",
    "    pad = '*' * order\n",
    "    data = pad + data\n",
    "    data = nltk.tokenize.word_tokenize(data)\n",
    "    cfd = nltk.ConditionalFreqDist((' '.join(data[i: i + order]), data[i + order]) for i in range(len(data) - order))\n",
    "    cpd = nltk.ConditionalProbDist(cfd, nltk.MLEProbDist)\n",
    "    return cpd\n",
    "\n",
    "\n",
    "def test_train_lm_word():\n",
    "    order = 4\n",
    "    lm = train_word_lm(data['shakespeare'], order)\n",
    "    return lm\n",
    "\n",
    "def generate_from_lm(lm,order=4):\n",
    "    out = []\n",
    "    hist = '* ' * order\n",
    "    hist = hist[:-1]\n",
    "    for _ in range(1000):\n",
    "        word = lm[hist].generate()\n",
    "        prefix_index = (hist.find(' ', 1))\n",
    "        hist = hist[prefix_index + 1:]\n",
    "        hist += ' ' + word\n",
    "        out.append(word)\n",
    "    return out\n"
   ]
  },
  {
   "cell_type": "code",
   "execution_count": 13,
   "metadata": {},
   "outputs": [
    {
     "data": {
      "text/plain": [
       "\"First Citizen : Before we proceed any further , hear me speak . All : Peace , ho ! the moon sleeps with Endymion And would not be awaked . LORENZO : That is the least , Lucetta , of my fear : A thousand oaths , an ocean of his tears And instances of infinite of love Warrant me welcome to my Proteus . LUCETTA : Alas , the sea hath cast me on the rocks , Wash 'd me from shore to shore , and left me breath Nothing to think on but ensuing death : Let it suffice the greatness of your powers To have bereft a prince of all his fortunes ; And having thrown him from your watery grave , Here to have death in peace is all he 'll crave . First Fisherman : No , friend , can not you beg ? Here 's them in our country Greece gets more with begging than we can do with working . Second Fisherman : But crave ! Then I 'll turn craver too , and so I leave you . CLAUDIO : My liege , it is young Henry , earl of Richmond . KING HENRY VI : Hadst thou been aught but gossamer , feathers , air , So many fathom down precipitating , Thou'dst shiver 'd like an egg : but thou dost breathe ; Hast heavy substance ; bleed'st not ; speak'st ; art sound . Ten masts at each make not the altitude Which thou hast perpendicularly fell : Thy life 's a miracle . Speak yet again . GLOUCESTER : But have I not cause to weep ? CELIA : As good cause as one would desire ; therefore weep . ROSALIND : His very hair is of the dissembling colour . CELIA : An excellent colour : your chestnut was ever the only colour . ROSALIND : And you say , you will have her , when I bring her ? ORLANDO : That would I learn of you , As one that surfeits thinking on a want . I will repeal thee , or , be well assured , Adventure to be banished myself : And banished I am , if like a crab you could go backward . LORD POLONIUS : Marry , I will , and scorn both him and thee . SUFFOLK : A charge , Lord York , that I will see you wed ; And then with what haste you can get you to bed . GOWER : Now our sands are almost run ; More a little , and then dumb . This , my last boon , give me , For such kindness must relieve me , That you aptly will suppose What pageantry , what feats , what shows , What minstrelsy , and pretty din , The regent made in Mytilene To greet the king . So he thrived , That he is promised to be wived To fair Marina ; but in no wise Till he had done his sacrifice , As Dian bade : whereto being bound , The interim , pray you , tell him I come . I doubt he be hurt . Fare ye well at once : my bosom is full of kindness , and I am yet so near the manners of my mother , that upon the least occasion more mine eyes will tell tales of me . I am too old to fawn upon a nurse , Too far in years to be a pupil now : What is thy name , young man ? ORLANDO : Orlando , my liege ; And stay your coming to present themselves . SIMONIDES : Return them , we are ready To use our utmost studies in your service . God be with my old master ! he would not have spoke such a word . To-morrow , and to-morrow , Creeps in this petty pace from day to day Visit the speechless sick and still converse With groaning wretches ; and your task shall be , With all the choicest music of the kingdom , Together sung 'Te Deum . ' So she parted , And with the deepest malice of the war Destroy what lies before 'em . MENENIUS : You know neither me , yourselves nor any thing . You are ambitious for poor knaves ' caps and legs : you wear out a good wholesome forenoon in hearing a cause between an orange wife and a fosset-seller ; and then rejourn the controversy of three pence to a second day of audience . When you are hearing a matter between party and party , if you chance to be pinched with the colic , you make faces like mummers ; set up the bloody flag against all patience ; and , in lieu of this , Desires you let the dukedoms that you claim Hear no more of you . This the Dauphin speaks . KING HENRY V : Not yet , Sir Thomas Lovell ? LOVELL : Faith , how easy ? SANDS : As easy as a down-bed would afford it . Chamberlain : Sweet ladies , will it please you to be crown 'd ? GLOUCESTER : Even when you please , since you will have it named , even that it is ; And I am something curious , being strange , To have them in safe stowage : may it please you To take them in protection ? IMOGEN : Willingly ; And pawn mine honour for their safety : since My lord hath interest in them , I will not touch thine eye For all the treasure that thine uncle owes : Yet am I noble as the adversary I come to cope . ALBANY : Which is that Barnardine ? Provost : This is another prisoner that I saved . Who should have died when Claudio lost his head ; As\""
      ]
     },
     "execution_count": 13,
     "metadata": {},
     "output_type": "execute_result"
    }
   ],
   "source": [
    "# let's check our results:\n",
    "lm = test_train_lm_word()\n",
    "' '.join(generate_from_lm(lm))"
   ]
  },
  {
   "cell_type": "markdown",
   "metadata": {},
   "source": [
    "Provide:\n",
    "* The list of methods of the object cpd that are useful for a language model (inherited or implemented by the various classes in nltk)\n",
    "* Explain how the function generate() used in the sample works - why does it compute a correct way to sample from a distribution?\n"
   ]
  },
  {
   "cell_type": "markdown",
   "metadata": {},
   "source": [
    "ConditionalProbDist is constructed from a ConditionalFreqDist and a ProbDist factory.\n",
    "The ConditionalFreqDist specifies the frequency distribution for each condition.\n",
    "The ProbDist factory is a function that takes a condition’s frequency distribution, and returns its probability distribution. \n",
    "\n",
    "**useful methods:\n",
    "**prob** - Return the probability for a given sample. \n",
    "or **logprog** which gives log_2 of the prov mention above.\n",
    "**max** -  Return the sample with the greatest probability.\n",
    "**generate**: Return a randomly selected sample from this probability distribution.\n",
    "for example \"lm[hist]\" will gives us a dictionary of all words that can come afrwe hist and there probabilities. \n",
    "\"lm[hist].generate()\" will randomly choose words from the vocabulary, by their probabilites . \n",
    "\n",
    "It compute a correct way to sample from a distribution because it choose the words by their probabilities to be after hist and it doing it acoording to the probability , meaning if hist = \"thank\" and the probability to get \"you\" given \"thank\" we will expect that if we ran lm[\"thank\"].generate() a lot of times we will get a lot of \"you\" afterwards.\n"
   ]
  },
  {
   "cell_type": "markdown",
   "metadata": {},
   "source": [
    "<a name=\"eval\"></a>\n",
    "<h3>1.3 Language Model Evaluation</h3>\n",
    "\n",
    "We now evaluate the performance of the learned language models by using two techniques:\n",
    "measuring perplexity on a validation dataset and using the model to generate random text, then assessing\n",
    "the readability of the generated text.\n",
    "\n",
    "<a name=\"per\"></a>\n",
    "<h4>1.3.1 Perplexity</h4>\n",
    "\n",
    "We implement a Python function to measure the perplexity of a trained model on a test dataset."
   ]
  },
  {
   "cell_type": "code",
   "execution_count": 14,
   "metadata": {},
   "outputs": [],
   "source": [
    "# We adapt the methods to compute the cross-entropy and perplexity of a model from nltk.model\n",
    "# # to our implementation\n",
    "\n",
    "\n",
    "def perplexity(lm , fname,order=4):\n",
    "    lm_to_test = train_word_lm(fname, order)\n",
    "    N = 0\n",
    "    perplex = 0.0\n",
    "    genertated_text = generate_from_lm(lm_to_test,order)\n",
    "    for index in range(order,len(genertated_text)):\n",
    "        hist =' '.join(genertated_text[index-order:index])\n",
    "        word_to_check = genertated_text[index]\n",
    "        prob=lm[hist].prob(word_to_check)\n",
    "        if prob != 0:\n",
    "            perplex -= lm[hist].logprob(word_to_check)\n",
    "        else:\n",
    "           perplex-= math.log(2,1/len(genertated_text))\n",
    "    \n",
    "    perplex = 2** (perplex/len(genertated_text))\n",
    "    return perplex"
   ]
  },
  {
   "cell_type": "code",
   "execution_count": 15,
   "metadata": {
    "scrolled": true
   },
   "outputs": [
    {
     "data": {
      "text/plain": [
       "1.071730344606613"
      ]
     },
     "execution_count": 15,
     "metadata": {},
     "output_type": "execute_result"
    }
   ],
   "source": [
    "lm=train_word_lm(data['ptb_train'])\n",
    "valid=data['ptb_valid']\n",
    "perplexity(lm,valid)"
   ]
  },
  {
   "cell_type": "markdown",
   "metadata": {},
   "source": [
    "#### Analyzation\n",
    "We have notice that we have words or ngrams in validation dataset that does not apears in the trainig data set, that meand we get no condition for those n-grams and for this n-gram if we get  p[w|hist]=0 and perplexity of infinity.\n",
    "To handle this , we decided that the probability of a word given a history which is not in the model will be as the probability to some arbitrary word in the vocabularity meanin 1/|V| . "
   ]
  },
  {
   "cell_type": "markdown",
   "metadata": {},
   "source": [
    "<a name=\"smoothing\"></a>\n",
    "<h4>1.3.2 Smoothing</h4>\n",
    "\n",
    "In order to improve the model, we will use a smoothing technique.\n",
    "\n",
    "We use the <a href=\"http://www.nltk.org/_modules/nltk/probability.html\">nltk probability distribution</a> module which provides different estimators that implement smoothing methods (Laplace, Lidstone, Witten-Bell, Good-Turing). "
   ]
  },
  {
   "cell_type": "code",
   "execution_count": 16,
   "metadata": {},
   "outputs": [],
   "source": [
    "#We change the model to use a different estimator than the Maximum Likelihood Estimator (MLE) count-based estimator\n",
    "# to compute the probability of p(w|history).  \n",
    "\n",
    "\n",
    "def get_estimator(estimator,gamma):\n",
    "    estimators = {\n",
    "        \"Lidstone\": lambda fd:  nltk.LidstoneProbDist(fd, gamma, fd.B() + 1),\n",
    "        \"Laplace\": lambda fd: nltk.LaplaceProbDist(fd, fd.B() + 1),\n",
    "        \"Witten-Bell\":lambda fd: nltk.WittenBellProbDist(fd,fd.B() + 1),\n",
    "        \"Good-Turing\": lambda fd: nltk.SimpleGoodTuringProbDist(fd, fd.B() + 1)\n",
    "    }\n",
    "    return estimators.get(estimator)\n",
    " \n",
    "    \n",
    "def create_lm_smooth(fname, order=4,moreParam=None): \n",
    "    if moreParam==None:\n",
    "        return train_word_lm(fname,order)\n",
    "    \n",
    "    with open(fname) as f:\n",
    "        data = f.read()   \n",
    "    pad = '*' * order\n",
    "    data = pad + data\n",
    "    data = nltk.tokenize.word_tokenize(data)\n",
    "       \n",
    "    gamma=moreParam['gamma']\n",
    "    estimator=get_estimator(moreParam['estimator'],gamma)\n",
    "    fd = nltk.ConditionalFreqDist((' '.join(data[i: i + order]), data[i + order]) for i in range(len(data) - order))\n",
    "    cpd = nltk.ConditionalProbDist(fd,estimator)\n",
    "    return cpd\n"
   ]
  },
  {
   "cell_type": "code",
   "execution_count": 17,
   "metadata": {},
   "outputs": [],
   "source": [
    "def build_more_param(estimator,gamma):\n",
    "    moreParam={\n",
    "    \"estimator\":estimator,\n",
    "    \"gamma\": gamma\n",
    "    }\n",
    "    return moreParam"
   ]
  },
  {
   "cell_type": "code",
   "execution_count": 18,
   "metadata": {},
   "outputs": [
    {
     "name": "stderr",
     "output_type": "stream",
     "text": [
      "C:\\Users\\Shani\\miniconda3\\envs\\nlp21\\lib\\site-packages\\nltk\\probability.py:1456: UserWarning: SimpleGoodTuring did not find a proper best fit line for smoothing probabilities of occurrences. The probability estimates are likely to be unreliable.\n",
      "  warnings.warn(\n"
     ]
    }
   ],
   "source": [
    "#lets check if we can get a model \n",
    "estimators=[\"Lidstone\",\"Laplace\",\"Witten-Bell\",\"Good-Turing\"]\n",
    "params=[build_more_param(estimator,0.4) for estimator in estimators]\n",
    "lms={}\n",
    "for param in params:\n",
    "    lm=create_lm_smooth(data['ptb_train'],moreParam=param)\n",
    "    lms[param['estimator']]=lm\n"
   ]
  },
  {
   "cell_type": "code",
   "execution_count": 19,
   "metadata": {},
   "outputs": [
    {
     "data": {
      "text/plain": [
       "{'Lidstone': <ConditionalProbDist with 755014 conditions>,\n",
       " 'Laplace': <ConditionalProbDist with 755014 conditions>,\n",
       " 'Witten-Bell': <ConditionalProbDist with 755014 conditions>,\n",
       " 'Good-Turing': <ConditionalProbDist with 755014 conditions>}"
      ]
     },
     "execution_count": 19,
     "metadata": {},
     "output_type": "execute_result"
    }
   ],
   "source": [
    "lms"
   ]
  },
  {
   "cell_type": "markdown",
   "metadata": {},
   "source": [
    "Compare the obtained perplexity of the trained model on the validation dataset for different Lidstone estimators for a \n",
    "variety of hyper-parameter gamma $0 \\leq gamma \\leq 1$ by drawing a graph of the obtained perplexity on the validation dataset for different values of gamma.\n"
   ]
  },
  {
   "cell_type": "code",
   "execution_count": 20,
   "metadata": {
    "scrolled": true
   },
   "outputs": [
    {
     "name": "stdout",
     "output_type": "stream",
     "text": [
      "{'estimator': 'Lidstone', 'gamma': 0.05} prplexitiy 2.167957507692937\n",
      "{'estimator': 'Lidstone', 'gamma': 0.1} prplexitiy 2.1016416085956386\n",
      "{'estimator': 'Lidstone', 'gamma': 0.15} prplexitiy 2.034165953829891\n",
      "{'estimator': 'Lidstone', 'gamma': 0.2} prplexitiy 1.7148808410276755\n",
      "{'estimator': 'Lidstone', 'gamma': 0.25} prplexitiy 1.9594839732567868\n",
      "{'estimator': 'Lidstone', 'gamma': 0.3} prplexitiy 1.8965950314994195\n",
      "{'estimator': 'Lidstone', 'gamma': 0.35} prplexitiy 2.0912133951947656\n",
      "{'estimator': 'Lidstone', 'gamma': 0.4} prplexitiy 1.6937850059467732\n",
      "{'estimator': 'Lidstone', 'gamma': 0.45} prplexitiy 1.66829664437882\n",
      "{'estimator': 'Lidstone', 'gamma': 0.5} prplexitiy 1.8180941546511546\n",
      "{'estimator': 'Lidstone', 'gamma': 0.55} prplexitiy 1.9240057388486722\n",
      "{'estimator': 'Lidstone', 'gamma': 0.6} prplexitiy 1.7860024209782024\n",
      "{'estimator': 'Lidstone', 'gamma': 0.65} prplexitiy 1.7685288475261458\n",
      "{'estimator': 'Lidstone', 'gamma': 0.7} prplexitiy 1.8277719104907777\n",
      "{'estimator': 'Lidstone', 'gamma': 0.75} prplexitiy 1.7296848549343722\n",
      "{'estimator': 'Lidstone', 'gamma': 0.8} prplexitiy 1.545602657225557\n",
      "{'estimator': 'Lidstone', 'gamma': 0.85} prplexitiy 1.7608769186530246\n",
      "{'estimator': 'Lidstone', 'gamma': 0.9} prplexitiy 1.6346181741155048\n",
      "{'estimator': 'Lidstone', 'gamma': 0.95} prplexitiy 1.8108107413215944\n",
      "{'estimator': 'Lidstone', 'gamma': 1.0} prplexitiy 1.893740170677326\n"
     ]
    },
    {
     "data": {
      "text/plain": [
       "[<matplotlib.lines.Line2D at 0x26063019fd0>]"
      ]
     },
     "execution_count": 20,
     "metadata": {},
     "output_type": "execute_result"
    },
    {
     "data": {
      "image/png": "[encoded data removed]",
      "text/plain": [
       "<Figure size 432x288 with 1 Axes>"
      ]
     },
     "metadata": {
      "needs_background": "light"
     },
     "output_type": "display_data"
    }
   ],
   "source": [
    "gammas = [(i+1)/20 for i in range(0,20)]\n",
    "perplexities=[]\n",
    "valid=data['ptb_valid']\n",
    "estimator=\"Lidstone\"\n",
    "# check different gammas\n",
    "for gamma in gammas:\n",
    "    param=build_more_param(estimator,gamma)\n",
    "    lm=create_lm_smooth(data['ptb_train'],moreParam=param)\n",
    "    perplex=perplexity(lm,valid)\n",
    "    print(param,'prplexitiy',perplex)\n",
    "    perplexities.append(perplex)\n",
    "\n",
    "plt.xlabel('$\\gamma$')\n",
    "plt.ylabel('perplexity')\n",
    "plt.plot(gammas, perplexities)"
   ]
  },
  {
   "cell_type": "code",
   "execution_count": 21,
   "metadata": {},
   "outputs": [
    {
     "data": {
      "text/plain": [
       "0.8"
      ]
     },
     "execution_count": 21,
     "metadata": {},
     "output_type": "execute_result"
    }
   ],
   "source": [
    "best_gamma=gammas[np.argmin(perplexities)]\n",
    "best_gamma"
   ]
  },
  {
   "cell_type": "markdown",
   "metadata": {},
   "source": [
    "<a name=\"overfit\"></a>\n",
    "<h4>1.3.3 Perplexity according to the order of the n-gram model</h4>\n",
    "\n",
    "Another way to improve the model is to use an n-gram model with increasing values of n (2,3,...10)."
   ]
  },
  {
   "cell_type": "code",
   "execution_count": 22,
   "metadata": {},
   "outputs": [],
   "source": [
    "# Draw a graph of the obtained perplexity on the validation dataset for different values of n between 2 and 20\n",
    "# for the best value of gamma obtained above.\n",
    "estimator=\"Lidstone\"\n",
    "param=build_more_param(estimator,best_gamma)\n",
    "valid=data['ptb_valid']\n",
    "\n",
    "perplexities=[]\n",
    "for n in range(2,20):\n",
    "    lm=create_lm_smooth(data['ptb_train'],order=n,moreParam=param)\n",
    "    perplexities.append(perplexity(lm,valid))\n"
   ]
  },
  {
   "cell_type": "code",
   "execution_count": 23,
   "metadata": {},
   "outputs": [
    {
     "name": "stdout",
     "output_type": "stream",
     "text": [
      "\u001b[1mbest n:\u001b[0m 2\n"
     ]
    },
    {
     "data": {
      "image/png": "[encoded data removed]",
      "text/plain": [
       "<Figure size 432x288 with 1 Axes>"
      ]
     },
     "metadata": {
      "needs_background": "light"
     },
     "output_type": "display_data"
    }
   ],
   "source": [
    "n=[i for i in range(2,20)]\n",
    "plt.xlabel('n')\n",
    "plt.ylabel('perplexity')\n",
    "plt.plot( n, perplexities)\n",
    "\n",
    "best_n=n[np.argmin(perplexities)]\n",
    "print(make_bold(\"best n:\"),best_n)"
   ]
  },
  {
   "cell_type": "markdown",
   "metadata": {},
   "source": [
    "<a name=\"test-lm\"></a>\n",
    "<h4>1.3.4 Test the best n-gram LM</h4>\n",
    "\n",
    "Based on the 2 graphs above, we hypothesize that the best combination LM is an n-gram of order NN smoothed with Lidstone estimator with parameter gamma = GG.\n",
    "\n",
    "We test this model on the test dataset of the Penn Treebank and obtain the following perplexity on the validation set:"
   ]
  },
  {
   "cell_type": "code",
   "execution_count": 24,
   "metadata": {},
   "outputs": [
    {
     "name": "stdout",
     "output_type": "stream",
     "text": [
      "{'estimator': 'Lidstone', 'gamma': 0.8} n= 2 perpelxity= 1.0\n"
     ]
    }
   ],
   "source": [
    "## Test LM with optimal parameters - report perplexity on validation.\n",
    "estimator=\"Lidstone\"\n",
    "param=build_more_param(estimator,best_gamma)\n",
    "valid=data['ptb_valid']\n",
    "lm=create_lm_smooth(data['ptb_train'],order=best_n,moreParam=param)\n",
    "print(param, \"n=\",best_n, \"perpelxity=\",perplexity(lm,valid))"
   ]
  },
  {
   "cell_type": "markdown",
   "metadata": {},
   "source": [
    "We also test our n-gram model with the <a href=\"https://www.nltk.org/api/nltk.html#nltk.probability.SimpleGoodTuringProbDist\">Good-Turing estimator instead of the Lidstone estimator."
   ]
  },
  {
   "cell_type": "code",
   "execution_count": 25,
   "metadata": {},
   "outputs": [
    {
     "name": "stdout",
     "output_type": "stream",
     "text": [
      "{'estimator': 'Good-Turing', 'gamma': 0.8} n= 2 perpelxity= 1.0\n"
     ]
    }
   ],
   "source": [
    "## Test LM with Good-Turing estimator - report perplexity.\n",
    "estimator=\"Good-Turing\"\n",
    "param=build_more_param(estimator,best_gamma)\n",
    "valid=data['ptb_valid']\n",
    "lm=create_lm_smooth(data['ptb_train'],order=best_n,moreParam=param)\n",
    "print(param, \"n=\",best_n, \"perpelxity=\",perplexity(lm,valid))"
   ]
  },
  {
   "cell_type": "markdown",
   "metadata": {},
   "source": [
    "To assess the success of these LMs, we compare our result with a set of baselines:\n",
    "* the expected results on a uniform distribution of words (worst case) \n",
    "* recent research results reported in research paper on language models that you can find in Google Scholar tested on the Penn Treebank dataset."
   ]
  },
  {
   "cell_type": "markdown",
   "metadata": {},
   "source": [
    "<a name=\"gen\"></a>\n",
    "<h4>1.3.5 Generating Text from a Language Model</h4>\n",
    "\n",
    "Another way to evaluate a language model is to use the model in a generative manner - that is, to randomly sample\n",
    "sentences starting from a seed prefix, and generating each next word by sampling from the model distribution $p(w | prefix)$.\n",
    "\n",
    "Discuss ways to decide when the generation should stop."
   ]
  },
  {
   "cell_type": "code",
   "execution_count": 35,
   "metadata": {},
   "outputs": [],
   "source": [
    "# Define generate(model, seed) \n",
    "def generate(model, seed):\n",
    "    out = []\n",
    "    # use seed as the history data\n",
    "    hist = seed\n",
    "    print(hist)\n",
    "    for _ in range(1000):\n",
    "        word = model[hist].generate()\n",
    "        prefix_index = (hist.find(' ', 1))\n",
    "        hist = hist[prefix_index + 1:]\n",
    "        hist += ' ' + word\n",
    "        out.append(word)\n",
    "    return out\n",
    "    \n",
    "    \n",
    "def seed(text, order=4):\n",
    "    lines = text.split(' ')\n",
    "    # select a seed text\n",
    "    seed_num = randint(0, len(lines)-order)\n",
    "    seed_text = lines[seed_num:seed_num+order]\n",
    "    return ' '.join(seed_text)\n",
    "    \n",
    "\n",
    "# Test generate it on the best model trained above\n",
    "def test_generate(lm=None, order=4):\n",
    "    text = get_text(data['ptb_train'])\n",
    "    seed_text = seed(text, order) \n",
    "    if lm is None:\n",
    "        lm = train_word_lm(data['ptb_train'], order)\n",
    "    gen = generate(lm, seed_text)\n",
    "    print(make_bold('prfix seed is: ')+f'{seed_text}\\n')\n",
    "    print(make_bold('generated text:'))\n",
    "    print(' '.join(gen))\n",
    "    return"
   ]
  },
  {
   "cell_type": "code",
   "execution_count": 33,
   "metadata": {
    "scrolled": true
   },
   "outputs": [
    {
     "name": "stdout",
     "output_type": "stream",
     "text": [
      "trading practices\n",
      "\u001b[1mprfix seed is: \u001b[0mtrading practices\n",
      "\n",
      "\u001b[1mgenerated text:\u001b[0m\n",
      "require proper regulation and supervision nonetheless each has too readily < unk > out here i was over the heavy water did begin to decline in stock prices tuesday after georgia-pacific launched a new fund offering a one-time charge of exports to the fall in a single agency probably the active dealings at the vermont case a < unk > limitations on the contrary not < unk > will contract with eastern calls for $ N million a year in business bond corp. said it completed its acquisition of bell group with its previously announced sale of the imported material into a sensitive government investigation before deciding what < unk > division was one of the N N up from N million two years but the last remaining bull on the air force the buy-out group of pros ' monthly < unk > sheets according to some of the election which would be of similar maturities proceeds from the < unk > < unk > a while to come out of turn rule were abolished early steps in the latest period to cover uninsured property losses in ad sales on < unk > i cast around for years the first year he bought on the coast of texas for engineers experienced in latin urging the u.s. over-the-counter market ranges between $ N million pretax provision mainly from lower nickel prices for titanium dioxide a white house inner circle of advisers met at the exchange put a bit closer in personal < unk > have gone but mr. < unk > howard & < unk > practice of negotiating with creditors of the marketplace and need additional supplies despite running up and < unk > < unk > the < unk > futures were generally higher with heating oil for $ N billion of < unk > issues such as research and education programs to speed the sale of properties indicating operating losses for a job you can borrow against the company is < unk > < unk > the peasant the communists spent N billion cereal plant the refund was about $ N million a year for the waiver in texas now they may soon face a real crisis if program trading as usually practiced it takes four months N N for the year ended june N the index registered N on friday to close at $ N million last week yields on certificates of deposit or other plans generally would n't disclose terms mr. azoff reportedly was < unk > & < unk > one of its total $ N million of annual revenue both saatchi & saatchi which announced plans for the past century that stand as a result says mr. guber and mr. sutton having < unk > N of the company 's downtown marina district by then was about $ N million to marketing costs they 're < unk > who was fired from his colleagues particularly the endless < unk > though in N on volume of N < unk > under leonard < unk > engineering software said it reviewed the nl proposal as the nation address salinas pledged to reduce legal and financial alternatives for the season in turmoil < unk > bass ended up with a struggling government and major real-estate projects in tennessee represented by three percentage points indexing has been a longstanding u.s. friendship with party leaders including democratic mayoral < unk > when reset provisions allowed their interest in u.s. biotechnology concerns to < unk > inclined to dump on teachers as distinct from the pretty big one was rejected in september for a guy whose < unk > as drexel claimed but it 's hard to develop cancer equally important the ual buy-out financing both citicorp and mr. guber was raised to $ N million or N cents two cans cost N investors willing to give details of its junk but its success will likely try to maintain and repair books his other ventures < unk > has a large french cocoa merchant cie financiere < unk > out of his minority < unk > said it will save but during at its merabank unit fell N N increase in the prime minister whose hair is < unk > of the company has signed a five-year maturity and the information service < unk > an < unk > disk drives valley national is n't likely to be sufficient trading volume on the monetary tax benefit they have a high-quality management team 's < unk > approach typical of other assets he bought the additional posts of president salinas i 'm asking people to buy a home in suburban boston developers are bracing for lower interest yesterday the december contract dropping to N pence N cents a share the reduced dividend reflects the huge nih grants program as well as on intel corp. for $ N million in equity and other < unk > elements of the appeals court the morgan case thus tells us to be on chromosome N for designing women cbs executives said many portfolio managers expect further declines in pulp and paper association an omaha neb . with a slight earnings gain for everyone involved was crushed by the market said thomas < unk > approach see that taxpayers correct voluntarily the general manager to < unk > on < unk > could let him forget the soaring pound to $ N to N billion to reserves comes on top of his machines they did themselves even more effective and the union the only time the unit continues to supply more than N N of $ N million the transaction would be better than those that use hundreds of arizona 's worsening real-estate slump first interstate said the 30-share index settled N points on oct. N N biotechnology issues were priced at N second section was built painfully to its warehouses a subsidiary of valley companies seemed to solve them yet leslie falls < unk\n"
     ]
    }
   ],
   "source": [
    "# the best model is the one with Lidstone\n",
    "estimator=\"Lidstone\"\n",
    "param=build_more_param(estimator,best_gamma)\n",
    "lang_model =create_lm_smooth(data['ptb_train'],order=best_n,moreParam=param)\n",
    "test_generate(lang_model, best_n)"
   ]
  },
  {
   "cell_type": "markdown",
   "metadata": {},
   "source": [
    " We thought of a few ways to decide when the generation of words should stop:\n",
    "* The method is generating a char/word based on probability, so we can stop when the probability is very small and it is very unlikely that this char/word will be the next in the text.\n",
    "* If the probability of all the chars/words generated untill some point p, sums to one - then we should not continue generating.\n",
    "* When the probability of the generated char/word does not fit the sample space."
   ]
  },
  {
   "cell_type": "markdown",
   "metadata": {},
   "source": [
    "When we sample from the LM given a history, we do not pick the most likely word generated by the LM, otherwise the generator would be deterministic.  Instead, we use <a href=\"https://www.nltk.org/api/nltk.html#nltk.probability.ProbDistI.generate\">nltk.ProbDistI.generate()</a>.  \n",
    "* Explain what is expected from this method of text generation."
   ]
  },
  {
   "cell_type": "markdown",
   "metadata": {},
   "source": [
    "The method generate return a randomly selected sample from the model probability distribution.\n",
    "\n",
    "We start from a random seed, when its length equal to order. So instead of starting generating words from '*' * order, we start from a sentence from the dataset.\n",
    "Each iteration we get a new generated word from the last seed created, minus its first word and plus a new word.\n",
    "\n",
    "We expect from the generate method to sample words that make sense realeted to the history of words that came before, start from the seed prefix."
   ]
  },
  {
   "cell_type": "markdown",
   "metadata": {},
   "source": [
    "We experiment with a variety of seeds.  \n",
    "\n",
    "First seed: \"a british journalist whose\"\n",
    "\n",
    "Second seed: \"four cents a share\"\n",
    "\n",
    "Third iteration: \"exceeding analysts ' expectations\"\n",
    "\n",
    "Fourth iteration: \"read the magazines they\"\n",
    "\n",
    "Fifth iteration: \"steel corp. posted net\"\n",
    "\n",
    "Analyze your observations."
   ]
  },
  {
   "cell_type": "code",
   "execution_count": 36,
   "metadata": {},
   "outputs": [
    {
     "name": "stdout",
     "output_type": "stream",
     "text": [
      "First seed:\n",
      "another N independent unocal\n",
      "\u001b[1mprfix seed is: \u001b[0manother N independent unocal\n",
      "\n",
      "\u001b[1mgenerated text:\u001b[0m\n",
      "gasoline stations < unk > will receive $ N million four times the military 's request tennessee and north carolina home states of the two democratic chairmen of the house and senate military construction < unk > receive $ N million in back pay a decision that could complicate the carrier 's bankruptcy reorganization ltv steel is boosting prices of flat rolled steel products an average N N total return of the merrill lynch high-yield index fidelity 's junk fund has fallen N N this year from last year 's $ N million loss for the third quarter but it continued to badly trail its san francisco neighbor wells fargo & co. of san francisco posted a N N rise in fiscal first-quarter net income net for the quarter ended sept. N the aerospace automotive supply electronics and < unk > to this < unk > little on an issue < unk > purchase in the closed-end fund came before the u.s. stock market 's plunge friday on news of trouble in financing the ual corp buy-out in major market activity treasury bond prices fell the yield on 30-year treasury bonds for an investor in the N N years before federal authorities seized it earlier this year lincoln 's collapse may cost taxpayers as much as $ N million worth of sun 's machines over the next two months affecting about N jobs < unk > by wall street which is concentrating on coping with the deduction issue prices for lbos have to come down if you do n't know which way to < unk > through the market and increased the market 's volatility he also considers the market < unk > into space skeptics say that if that 's the case temperatures should have risen fairly < unk > in the millions most banks were closed but were expected to reopen today with few problems anticipated at the federal reserve board 's < unk > < unk > window < unk > < unk > < unk > is seeking to shed its image of a state-owned bank and move into new activities under the direction of its new chairman francisco luzon spain 's seventh largest bank is < unk > its headquarters here and huge operations like j.c. penney & co. issued $ N million of wastewater treatment bonds by the new jersey wastewater treatment trust $ N million two-part offering of bonds apparently was won by a merrill lynch capital markets h.f. ahmanson & co. offering of four million shares of common the < unk > < unk > he has lost his < unk > speech < unk > titled blacks animals < unk > what 's next < unk > adds the net loser in the next few years i would advise caution in a < unk > manhattan u.s. attorney < unk > < unk > < unk > from the american < unk > businesses jumped N N in the first N minutes of trading in washington house aides said mr. phelan told congressmen that the collar which banned program trades through the big board 's new product confirms the exchange does n't want to have the image of a < unk > < unk > down every decent man who raises his voice and mancuso himself is investigating at the top of his < unk > < unk > said the package helps carriers solve pricing problems such as how to react to discounts offered by competitors or what would be the logical conclusion mr. < unk > was named vice president of finance and administration for national broadcasting co. a unit of wpp group will handle faberge organic < unk > and its long-term effects are unknown but researchers say the drug called fk-506 could < unk > her < unk > mr. chan produced a < unk > with the weight of its own impending history long lines of people waited to buy special < unk > treatment company eagle clothes inc. which is operating under chapter N of the u.s. market compared with N N to yield N N in N to N N in N to N N armstrong world industries gained N to N < unk > on the budget and capital gains hurt him in congress republicans as well as democrats were angered by the budget director 's rejection of speaker foley 's effort to < unk > and < unk > of < unk > those sanctions could prompt chinese < unk > if all goes well it will < unk > its bid which is expected to be a round of higher bids by the other groups trying to acquire the company by $ N million detrex which has annual sales of about $ N a share sales rose to $ N million from $ N million nine-month sales grew N N to $ N on the toronto stock exchange cineplex closed at c $ N down N cents a group bidding for american medical international inc. new york said its bids for columbia pictures entertainment inc. was in < unk > mexico is sending a number of < unk > financial markets mr. mulford responding to critics of intervention also said intervention is highly visible is taken seriously by financial markets and works better than was recognized some time ago differences between the treasury and fed have been < unk > and use radar guns to curb fast and reckless riding they have even sent < unk > back < unk > shares closed at $ N up $ N armstrong 's shares also listed on the big board trading floor says one specialist there the buyers walk away and the specialist is left alone as the buyer of last resort for his stable of stocks he contends no one is more unhappy with program trading than the nation 's stockbrokers they are still trying to lure back small investors spooked by\n"
     ]
    }
   ],
   "source": [
    "print('First seed:')\n",
    "test_generate()"
   ]
  },
  {
   "cell_type": "code",
   "execution_count": 30,
   "metadata": {
    "scrolled": true
   },
   "outputs": [
    {
     "name": "stdout",
     "output_type": "stream",
     "text": [
      "Second seed:\n",
      "\u001b[1mprfix seed is: \u001b[0mroll hall of fame\n",
      "\n",
      "\u001b[1mgenerated text:\u001b[0m\n",
      "she says it 'd create N jobs and bring cleveland tourist revenue hud says the project does n't qualify and mr. kemp says that rock < unk > roll manager is credited with turning around mca 's < unk > 's voting stock oil production from australia 's bass < unk > fields including laser disks or portable < unk > to investors columbia might be broken up as mellon bank was split into a good bank and a bad bank but columbia 's good bank would be a private investment company holding some of columbia 's junk bonds and perhaps do merchant banking columbia wo n't comment on when it will do the same but < unk > will become ever more subject to < unk > some particularly in west coast earthquake zones are < unk > by a bitter < unk > strike forces is expected to go to < unk > their own employer kidder peabody since october 's < unk > < unk > of goldman sachs & co. group the insured bonds rated triple-a by moody 's and duff & phelps still the list of troubled drexel bond offerings < unk > that waertsilae marine industries the finnish shipyard that is building its three new cruise ships planned to file for bankruptcy protection and asked mr. evans to stay on mr. evans told the board he needed the weekend to think about it mr. evans could n't be reached for comment the decision to accept credit agricole 's bid valued at N billion pesetas $ N million also approved was a plan to trade stock portfolios by computer after regular hours on the midwest stock exchange the basket products are an < unk > of two forms of < unk > industries ltd. one of a group of closely held companies owned by entrepreneur james < unk > director of < unk > funds increased $ N billion to $ N billion from $ N billion the drop in earnings had been anticipated by most wall street analysts but the results were reported after the market closed in new york stock exchange composite trading equitec closed at $ N up $ N in new york stock exchange composite trading fireman 's closed at $ N a share according to some estimates the rule changes would cut insider filings by more than a third of the software market machines dedicated solely to word processing which have all but disappeared from the broadway theater sharp political < unk > of natural gas more than half the level traditionally considered desirable mr. < unk > said the N limited partnerships included in the proposed < unk > policy but was concerned that his government would be criticized as < unk > and implications of most judicial decisions at least when the stakes are high uncertainty in turn results in < unk > terms another of mr. roberts 's criticisms is that bank lending has done more harm than good by < unk > a slew of < unk > in the millions most banks were closed but were expected to reopen today with few problems anticipated at the federal reserve board 's < unk > would cost $ N million apiece the final b-2 agreement is certain to require detailed testing and < unk > the surface there are so many complex depreciation calculations to do but congress still could resolve the issue with other legislation this year or next < unk > of brain and < unk > title that of the developing world 's largest < unk > will auction art works with < unk > under london 's < unk > bonds via a painewebber group san antonio texas $ N million of course mr. wolf N years old has < unk > another solution cities might consider is giving special priority to police < unk > with private companies and especially foreign ones is controversial in a country where oil has been a symbol of national sovereignty since foreign oil holdings were < unk > their report appears in today 's issue of the journal nature the finding marks a significant step in research on bulk superconductors which are aimed at a market expected to total more than $ N million for the remaining N lawsuits against northwest were n't disclosed a total of N million the company said its revenue will exceed $ N million this year ingersoll president robert m. < unk > chairman and chief executive officer mr. < unk > recently named newsweek president said newsweek 's ad rates would increase N N in january a full < unk > page in newsweek will cost $ N advertising rates for the eastern midwest western and southwest editions will increase an average N N but it 's unclear how it is viewed by average indian voters in N india signed a $ N million bond issue the engineering company was acquired in a takeover earlier this year by the giant reliance textile group although larsen & toubro had n't raised money from the public in N years its new owners frequently raise funds on the local market reliance < unk > a japanese daily last month reported that aichi revised its tax calculations after being challenged for allegedly failing to honor u.s. patents < unk > and < unk > counties in northern ohio have total assets of about $ N billion over the next eight years will expand the fleet to about N planes by N up from N at the end of november if the contras are to receive the rest of the < unk > mutual fund the unit trust of india they 're going to have some real problems when everyone around them opens says daniel lee a drexel analyst older properties that still have a 1950s image are also vulnerable any hotel-casino without a strong identity will get < unk > only N N to\n"
     ]
    }
   ],
   "source": [
    "print('Second seed:')\n",
    "test_generate()"
   ]
  },
  {
   "cell_type": "code",
   "execution_count": 91,
   "metadata": {
    "scrolled": true
   },
   "outputs": [
    {
     "name": "stdout",
     "output_type": "stream",
     "text": [
      "Third seed:\n",
      "distributor retail and original\n",
      "\u001b[1mprfix seed is: \u001b[0mdistributor retail and original\n",
      "\n",
      "\u001b[1mgenerated text:\u001b[0m\n",
      "equipment manufacturer markets carol cable which operates N manufacturing plants had operating profit of $ N million from $ N million rubbermaid shares closed yesterday at N p.m. edt oct. N N and a yield to maturity of N N $ N billion in N the soviet state bank announced a N N devaluation of the ruble against the dollar for private transactions in an apparent attempt to maintain its bargaining position with the board however the only outsider who has emerged to lead such a shareholder vote but partner richard nye said this is the most moving < unk > i think if you can speed things up you can slow them down mr. phelan said that if stock-market volatility < unk > the supreme court has temporarily barred sea containers from buying back its own stock in a case brought by < unk > a filing made in the same court yesterday ge asserted that prosecutors have misstated the testimony of witnesses distorted documents and ignored important facts the company attacked the government 's allegations as reckless and < unk > begin a series of reports analyzing the failures of perestroika i 'd be destroying myself replies mr. korotich who then asks what would that accomplish his answer reveals his < unk > ways < unk > an official at < unk > & bartlett who recently won a huge case on behalf of insurers against shell oil co he says he used consultants in the case but found them to be virtually < unk > how at & t helped at nissan we felt we wanted to do something to help them gather money and we had this < unk > energy pricing in the power sector sound interest-rate policies in the credit area and the operation of public utilities as efficient < unk > system he or his heir would be < unk > to help < unk > job its budget $ N million is < unk > at the < unk > the price of land and < unk > contracts previously regulators insisted that franchisers < unk > such a furor when a decade ago some < unk > with complaints from both proponents and critics of a substantial increase in the wage floor advocates said the < unk > no doubt mr. dinkins has been a < unk > venture capitalists point out and if that happens the entire process of < unk > with abortion-rights arguments yet he is also firmly bound by his hard-line rhetoric and promises he made to anti-abortion activists during his long pursuit of the white house on a centerpiece issue acid rain the michigan democrat 's proposal which is expected today is described by government sources and lobbyists as significantly weaker than the president 's plan to cut utility emissions that lead to acid rain the administration 's plan could cost utilities mainly those that use coal up to $ N billion from $ N billion the increased dividend will be paid on < unk > and < unk > healthcare $ N million the sale is likely to fuel concern about growing japanese investment in u.s. commercial real estate grew from about $ N a share on sales of $ N million on the sale of assets would allow sea containers to focus on its core container businesses for holders who decide not to tender their shares sea containers will issue one share of preferred stock which is equivalent to a taxable N N rates approach N N on five-year municipals some of the more cautious cd holders might like < unk > shirts < unk > < unk > insisted that headquarters had n't approved the bids and that he did n't know about most of the cases until wednesday other major japanese computer companies contacted yesterday said they have never made such bids one yen is not ethical < unk > < unk > and of course there 's the < unk > have been consistent for N years with about N N in corporate profits in N she says but a bunch of utilities should post profit increases among utilities drexel currently favors < unk > all the unsecured notes a continental spokeswoman said the notes may be offered at a later date construction is set to begin in california in N mr. < unk > concedes that a recent diversification attempt fell through we 're still interested in diversifying he says but we 'd rather be prudent than make a mistake he also says < unk > earnings for the last half of the '80s with sales volume being essentially flat while consolidation creates fewer bigger players we can not permit a further slowing in our volume trend anheuser said adding it will take appropriate competitive pricing actions to support our long-term market share growth strategy for the premium brands anheuser said it continues to explore all options concerning the possible sale of all or part of their down payments on the american express card but few card holders realize this mr. < unk > might < unk > eastern corp. which acquired texas eastern corp. earlier this year and changed its name to broad inc for the < unk > guy who ever sat on our bench says a former president of cambria county 's lawyers and residents who had dealings with the judge mr. green declined to be interviewed is the maidenform strategist sales have tripled during her < unk > ms. < unk > of curbs on bank interest rates to allow banks to offer competing yields the new instrument also introduced many to the industry N N of fund owners there are more than N stocks on which options may be bought and sold with the ease of common stocks and many investment-grade bonds unlike the new york stock exchange composite was N N lower for the day as usual the over-the-counter market 's biggest technology stocks\n"
     ]
    }
   ],
   "source": [
    "print('Third seed:')\n",
    "test_generate()"
   ]
  },
  {
   "cell_type": "code",
   "execution_count": 92,
   "metadata": {
    "scrolled": true
   },
   "outputs": [
    {
     "name": "stdout",
     "output_type": "stream",
     "text": [
      "Fifth seed:\n",
      "structures that failed tuesday\n",
      "\u001b[1mprfix seed is: \u001b[0mstructures that failed tuesday\n",
      "\n",
      "\u001b[1mgenerated text:\u001b[0m\n",
      "night he said were both built well before the N earthquake the san francisco bay area and the outstanding work of the local governments and the private charitable organizations there as < unk > instruments known as mortgage-backed securities as much as N N of nbi 's shares outstanding nbi said that it has removed thomas r. < unk > vice president of finance and chief financial officer also resigned the company said mr. < unk > went to her neighborhood bank because it was convenient a < unk > firm and < unk > class a gained N to N N in N from $ N million tandy said consumer electronics sales at its radio shack stores have been slow partly because of a lack of confidence in mr. lawson 's promise that rates will be pushed higher if necessary and they warn any further drop in the government 's continuing < unk > between health and homelessness are complex < unk > sweeping changes in july the late start may be a < unk > of < unk > items in the pentagon 's budget west virginia home of senate appropriations committee chairman robert byrd d. < unk > formerly a < unk > trying to make it easier to crack them part of the answer < unk > < unk > one the title of chief executive officer is n't used while people within daiwa particularly < unk > expected shortly thereafter legislation to require the consent of parents before their daughters under the age of N after a < unk > hard disk drive that it hopes will prove popular with makers of < unk > mired in deficits and < unk > it 's little less than a cry for help from those who make the costly show possible the previous five reports were mainly statistical but clear enough in < unk > states harder put more simply gop candidates for president are looked on more < unk > target for other corporate < unk > are promoting their products ' pacific roots and < unk > group in < unk > ohio they have to work such long hours and then we expect them to be heroes if there 's an evacuation in response to the letters mr. thomson usually sends an < unk > the right to increase its interest to N N of the bank but with the understanding that mr. < unk > said the company 's future to be assured and the present climate of uncertainty resolved as quickly as possible i worry more about things becoming so unraveled on the other side 's < unk > subsidiary is for expected costs to correct problems with < unk > services to the military is refining its defense niche not retreating from it after < unk > and < unk > corp. said they completed the formation of dow < unk > an analyst with salomon brothers inc ms. < unk > is president of el espectador a newspaper founded by his < unk > ring would < unk > scarce resources of the commission away from < unk > to turn the anticipated cascade of < unk > tenn. was elected to the u.n. security council for the first time openly < unk > the < unk > < unk > and < unk > concern about < unk > a < unk > < unk > will have similar rights in france daf is < unk > in the < unk > dead the < unk > quality levels and increase your use of recycled paper virginia < unk > cigarettes but also into electronic < unk > instruments known as mortgage-backed securities as much as N N on a modest N N increase in third-quarter earnings which it attributed partly to the company 's earnings as soon as the problem occurred they could also check through the orders on file to find a customer that was willing to accept a reduction in its percentage share of the group 's filing procedures the rochester n.y. investor said we < unk > confidence mr. < unk > who files the law tells them when to do so investors who want to change the required timing should write their representatives in congress he added the sec would likely be < unk > when there 's been a hanging in the family a spokesman says the governor believes he can avoid increases by relying on federal aid and shifting funds in state programs still hugo 's impact may revive unsuccessful proposals to give local governments authority to levy sales taxes a spokesman for north carolina gov . martin says hugo has n't prompted proposals for state or local increases california where earthquake damage may top $ N billion plans a special legislative session < unk > american < unk > thursday a judge is scheduled to rule on warner 's request for a $ N million or N cents a share revenue rose N N to $ N billion after virtually being wiped out by the new provisions < unk > < unk > toward the planet jupiter while five < unk > < unk > the < unk > sector was the session 's best performer among dow jones industry groups fluor rose N to N the index of leading indicators which had climbed N N in september a further indication the economy is slowing enough to give the federal reserve < unk > short-term interest rates knocking fed funds from around N N and to lower the number of labor hours required to produce a unit by moving the design of new products in-house instead of contracting out the work the company also has a < unk > was n't surprised by the lower price cited by nl saying he believes that $ N a share to $ N in the quarter last year detrex is setting aside $ N\n"
     ]
    }
   ],
   "source": [
    "print('Fifth seed:')\n",
    "test_generate()"
   ]
  },
  {
   "cell_type": "markdown",
   "metadata": {},
   "source": [
    "<h4>Optional material</h4>\n",
    "\n",
    "One way to control the variety of the text generated by an LM is to introduce a parameter called the <i>temperature</i>\n",
    "of the generator which allows us to sample words randomly according to the distribution produced by the LM (that is, we do not \n",
    "always select the most likely candidate - we sample from the distribution produced by the LM).  \n",
    "    \n",
    "<a href=\"https://nlp.stanford.edu/blog/maximum-likelihood-decoding-with-rnns-the-good-the-bad-and-the-ugly/\">Maximum Likelihood Decoding with RNNs - the good, the bad, and the ugly</a> by Russell Stewart (2016) explains how a temperature argument can control the level of variability generated by the model.  \n",
    "\n",
    "The idea is ... (summarize the post).\n",
    "\n",
    "<a href=\"https://github.com/sameersingh/uci-statnlp/blob/master/hw2/generator.py\">generator.py</a> from Sameer Sing demonstrates a method to generate from a LM with a temperature parameter.  \n",
    "\n",
    "Explain how the code in this method corresponds to the mathematical explanation provided in the blog above."
   ]
  },
  {
   "cell_type": "markdown",
   "metadata": {},
   "source": [
    "<a name=\"nn-lm\"></a>\n",
    "<h3>1.4 Character language model</h3>\n",
    "\n",
    "It is interesting to compare word-based and character-based language models.\n",
    "On the one hand, character-based models need to predict a much smaller range of options (one character out of ~100 possible characters vs. one word out of 200K possible words - or 10K in the example we reviewed above).  \n",
    "On the other hand, we need to maintain a much longer history of characters to obtain a significant memory of the context which would make sense semantically.\n",
    "\n",
    "\n",
    "<a name=\"effectiveness\"></a>\n",
    "<h4>1.4.1 Read and Summarize</h4>\n",
    "\n",
    "<a href=\"http://karpathy.github.io/2015/05/21/rnn-effectiveness/\">The Unreasonable Effectiveness of Recurrent Neural Networks</a>, May 21, 2015, Andrej Karpathy (up to Section \"Further Reading\").  \n",
    "Write a summary of this essay of about 200 words highlighting what is most surprising in the experimental results reported in the blog.\n",
    "Refer to what you know about formal languages and Chomsky's hierarchy.\n"
   ]
  },
  {
   "cell_type": "markdown",
   "metadata": {},
   "source": [
    "Read the follow-up article:\n",
    "<a href=\"http://nbviewer.jupyter.org/gist/yoavg/d76121dfde2618422139\">The unreasonable effectiveness of Character-level Language Models (and why RNNs are still cool)</a>, Sept 2015, Yoav Goldberg.  \n",
    "Write a summary of this essay of about 200 words."
   ]
  },
  {
   "cell_type": "markdown",
   "metadata": {},
   "source": [
    "**Summary of  'The Unreasonable Effectiveness of Recurrent Neural Networks:**\n",
    "One of the main reasons Recurrent Neural Networks are so efficient is the fact that they allow us to operate over sequences of vectors: Sequences in the input, the output, or in the most general case both , unlike  Vanilla Neural Networks or CNN which has many linitations: they accept a fixed-sized vector as input and produce a fixed-sized vector as output , and even perform this mapping using a fixed amount of computational steps (e.g. the number of layers in the model). \n",
    "How RNN works- RNNs accept an input vector x and give an output vector y. However, this output vector’s contents are influenced not only by the input we just fed in, but also on the entire history of inputs we’ve fed in in the past. \n",
    "Multiple layers -we can have a 2-layer (or more) recurrent network which means we have two separate RNNs: One RNN is receiving the input vectors and the second RNN is receiving the output of the first RNN as its input. Except neither of these RNNs know or care- it’s all just vectors coming in and going out, and some gradients flowing through each module during backpropagation.\n",
    "We saw how we can generate a new text which look like it was written by a real person , for example Shakespeare just by giving  the RNN data to learn.\n",
    "\n",
    "\n",
    "**Summary of  'The unreasonable effectiveness of Character-level Language Models (and why RNNs are still cool)':**\n",
    "The Unsmoothed Maximum Likelihood Character Level Language Model idea is – a model that guesses the next character based on previous n letters. \n",
    "To solve this problem, use RNNs and LSTMs networks to learn fixed order language model. Mathematically, learn P(character | history). A simple approach will be counting the number of times c appear after h, and divide by the total letters appear after h, if a letter did not followed h than then its probability is 0.\n",
    "Train the model - with large dataset of words, and a given order – the history size consult.\n",
    "Generate letter – given the history, sample a random letter based on distribution of the last order characters. \n",
    "It is shown in the article that in the Shakespeare example, with order of 4 and above, the algorithm result is quite reasonable text, in the same \"writing style\" of the origin text trained from. In the Linux-kernel files example, it worked well from order 15, keeping good indentation and brackets. \n",
    "The network learned something not trivial - after the training it could create an original text based only on what it learned. \n"
   ]
  },
  {
   "cell_type": "markdown",
   "metadata": {},
   "source": [
    "<a name=\"recipes\"></a>\n",
    "<h4>1.4.2 Recipes with a Character LM</h4>\n",
    "\n",
    "Strikingly realistic output can be generated when training a character language-model on a strongly-constrained genre of text like cooking recipes.\n",
    "Train your n-gram model on the dataset provided in \n",
    "<a href=\"https://gist.github.com/nylki/1efbaa36635956d35bcc\">do androids dream of cooking?</a> which contains about 32K recipes gathered from the Internet."
   ]
  },
  {
   "cell_type": "markdown",
   "metadata": {},
   "source": [
    "Gather the recipes dataset and prepare a dataset reader according to the structure of the files."
   ]
  },
  {
   "cell_type": "code",
   "execution_count": 40,
   "metadata": {},
   "outputs": [],
   "source": [
    "def prepare_data(direc):\n",
    "    entries = os.listdir(direc)\n",
    "    return entries\n",
    "\n",
    "direc = prepare_data(\"../data/recipes\")\n"
   ]
  },
  {
   "cell_type": "code",
   "execution_count": 41,
   "metadata": {},
   "outputs": [
    {
     "name": "stdout",
     "output_type": "stream",
     "text": [
      "number of recipes: 33\n"
     ]
    }
   ],
   "source": [
    "print(f'number of recipes: {len(direc)}')"
   ]
  },
  {
   "cell_type": "markdown",
   "metadata": {},
   "source": [
    "Report basic statistics about the dataset (number of recipes, tokens, characters, vocabulary size, distribution of the size of recipes in words and in chars, distribution of length of words)."
   ]
  },
  {
   "cell_type": "code",
   "execution_count": 42,
   "metadata": {},
   "outputs": [
    {
     "name": "stdout",
     "output_type": "stream",
     "text": [
      "\u001b[1mstatistics for 1000.mmf\u001b[0m\n",
      "\u001b[4m\tnumber of tokens is:\u001b[0m 234463\n",
      "\u001b[4m\tnumber of chars is:\u001b[0m 1226806\n",
      "\u001b[4m\tvocabulary size is:\u001b[0m 13777\n",
      "\u001b[4m\tdistribution of length of words:\u001b[0m mean - 3.8716855111467483, deviation - 2.5519202298748667\n",
      "\u001b[1mstatistics for 10000.mmf\u001b[0m\n",
      "\u001b[4m\tnumber of tokens is:\u001b[0m 220225\n",
      "\u001b[4m\tnumber of chars is:\u001b[0m 1166244\n",
      "\u001b[4m\tvocabulary size is:\u001b[0m 11791\n",
      "\u001b[4m\tdistribution of length of words:\u001b[0m mean - 3.8961198773981156, deviation - 2.628229897017738\n",
      "\u001b[1mstatistics for 11000.mmf\u001b[0m\n",
      "\u001b[4m\tnumber of tokens is:\u001b[0m 220784\n",
      "\u001b[4m\tnumber of chars is:\u001b[0m 1161860\n",
      "\u001b[4m\tvocabulary size is:\u001b[0m 12187\n",
      "\u001b[4m\tdistribution of length of words:\u001b[0m mean - 3.8586672947315024, deviation - 2.569114792037155\n",
      "\u001b[1mstatistics for 12000.mmf\u001b[0m\n",
      "\u001b[4m\tnumber of tokens is:\u001b[0m 215085\n",
      "\u001b[4m\tnumber of chars is:\u001b[0m 1136239\n",
      "\u001b[4m\tvocabulary size is:\u001b[0m 11095\n",
      "\u001b[4m\tdistribution of length of words:\u001b[0m mean - 3.8890438663784086, deviation - 2.6026509379719975\n",
      "\u001b[1mstatistics for 13000.mmf\u001b[0m\n",
      "\u001b[4m\tnumber of tokens is:\u001b[0m 243559\n",
      "\u001b[4m\tnumber of chars is:\u001b[0m 1300519\n",
      "\u001b[4m\tvocabulary size is:\u001b[0m 11201\n",
      "\u001b[4m\tdistribution of length of words:\u001b[0m mean - 3.8992400198719817, deviation - 2.5455408065167533\n",
      "\u001b[1mstatistics for 14000.mmf\u001b[0m\n",
      "\u001b[4m\tnumber of tokens is:\u001b[0m 231210\n",
      "\u001b[4m\tnumber of chars is:\u001b[0m 1220020\n",
      "\u001b[4m\tvocabulary size is:\u001b[0m 11625\n",
      "\u001b[4m\tdistribution of length of words:\u001b[0m mean - 3.8622291423381343, deviation - 2.5489960650888444\n",
      "\u001b[1mstatistics for 15000.mmf\u001b[0m\n",
      "\u001b[4m\tnumber of tokens is:\u001b[0m 241670\n",
      "\u001b[4m\tnumber of chars is:\u001b[0m 1272918\n",
      "\u001b[4m\tvocabulary size is:\u001b[0m 9974\n",
      "\u001b[4m\tdistribution of length of words:\u001b[0m mean - 3.940129101667563, deviation - 2.6410808735177107\n",
      "\u001b[1mstatistics for 16000.mmf\u001b[0m\n",
      "\u001b[4m\tnumber of tokens is:\u001b[0m 224724\n",
      "\u001b[4m\tnumber of chars is:\u001b[0m 1174625\n",
      "\u001b[4m\tvocabulary size is:\u001b[0m 12160\n",
      "\u001b[4m\tdistribution of length of words:\u001b[0m mean - 3.8511462950107687, deviation - 2.5524383275127804\n",
      "\u001b[1mstatistics for 17000.mmf\u001b[0m\n",
      "\u001b[4m\tnumber of tokens is:\u001b[0m 211217\n",
      "\u001b[4m\tnumber of chars is:\u001b[0m 1107157\n",
      "\u001b[4m\tvocabulary size is:\u001b[0m 11469\n",
      "\u001b[4m\tdistribution of length of words:\u001b[0m mean - 3.8525308095465802, deviation - 2.5482672341171333\n",
      "\u001b[1mstatistics for 18000.mmf\u001b[0m\n",
      "\u001b[4m\tnumber of tokens is:\u001b[0m 208732\n",
      "\u001b[4m\tnumber of chars is:\u001b[0m 1103785\n",
      "\u001b[4m\tvocabulary size is:\u001b[0m 11147\n",
      "\u001b[4m\tdistribution of length of words:\u001b[0m mean - 3.8815610447847, deviation - 2.6025062695619554\n",
      "\u001b[1mstatistics for 19000.mmf\u001b[0m\n",
      "\u001b[4m\tnumber of tokens is:\u001b[0m 202844\n",
      "\u001b[4m\tnumber of chars is:\u001b[0m 1065256\n",
      "\u001b[4m\tvocabulary size is:\u001b[0m 10776\n",
      "\u001b[4m\tdistribution of length of words:\u001b[0m mean - 3.8567371970578375, deviation - 2.5586076423925714\n",
      "\u001b[1mstatistics for 2000.mmf\u001b[0m\n",
      "\u001b[4m\tnumber of tokens is:\u001b[0m 221500\n",
      "\u001b[4m\tnumber of chars is:\u001b[0m 1153658\n",
      "\u001b[4m\tvocabulary size is:\u001b[0m 11553\n",
      "\u001b[4m\tdistribution of length of words:\u001b[0m mean - 3.834943566591422, deviation - 2.5500086635488493\n",
      "\u001b[1mstatistics for 20000.mmf\u001b[0m\n",
      "\u001b[4m\tnumber of tokens is:\u001b[0m 213914\n",
      "\u001b[4m\tnumber of chars is:\u001b[0m 1125248\n",
      "\u001b[4m\tvocabulary size is:\u001b[0m 11736\n",
      "\u001b[4m\tdistribution of length of words:\u001b[0m mean - 3.857690473741784, deviation - 2.547562477855383\n",
      "\u001b[1mstatistics for 21000.mmf\u001b[0m\n",
      "\u001b[4m\tnumber of tokens is:\u001b[0m 215115\n",
      "\u001b[4m\tnumber of chars is:\u001b[0m 1122006\n",
      "\u001b[4m\tvocabulary size is:\u001b[0m 12566\n",
      "\u001b[4m\tdistribution of length of words:\u001b[0m mean - 3.8388768798084745, deviation - 2.564845480576414\n",
      "\u001b[1mstatistics for 22000.mmf\u001b[0m\n",
      "\u001b[4m\tnumber of tokens is:\u001b[0m 216271\n",
      "\u001b[4m\tnumber of chars is:\u001b[0m 1130564\n",
      "\u001b[4m\tvocabulary size is:\u001b[0m 12073\n",
      "\u001b[4m\tdistribution of length of words:\u001b[0m mean - 3.8461975946844467, deviation - 2.566855620700124\n",
      "\u001b[1mstatistics for 23000.mmf\u001b[0m\n",
      "\u001b[4m\tnumber of tokens is:\u001b[0m 221019\n",
      "\u001b[4m\tnumber of chars is:\u001b[0m 1164221\n",
      "\u001b[4m\tvocabulary size is:\u001b[0m 12775\n",
      "\u001b[4m\tdistribution of length of words:\u001b[0m mean - 3.876449536012741, deviation - 2.5756527633052135\n",
      "\u001b[1mstatistics for 24000.mmf\u001b[0m\n",
      "\u001b[4m\tnumber of tokens is:\u001b[0m 237265\n",
      "\u001b[4m\tnumber of chars is:\u001b[0m 1235320\n",
      "\u001b[4m\tvocabulary size is:\u001b[0m 13010\n",
      "\u001b[4m\tdistribution of length of words:\u001b[0m mean - 3.8462478663098225, deviation - 2.5385047099766074\n",
      "\u001b[1mstatistics for 25000.mmf\u001b[0m\n",
      "\u001b[4m\tnumber of tokens is:\u001b[0m 219842\n",
      "\u001b[4m\tnumber of chars is:\u001b[0m 1154675\n",
      "\u001b[4m\tvocabulary size is:\u001b[0m 11679\n",
      "\u001b[4m\tdistribution of length of words:\u001b[0m mean - 3.86732744425542, deviation - 2.5373810687680285\n",
      "\u001b[1mstatistics for 26000.mmf\u001b[0m\n",
      "\u001b[4m\tnumber of tokens is:\u001b[0m 215069\n",
      "\u001b[4m\tnumber of chars is:\u001b[0m 1129255\n",
      "\u001b[4m\tvocabulary size is:\u001b[0m 11551\n",
      "\u001b[4m\tdistribution of length of words:\u001b[0m mean - 3.858533772882191, deviation - 2.5781859893517143\n",
      "\u001b[1mstatistics for 27000.mmf\u001b[0m\n",
      "\u001b[4m\tnumber of tokens is:\u001b[0m 216739\n",
      "\u001b[4m\tnumber of chars is:\u001b[0m 1141279\n",
      "\u001b[4m\tvocabulary size is:\u001b[0m 12696\n",
      "\u001b[4m\tdistribution of length of words:\u001b[0m mean - 3.890628820839812, deviation - 2.5665803699275824\n",
      "\u001b[1mstatistics for 28000.mmf\u001b[0m\n",
      "\u001b[4m\tnumber of tokens is:\u001b[0m 220524\n",
      "\u001b[4m\tnumber of chars is:\u001b[0m 1171053\n",
      "\u001b[4m\tvocabulary size is:\u001b[0m 11658\n",
      "\u001b[4m\tdistribution of length of words:\u001b[0m mean - 3.8972900908744625, deviation - 2.584351414596236\n",
      "\u001b[1mstatistics for 29000.mmf\u001b[0m\n",
      "\u001b[4m\tnumber of tokens is:\u001b[0m 217175\n",
      "\u001b[4m\tnumber of chars is:\u001b[0m 1145483\n",
      "\u001b[4m\tvocabulary size is:\u001b[0m 11963\n",
      "\u001b[4m\tdistribution of length of words:\u001b[0m mean - 3.8628341199493494, deviation - 2.5693852131254564\n",
      "\u001b[1mstatistics for 3000.mmf\u001b[0m\n",
      "\u001b[4m\tnumber of tokens is:\u001b[0m 221958\n",
      "\u001b[4m\tnumber of chars is:\u001b[0m 1171251\n",
      "\u001b[4m\tvocabulary size is:\u001b[0m 11821\n",
      "\u001b[4m\tdistribution of length of words:\u001b[0m mean - 3.884581767721821, deviation - 2.587135823821459\n",
      "\u001b[1mstatistics for 30000.mmf\u001b[0m\n",
      "\u001b[4m\tnumber of tokens is:\u001b[0m 215318\n",
      "\u001b[4m\tnumber of chars is:\u001b[0m 1138340\n",
      "\u001b[4m\tvocabulary size is:\u001b[0m 11946\n",
      "\u001b[4m\tdistribution of length of words:\u001b[0m mean - 3.8991630983011176, deviation - 2.5796200526005864\n",
      "\u001b[1mstatistics for 31000.mmf\u001b[0m\n",
      "\u001b[4m\tnumber of tokens is:\u001b[0m 196255\n",
      "\u001b[4m\tnumber of chars is:\u001b[0m 1028244\n",
      "\u001b[4m\tvocabulary size is:\u001b[0m 10880\n",
      "\u001b[4m\tdistribution of length of words:\u001b[0m mean - 3.836712440447377, deviation - 2.556257828763385\n",
      "\u001b[1mstatistics for 32000.mmf\u001b[0m\n",
      "\u001b[4m\tnumber of tokens is:\u001b[0m 227450\n",
      "\u001b[4m\tnumber of chars is:\u001b[0m 1186844\n",
      "\u001b[4m\tvocabulary size is:\u001b[0m 12886\n",
      "\u001b[4m\tdistribution of length of words:\u001b[0m mean - 3.851593756869642, deviation - 2.538839254117196\n",
      "\u001b[1mstatistics for 32965.mmf\u001b[0m\n",
      "\u001b[4m\tnumber of tokens is:\u001b[0m 214186\n",
      "\u001b[4m\tnumber of chars is:\u001b[0m 1131777\n",
      "\u001b[4m\tvocabulary size is:\u001b[0m 12258\n",
      "\u001b[4m\tdistribution of length of words:\u001b[0m mean - 3.8641414471534086, deviation - 2.5337788312243013\n",
      "\u001b[1mstatistics for 4000.mmf\u001b[0m\n",
      "\u001b[4m\tnumber of tokens is:\u001b[0m 217032\n",
      "\u001b[4m\tnumber of chars is:\u001b[0m 1137168\n",
      "\u001b[4m\tvocabulary size is:\u001b[0m 11487\n",
      "\u001b[4m\tdistribution of length of words:\u001b[0m mean - 3.8520863282833866, deviation - 2.529815639956934\n",
      "\u001b[1mstatistics for 5000.mmf\u001b[0m\n",
      "\u001b[4m\tnumber of tokens is:\u001b[0m 218884\n",
      "\u001b[4m\tnumber of chars is:\u001b[0m 1142447\n",
      "\u001b[4m\tvocabulary size is:\u001b[0m 11768\n",
      "\u001b[4m\tdistribution of length of words:\u001b[0m mean - 3.8526434092944206, deviation - 2.559909855527718\n",
      "\u001b[1mstatistics for 6000.mmf\u001b[0m\n",
      "\u001b[4m\tnumber of tokens is:\u001b[0m 213986\n",
      "\u001b[4m\tnumber of chars is:\u001b[0m 1114583\n",
      "\u001b[4m\tvocabulary size is:\u001b[0m 11036\n",
      "\u001b[4m\tdistribution of length of words:\u001b[0m mean - 3.816109465105194, deviation - 2.567359990062112\n",
      "\u001b[1mstatistics for 7000.mmf\u001b[0m\n",
      "\u001b[4m\tnumber of tokens is:\u001b[0m 227496\n",
      "\u001b[4m\tnumber of chars is:\u001b[0m 1188838\n",
      "\u001b[4m\tvocabulary size is:\u001b[0m 11817\n",
      "\u001b[4m\tdistribution of length of words:\u001b[0m mean - 3.841082920139255, deviation - 2.5442471747247115\n",
      "\u001b[1mstatistics for 8000.mmf\u001b[0m\n",
      "\u001b[4m\tnumber of tokens is:\u001b[0m 224054\n",
      "\u001b[4m\tnumber of chars is:\u001b[0m 1172387\n",
      "\u001b[4m\tvocabulary size is:\u001b[0m 12123\n",
      "\u001b[4m\tdistribution of length of words:\u001b[0m mean - 3.849692484847403, deviation - 2.5346493256175617\n",
      "\u001b[1mstatistics for 9000.mmf\u001b[0m\n",
      "\u001b[4m\tnumber of tokens is:\u001b[0m 206160\n",
      "\u001b[4m\tnumber of chars is:\u001b[0m 1087875\n",
      "\u001b[4m\tvocabulary size is:\u001b[0m 11758\n",
      "\u001b[4m\tdistribution of length of words:\u001b[0m mean - 3.8818102444703144, deviation - 2.5614093298852008\n"
     ]
    }
   ],
   "source": [
    "files=direc\n",
    "tokens_per_reciepe={}\n",
    "chars_per_reciepe={}\n",
    "chars_per_word_in_rec={}\n",
    "vocab_per_rec={}\n",
    "mean_char_per_word_per_rec={}\n",
    "std_char_per_word_per_rec={}\n",
    "statistics=[tokens_per_reciepe,chars_per_reciepe,vocab_per_rec\\\n",
    "            ,mean_char_per_word_per_rec,std_char_per_word_per_rec]\n",
    "statistics_names=['number of token','number of chars','vocabulary size'\\\n",
    "            'mean_char_per_word','std_char_per_word']\n",
    "\n",
    "concat_files = \"\"\n",
    "for file in files:\n",
    "    file_name=file.split('.')[0]\n",
    "    read_file =  open(f'../data/recipes/{file}', encoding=\"utf8\", errors='ignore').read()    \n",
    "    concat_files += (read_file + ' ')\n",
    "    print(make_bold(f'statistics for {file}'))\n",
    "    tok = get_tokens(read_file)\n",
    "    vocab = get_vocabulary(read_file)\n",
    "    chars_per_word = [len(w) for w in tok]\n",
    "    mean_char_per_word= np.mean(chars_per_word)\n",
    "    std_char_per_word=np.std(chars_per_word)\n",
    "    std_char_per_word_per_rec[file_name]=std_char_per_word\n",
    "    tokens_per_reciepe[file_name]=len(tok)\n",
    "    chars_per_reciepe[file_name]=len(read_file)\n",
    "    vocab_per_rec[file_name]=len(vocab)\n",
    "    mean_char_per_word_per_rec[file_name]=mean_char_per_word\n",
    "    std_char_per_word_per_rec[file_name]=std_char_per_word\n",
    "    print(make_underline('\\tnumber of tokens is:'),len(tok))\n",
    "    print(make_underline('\\tnumber of chars is:'),len(read_file))\n",
    "    print(make_underline('\\tvocabulary size is:'),len(vocab))\n",
    "    print(make_underline('\\tdistribution of length of words:'),f'mean - {mean_char_per_word}, deviation - {std_char_per_word}')\n",
    "\n",
    "\n"
   ]
  },
  {
   "cell_type": "code",
   "execution_count": 43,
   "metadata": {},
   "outputs": [
    {
     "name": "stdout",
     "output_type": "stream",
     "text": [
      "\u001b[1mnumber of token\u001b[0m\n"
     ]
    },
    {
     "data": {
      "image/png": "[encoded data removed]",
      "text/plain": [
       "<Figure size 432x288 with 1 Axes>"
      ]
     },
     "metadata": {
      "needs_background": "light"
     },
     "output_type": "display_data"
    },
    {
     "name": "stdout",
     "output_type": "stream",
     "text": [
      "\u001b[1mnumber of chars\u001b[0m\n"
     ]
    },
    {
     "data": {
      "image/png": "[encoded data removed]",
      "text/plain": [
       "<Figure size 432x288 with 1 Axes>"
      ]
     },
     "metadata": {
      "needs_background": "light"
     },
     "output_type": "display_data"
    },
    {
     "name": "stdout",
     "output_type": "stream",
     "text": [
      "\u001b[1mvocabulary sizemean_char_per_word\u001b[0m\n"
     ]
    },
    {
     "data": {
      "image/png": "[encoded data removed]",
      "text/plain": [
       "<Figure size 432x288 with 1 Axes>"
      ]
     },
     "metadata": {
      "needs_background": "light"
     },
     "output_type": "display_data"
    },
    {
     "name": "stdout",
     "output_type": "stream",
     "text": [
      "\u001b[1mstd_char_per_word\u001b[0m\n"
     ]
    },
    {
     "data": {
      "image/png": "[encoded data removed]",
      "text/plain": [
       "<Figure size 432x288 with 1 Axes>"
      ]
     },
     "metadata": {
      "needs_background": "light"
     },
     "output_type": "display_data"
    },
    {
     "name": "stdout",
     "output_type": "stream",
     "text": [
      "\u001b[1m\n",
      "distribution of the size of recipes in words:\u001b[0m mean-219749.24242424243  std-10017.624883417568\n",
      "\n",
      "\n"
     ]
    }
   ],
   "source": [
    "# let plot some histograms\n",
    "index=0\n",
    "statistics_names=np.array(['number of token','number of chars','vocabulary size'\\\n",
    "            'mean_char_per_word','std_char_per_word'])\n",
    "\n",
    "for i in range(len (statistics_names)):\n",
    "    print(make_bold(statistics_names[i]))\n",
    "    plt.bar(statistics[i].keys(),statistics[i].values())\n",
    "    plt.title(statistics_names[i])\n",
    "    plt.show()\n",
    "\n",
    "token_statistics = np.fromiter(tokens_per_reciepe.values(), dtype=int)\n",
    "\n",
    "tokens_per_reciepe_mean=np.mean(token_statistics)\n",
    "tokens_per_reciepe_std=np.std(token_statistics)\n",
    "print(make_bold('\\ndistribution of the size of recipes in words:'),f'mean-{tokens_per_reciepe_mean} \\\n",
    " std-{tokens_per_reciepe_std}')\n",
    "print('\\n')"
   ]
  },
  {
   "cell_type": "code",
   "execution_count": 44,
   "metadata": {},
   "outputs": [
    {
     "name": "stdout",
     "output_type": "stream",
     "text": [
      "\u001b[1mstatistics for all files:\u001b[0m\n",
      "\u001b[4m\tnumber of tokens is:\u001b[0m 7251725\n",
      "\u001b[4m\tnumber of chars is:\u001b[0m 38107978\n",
      "\u001b[4m\tvocabulary size is:\u001b[0m 89513\n",
      "\u001b[4m\tdistribution of length of words:\u001b[0m mean - 3.865982783406707, deviation - 2.564547346121576\n"
     ]
    }
   ],
   "source": [
    "# statistics for all files together\n",
    "print(make_bold(f'statistics for all files:'))\n",
    "tok = get_tokens(concat_files)\n",
    "print(make_underline('\\tnumber of tokens is:'),len(tok))\n",
    "print(make_underline('\\tnumber of chars is:'),len(concat_files))\n",
    "vocab = get_vocabulary(concat_files)\n",
    "print(make_underline('\\tvocabulary size is:'),len(vocab))\n",
    "chars_per_word = [len(w) for w in tok]\n",
    "mean_char_per_word= np.mean(chars_per_word)\n",
    "std_char_per_word=np.std(chars_per_word)\n",
    "print(make_underline('\\tdistribution of length of words:'),f'mean - {mean_char_per_word}, deviation - {std_char_per_word}')"
   ]
  },
  {
   "cell_type": "markdown",
   "metadata": {},
   "source": [
    "Split the dataset into training, dev and test as a 80%/10%/10% split.  Provide a Python interface to access the split conveniently."
   ]
  },
  {
   "cell_type": "code",
   "execution_count": 45,
   "metadata": {},
   "outputs": [],
   "source": [
    "def get_file_list_from_dir(datadir):\n",
    "    all_files = os.listdir(os.path.abspath(datadir))\n",
    "    data_files = list(filter(lambda file: file.endswith('.mmf'), all_files))\n",
    "    return data_files\n",
    "\n",
    "def randomize_files(file_list):\n",
    "    np.random.shuffle(file_list)\n",
    "    \n",
    "\n",
    "def get_training_validating_testing_sets(file_list):\n",
    "    split_first_index = int(0.8 * len(file_list))\n",
    "    split_second_index = int(0.9 * len(file_list))\n",
    "    training = file_list[:split_first_index]\n",
    "    validating = file_list[split_first_index:split_second_index]\n",
    "    testing = file_list[split_second_index:]\n",
    "    return training, validating, testing \n",
    "    "
   ]
  },
  {
   "cell_type": "code",
   "execution_count": 46,
   "metadata": {},
   "outputs": [],
   "source": [
    "def split_dataset(path):\n",
    "    all_files = get_file_list_from_dir(path)\n",
    "    randomize_files(all_files)\n",
    "    train, valid, test = get_training_validating_testing_sets(all_files)\n",
    "    return train, valid, test\n",
    "\n",
    "train, valid, test = split_dataset(\"../data/recipes\")"
   ]
  },
  {
   "cell_type": "markdown",
   "metadata": {},
   "source": [
    "Choose the order of the char n-gram according to the indications given in Yoav Goldberg's article.  \n",
    "Justify the choice (you should use the dev test for this)."
   ]
  },
  {
   "cell_type": "code",
   "execution_count": 47,
   "metadata": {},
   "outputs": [],
   "source": [
    "# Char n-gram model (different from the one above - this one is not adaptef to words)\n",
    "\n",
    "def create_lm(fname, order=4):\n",
    "#     with open(fname) as f:\n",
    "#         data = f.read()\n",
    "    data = fname \n",
    "    pad = '*' * order\n",
    "    data = pad + data\n",
    "    cfd = nltk.ConditionalFreqDist((data[i : i + order], data[i + order]) for i in range(len(data) - order))\n",
    "    cpd = nltk.ConditionalProbDist(cfd, nltk.MLEProbDist)\n",
    "    return cpd\n",
    "\n",
    "def test_create_lm(dataset, order):\n",
    "    # order = 4\n",
    "    lm = create_lm(dataset, order)\n",
    "    return lm\n",
    "\n",
    "def test_generate_from_lm(lm, order):\n",
    "    out = []\n",
    "    hist = '*' * order\n",
    "    for _ in range(1000):\n",
    "        letter = lm[hist].generate()\n",
    "        hist = hist[1:] + letter\n",
    "        out.append(letter)\n",
    "    return (''.join(out))\n",
    "    \n",
    "def train_char_lm(dataset, order):\n",
    "    lm_test = test_create_lm(dataset, order)\n",
    "    return test_generate_from_lm(lm_test, order)"
   ]
  },
  {
   "cell_type": "markdown",
   "metadata": {},
   "source": [
    "We will check a gew different orders of the char n-gram and check with which one we preformed better.\n",
    "As in the article, we will now present a few different results and compare between them."
   ]
  },
  {
   "cell_type": "markdown",
   "metadata": {},
   "source": [
    "Train a char language model using your LM mode adapted to work on characters instead of words."
   ]
  },
  {
   "cell_type": "code",
   "execution_count": 48,
   "metadata": {},
   "outputs": [],
   "source": [
    "def compare_order(order, data_type):\n",
    "    for file in data_type:\n",
    "        with open(f'../data/recipes/{file}', encoding=\"utf8\", errors='ignore') as fname:\n",
    "            file_read = fname.read()\n",
    "            gen = train_char_lm(file_read, order)\n",
    "    print(make_bold(f'Datasetis {data_type} and order is {order}\\n'))\n",
    "    print(gen)    "
   ]
  },
  {
   "cell_type": "code",
   "execution_count": 49,
   "metadata": {},
   "outputs": [
    {
     "name": "stdout",
     "output_type": "stream",
     "text": [
      "\u001b[1mDatasetis ['32000.mmf', '5000.mmf', '8000.mmf'] and order is 2\n",
      "\u001b[0m\n",
      "  -du.scor (tm) vine, pepanot In einerry ts, stely un baket creed tb Bea Egg. Che lickes (tm) v8.05\n",
      "  GT FEI Homajusall to theand\n",
      "  2187\n",
      "  T Commer unchalf\n",
      "        1/2 c  3     WITTUFFS Welder at im th theas\n",
      "     Caking panour\n",
      " \n",
      "     EXCEDING-- spres. Sour and an, an,wil.coverving Mas bed.   1/2 che sto ang\n",
      "  Ser dilks\n",
      " \n",
      "MM--\n",
      "  1/2 th pe\n",
      "     mix.\n",
      " \n",
      "MMM--------------------- mixtur red\n",
      " \n",
      "   intiong. Pout incylve st a Mix\n",
      "   The Usimmeks dongraple mined juican and browatervia Mix gentoast malmoverapy well heeten and 7thinad saut unto thin ast foni Plato unt\n",
      "  Salls 5 minge fre cuck to or eger. Bolly cups\n",
      " \n",
      "MM-------------GLASSERRILEMOK\n",
      " \n",
      "      over. In\n",
      "     To the soure saut-saucen pand c    Bob\n",
      "  slicke uns tock. Ingreamove to proxtur\n",
      "  Broot dourbs 1 to li-soul a\n",
      "    mix und alk salougarges, bless coarm sole he\n",
      "  \n",
      "  Ang whick Cled\n",
      " \n",
      "MM\n",
      "     Oil\n",
      " \n",
      " Coven sproz Briden tur.\n",
      " \n",
      "    3 cand juide is frest\n",
      " \n",
      "   Food and\n",
      "    2 the c   6 exchil sought 2/3 gar\n",
      "     1 tompk toppiner clet but le: 4\n"
     ]
    }
   ],
   "source": [
    "compare_order(2, valid)"
   ]
  },
  {
   "cell_type": "code",
   "execution_count": 50,
   "metadata": {},
   "outputs": [
    {
     "name": "stdout",
     "output_type": "stream",
     "text": [
      "\u001b[1mDatasetis ['32000.mmf', '5000.mmf', '8000.mmf'] and order is 4\n",
      "\u001b[0m\n",
      "\n",
      " Categories: Cheese, the heaten egg yolks\n",
      "  (Reduce halibuted\n",
      "        4 c  Chopped potatoes absorbed.  Bake at 325 degreek, chopped\n",
      "      3 lg Egg\n",
      "  each wax clean.  Thinly so a small\n",
      " \n",
      "      Yield: 1 Lemon, additions\n",
      "        3 tb Fresh per powder\n",
      "       1 ts Cayennel, salt and vinegar\n",
      "      1/4 c  Flour\n",
      "    minutes until hours, Heat, stir in a\n",
      "  1 c  Sugar\n",
      "      425 degrees F.\n",
      "  \n",
      "  Brandy powder\n",
      "    3 months before eaches until soft and for garlic clove a to fitting until sandy to rec.food processage yeast\n",
      "    Shake (opt.)\n",
      "          1/4 hour, salt.\n",
      "  \n",
      "  Removed and cook for 15 minum skim a large hunked\n",
      "           1 lg Orange,\n",
      "    1 ct Heat quickbreads, bay leaves for batch Sew or 9 inch vanilla\n",
      "  coarsely combine at and red cubed let\n",
      "     1/2 ts Sweet with water\n",
      "        Philies, Parsley, choy; (Chines.  Drain is copyright. Using on high heavy dutch, butter (tm) v8.05\n",
      " \n",
      "  Oct 1988.\n",
      "  \n",
      "  From soup. Incream. Cover measury on PRO: 1g;\n",
      "    Yield: 1 Serve leaf\n",
      "  the on the dough bread with\n"
     ]
    }
   ],
   "source": [
    "compare_order(4, valid)"
   ]
  },
  {
   "cell_type": "code",
   "execution_count": 51,
   "metadata": {},
   "outputs": [
    {
     "name": "stdout",
     "output_type": "stream",
     "text": [
      "\u001b[1mDatasetis ['32000.mmf', '5000.mmf', '8000.mmf'] and order is 8\n",
      "\u001b[0m\n",
      "*******MMMMM----- Recipe via Meal-Master (tm) v8.05\n",
      " \n",
      "      1 c  Milk\n",
      "      2 lb Tart green apple\n",
      "  sauce around in very hot.\n",
      "  \n",
      "  Shared By: Pat\n",
      "  Stockett\n",
      " \n",
      "MMMMM\n",
      " \n",
      "MMMMM----- Recipe via Meal-Master (tm) v8.05\n",
      " \n",
      "      1/4 c  Pan drippings into the pan and heat, brown sugar\n",
      " \n",
      "  Skin peaches, or line with permission of Fujinese \"wine lees\n",
      "  paste, and add sufficient milk to lukewarm (95 F)\n",
      "      1 c  Water or mushrooms\n",
      "  and slice the garlic and onion and wrap. Use mortar and\n",
      "  stir-fry over medium heat, stirring just the bread, onions, green\n",
      "  onions,or\n",
      "  save,and serve.\n",
      " \n",
      "MMMMM----- Recipe via Meal-Master (tm) v8.05\n",
      " \n",
      "      Title: BOOFERS\n",
      " Categories: Breads\n",
      "      Yield: 1 Servings\n",
      " \n",
      "         Lemon\n",
      "    1/4 c  Soy sauce\n",
      "          -JUDI M. PHELPS\n",
      "      2 tb Cider vinegar into cakes.\n",
      "  \n",
      "  Fold in raisins\n",
      " \n",
      "  DIRECTED IN RECEIPE.\n",
      " \n",
      "MMMMM----- Recipe via Meal-Master (tm) v8.05\n",
      " \n",
      "      Title: BORSCHT 3\n",
      " Categories: None\n",
      "               8 oz Tempeh; cut into one inch diameter, spread coverin\n"
     ]
    }
   ],
   "source": [
    "compare_order(8, valid)"
   ]
  },
  {
   "cell_type": "code",
   "execution_count": 52,
   "metadata": {},
   "outputs": [
    {
     "name": "stdout",
     "output_type": "stream",
     "text": [
      "\u001b[1mDatasetis ['32000.mmf', '5000.mmf', '8000.mmf'] and order is 12\n",
      "\u001b[0m\n",
      "* **** *\n",
      "  \n",
      "  Heat oil in\n",
      "  heavy foil. Freeze it up to 3 months. Bread can be thawed in the\n",
      "  cognac flavor that makes this dish so\n",
      "  \n",
      "  unique.\n",
      " \n",
      "MMMMM\n",
      " \n",
      "MMMMM----- Recipe via Meal-Master (tm) v8.05\n",
      " \n",
      "      Title: BREADMAKER RICH DOUGH\n",
      " Categories: Harned 1994, Main dish, Seafood\n",
      "      Yield: 6 Servings\n",
      " \n",
      "  1 1/4 lb Bottom round steak\n",
      "      2 tb Tomato paste\n",
      "      1 ts Fresh ground black pepper\n",
      "      1    Small bell pepper, diced\n",
      "      1    Stick (4 oz) unsalted butter and sugar.  Drain cucumbers and onions.  Cover the bottom crust and arrange the eggplants & leave peel.  Slice lengthwise wedge and spray the cut sides in Pam. Dust\n",
      "  in garlic, lemon juice over it slowly.\n",
      "  \n",
      "  Recipe By     :\n",
      " \n",
      "MMMMM\n",
      " \n",
      "MMMMM----- Recipe via Meal-Master (tm) v8.05\n",
      " \n",
      "      Title: BREADSTICKS ITALIANO\n",
      " Categories: Sausages, Meats\n",
      "      Yield: 1 Servings\n",
      " \n",
      "      2 c  Onions, chopped\n",
      "           Dawn\n",
      "  Underwood jdkx65a\n",
      " \n",
      "MMMMM\n",
      " \n",
      "MMMMM----- Recipe via Meal-Master (tm) v8.05\n",
      " \n",
      "      Title: BRAN MUFFINS~ JOYC\n"
     ]
    }
   ],
   "source": [
    "compare_order(12, valid)"
   ]
  },
  {
   "cell_type": "markdown",
   "metadata": {},
   "source": [
    "As we can see from the results above: \n",
    "* order of ngram of 2 is not so good, wh cannot understand it, because it did not predict real words.\n",
    "* order of ngram of 4 is a bit better, it does not make a lot of sense, but it is written of real English words.\n",
    "* order of ngram of 8 is even better, it has a form that is more alike to the recipes in the dataset, it is more understood, eventhough it is still not good enough, we cannot realy understand the meaning of the entire text, and we sure cannot use it.\n",
    "* order of ngram of 12 is a lot better. It look like almost a real recipe, we can see real improvement.\n"
   ]
  },
  {
   "cell_type": "markdown",
   "metadata": {},
   "source": [
    "So, We will choose the order of the char n-gram to be 12.\n",
    "It is obvious form the examples above on the valid dataset, that order of 12 had the best result.\n",
    "Of course, as the ngram is higher the result will be more accurate, but the model will work harder and need to remember longer chars history.\n",
    "We think that order of 12 gave nice results on valid dataset and would also work good with the train dataset."
   ]
  },
  {
   "cell_type": "code",
   "execution_count": 53,
   "metadata": {},
   "outputs": [
    {
     "name": "stdout",
     "output_type": "stream",
     "text": [
      "\u001b[1mDatasetis ['22000.mmf', '4000.mmf', '27000.mmf', '7000.mmf', '6000.mmf', '32965.mmf', '17000.mmf', '19000.mmf', '31000.mmf', '12000.mmf', '14000.mmf', '2000.mmf', '29000.mmf', '11000.mmf', '24000.mmf', '21000.mmf', '23000.mmf', '26000.mmf', '28000.mmf', '3000.mmf', '20000.mmf', '16000.mmf', '1000.mmf', '30000.mmf', '10000.mmf', '25000.mmf'] and order is 12\n",
      "\u001b[0m\n",
      " Before you start preparing this at least five hours before serving. 7 (1/2 cup) servings.\n",
      " \n",
      "MMMMM\n",
      " \n",
      "MMMMM----- Recipe via Meal-Master (tm) v8.05\n",
      " \n",
      "      Title: FRIED RICE (CHOW FUN)\n",
      " Categories: Vegetables, Relishes, Sauces\n",
      "      Yield: 6 Servings\n",
      " \n",
      "      1 lb Sweet potatoes and cooled syrup to liqueur base, stirring every\n",
      "  day for 10 days. Add 2 1/2 cups of flour, the cocoa and brandy and amaretto. Pour into prepared sheet; cool. Coarsely\n",
      "  chopped. Chill and serve.\n",
      "  \n",
      "  Recipe By     : \"[Julian Manders]\" <pnh0jhm@PNH10.MED.NAVY.MIL>\n",
      " \n",
      "MMMMM\n",
      " \n",
      "MMMMM----- Recipe via Meal-Master (tm) v8.05\n",
      " \n",
      "      Title: FRENCH OMELET VARIATION: May use other berries\n",
      "  or fruit of your choice.\n",
      "  \n",
      "  Origin: Reader's Digest, Canadian Edition, January 1993.\n",
      " \n",
      "MMMMM\n",
      " \n",
      "MMMMM----- Recipe via Meal-Master (tm) v8.05\n",
      " \n",
      "      Title: FRENCH ONION SOUP (MON VILLAGE)\n",
      " Categories: Vegetarian, Main dish, Pork, Beef\n",
      "      Yield: 1 Cake ring\n",
      " \n",
      "    1/2 c  Softened butter\n",
      "      2 tb Vegetable oil;\n",
      "      4 tb Butter\n",
      "    \n"
     ]
    }
   ],
   "source": [
    "compare_order(12, train)"
   ]
  },
  {
   "cell_type": "markdown",
   "metadata": {},
   "source": [
    "This is the resulted recipe after being trained on the entire dataset.\n",
    "As we can see, this result is pretty good. Maybe not like a person would do, but still, impressive!"
   ]
  },
  {
   "cell_type": "markdown",
   "metadata": {},
   "source": [
    "Report on the perplexity of the trained language model.  Comment on the value you observe compared to the perplexity of the word LM model obtained above."
   ]
  },
  {
   "cell_type": "code",
   "execution_count": 54,
   "metadata": {},
   "outputs": [],
   "source": [
    "# get arbitrary file from train\n",
    "train_sample_num = randint(0, len(train))\n",
    "train_sample = train[train_sample_num]\n",
    "\n",
    "# get arbitrary file from valid\n",
    "valid_sample_num = randint(0, len(valid))\n",
    "valid_sample = valid[valid_sample_num]\n"
   ]
  },
  {
   "cell_type": "code",
   "execution_count": 55,
   "metadata": {},
   "outputs": [
    {
     "name": "stdout",
     "output_type": "stream",
     "text": [
      "\n",
      "overall perplexity is: 1.071134176589951\n"
     ]
    }
   ],
   "source": [
    "lm = create_lm(train_sample, 12)\n",
    "valid=\"../data/recipes/\"+valid_sample\n",
    "print(f'\\noverall perplexity is: {perplexity(lm, valid, 12)}')"
   ]
  },
  {
   "cell_type": "markdown",
   "metadata": {},
   "source": [
    "Sample about 5 generated recipes from the trained language model."
   ]
  },
  {
   "cell_type": "code",
   "execution_count": 56,
   "metadata": {
    "scrolled": true
   },
   "outputs": [
    {
     "name": "stdout",
     "output_type": "stream",
     "text": [
      "recipe number 1:\n",
      "\u001b[1mDatasetis ['22000.mmf', '4000.mmf', '27000.mmf', '7000.mmf', '6000.mmf', '32965.mmf', '17000.mmf', '19000.mmf', '31000.mmf', '12000.mmf', '14000.mmf', '2000.mmf', '29000.mmf', '11000.mmf', '24000.mmf', '21000.mmf', '23000.mmf', '26000.mmf', '28000.mmf', '3000.mmf', '20000.mmf', '16000.mmf', '1000.mmf', '30000.mmf', '10000.mmf', '25000.mmf'] and order is 12\n",
      "\u001b[0m\n",
      "********MMMMM----- Recipe via Meal-Master (tm) v8.05\n",
      " \n",
      "      Title: FRESH TOMATO WHITE CHILI\n",
      " Categories: Sauces, Mixes, Seasonings, Italian, Mrs. g\n",
      "      Yield: 6 Servings\n",
      " \n",
      "      1    Egg (beaten)\n",
      "    1/2 c  Water\n",
      "           -Jarlsberg cheese\n",
      "      8 oz Firm silken tofu\n",
      "    1/3 c  All-purpose flour\n",
      "    1/4 lb Butter\n",
      "      3 c  Tomatoes -- chopped\n",
      "      2    Eggs; OR...\n",
      "      4 oz Dry white wine, vermouth, or\n",
      "           -just before it is cooking, saute mushrooms, chopped\n",
      "    1/4 lb Butter\n",
      "      1 c  Sweet cream\n",
      "      Yield: 1 12\" pizza\n",
      " \n",
      "      1 lb Mixed fruits\n",
      " \n",
      "  Day before, wash beans well several times to\n",
      "  chop berries. Process continuously over medium low\n",
      "  heat for three minutes until the cheese becomes ` stringy'.\n",
      "  \n",
      "  Source:  SHARE Colorado Cookbook  11/20/93\n",
      " \n",
      "MMMMM\n",
      " \n",
      "MMMMM----- Recipe via Meal-Master (tm) v8.05\n",
      " \n",
      "      Title: FRENCH STYLE POTATO SALAD\n",
      " Categories: Mexican, Beans, Peppers, Side dish, Family\n",
      "      Yield: 12 Servings\n",
      " \n",
      "      5 qt Popped popcorn\n",
      "      1 tb He\n",
      "\n",
      "\n",
      "recipe number 2:\n",
      "\u001b[1mDatasetis ['22000.mmf', '4000.mmf', '27000.mmf', '7000.mmf', '6000.mmf', '32965.mmf', '17000.mmf', '19000.mmf', '31000.mmf', '12000.mmf', '14000.mmf', '2000.mmf', '29000.mmf', '11000.mmf', '24000.mmf', '21000.mmf', '23000.mmf', '26000.mmf', '28000.mmf', '3000.mmf', '20000.mmf', '16000.mmf', '1000.mmf', '30000.mmf', '10000.mmf', '25000.mmf'] and order is 12\n",
      "\u001b[0m\n",
      "*** Before you start preparing the\n",
      "  chocolate, if desired.\n",
      "   Serve hot dumplings:\n",
      "      3 tb Unsalted butter; melted\n",
      "    2/3 c  Cold water\n",
      "  and let sit in a cool, dark place, turning the skewers several\n",
      "  hours. An electric fryer will NOT do.)\n",
      "  \n",
      "      Heat the oil to 380F and fry the bread with a shallow pan of water on\n",
      "  lower oven rack.\n",
      "  \n",
      "  \"Vegetarian Gourmet\" Summer, 1994\n",
      " \n",
      "MMMMM\n",
      " \n",
      "MMMMM----- Recipe via Meal-Master (tm) v8.05\n",
      " \n",
      "      Title: FRENCH BREAD\n",
      " Categories: Chinese, Soups\n",
      "      Yield: 8 Servings\n",
      " \n",
      "           -the fritters and allow to\n",
      "  set before cutting into squares. Mrs. H. Alexander Perry\n",
      " \n",
      "MMMMM\n",
      " \n",
      "MMMMM----- Recipe via Meal-Master (tm) v8.05\n",
      " \n",
      "      Title: FRENCH BREAD PUDDING WITH CLEAR RUM SAUCE - COMMANDER'S P\n",
      " Categories: Appetizers\n",
      "      Yield: 10 Servings\n",
      " \n",
      "      8    Fresh Peaces; Pitted, Peeled\n",
      "      1 sm Clove garlic (to taste)\n",
      "           Cocktail toothpicks\n",
      "           Filling----\n",
      "      8 oz Sour cream\n",
      "      2 ts Vanilla extract\n",
      "      1 tb Light olive oi\n",
      "\n",
      "\n",
      "recipe number 3:\n",
      "\u001b[1mDatasetis ['22000.mmf', '4000.mmf', '27000.mmf', '7000.mmf', '6000.mmf', '32965.mmf', '17000.mmf', '19000.mmf', '31000.mmf', '12000.mmf', '14000.mmf', '2000.mmf', '29000.mmf', '11000.mmf', '24000.mmf', '21000.mmf', '23000.mmf', '26000.mmf', '28000.mmf', '3000.mmf', '20000.mmf', '16000.mmf', '1000.mmf', '30000.mmf', '10000.mmf', '25000.mmf'] and order is 12\n",
      "\u001b[0m\n",
      "******\n",
      "  \n",
      "  From \"Danish Cookery\" by Suzanne, Andr. Fred. Host & Son, Copenhagen,\n",
      "  1957.\n",
      "  \n",
      "  Posted by Fred Towner (July 31, 1990)\n",
      " \n",
      "MMMMM\n",
      " \n",
      "MMMMM----- Recipe via Meal-Master (tm) v8.05\n",
      " \n",
      "      Title: FRIED TURKEY CUTLETS\n",
      " Categories: Cobblers, Berries\n",
      "      3 c  Sugar\n",
      "    1/2 ts Salt\n",
      "           -- strips\n",
      "           -chopped\n",
      "           Salt\n",
      "      4 c  Vegetable oil\n",
      "      2 tb Vegetable oil, covered and wreath\n",
      "  is formed. (If the syrup becomes too brown.  Cool on a wire rack to cool for\n",
      "           -Armagnac, or other good\n",
      "           Temperature\n",
      "      8 oz Cream cheese\n",
      "      1 tb Light olive oil over medium heat, melt the chocolate.  Pour mixture and cooked pasta\n",
      "  or float some croutons on top.\n",
      "  \n",
      "  Per Serving: about 505 calories, 32 g protein, 17 g fat, 57 g carbohydrates, 0 grams fiber.\n",
      " \n",
      "MMMMM\n",
      " \n",
      "MMMMM----- Recipe via Meal-Master (tm) v8.05\n",
      " \n",
      "      Title: FRESH ASPARAGUS SOUP\n",
      " Categories: Sauces\n",
      "      Yield: 12 Servings\n",
      " \n",
      "      1    Egg\n",
      "           Salt\n",
      "      2 ts Light soy sauce\n",
      " \n",
      "\n",
      "\n",
      "recipe number 4:\n",
      "\u001b[1mDatasetis ['22000.mmf', '4000.mmf', '27000.mmf', '7000.mmf', '6000.mmf', '32965.mmf', '17000.mmf', '19000.mmf', '31000.mmf', '12000.mmf', '14000.mmf', '2000.mmf', '29000.mmf', '11000.mmf', '24000.mmf', '21000.mmf', '23000.mmf', '26000.mmf', '28000.mmf', '3000.mmf', '20000.mmf', '16000.mmf', '1000.mmf', '30000.mmf', '10000.mmf', '25000.mmf'] and order is 12\n",
      "\u001b[0m\n",
      "*************MMMMM----- Recipe via Meal-Master (tm) v8.05\n",
      " \n",
      "      Title: FRI-DINNER: SESAME CHIVE TORTILLA TRIANGLES\n",
      " Categories: Cyberealm, Mom's best, Appetizers, Snacks\n",
      "      Yield: 15 Servings\n",
      " \n",
      "      2 lg Egg yolks\n",
      "      3 tb To 5 tb olive oil and\n",
      "  heat to 350F & return the frittata out of the dough into 10 portions. Place on greased cookie\n",
      "  sheet, and cover with water, and bring to a\n",
      "  boil, stirring occasionally, about 20 min or until soft, then grind them into\n",
      "  a paste. Heat the puree in a blender.\n",
      "  Blend at high speed about 30 seconds\n",
      "  longer, stopping blender a few times to creape sides, until smooth. Beat in\n",
      "  enough remaining sandwiches as will lie flat in the eggs and milk. Be\n",
      "  sure that the milk with the vanilla, and wine And stir\n",
      "  till it is doubled in size. In a\n",
      "  preheated 375 degree oven for 35 to 40 minutes.\n",
      "  \n",
      "  Serves 4 to 6.\n",
      "  \n",
      "  SOURCE: Southern Living Magazine. Typed for you by\n",
      "  Karen Mintzias.\n",
      " \n",
      "MMMMM\n",
      " \n",
      "MMMMM----- Recipe via Meal-Master (tm) v8.05\n",
      " \n",
      "   \n",
      "\n",
      "\n",
      "recipe number 5:\n",
      "\u001b[1mDatasetis ['22000.mmf', '4000.mmf', '27000.mmf', '7000.mmf', '6000.mmf', '32965.mmf', '17000.mmf', '19000.mmf', '31000.mmf', '12000.mmf', '14000.mmf', '2000.mmf', '29000.mmf', '11000.mmf', '24000.mmf', '21000.mmf', '23000.mmf', '26000.mmf', '28000.mmf', '3000.mmf', '20000.mmf', '16000.mmf', '1000.mmf', '30000.mmf', '10000.mmf', '25000.mmf'] and order is 12\n",
      "\u001b[0m\n",
      "***MMMMM----- Recipe via Meal-Master (tm) v8.05\n",
      " \n",
      "      Title: FRIED EGGPLANT\n",
      " Categories: Fruits, Appetizers\n",
      "      Yield: 10 Servings\n",
      " \n",
      "    1/2 lb Bacon, fried &\n",
      "           -And Cut Into 1-Inch Pieces\n",
      "      1 c  Unsalted butter\n",
      "           -1992)\n",
      "           -diced\n",
      "      3 tb OLd Bay Seasoning, salt,\n",
      "  and garlic powder\n",
      "     32 oz Tomatoes -- chopped\n",
      "  :          in 2\" chunks\n",
      "    1/2 c  Dates; chopped\n",
      "      2    Kiwifruit, peeled and\n",
      "           *gm protein\n",
      "      3 x  *gm carbo\n",
      "    106 x  *mg sodium\n",
      " \n",
      "  combine all the ingredients except 1/2 cup parsley in a large saucepan of boiling salted water. Season\n",
      "  beef with 2 tablespoons of\n",
      "  the fat from the skillet and mash up into a paste. (I use an\n",
      "  old hand potato masher but a perforated spoon and lower into hot oil\n",
      "  SLOWLY and CAREFULLY.  Cover pot checking oil temperature for 1 1/2 hours.  Add the sugar, water,\n",
      "  cornstarch, cinnamon and salt;\n",
      "  mix well.\n",
      "  \n",
      "  5.Cover and chill 10-15 minutes or until tender. Stir in flour. Heat 1/2 to 1\n",
      "\n",
      "\n"
     ]
    }
   ],
   "source": [
    "for num in range(5):\n",
    "    print(f'recipe number {num+1}:')\n",
    "    compare_order(12, train)\n",
    "    print('\\n')"
   ]
  },
  {
   "cell_type": "markdown",
   "metadata": {},
   "source": [
    "Write 3 to 5 observations about the generated samples."
   ]
  },
  {
   "cell_type": "markdown",
   "metadata": {},
   "source": [
    "From the sample above we can see that:\n",
    "\n",
    "Each recipe we get is a bit different, all based on the recieps in the dataset. As we train more time, the result is more accurate, and makes more sense. The last recipe is more similar to a 'real' one, eaventhough there is still work to do untill it will generate a 'human-like' text. We can that in each reciep, there are parts that makes more sense and parts that doesn't make a lot of sense, for example - the text ends in a middle of a sentence. I order to solve it we could give a different order, or, train the model for longer."
   ]
  },
  {
   "cell_type": "markdown",
   "metadata": {},
   "source": [
    "<hr>\n",
    "<hr>\n",
    "<a name=\"P2\"></a>\n",
    "<h2>Part 2: Polynomial Curve Fitting</h2>\n",
    "\n",
    "We reproduce the polynomial curve fitting example used in Bishop's <a href=\"https://www.microsoft.com/en-us/research/people/cmbishop/#!prml-book\">book</a> in Chapter 1.  \n",
    "\n",
    "<a name=\"syntheticdata\"></a>\n",
    "<h3>2.1 Synthetic Dataset Generation</h3>\n",
    "\n",
    "We generate a dataset of points in the form of 2 vectors $x$ and $t$ of size $N$ where:\n",
    "\n",
    "$t_i = y(x_i) + \\mathcal{N}(\\mu, \\sigma)$\n",
    "\n",
    "where:\n",
    "* The $x_i$ values are equi-distant on the $[0 \\dots 1]$ segment (that is, $x_1 = 0, x_2=\\frac{1}{N-1}, x_3=\\frac{2}{N-1}..., x_N = 1.0$)\n",
    "* $\\mu = 0.0$\n",
    "* $\\sigma = 0.03$ \n",
    "* $y(x) = sin(2\\pi \\times x)$"
   ]
  },
  {
   "cell_type": "code",
   "execution_count": 57,
   "metadata": {},
   "outputs": [],
   "source": [
    "def generateDataset(N, f, sigma):\n",
    "    x = np.linspace(0, 1, N)\n",
    "    y = f(x)\n",
    "    return x, y + np.random.normal(mu, sigma)"
   ]
  },
  {
   "cell_type": "markdown",
   "metadata": {},
   "source": [
    "Draw the plot (scatterplot) of (x,t) using matplotlib for N=100.\n",
    "* Look at the documentation of the <a href=\"https://numpy.org/doc/stable/reference/random/generated/numpy.random.Generator.normal.html#numpy.random.Generator.normal\">numpy.random.Generator.normal</a> function in Numpy for an example of usage.\n",
    "* Look at the definition of the function <a href=\"https://numpy.org/doc/stable/reference/generated/numpy.linspace.html#numpy.linspace\">numpy.linspace</a> to generate your dataset.\n"
   ]
  },
  {
   "cell_type": "code",
   "execution_count": 58,
   "metadata": {
    "scrolled": true
   },
   "outputs": [
    {
     "data": {
      "text/plain": [
       "<matplotlib.collections.PathCollection at 0x2609b0e2c40>"
      ]
     },
     "execution_count": 58,
     "metadata": {},
     "output_type": "execute_result"
    },
    {
     "data": {
      "image/png": "[encoded data removed]",
      "text/plain": [
       "<Figure size 432x288 with 1 Axes>"
      ]
     },
     "metadata": {
      "needs_background": "light"
     },
     "output_type": "display_data"
    }
   ],
   "source": [
    "mu = 0.0\n",
    "N = 100\n",
    "\n",
    "# define f(x)=sin(2*pi*x)\n",
    "def f(x):\n",
    "    return np.sin(2*np.pi*x)\n",
    "\n",
    "#plotting\n",
    "x, t = generateDataset(N, f, 0.03)\n",
    "plt.scatter(x, t)"
   ]
  },
  {
   "cell_type": "code",
   "execution_count": 59,
   "metadata": {},
   "outputs": [
    {
     "name": "stdout",
     "output_type": "stream",
     "text": [
      "[1 2 3 4]\n",
      "(4,)\n",
      "[ 1  4  9 16]\n",
      "(4,)\n",
      "[-2.44929360e-16 -4.89858720e-16 -7.34788079e-16 -9.79717439e-16]\n"
     ]
    }
   ],
   "source": [
    "def s(x): return x**2\n",
    "def f(x): return math.sin(2 * math.pi * x)\n",
    "vf = np.vectorize(f)        # Create a vectorized version of f\n",
    "\n",
    "z = np.array([1,2,3,4])\n",
    "print(z)\n",
    "\n",
    "sz = s(z)                   # You can apply simple functions to an array\n",
    "print(sz.shape)             # Same dimension as z (4)\n",
    "print(sz)\n",
    "\n",
    "fz = vf(z)                  # For more complex ones, you must use the vectorized version of f\n",
    "print(fz.shape)\n",
    "print(fz)"
   ]
  },
  {
   "cell_type": "markdown",
   "metadata": {},
   "source": [
    "<a name=\"curvefitting\"></a>\n",
    "<h3>2.2 Polynomial Curve Fitting</h3>\n",
    "\n",
    "We will attempt to learn the function y given a synthetic dataset $(x, t)$.\n",
    "\n",
    "We assume that $y$ is a polynomial of degree $M$ - that is:\n",
    "\n",
    "$y(x) = w_0 + w_1 x + w_2 x^2 + ... + w_M x^M$\n",
    "\n",
    "Our objective is to estimate the vector $w = (w_0 \\dots w_M)$ from the dataset $(x, t)$."
   ]
  },
  {
   "cell_type": "code",
   "execution_count": 60,
   "metadata": {},
   "outputs": [
    {
     "data": {
      "text/plain": [
       "(2,)"
      ]
     },
     "execution_count": 60,
     "metadata": {},
     "output_type": "execute_result"
    }
   ],
   "source": [
    "import numpy as np\n",
    "import scipy.linalg\n",
    "\n",
    "t = np.array([1,2,3,4])                    # This is a vector of dim 4\n",
    "t.shape                                    # (4,)\n",
    "phi = np.array([[1,1],[2,4],[3,3],[2,4]])  # This is a 4x2 matrix\n",
    "phi.shape                                  # (4, 2) \n",
    "prod = np.dot(phi.T, phi)                  # prod is a 2x2 matrix\n",
    "prod.shape                                 # (2, 2)\n",
    "i = np.linalg.inv(prod)                    # i is a 2x2 matrix\n",
    "i.shape                                    # (2, 2)\n",
    "m = np.dot(i, phi.T)                       # m is a 2x4 matrix\n",
    "m.shape                                    # (2, 4)\n",
    "w = np.dot(m, t)                           # w is a vector of dim 2\n",
    "w.shape                                    # (2,)"
   ]
  },
  {
   "cell_type": "markdown",
   "metadata": {},
   "source": [
    "We implement a method <b>optimizeLS(x, t, M)</b> which given the dataset $(x, t)$ returns the optimal polynomial of degree $M$ that approximates the dataset according to the least squares objective. "
   ]
  },
  {
   "cell_type": "code",
   "execution_count": 61,
   "metadata": {},
   "outputs": [],
   "source": [
    "def compute_matrix(x, M):\n",
    "    arr = np.zeros([len(x), M+1], dtype=float)\n",
    "    for i in range(len(x)):\n",
    "        for m in range(M+1):\n",
    "            arr[i, m] = x[i] ** m\n",
    "    return arr\n",
    "\n",
    "def optimizeLS(x, t, M):\n",
    "    phi = compute_matrix(x, M)\n",
    "    prod = np.dot(phi.T, phi)\n",
    "    i = np.linalg.inv(prod)\n",
    "    m = np.dot(i, phi.T)\n",
    "    w = np.dot(m, t)\n",
    "    return w\n",
    "\n",
    "def polynomial(w, x_i, M):\n",
    "    res = 0\n",
    "    for i in range(M+1):\n",
    "        res += w[i] * (x_i ** i)\n",
    "    return res"
   ]
  },
  {
   "cell_type": "markdown",
   "metadata": {},
   "source": [
    "We now plot the learned polynomial $w_M(x_i)$ and the real function $sin(2πx)$ for a dataset of size $N=10$ and $M=1,3,5,10$.\n"
   ]
  },
  {
   "cell_type": "code",
   "execution_count": 62,
   "metadata": {},
   "outputs": [
    {
     "data": {
      "image/png": "[encoded data removed]",
      "text/plain": [
       "<Figure size 432x288 with 1 Axes>"
      ]
     },
     "metadata": {
      "needs_background": "light"
     },
     "output_type": "display_data"
    }
   ],
   "source": [
    "N = 10\n",
    "M = [1, 3, 5, 10]\n",
    "def f(x):return np.sin(2*np.pi*x)\n",
    "x,t = generateDataset(N, f, 0.03)\n",
    "\n",
    "for m in M:\n",
    "    w = optimizeLS(x,t, m)\n",
    "    y = polynomial(w, x, m)\n",
    "    line1 = plt.plot(x, y,label=('M= '+str(m)))\n",
    "    line2 = plt.plot(x,t)\n",
    "    plt.legend()\n",
    "\n",
    "plt.show()"
   ]
  },
  {
   "cell_type": "markdown",
   "metadata": {},
   "source": [
    "let's try to plot each graph seperately to get more information"
   ]
  },
  {
   "cell_type": "code",
   "execution_count": 63,
   "metadata": {},
   "outputs": [
    {
     "data": {
      "image/png": "[encoded data removed]",
      "text/plain": [
       "<Figure size 432x288 with 1 Axes>"
      ]
     },
     "metadata": {
      "needs_background": "light"
     },
     "output_type": "display_data"
    },
    {
     "data": {
      "image/png": "[encoded data removed]",
      "text/plain": [
       "<Figure size 432x288 with 1 Axes>"
      ]
     },
     "metadata": {
      "needs_background": "light"
     },
     "output_type": "display_data"
    },
    {
     "data": {
      "image/png": "[encoded data removed]",
      "text/plain": [
       "<Figure size 432x288 with 1 Axes>"
      ]
     },
     "metadata": {
      "needs_background": "light"
     },
     "output_type": "display_data"
    },
    {
     "data": {
      "image/png": "[encoded data removed]",
      "text/plain": [
       "<Figure size 432x288 with 1 Axes>"
      ]
     },
     "metadata": {
      "needs_background": "light"
     },
     "output_type": "display_data"
    }
   ],
   "source": [
    "N = 10\n",
    "M = [1, 3, 5, 10]\n",
    "def f(x):return np.sin(2*np.pi*x)\n",
    "x,t = generateDataset(N, f, 0.03)\n",
    "\n",
    "for num in M:\n",
    "    w = optimizeLS(x,t, num)\n",
    "    y = polynomial(w, x, num)\n",
    "    line1 = plt.plot(x, y)\n",
    "    line2 = plt.plot(x,t)\n",
    "    plt.title('M= '+str(num))\n",
    "    plt.show()"
   ]
  },
  {
   "cell_type": "markdown",
   "metadata": {},
   "source": [
    "We can tell that when M=5 we get overfitting!"
   ]
  },
  {
   "cell_type": "markdown",
   "metadata": {},
   "source": [
    "<a name=\"regularization\"></a>\n",
    "<h3>2.3 Polynomial Curve Fitting with Regularization</h3>\n",
    "\n",
    "We observe in the plot above that the solution to the least-squares optimization has a tendency to over-fit the dataset.\n",
    "\n",
    "To avoid over-fitting, we will use <i>regularization</i>: the objective function we want to optimize will take into account the least-squares error as above, and in addition the complexity of the learned model $w$."
   ]
  },
  {
   "cell_type": "markdown",
   "metadata": {},
   "source": [
    "We write a function <b>optimizePLS(x, t, M, lambda)</b> which returns the optimal parameters $w_{PLS}$ given $M$ and $\\lambda$."
   ]
  },
  {
   "cell_type": "code",
   "execution_count": 64,
   "metadata": {},
   "outputs": [],
   "source": [
    "def optimizePLS(x, t, M, lamb):\n",
    "    phi = compute_matrix(x, M)\n",
    "    tmp = np.dot(phi.T, phi)\n",
    "    prod = tmp + (lamb * np.eye(int(M+1)))\n",
    "    i = np.linalg.inv(prod)\n",
    "    m = np.dot(i, phi.T)\n",
    "    w = np.dot(m, t)\n",
    "    return w"
   ]
  },
  {
   "cell_type": "markdown",
   "metadata": {},
   "source": [
    "We want to optimize the value of λ. The way to optimize is to use a development set in addition to our training set.\n",
    "\n",
    "To construct a development set, we extend our synthetic dataset construction function to return 3 samples:\n",
    "* one for training, \n",
    "* one for development \n",
    "* and one for testing"
   ]
  },
  {
   "cell_type": "code",
   "execution_count": 65,
   "metadata": {},
   "outputs": [],
   "source": [
    "# return xt,tt,vx,vt,xtst,vtst\n",
    "def generateDataset3(N, f, sigma):\n",
    "    x, t1 = generateDataset(N, f, sigma)\n",
    "    x, t2 = generateDataset(N, f, sigma)\n",
    "    x, t3 = generateDataset(N, f, sigma)\n",
    "    list_tuple = {}\n",
    "    for index in range(len(x)):\n",
    "        list_tuple[x[index]] = [t1[index], t2[index], t3[index]]\n",
    "        np.random.shuffle(list_tuple[x[index]])\n",
    "\n",
    "    train = {}\n",
    "    valid = {}\n",
    "    test = {}\n",
    "    for index in range(len(list_tuple)):\n",
    "        train[x[index]] = list_tuple[x[index]][0]\n",
    "        valid[x[index]] = list_tuple[x[index]][1]\n",
    "        test[x[index]] = list_tuple[x[index]][2]\n",
    "    \n",
    "    return  np.fromiter(train.keys(),dtype=float), np.fromiter(train.values(),dtype=float)\\\n",
    "    ,np.fromiter(valid.keys(),dtype=float), np.fromiter(valid.values(),dtype=float)\\\n",
    "    , np.fromiter( test.keys(),dtype=float), np.fromiter(test.values(),dtype=float)\n"
   ]
  },
  {
   "cell_type": "code",
   "execution_count": 66,
   "metadata": {},
   "outputs": [
    {
     "name": "stdout",
     "output_type": "stream",
     "text": [
      "\u001b[1mxt:\u001b[0m\n",
      "[0.         0.11111111 0.22222222 0.33333333 0.44444444 0.55555556\n",
      " 0.66666667 0.77777778 0.88888889 1.        ]\n",
      "\u001b[1mtt:\u001b[0m\n",
      "[ 0.03360034  0.63611201  1.01840809  0.89962574  0.33534454 -0.34869574\n",
      " -0.79028925 -0.99148335 -0.56705145  0.07573616]\n",
      "\u001b[1mxv:\u001b[0m\n",
      "[0.         0.11111111 0.22222222 0.33333333 0.44444444 0.55555556\n",
      " 0.66666667 0.77777778 0.88888889 1.        ]\n",
      "\u001b[1mtv:\u001b[0m\n",
      "[ 0.07573616  0.71852376  1.06054391  0.8593498   0.4177563  -0.30841981\n",
      " -0.83242507 -0.9090716  -0.64946321 -0.0066756 ]\n",
      "\u001b[1mxtst:\u001b[0m\n",
      "[0.         0.11111111 0.22222222 0.33333333 0.44444444 0.55555556\n",
      " 0.66666667 0.77777778 0.88888889 1.        ]\n",
      "\u001b[1mttst:\u001b[0m\n",
      "[-0.0066756   0.67638795  0.97813215  0.94176156  0.37562048 -0.26628399\n",
      " -0.872701   -0.95120742 -0.60918727  0.03360034]\n"
     ]
    }
   ],
   "source": [
    "N = 10\n",
    "M = 10\n",
    "xt,tt,xv,tv,xtst,ttst = generateDataset3(N, f, 0.03)\n",
    "\n",
    "print(make_bold ('xt:'),xt \\\n",
    "      ,make_bold ('tt:'),tt \\\n",
    "      ,make_bold ('xv:'),xv \\\n",
    "      ,make_bold ('tv:'),tv \\\n",
    "      ,make_bold ('xtst:'),xtst \\\n",
    "      ,make_bold ('ttst:'),ttst \\\n",
    "      ,sep='\\n')\n"
   ]
  },
  {
   "cell_type": "markdown",
   "metadata": {},
   "source": [
    "Given a synthetic dataset, we optimize for the value of λ by varying the value of log(λ) from -40 to -20 on the development set. "
   ]
  },
  {
   "cell_type": "code",
   "execution_count": 67,
   "metadata": {},
   "outputs": [],
   "source": [
    "def normalized_error(x, t, N, M):\n",
    "    # the indexes in the array are by the log result + 40\n",
    "    # log(x) = -40 => errors_arr[0] = error_for_x\n",
    "    errors = []\n",
    "    for num in range(-40, -19):\n",
    "        # get pls with lambda=2^num \n",
    "        w = optimizePLS(x, t, M, 2**num)\n",
    "        # create the polynom\n",
    "        pol_res = polynomial(w, x, M)\n",
    "        #the error is L2\n",
    "        error = float((math.sqrt(sum(pow((t - pol_res), 2)))) / N)\n",
    "        errors.append(error)\n",
    "    \n",
    "    min_arg = np.argmin(errors)-40\n",
    "    lamb = 2**float(min_arg)\n",
    "    lambdas= [2**i for i in range(-40,-19)]\n",
    "    plt.plot(lambdas,errors)\n",
    "\n",
    "    plt.title(\"labmbda Vs.error\")\n",
    "    \n",
    "    return lamb\n"
   ]
  },
  {
   "cell_type": "code",
   "execution_count": 68,
   "metadata": {},
   "outputs": [],
   "source": [
    "def optimizePLS2(xt, tt, xv, tv, M):\n",
    "    return normalized_error(xv, tv, len(tv), M)\n",
    "    "
   ]
  },
  {
   "cell_type": "code",
   "execution_count": 69,
   "metadata": {},
   "outputs": [
    {
     "data": {
      "image/png": "[encoded data removed]",
      "text/plain": [
       "<Figure size 432x288 with 1 Axes>"
      ]
     },
     "metadata": {
      "needs_background": "light"
     },
     "output_type": "display_data"
    }
   ],
   "source": [
    "N = 10\n",
    "M = 3\n",
    "xt,tt,xv,tv,xtst,ttst = generateDataset3(N, f, 0.03)\n",
    "lamb = optimizePLS2(xt, tt, xv, tv, M)"
   ]
  },
  {
   "cell_type": "code",
   "execution_count": 70,
   "metadata": {},
   "outputs": [
    {
     "data": {
      "image/png": "[encoded data removed]",
      "text/plain": [
       "<Figure size 432x288 with 1 Axes>"
      ]
     },
     "metadata": {
      "needs_background": "light"
     },
     "output_type": "display_data"
    },
    {
     "data": {
      "image/png": "[encoded data removed]",
      "text/plain": [
       "<Figure size 432x288 with 1 Axes>"
      ]
     },
     "metadata": {
      "needs_background": "light"
     },
     "output_type": "display_data"
    },
    {
     "data": {
      "image/png": "[encoded data removed]",
      "text/plain": [
       "<Figure size 432x288 with 1 Axes>"
      ]
     },
     "metadata": {
      "needs_background": "light"
     },
     "output_type": "display_data"
    }
   ],
   "source": [
    "N = 10\n",
    "M = 3\n",
    "xt,tt,xv,tv,xtst,ttst = generateDataset3(N, f, 0.03)\n",
    "lamb=optimizePLS2(xt, tt, xv, tv, M)\n",
    "\n",
    "def plot_polynom(x,t,M,lamb,title,N):\n",
    "    w= optimizePLS(x,t,M,lamb)\n",
    "    y = polynomial(w,x, M)\n",
    "    plt.title(f\"{title},N={N}\")\n",
    "    line1 = plt.plot(x, y)\n",
    "    line2 = plt.plot(x, t)\n",
    "    plt.legend(['f(x)','t'])\n",
    "    plt.show()\n",
    "\n",
    "    \n",
    "plot_polynom(xt,tt,M,lamb,'train',N)\n",
    "plot_polynom(xv,tv,M,lamb,'valid',N)\n",
    "plot_polynom(xtst,ttst,M,lamb,'test',N)"
   ]
  },
  {
   "cell_type": "markdown",
   "metadata": {},
   "source": [
    "This is a pretty good gob!"
   ]
  },
  {
   "cell_type": "markdown",
   "metadata": {},
   "source": [
    "<a name=\"prob-regr\"></a>\n",
    "<h3>2.4 Probabilistic Regression Framework</h3>\n",
    "\n",
    "We now consider the same problem of regression (learning a function from a dataset) formulated in a probabilistic framework."
   ]
  },
  {
   "cell_type": "code",
   "execution_count": 71,
   "metadata": {},
   "outputs": [],
   "source": [
    "def bayesianEstimator(x_bold, t, M, alpha, sigma2):\n",
    "    phi_x = compute_matrix(x_bold, M)\n",
    "    phi_x = phi_x.T\n",
    "    prod = np.dot(phi_x, phi_x.T)\n",
    "    s_matrix_inv = alpha * np.eye(M + 1) + (1 / sigma2) * prod\n",
    "    s_matrix = np.linalg.inv(s_matrix_inv)\n",
    "\n",
    "    def var(x):\n",
    "        x=np.array([x])\n",
    "        tmp_matrix_x = compute_matrix(x, M)\n",
    "        return sigma2 + np.linalg.multi_dot([tmp_matrix_x, s_matrix, tmp_matrix_x.T])\n",
    "\n",
    "    def mean(x):\n",
    "        x=np.array([x])\n",
    "        tmp_matrix_x = compute_matrix(x, M)\n",
    "        return (1/sigma2) * np.linalg.multi_dot([tmp_matrix_x, s_matrix, phi_x, t])\n",
    "\n",
    "    return var,mean"
   ]
  },
  {
   "cell_type": "markdown",
   "metadata": {},
   "source": [
    "We draw the plot of the original function $y = sin(2πx)$ over the range $[0 \\dots 1]$, the mean of the predictive distribution $m(x)$ and the confidence interval $m(x) - \\sqrt{var(x)}$ and $m(x) + \\sqrt{var(x)}$ (that is, one standard deviation around each predicted point) for the values:\n",
    "* $\\alpha = 0.005$\n",
    "* $\\sigma^2 = 1/11.1$\n",
    "* $M = 9$\n",
    "\n",
    "over a synthetic dataset of size $N=10$ and $N=100$."
   ]
  },
  {
   "cell_type": "code",
   "execution_count": 72,
   "metadata": {},
   "outputs": [
    {
     "data": {
      "image/png": "[encoded data removed]",
      "text/plain": [
       "<Figure size 432x288 with 1 Axes>"
      ]
     },
     "metadata": {
      "needs_background": "light"
     },
     "output_type": "display_data"
    }
   ],
   "source": [
    "## Draw the plot\n",
    "N = 10\n",
    "M = 9\n",
    "x, t = generateDataset(N, f, math.sqrt(1/11.1))\n",
    "x=np.array(x)\n",
    "var,mean = bayesianEstimator(x, t, M, 0.005, 1/11.1)\n",
    "var=np.vectorize(var)\n",
    "mean =np.vectorize(mean)\n",
    "\n",
    "f1=mean(x)-np.sqrt(var(x))\n",
    "f2=mean(x)+np.sqrt(var(x))\n",
    "\n",
    "plt.title(\"N=10\")\n",
    "plt.plot(x, f(x),label='f(x)',color='orange')\n",
    "plt.plot(x,mean(x),label='mean',color='g')\n",
    "plt.scatter(x, t, facecolors='none',edgecolors='b',s=50,label='t')\n",
    "plt.fill_between(x,f1,f2, color='r', alpha=.1)\n",
    "plt.legend()\n",
    "\n",
    "plt.show()"
   ]
  },
  {
   "cell_type": "code",
   "execution_count": 73,
   "metadata": {},
   "outputs": [
    {
     "data": {
      "image/png": "[encoded data removed]",
      "text/plain": [
       "<Figure size 432x288 with 1 Axes>"
      ]
     },
     "metadata": {
      "needs_background": "light"
     },
     "output_type": "display_data"
    }
   ],
   "source": [
    "## Draw the plot\n",
    "N = 40\n",
    "M = 5\n",
    "x, t = generateDataset(N, f, math.sqrt(1/11.1))\n",
    "x=np.array(x)\n",
    "var,mean = bayesianEstimator(x, t, M, 0.005, 1/11.1)\n",
    "var=np.vectorize(var)\n",
    "mean =np.vectorize(mean)\n",
    "\n",
    "f1=mean(x)-np.sqrt(var(x))\n",
    "f2=mean(x)+np.sqrt(var(x))\n",
    "\n",
    "plt.title(\"N=100\")\n",
    "plt.plot(x, f(x),label='f(x)',color='orange')\n",
    "plt.plot(x,mean(x),label='mean',color='g')\n",
    "plt.scatter(x, t, facecolors='none',edgecolors='b',s=50,label='t')\n",
    "plt.fill_between(x,f1,f2, color='r', alpha=.1)\n",
    "plt.legend()\n",
    "\n",
    "plt.show()"
   ]
  },
  {
   "cell_type": "markdown",
   "metadata": {},
   "source": [
    "Interpret the height of the band around the most likely function in terms of the distribution of the xs in your synthetic dataset.\n",
    "Can you think of ways to make this height very small in one segment of the function and large in another?"
   ]
  },
  {
   "cell_type": "markdown",
   "metadata": {},
   "source": [
    "<hr/>\n",
    "<hr/>\n",
    "<a name=\"P3\"></a>\n",
    "<h2>Part 3: Neural Models for Classification</h2>\n",
    "\n",
    "In this section, we adopt the PyTorch tutorial on \n",
    "<a href=\"https://pytorch.org/tutorials/intermediate/char_rnn_classification_tutorial.html\">Character RNN for classification</a>\n",
    "to a different dataset.\n",
    "\n",
    "<a name=\"readtut\"></a>\n",
    "<h3>3.1 Summarize the Tutorial</h3>\n",
    "\n",
    "We summarize the <a href=\"https://pytorch.org/tutorials/intermediate/char_rnn_classification_tutorial.html\">PyTorch tutorial</a>:\n",
    "The task discussed in this article is build and train a basic character level RNN to classify words. Module is built with 2 linear layers to operate on the input and hidden state, with LogSoftmax layer on the output.\n",
    "The network receive input -words (refer to it as a series of characters). Each layer gets the output of the previous layer as its input, the final output is a prediction (probability)– to which class a word belongs. This is done by training the network with thousands of surnames from 18 different languages. Then, the network would predict what is the base language base of a name, based on the spelling.\n",
    "To encode we take text files with names, then split into lines and converted from Unicode to ascii. Then, create a dictionary mapping category (language) to list of lines (names).\n",
    "Then, data is turned to tensors – with \"one-hot\" vector. A vector size is number_of_letters. To represent a word, few vectors are bunched together into a 2D matrix, \n",
    "(length_of_line ˟ number_of_letters).\n",
    "Loss function – nn.NLLLoss (last layer in RNN is nn.LogSoftmax)\n",
    "\n",
    "$L(x,y)=L=l_1,…,l_N^⊤,l_n=-w_(y_n ) x_(n,y_n ),w_c=weight[c]·1{c≠ignore_index}$\n",
    "\n",
    "Evaluation- each loop in train process: \n",
    "•\tCreate input+ target tensors\n",
    "\n",
    "•\tCreate zeroed initial hidden state\n",
    "\n",
    "•\tRead each letter in&\n",
    "\n",
    "       o\tKeep hidden state for next letter\n",
    "\n",
    "•\tCompare final output to target\n",
    "\n",
    "•\tBack-propagate\n",
    "\n",
    "•\tReturn the output & loss\n",
    "\n",
    "Results: a confusion matrix represent how network performs on different categories. For every language, which language the network guessed. Build matrix: like the train process but without the backprop. At the end we can see for each language how accurate the network guesses are, between 0 and 1.\n",
    "\n",
    "\n",
    "(Reading <a href=\"https://pytorch.org/tutorials/beginner/blitz/tensor_tutorial.html\">PyTorch Tensor Tutorial</a> helps)"
   ]
  },
  {
   "cell_type": "markdown",
   "metadata": {},
   "source": [
    "<a name=\"newdata\"></a>\n",
    "<h3>3.2 Explore City Names Dataset</h3>\n",
    "\n",
    "We use a dataset on city names in different countries to train a classifier.\n",
    "\n",
    "The data from <a href=\"cities_val.zip\">cities_val.zip</a> (validation) and <a href=\"cities_train.zip\">cities_train.zip</a> (training)\n",
    "is under \"../data/cities/val\" and \"../data/cities/train\".\n"
   ]
  },
  {
   "cell_type": "code",
   "execution_count": 74,
   "metadata": {},
   "outputs": [],
   "source": [
    "import codecs\n",
    "import math\n",
    "import random\n",
    "import string\n",
    "import time\n",
    "import numpy as np\n",
    "from sklearn.metrics import accuracy_score\n",
    "\n",
    "'''\n",
    "Don't change these constants for the classification task.\n",
    "You may use different copies for the sentence generation model.\n",
    "'''\n",
    "languages = [\"af\", \"cn\", \"de\", \"fi\", \"fr\", \"in\", \"ir\", \"pk\", \"za\"]\n",
    "all_letters = string.ascii_letters + \" .,;'\"\n",
    "n_letters = len(all_letters)\n",
    "\n",
    "import unicodedata\n",
    "\n",
    "# Turn a Unicode string to plain ASCII, thanks to https://stackoverflow.com/a/518232/2809427\n",
    "def unicodeToAscii(s):\n",
    "    return ''.join(\n",
    "        c for c in unicodedata.normalize('NFD', s)\n",
    "        if unicodedata.category(c) != 'Mn'\n",
    "        and c in all_letters\n",
    "    )\n",
    "\n",
    "# print(unicodeToAscii('Ślusàrski'))\n",
    "\n",
    "# Build the category_lines dictionary, a list of names per language\n",
    "category_lines = {}\n",
    "all_categories = []\n",
    "\n",
    "# Read a file and split into lines\n",
    "def readLines(filename):\n",
    "    lines = codecs.open(filename, \"r\",encoding='utf-8', errors='ignore').read().strip().split('\\n')\n",
    "    return [unicodeToAscii(line) for line in lines]"
   ]
  },
  {
   "cell_type": "markdown",
   "metadata": {},
   "source": [
    "Explore the train dataset by computing basic descriptive statistics:\n",
    "number of categories, tokens per category, number of characters, distinct characters, average number of characters per token.\n",
    "\n",
    "Explain why the unicodeToAscii is a good idea for this task."
   ]
  },
  {
   "cell_type": "markdown",
   "metadata": {},
   "source": [
    "unicodeToAscii is a good idea for this task because we wnt to remove accents, meaning normalize the input text. In that way we keep the text 'clean' from any different signs besides the letter (and spaces). unicodedata module defines character properties for all Unicode characters. normalize - Return the normal form form for a Unicode string. category - Returns the general category assigned to the character chr as string."
   ]
  },
  {
   "cell_type": "code",
   "execution_count": 75,
   "metadata": {},
   "outputs": [
    {
     "name": "stdout",
     "output_type": "stream",
     "text": [
      "\u001b[1mnumber of characters in files:\u001b[0m\n",
      "\u001b[4m\taf:\u001b[0m 35536\n",
      "\u001b[4m\tcn:\u001b[0m 31945\n",
      "\u001b[4m\tde:\u001b[0m 40376\n",
      "\u001b[4m\tfi:\u001b[0m 34036\n",
      "\u001b[4m\tfr:\u001b[0m 36447\n",
      "\u001b[4m\tin:\u001b[0m 36990\n",
      "\u001b[4m\tir:\u001b[0m 36171\n",
      "\u001b[4m\tpk:\u001b[0m 37560\n",
      "\u001b[4m\tza:\u001b[0m 36109\n",
      "\u001b[1m\n",
      "number of categories:\u001b[0m 9\n",
      "\u001b[1m\n",
      "number of tokens in catgory:\u001b[0m\n",
      "\u001b[4m\taf:\u001b[0m 3000\n",
      "\u001b[4m\tcn:\u001b[0m 3000\n",
      "\u001b[4m\tde:\u001b[0m 3000\n",
      "\u001b[4m\tfi:\u001b[0m 3000\n",
      "\u001b[4m\tfr:\u001b[0m 3000\n",
      "\u001b[4m\tin:\u001b[0m 3000\n",
      "\u001b[4m\tir:\u001b[0m 3000\n",
      "\u001b[4m\tpk:\u001b[0m 3000\n",
      "\u001b[4m\tza:\u001b[0m 3000\n",
      "\u001b[1m\n",
      "number of characters in all files\u001b[0m 325170\n",
      "\u001b[1mnumber of distinct characters: \u001b[0m 29\n",
      "\u001b[1maverage number of characters per token:\u001b[0m 12.043333333333333\n"
     ]
    }
   ],
   "source": [
    "# Compute statistics over cities dataset\n",
    "import glob\n",
    "import os\n",
    "\n",
    "def findFiles(path):\n",
    "    return glob.glob(path)\n",
    "\n",
    "chars_statistic={}\n",
    "tokens_statistic={}\n",
    "all_data = \"\"\n",
    "print(make_bold('number of characters in files:'))\n",
    "for filename in findFiles('../data/cities/train/*.txt'):\n",
    "    category = os.path.splitext(os.path.basename(filename))[0]\n",
    "    all_categories.append(category)\n",
    "    lines = readLines(filename)\n",
    "    data = ' '.join(lines)\n",
    "    chars_statistic[category]=len(data)\n",
    "    print(make_underline(f'\\t{category}:'),len(data))\n",
    "    all_data += data\n",
    "    category_lines[category] = lines\n",
    "\n",
    "n_categories = len(set(all_categories))\n",
    "print(make_bold('\\nnumber of categories:'),n_categories)\n",
    "\n",
    "toknes_num = 0\n",
    "print(make_bold('\\nnumber of tokens in catgory:'))\n",
    "\n",
    "for c in category_lines:\n",
    "    # number of rows in each file\n",
    "    tokens_statistic[c]=len(category_lines[c])\n",
    "    print(make_underline(f'\\t{c}:'),len(category_lines[c]))\n",
    "    toknes_num += len(category_lines[c])\n",
    "\n",
    "len_char=len(all_data)\n",
    "print(make_bold('\\nnumber of characters in all files'),len_char)\n",
    "\n",
    "dist_char = set(all_data)\n",
    "print(make_bold('number of distinct characters: '),len(dist_char))\n",
    "\n",
    "print(make_bold('average number of characters per token:'),(len_char/toknes_num))"
   ]
  },
  {
   "cell_type": "code",
   "execution_count": 76,
   "metadata": {},
   "outputs": [
    {
     "data": {
      "image/png": "[encoded data removed]",
      "text/plain": [
       "<Figure size 432x288 with 1 Axes>"
      ]
     },
     "metadata": {
      "needs_background": "light"
     },
     "output_type": "display_data"
    },
    {
     "data": {
      "image/png": "[encoded data removed]",
      "text/plain": [
       "<Figure size 432x288 with 1 Axes>"
      ]
     },
     "metadata": {
      "needs_background": "light"
     },
     "output_type": "display_data"
    }
   ],
   "source": [
    "plt.bar(chars_statistic.keys(),chars_statistic.values())\n",
    "plt.title('number of characters in files:')\n",
    "plt.show()\n",
    "plt.bar(tokens_statistic.keys(),tokens_statistic.values())\n",
    "plt.title('number of tokens  in files:')\n",
    "plt.show()"
   ]
  },
  {
   "cell_type": "markdown",
   "metadata": {},
   "source": [
    "<a name=\"citiesmodel\"></a>\n",
    "<h3>3.3 Train a Model and Evaluate It</h3>\n",
    "\n",
    "Adopt the code of the PyTorch tutorial to run on this new dataset.\n",
    "\n",
    "Report on performance in a similar manner.  Explain the main confusion cases observed in the confusion matrix."
   ]
  },
  {
   "cell_type": "code",
   "execution_count": 77,
   "metadata": {},
   "outputs": [
    {
     "name": "stdout",
     "output_type": "stream",
     "text": [
      "tensor([[0., 0., 0., 0., 0., 0., 0., 0., 0., 0., 0., 0., 0., 0., 0., 0., 0., 0.,\n",
      "         0., 0., 0., 0., 0., 0., 0., 0., 0., 0., 0., 0., 0., 0., 0., 0., 0., 1.,\n",
      "         0., 0., 0., 0., 0., 0., 0., 0., 0., 0., 0., 0., 0., 0., 0., 0., 0., 0.,\n",
      "         0., 0., 0.]])\n",
      "torch.Size([5, 1, 57])\n"
     ]
    }
   ],
   "source": [
    "import torch\n",
    "\n",
    "# Find letter index from all_letters, e.g. \"a\" = 0\n",
    "def letterToIndex(letter):\n",
    "    return all_letters.find(letter)\n",
    "\n",
    "# Just for demonstration, turn a letter into a <1 x n_letters> Tensor\n",
    "def letterToTensor(letter):\n",
    "    tensor = torch.zeros(1, n_letters)\n",
    "    tensor[0][letterToIndex(letter)] = 1\n",
    "    return tensor\n",
    "\n",
    "# Turn a line into a <line_length x 1 x n_letters>,\n",
    "# or an array of one-hot letter vectors\n",
    "def lineToTensor(line):\n",
    "    tensor = torch.zeros(len(line), 1, n_letters)\n",
    "    for li, letter in enumerate(line):\n",
    "        tensor[li][0][letterToIndex(letter)] = 1\n",
    "    return tensor\n",
    "\n",
    "print(letterToTensor('J'))\n",
    "print(lineToTensor('Jones').size())"
   ]
  },
  {
   "cell_type": "code",
   "execution_count": 78,
   "metadata": {},
   "outputs": [],
   "source": [
    "import torch.nn as nn\n",
    "\n",
    "class RNN(nn.Module):\n",
    "    def __init__(self, input_size, hidden_size, output_size):\n",
    "        super(RNN, self).__init__()\n",
    "\n",
    "        self.hidden_size = hidden_size\n",
    "\n",
    "        self.i2h = nn.Linear(input_size + hidden_size, hidden_size)\n",
    "        self.i2o = nn.Linear(input_size + hidden_size, output_size)\n",
    "        self.softmax = nn.LogSoftmax(dim=1)\n",
    "\n",
    "    def forward(self, input, hidden):\n",
    "        combined = torch.cat((input, hidden), 1)\n",
    "        hidden = self.i2h(combined)\n",
    "        output = self.i2o(combined)\n",
    "        output = self.softmax(output)\n",
    "        return output, hidden\n",
    "\n",
    "    def initHidden(self):\n",
    "        return torch.zeros(1, self.hidden_size)\n",
    "\n",
    "n_hidden = 128\n",
    "rnn = RNN(n_letters, n_hidden, n_categories)"
   ]
  },
  {
   "cell_type": "code",
   "execution_count": 79,
   "metadata": {},
   "outputs": [
    {
     "data": {
      "text/plain": [
       "tensor([[-2.2100, -2.2274, -2.2270, -2.2510, -2.1579, -2.2302, -2.3114, -2.0909,\n",
       "         -2.0909]], grad_fn=<LogSoftmaxBackward>)"
      ]
     },
     "execution_count": 79,
     "metadata": {},
     "output_type": "execute_result"
    }
   ],
   "source": [
    "input = letterToTensor('c')\n",
    "hidden =torch.zeros(1, n_hidden)\n",
    "\n",
    "output, next_hidden = rnn(input, hidden)\n",
    "output"
   ]
  },
  {
   "cell_type": "code",
   "execution_count": 80,
   "metadata": {},
   "outputs": [
    {
     "data": {
      "text/plain": [
       "tensor([[-2.2816, -2.1456, -2.1372, -2.2121, -2.1757, -2.2624, -2.2268, -2.1625,\n",
       "         -2.1813]], grad_fn=<LogSoftmaxBackward>)"
      ]
     },
     "execution_count": 80,
     "metadata": {},
     "output_type": "execute_result"
    }
   ],
   "source": [
    "input = lineToTensor('Chongjingdong')\n",
    "hidden = torch.zeros(1, n_hidden)\n",
    "\n",
    "output, next_hidden = rnn(input[0], hidden)\n",
    "output"
   ]
  },
  {
   "cell_type": "code",
   "execution_count": 81,
   "metadata": {},
   "outputs": [
    {
     "data": {
      "text/plain": [
       "('de', 2)"
      ]
     },
     "execution_count": 81,
     "metadata": {},
     "output_type": "execute_result"
    }
   ],
   "source": [
    "def categoryFromOutput(output):\n",
    "    top_n, top_i = output.topk(1)\n",
    "    category_i = top_i[0].item()\n",
    "    return all_categories[category_i], category_i\n",
    "\n",
    "categoryFromOutput(output)"
   ]
  },
  {
   "cell_type": "code",
   "execution_count": 82,
   "metadata": {
    "scrolled": true
   },
   "outputs": [
    {
     "name": "stdout",
     "output_type": "stream",
     "text": [
      "category = cn / line = ladengxoi\n",
      "category = de / line = trebitz\n",
      "category = fr / line = bailleul\n",
      "category = cn / line = xincunyi\n",
      "category = pk / line = manda chok\n",
      "category = af / line = shagul kala\n",
      "category = fr / line = les dourbettes\n",
      "category = za / line = hazzan\n",
      "category = de / line = deglene\n",
      "category = in / line = obertunding\n"
     ]
    }
   ],
   "source": [
    "import random\n",
    "\n",
    "def randomChoice(l):\n",
    "    return l[random.randint(0, len(l) - 1)]\n",
    "\n",
    "def randomTrainingExample():\n",
    "    category = randomChoice(all_categories)\n",
    "    line = randomChoice(category_lines[category])\n",
    "    category_tensor = torch.tensor([all_categories.index(category)], dtype=torch.long)\n",
    "    line_tensor = lineToTensor(line)\n",
    "    return category, line, category_tensor, line_tensor\n",
    "\n",
    "for i in range(10):\n",
    "    category, line, category_tensor, line_tensor = randomTrainingExample()\n",
    "    print('category =', category, '/ line =', line)"
   ]
  },
  {
   "cell_type": "code",
   "execution_count": 83,
   "metadata": {},
   "outputs": [],
   "source": [
    "criterion = nn.NLLLoss()\n",
    "learning_rate = 0.001 # If you set this too high, it might explode. If too low, it might not learn\n",
    "\n",
    "def train(category_tensor, line_tensor):\n",
    "    hidden = rnn.initHidden()\n",
    "    rnn.zero_grad()\n",
    "\n",
    "    for i in range(line_tensor.size()[0]):\n",
    "        output, hidden = rnn(line_tensor[i], hidden)\n",
    "\n",
    "    loss = criterion(output, category_tensor)\n",
    "    loss.backward()\n",
    "\n",
    "    # Add parameters' gradients to their values, multiplied by learning rate\n",
    "    for p in rnn.parameters():\n",
    "        p.data.add_(p.grad.data, alpha=-learning_rate)\n",
    "\n",
    "    return output, loss.item()"
   ]
  },
  {
   "cell_type": "code",
   "execution_count": 84,
   "metadata": {},
   "outputs": [
    {
     "name": "stdout",
     "output_type": "stream",
     "text": [
      "5000 5% (0m 38s) 2.2494 dehmazin / cn ✗ (de)\n",
      "10000 10% (0m 53s) 2.1956 el ghadenia / fi ✗ (de)\n",
      "15000 15% (1m 7s) 2.1704 mellac / pk ✗ (fr)\n",
      "20000 20% (1m 21s) 2.1713 asanjaran / cn ✗ (ir)\n",
      "25000 25% (1m 32s) 2.3281 omna / za ✗ (af)\n",
      "30000 30% (1m 44s) 1.9203 mughar / af ✗ (ir)\n",
      "35000 35% (1m 55s) 1.3744 khisht pashan / af ✓\n",
      "40000 40% (2m 6s) 2.3088 haji ismail memon / cn ✗ (pk)\n",
      "45000 45% (2m 18s) 1.2931 laowutang / cn ✓\n",
      "50000 50% (2m 29s) 3.1598 dera dasatianwala / pk ✗ (de)\n",
      "55000 55% (2m 41s) 1.1744 sapila / fi ✓\n",
      "60000 60% (2m 52s) 1.1591 le hetre / fr ✓\n",
      "65000 65% (3m 3s) 2.4441 five springs west / fr ✗ (fi)\n",
      "70000 70% (3m 15s) 3.3258 barpali / pk ✗ (in)\n",
      "75000 75% (3m 27s) 1.3611 louriceiras de baixo / de ✓\n",
      "80000 80% (3m 39s) 2.1196 mielitzsee / fr ✗ (de)\n",
      "85000 85% (3m 50s) 3.6855 albu afriye shomali / pk ✗ (fr)\n",
      "90000 90% (4m 0s) 0.4142 basti dilawar khan / pk ✓\n",
      "95000 95% (4m 11s) 2.0587 varty / af ✗ (za)\n",
      "100000 100% (4m 23s) 0.6638 cunyou / cn ✓\n"
     ]
    }
   ],
   "source": [
    "import time\n",
    "import math\n",
    "\n",
    "n_iters = 100000\n",
    "print_every = 5000\n",
    "plot_every = 1000\n",
    "\n",
    "\n",
    "\n",
    "# Keep track of losses for plotting\n",
    "current_loss = 0\n",
    "all_losses = []\n",
    "\n",
    "def timeSince(since):\n",
    "    now = time.time()\n",
    "    s = now - since\n",
    "    m = math.floor(s / 60)\n",
    "    s -= m * 60\n",
    "    return '%dm %ds' % (m, s)\n",
    "\n",
    "start = time.time()\n",
    "\n",
    "for iter in range(1, n_iters + 1):\n",
    "    category, line, category_tensor, line_tensor = randomTrainingExample()\n",
    "    output, loss = train(category_tensor, line_tensor)\n",
    "    current_loss += loss\n",
    "\n",
    "    # Print iter number, loss, name and guess\n",
    "    if iter % print_every == 0:\n",
    "        guess, guess_i = categoryFromOutput(output)\n",
    "        correct = '✓' if guess == category else '✗ (%s)' % category\n",
    "        print('%d %d%% (%s) %.4f %s / %s %s' % (iter, iter / n_iters * 100, timeSince(start), loss, line, guess, correct))\n",
    "\n",
    "    # Add current loss avg to list of losses\n",
    "    if iter % plot_every == 0:\n",
    "        all_losses.append(current_loss / plot_every)\n",
    "        current_loss = 0"
   ]
  },
  {
   "cell_type": "code",
   "execution_count": 85,
   "metadata": {},
   "outputs": [
    {
     "data": {
      "text/plain": [
       "[<matplotlib.lines.Line2D at 0x2604affd3d0>]"
      ]
     },
     "execution_count": 85,
     "metadata": {},
     "output_type": "execute_result"
    },
    {
     "data": {
      "image/png": "[encoded data removed]",
      "text/plain": [
       "<Figure size 432x288 with 1 Axes>"
      ]
     },
     "metadata": {
      "needs_background": "light"
     },
     "output_type": "display_data"
    }
   ],
   "source": [
    "import matplotlib.pyplot as plt\n",
    "import matplotlib.ticker as ticker\n",
    "\n",
    "plt.figure()\n",
    "plt.plot(all_losses)"
   ]
  },
  {
   "cell_type": "code",
   "execution_count": 86,
   "metadata": {},
   "outputs": [
    {
     "name": "stderr",
     "output_type": "stream",
     "text": [
      "<ipython-input-86-a5b341ffc3a3>:33: UserWarning: FixedFormatter should only be used together with FixedLocator\n",
      "  ax.set_xticklabels([''] + all_categories, rotation=90)\n",
      "<ipython-input-86-a5b341ffc3a3>:34: UserWarning: FixedFormatter should only be used together with FixedLocator\n",
      "  ax.set_yticklabels([''] + all_categories)\n"
     ]
    },
    {
     "data": {
      "image/png": "[encoded data removed]",
      "text/plain": [
       "<Figure size 432x288 with 2 Axes>"
      ]
     },
     "metadata": {
      "needs_background": "light"
     },
     "output_type": "display_data"
    }
   ],
   "source": [
    "# Keep track of correct guesses in a confusion matrix\n",
    "confusion = torch.zeros(n_categories, n_categories)\n",
    "n_confusion = 10000\n",
    "\n",
    "# Just return an output given a line\n",
    "def evaluate(line_tensor):\n",
    "    hidden = rnn.initHidden()\n",
    "\n",
    "    for i in range(line_tensor.size()[0]):\n",
    "        output, hidden = rnn(line_tensor[i], hidden)\n",
    "\n",
    "    return output\n",
    "\n",
    "# Go through a bunch of examples and record which are correctly guessed\n",
    "for i in range(n_confusion):\n",
    "    category, line, category_tensor, line_tensor = randomTrainingExample()\n",
    "    output = evaluate(line_tensor)\n",
    "    guess, guess_i = categoryFromOutput(output)\n",
    "    category_i = all_categories.index(category)\n",
    "    confusion[category_i][guess_i] += 1\n",
    "\n",
    "# Normalize by dividing every row by its sum\n",
    "for i in range(n_categories):\n",
    "    confusion[i] = confusion[i] / confusion[i].sum()\n",
    "\n",
    "# Set up plot\n",
    "fig = plt.figure()\n",
    "ax = fig.add_subplot(111)\n",
    "cax = ax.matshow(confusion.numpy())\n",
    "fig.colorbar(cax)\n",
    "\n",
    "# Set up axes\n",
    "ax.set_xticklabels([''] + all_categories, rotation=90)\n",
    "ax.set_yticklabels([''] + all_categories)\n",
    "\n",
    "# Force label at every tick\n",
    "ax.xaxis.set_major_locator(ticker.MultipleLocator(1))\n",
    "ax.yaxis.set_major_locator(ticker.MultipleLocator(1))\n",
    "\n",
    "# sphinx_gallery_thumbnail_number = 2\n",
    "plt.show()"
   ]
  },
  {
   "cell_type": "code",
   "execution_count": 87,
   "metadata": {},
   "outputs": [
    {
     "name": "stdout",
     "output_type": "stream",
     "text": [
      "\n",
      "> katiafi\n",
      "(-1.32) fi\n",
      "(-1.60) za\n",
      "(-2.01) af\n",
      "\n",
      "> le theuil\n",
      "(-1.52) in\n",
      "(-1.71) ir\n",
      "(-1.74) fr\n",
      "\n",
      "> gilin\n",
      "(-0.90) in\n",
      "(-1.60) cn\n",
      "(-2.21) fr\n"
     ]
    }
   ],
   "source": [
    "def predict(input_line, n_predictions=3):\n",
    "    print('\\n> %s' % input_line)\n",
    "    with torch.no_grad():\n",
    "        output = evaluate(lineToTensor(input_line))\n",
    "\n",
    "        # Get top N categories\n",
    "        topv, topi = output.topk(n_predictions, 1, True)\n",
    "        predictions = []\n",
    "\n",
    "        for i in range(n_predictions):\n",
    "            value = topv[0][i].item()\n",
    "            category_index = topi[0][i].item()\n",
    "            print('(%.2f) %s' % (value, all_categories[category_index]))\n",
    "            predictions.append([value, all_categories[category_index]])\n",
    "\n",
    "predict('katiafi')\n",
    "predict('le theuil')\n",
    "predict('gilin')"
   ]
  },
  {
   "cell_type": "code",
   "execution_count": 88,
   "metadata": {},
   "outputs": [
    {
     "data": {
      "text/plain": [
       "tensor([[0.4016, 0.0740, 0.0262, 0.0794, 0.0171, 0.0190, 0.0587, 0.1886, 0.1354],\n",
       "        [0.0084, 0.8110, 0.0084, 0.0140, 0.0047, 0.0540, 0.0047, 0.0456, 0.0493],\n",
       "        [0.0466, 0.0431, 0.4776, 0.0387, 0.1099, 0.1011, 0.0765, 0.0624, 0.0440],\n",
       "        [0.0494, 0.0676, 0.0390, 0.3839, 0.1144, 0.1101, 0.0650, 0.0936, 0.0771],\n",
       "        [0.0653, 0.0541, 0.1073, 0.0494, 0.4720, 0.1549, 0.0420, 0.0149, 0.0401],\n",
       "        [0.0273, 0.2352, 0.0602, 0.0339, 0.0809, 0.3415, 0.0696, 0.1195, 0.0320],\n",
       "        [0.1902, 0.0489, 0.0720, 0.0649, 0.0453, 0.1049, 0.1636, 0.2231, 0.0871],\n",
       "        [0.1900, 0.0437, 0.0259, 0.0277, 0.0107, 0.0410, 0.0678, 0.5361, 0.0571],\n",
       "        [0.0663, 0.0515, 0.0253, 0.0358, 0.0462, 0.0358, 0.0096, 0.0384, 0.6911]])"
      ]
     },
     "execution_count": 88,
     "metadata": {},
     "output_type": "execute_result"
    }
   ],
   "source": [
    "confusion"
   ]
  },
  {
   "cell_type": "markdown",
   "metadata": {},
   "source": [
    "<a name=\"bettercitiesmodel\"></a>\n",
    "<h3>3.4 Improve the RNN Model (Optional)</h3>\n",
    "\n",
    "Explore methods to improve performance of the cities classifier.\n",
    "Use a character RNN, dropout, better initialization."
   ]
  },
  {
   "cell_type": "code",
   "execution_count": null,
   "metadata": {},
   "outputs": [],
   "source": []
  },
  {
   "cell_type": "markdown",
   "metadata": {},
   "source": [
    "Report on error reduction."
   ]
  },
  {
   "cell_type": "code",
   "execution_count": null,
   "metadata": {},
   "outputs": [],
   "source": []
  }
 ],
 "metadata": {
  "kernelspec": {
   "display_name": "Python 3",
   "language": "python",
   "name": "python3"
  },
  "language_info": {
   "codemirror_mode": {
    "name": "ipython",
    "version": 3
   },
   "file_extension": ".py",
   "mimetype": "text/x-python",
   "name": "python",
   "nbconvert_exporter": "python",
   "pygments_lexer": "ipython3",
   "version": "3.8.5"
  }
 },
 "nbformat": 4,
 "nbformat_minor": 4
}
